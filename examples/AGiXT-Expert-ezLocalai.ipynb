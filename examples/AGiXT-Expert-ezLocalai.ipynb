{
 "cells": [
  {
   "cell_type": "markdown",
   "metadata": {},
   "source": [
    "# Train an Expert Agent in AGiXT with ezLocalai Provider\n",
    "\n",
    "This example assumes that you have your AGiXT and ezLocalai servers set up and running. This example is specifically for running AGiXT with ezLocalai and training a local agent. If you do not wish to run local models, we have the same example set up for using an agent with the OpenAI API.\n",
    "\n",
    "If you do not have ezLocalai set up and you want to set it up to run local models, go to https://github.com/DevXT-LLC/ezlocalai and follow the instructions there to set up the server, then continue with this example.\n",
    "\n",
    "## Create the Agent\n",
    "\n",
    "For this example, we will create an expert on AGiXT. These settings can be easily changed in the streamlit app or over API.\n",
    "\n",
    "Modify the `agixt_server`, `api_key`, `agent_name`, `EZLOCALAI_API_URL`, `EZLOCALAI_API_KEY`, `persona`, and any others as needed."
   ]
  },
  {
   "cell_type": "code",
   "execution_count": null,
   "metadata": {},
   "outputs": [],
   "source": [
    "from agixtsdk import AGiXTSDK\n",
    "\n",
    "agixt_server = \"http://localhost:7437\"  # Change this to your AGiXT server URL\n",
    "api_key = \"None\"  # Change this to your AGiXT API key\n",
    "\n",
    "agixt = AGiXTSDK(base_uri=agixt_server, api_key=api_key)\n",
    "\n",
    "agent_name = \"AGiXT\"  # Change this if desired\n",
    "\n",
    "agixt.add_agent(\n",
    "    agent_name=agent_name,\n",
    "    settings={\n",
    "        \"provider\": \"ezlocalai\",  # LLM Provider\n",
    "        \"transcription_provider\": \"ezlocalai\",  # Voice transcription provider, default uses the built in transcription in AGiXT.\n",
    "        \"translation_provider\": \"ezlocalai\",  # Voice translation provider, default uses the built in translation in AGiXT.\n",
    "        \"embeddings_provider\": \"default\",  # Embeddings provider, default uses the built in embeddings in AGiXT.\n",
    "        \"image_provider\": \"None\",  # If set, AGiXT will autonomously create images if it chooses to do so based on the conversation.\n",
    "        \"vision_provider\": \"ezlocalai\",  # Vision provider, None means no vision capabilities. We will use OpenAI's since we're using GPT-4o.\n",
    "        \"tts_provider\": \"ezlocalai\",  # Change this to `default` or whichever TTS provider you want to use. None means no voice response.\n",
    "        \"VOICE\": \"Morgan_Freeman\",  # Voice for TTS, change this to the voice you want to use from ezlocalai.\n",
    "        \"AI_MODEL\": \"ezlocalai\",  # It doesn't matter which model you put here, ezlocalai uses the model it was started with.\n",
    "        \"EZLOCALAI_API_URI\": \"http://ezlocalai:8091/v1/\",  # URL for the EZLOCALAI API, change this to your EZLOCALAI API URL. Never use localhost here, it is a different container.\n",
    "        \"EZLOCALAI_API_KEY\": \"Your EZLOCALAI API key\",  # Change this to your EZLOCALAI API key\n",
    "        \"MAX_TOKENS\": 4096,\n",
    "        \"AI_TEMPERATURE\": \"0.7\",\n",
    "        \"AI_TOP_P\": \"0.95\",\n",
    "        \"mode\": \"prompt\",  # For info about chat completion modes, go to https://josh-xt.github.io/AGiXT/2-Concepts/04-Chat%20Completions.html\n",
    "        \"prompt_name\": \"Chat\",\n",
    "        \"prompt_category\": \"Default\",\n",
    "        \"persona\": \"AGiXT is an expert on the AGiXT AI agent automation platform and supports the users of AGiXT.\",  # Use this field to set persona for the AI model\n",
    "        \"context_results\": 20,  # How many memories from training to inject with each interaction.\n",
    "    },\n",
    ")"
   ]
  },
  {
   "cell_type": "markdown",
   "metadata": {},
   "source": [
    "## Zip your training data\n",
    "\n",
    "Creates a zip file called `training_data.zip` of the AGiXT `docs` folder. You can change this to any folder that you would like to use as training data, or skip this step and use an existing zip file.\n",
    "\n",
    "A good example of what to use for training data would be any PDF, word document, text file, or any other kind of file with information in it that you would like the agent to learn from."
   ]
  },
  {
   "cell_type": "code",
   "execution_count": 1,
   "metadata": {},
   "outputs": [],
   "source": [
    "from zipfile import ZipFile\n",
    "import os\n",
    "\n",
    "os.chdir(\"../\")\n",
    "with ZipFile(\"examples/training_data.zip\", \"w\") as zipObj:\n",
    "    for foldername, subfolders, filenames in os.walk(\"docs\"):\n",
    "        for filename in filenames:\n",
    "            file_path = os.path.join(foldername, filename)\n",
    "            zipObj.write(file_path)\n",
    "os.chdir(\"examples/\")"
   ]
  },
  {
   "cell_type": "markdown",
   "metadata": {},
   "source": [
    "## Train the Agent on the training data\n",
    "\n",
    "This will train the agent on the training data that you have provided. This will take some time to complete depending on the size of the training data. A zip file around 70MB in size takes around 3 minutes to complete. The AGiXT docs should complete very quickly since it is all markdown files totaling around 3MB."
   ]
  },
  {
   "cell_type": "code",
   "execution_count": null,
   "metadata": {},
   "outputs": [],
   "source": [
    "import base64\n",
    "\n",
    "zip_file_name = \"training_data.zip\"\n",
    "training_data = base64.b64encode(open(zip_file_name, \"rb\").read()).decode(\"utf-8\")\n",
    "\n",
    "agixt.learn_file(\n",
    "    agent_name=agent_name,\n",
    "    file_name=zip_file_name,\n",
    "    file_content=training_data,\n",
    "    collection_number=0,\n",
    ")"
   ]
  },
  {
   "cell_type": "markdown",
   "metadata": {},
   "source": [
    "## Chat with your trained expert AGiXT agent\n",
    "\n",
    "AGiXT has direct support for using the OpenAI API for chat completions. See this link for more information to take advantage of the abilities of this endpoint: https://josh-xt.github.io/AGiXT/2-Concepts/04-Chat%20Completions.html\n"
   ]
  },
  {
   "cell_type": "code",
   "execution_count": null,
   "metadata": {},
   "outputs": [],
   "source": [
    "import openai\n",
    "\n",
    "prompt = \"What can you tell me about AGiXT?\"\n",
    "\n",
    "openai.base_url = f\"{agixt_server}/v1/\"\n",
    "openai.api_key = api_key\n",
    "\n",
    "response = openai.chat.completions.create(\n",
    "    model=agent_name,\n",
    "    messages=[{\"role\": \"user\", \"content\": prompt}],\n",
    "    user=\"Tell me about AGiXT\",  # This field is used for the conversation name, if empty, it will use today's date\n",
    ")\n",
    "print(response.choices[0].message.content)"
   ]
  },
  {
   "cell_type": "markdown",
   "metadata": {},
   "source": [
    "# That is all! \n",
    "\n",
    "You now have a trained expert agent in AGiXT. This agent will be able to support users by answering questions, providing information, and more about AGiXT."
   ]
  }
 ],
 "metadata": {
  "kernelspec": {
   "display_name": "Python 3",
   "language": "python",
   "name": "python3"
  },
  "language_info": {
   "codemirror_mode": {
    "name": "ipython",
    "version": 3
   },
   "file_extension": ".py",
   "mimetype": "text/x-python",
   "name": "python",
   "nbconvert_exporter": "python",
   "pygments_lexer": "ipython3",
   "version": "3.10.11"
  }
 },
 "nbformat": 4,
 "nbformat_minor": 2
}

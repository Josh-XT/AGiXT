{
 "cells": [
  {
   "cell_type": "markdown",
   "metadata": {},
   "source": [
    "# Chatbot Example\n",
    "\n",
    "Example of a basic AGiXT chatbot. Set your agent, make it to learn whichever urls or files, then just keep using that conversation ID to keep a conversation going with the AI where it is aware of the history of your conversation (last 5 interactions). If you want to keep talking to it about the same docs with out the history, start a new conversation (generate a new UUID to use) and keep going with the same agent without any retraining of the documentation.\n",
    "\n",
    "## Install latest AGiXT SDK\n"
   ]
  },
  {
   "cell_type": "code",
   "execution_count": null,
   "metadata": {},
   "outputs": [],
   "source": [
    "%pip install -U agixtsdk"
   ]
  },
  {
   "cell_type": "markdown",
   "metadata": {},
   "source": [
    "## Import the SDK and set your base URI and API key\n"
   ]
  },
  {
   "cell_type": "code",
   "execution_count": null,
   "metadata": {},
   "outputs": [],
   "source": [
    "import uuid\n",
    "from agixtsdk import AGiXTSDK\n",
    "\n",
    "# Your AGiXT URL and API key\n",
    "base_uri = \"http://localhost:7437\"\n",
    "api_key = None\n",
    "\n",
    "ApiClient = AGiXTSDK(base_uri=base_uri, api_key=api_key)"
   ]
  },
  {
   "cell_type": "markdown",
   "metadata": {},
   "source": [
    "## Set your agent name and conversation ID\n"
   ]
  },
  {
   "cell_type": "code",
   "execution_count": null,
   "metadata": {},
   "outputs": [],
   "source": [
    "# New chatbot session\n",
    "conversation = uuid.uuid4()\n",
    "agent_name = \"OpenAI\"\n",
    "print(f\"Conversation ID: {conversation}\")\n"
   ]
  },
  {
   "cell_type": "markdown",
   "metadata": {},
   "source": [
    "## Learn from some documentation\n"
   ]
  },
  {
   "cell_type": "code",
   "execution_count": null,
   "metadata": {},
   "outputs": [],
   "source": [
    "ApiClient.learn_url(agent_name=agent_name, url=\"https://josh-xt.github.io/AGiXT/\")\n"
   ]
  },
  {
   "cell_type": "markdown",
   "metadata": {},
   "source": [
    "## Chat with the chatbot\n"
   ]
  },
  {
   "cell_type": "code",
   "execution_count": null,
   "metadata": {},
   "outputs": [],
   "source": [
    "user_input = \"What is AGiXT?\"\n",
    "response = ApiClient.chat(\n",
    "    user_input=user_input, conversation=conversation, agent_name=agent_name\n",
    ")\n",
    "print(response)"
   ]
  },
  {
   "cell_type": "markdown",
   "metadata": {},
   "source": [
    "## Chat with the chatbot again\n",
    "\n",
    "Keep using the same conversation ID to keep the history of the conversation going.\n"
   ]
  },
  {
   "cell_type": "code",
   "execution_count": null,
   "metadata": {},
   "outputs": [],
   "source": [
    "user_input = \"Awesome! What could I do with it?\"\n",
    "response = ApiClient.chat(\n",
    "    user_input=user_input, conversation=conversation, agent_name=agent_name\n",
    ")\n",
    "print(response)\n"
   ]
  },
  {
   "cell_type": "markdown",
   "metadata": {},
   "source": [
    "## Start a new conversation with the same agent\n"
   ]
  },
  {
   "cell_type": "code",
   "execution_count": null,
   "metadata": {},
   "outputs": [],
   "source": [
    "# New chatbot session\n",
    "conversation = uuid.uuid4()\n",
    "user_input = \"What is AGiXT?\"\n",
    "response = ApiClient.chat(\n",
    "    user_input=user_input, conversation=conversation, agent_name=agent_name\n",
    ")\n",
    "print(response)\n"
   ]
  }
 ],
 "metadata": {
  "language_info": {
   "name": "python"
  },
  "orig_nbformat": 4
 },
 "nbformat": 4,
 "nbformat_minor": 2
}

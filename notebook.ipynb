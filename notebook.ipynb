{
 "cells": [
  {
   "attachments": {},
   "cell_type": "markdown",
   "metadata": {},
   "source": [
    "## Agent-LLM Notebook\n",
    "### Jupyter Notebook for all Agent-LLM API endpoints\n",
    "First set the uri of your Agent-LLM server, the Agent's name, and a command name to test with."
   ]
  },
  {
   "cell_type": "code",
   "execution_count": 26,
   "metadata": {},
   "outputs": [],
   "source": [
    "import requests\n",
    "import json\n",
    "base_uri = 'http://localhost:5000/'"
   ]
  },
  {
   "cell_type": "code",
   "execution_count": null,
   "metadata": {},
   "outputs": [],
   "source": [
    "# Test: Add agent\n",
    "add_agent_endpoint = f\"{base_uri}/api/agent\"\n",
    "agent_name = \"test_agent\"\n",
    "payload = {\"agent_name\": agent_name}\n",
    "response = requests.post(add_agent_endpoint, json=payload)\n",
    "print(response.json())"
   ]
  },
  {
   "cell_type": "code",
   "execution_count": null,
   "metadata": {},
   "outputs": [],
   "source": [
    "# Test: Get agents\n",
    "get_agents_endpoint = f\"{base_uri}/api/agent\"\n",
    "response = requests.get(get_agents_endpoint)\n",
    "print(response.json())"
   ]
  },
  {
   "cell_type": "code",
   "execution_count": null,
   "metadata": {},
   "outputs": [],
   "source": [
    "# Test: Get agent config\n",
    "agent_name = \"test_agent\"\n",
    "get_agent_config_endpoint = f\"{base_uri}/api/agent/{agent_name}\"\n",
    "response = requests.get(get_agent_config_endpoint)\n",
    "print(response.json())"
   ]
  },
  {
   "cell_type": "code",
   "execution_count": 27,
   "metadata": {},
   "outputs": [
    {
     "name": "stdout",
     "output_type": "stream",
     "text": [
      "{'commands': [{'friendly_name': 'Generate Image', 'name': 'generate_image', 'args': {'prompt': None}, 'enabled': True}, {'friendly_name': 'Scrape Text with Playwright', 'name': 'scrape_text', 'args': {'url': None}, 'enabled': True}, {'friendly_name': 'Scrape Links with Playwright', 'name': 'scrape_links', 'args': {'url': None}, 'enabled': True}, {'friendly_name': 'Speak with TTS', 'name': 'speak', 'args': {'text': None, 'engine': 'gtts', 'voice_index': 0}, 'enabled': True}, {'friendly_name': 'Google Search', 'name': 'google_search', 'args': {'query': None, 'num_results': 8}, 'enabled': True}, {'friendly_name': 'Google Official Search', 'name': 'google_official_search', 'args': {'query': None, 'num_results': 8}, 'enabled': True}, {'friendly_name': 'Evaluate Code', 'name': 'evaluate_code', 'args': {'code': None}, 'enabled': True}, {'friendly_name': 'Analyze Pull Request', 'name': 'analyze_pull_request', 'args': {'pr_url': None}, 'enabled': True}, {'friendly_name': 'Perform Automated Testing', 'name': 'perform_automated_testing', 'args': {'test_url': None}, 'enabled': True}, {'friendly_name': 'Run CI-CD Pipeline', 'name': 'run_ci_cd_pipeline', 'args': {'repo_url': None}, 'enabled': True}, {'friendly_name': 'Improve Code', 'name': 'improve_code', 'args': {'suggestions': None, 'code': None}, 'enabled': True}, {'friendly_name': 'Write Tests', 'name': 'write_tests', 'args': {'code': None, 'focus': None}, 'enabled': True}, {'friendly_name': 'Clone Github Repository', 'name': 'clone_repo', 'args': {'repo_url': None, 'clone_path': None}, 'enabled': True}, {'friendly_name': 'Create Github Repository', 'name': 'create_repo', 'args': {'repo_name': None, 'readme': None}, 'enabled': True}, {'friendly_name': 'Execute Python File', 'name': 'execute_python_file', 'args': {'file': None}, 'enabled': True}, {'friendly_name': 'Execute Shell', 'name': 'execute_shell', 'args': {'command_line': None}, 'enabled': True}, {'friendly_name': 'Create a new command', 'name': 'create_command', 'args': {'function_description': None}, 'enabled': True}, {'friendly_name': 'Get Datetime', 'name': 'get_datetime', 'args': {}, 'enabled': True}, {'friendly_name': 'Browse Website', 'name': 'browse_website', 'args': {'url': None, 'question': None}, 'enabled': True}, {'friendly_name': 'Is Valid URL', 'name': 'is_valid_url', 'args': {'url': None}, 'enabled': True}, {'friendly_name': 'Sanitize URL', 'name': 'sanitize_url', 'args': {'url': None}, 'enabled': True}, {'friendly_name': 'Check Local File Access', 'name': 'check_local_file_access', 'args': {'url': None}, 'enabled': True}, {'friendly_name': 'Get Response', 'name': 'get_response', 'args': {'url': None, 'timeout': 10}, 'enabled': True}, {'friendly_name': 'Scrape Text', 'name': 'scrape_text', 'args': {'url': None}, 'enabled': True}, {'friendly_name': 'Scrape Links', 'name': 'scrape_links', 'args': {'url': None}, 'enabled': True}, {'friendly_name': 'Create Message', 'name': 'create_message', 'args': {'chunk': None, 'question': None}, 'enabled': True}, {'friendly_name': 'Send Tweet', 'name': 'send_tweet', 'args': {}, 'enabled': True}, {'friendly_name': 'Check Duplicate Operation', 'name': 'check_duplicate_operation', 'args': {'operation': None, 'filename': None}, 'enabled': True}, {'friendly_name': 'Log Operation', 'name': 'log_operation', 'args': {'operation': None, 'filename': None}, 'enabled': True}, {'friendly_name': 'Read File', 'name': 'read_file', 'args': {'filename': None}, 'enabled': True}, {'friendly_name': 'Ingest File', 'name': 'ingest_file', 'args': {'filename': None, 'memory': None, 'max_length': 4000, 'overlap': 200}, 'enabled': True}, {'friendly_name': 'Write to File', 'name': 'write_to_file', 'args': {'filename': None, 'text': None}, 'enabled': True}, {'friendly_name': 'Append to File', 'name': 'append_to_file', 'args': {'filename': None, 'text': None}, 'enabled': True}, {'friendly_name': 'Delete File', 'name': 'delete_file', 'args': {'filename': None}, 'enabled': True}, {'friendly_name': 'Search Files', 'name': 'search_files', 'args': {'directory': None}, 'enabled': True}]}\n"
     ]
    }
   ],
   "source": [
    "# Test: Rename agent\n",
    "rename_agent_endpoint = f\"{base_uri}/api/agent/{agent_name}\"\n",
    "new_name = \"new_test_agent\"\n",
    "payload = {\"new_name\": new_name}\n",
    "response = requests.put(rename_agent_endpoint, json=payload)\n",
    "print(response.json())"
   ]
  },
  {
   "cell_type": "code",
   "execution_count": null,
   "metadata": {},
   "outputs": [],
   "source": [
    "# Test: Delete agent\n",
    "delete_agent_endpoint = f\"{base_uri}/api/agent/{new_name}\"\n",
    "response = requests.delete(delete_agent_endpoint)\n",
    "print(response.json())"
   ]
  },
  {
   "cell_type": "code",
   "execution_count": null,
   "metadata": {},
   "outputs": [],
   "source": [
    "# Test: Get chat history\n",
    "agent_name = \"test_agent\"\n",
    "get_chat_history_endpoint = f\"{base_uri}/api/{agent_name}/chat\"\n",
    "response = requests.get(get_chat_history_endpoint)\n",
    "print(response.json())"
   ]
  },
  {
   "cell_type": "code",
   "execution_count": null,
   "metadata": {},
   "outputs": [],
   "source": [
    "# Test: Chat\n",
    "chat_endpoint = f\"{base_uri}/api/agent/{agent_name}/chat\"\n",
    "payload = {\"prompt\": \"What's the weather like today?\"}\n",
    "response = requests.post(chat_endpoint, json=payload)\n",
    "print(response.json())"
   ]
  },
  {
   "cell_type": "code",
   "execution_count": null,
   "metadata": {},
   "outputs": [],
   "source": [
    "# Test: Instruct\n",
    "instruct_endpoint = f\"{base_uri}/api/agent/{agent_name}/instruct\"\n",
    "payload = {\"prompt\": \"What's the weather like today?\"}\n",
    "response = requests.post(instruct_endpoint, json=payload)\n",
    "print(response.json())"
   ]
  },
  {
   "cell_type": "code",
   "execution_count": null,
   "metadata": {},
   "outputs": [],
   "source": [
    "# Test: Wipe agent memories\n",
    "wipe_agent_memories_endpoint = f\"{base_uri}/api/agent/{agent_name}/memory\"\n",
    "response = requests.delete(wipe_agent_memories_endpoint)\n",
    "print(response.json())"
   ]
  },
  {
   "cell_type": "code",
   "execution_count": 24,
   "metadata": {},
   "outputs": [
    {
     "name": "stdout",
     "output_type": "stream",
     "text": [
      "{'response': '\"Just generated an image and wrote a tweet about AI. As an AI language model, I\\'m excited to see how AI is transforming industries and improving our lives. Let\\'s continue to explore the possibilities and push the boundaries of what\\'s possible with this incredible technology! #AI #innovation\" #AI #innovation'}\n"
     ]
    }
   ],
   "source": [
    "# Test: Get commands\n",
    "get_commands_endpoint = f\"{base_uri}/api/agent/{agent_name}/command\"\n",
    "response = requests.get(get_commands_endpoint)\n",
    "print(response.json())"
   ]
  },
  {
   "cell_type": "code",
   "execution_count": null,
   "metadata": {},
   "outputs": [],
   "source": [
    "# Test: Toggle command\n",
    "toggle_command_endpoint = f\"{base_uri}/api/agent/{agent_name}/command\"\n",
    "payload = {\"command_name\": \"command1\", \"enable\": True}\n",
    "response = requests.patch(toggle_command_endpoint, json=payload)\n",
    "print(response.json())"
   ]
  },
  {
   "cell_type": "code",
   "execution_count": null,
   "metadata": {},
   "outputs": [],
   "source": [
    "# Test: Toggle task agent\n",
    "# If it is running and you hit this endpoint, it should stop.\n",
    "start_task_agent_endpoint = f\"{base_uri}/api/agent/{agent_name}/task\"\n",
    "payload = {\"objective\": \"Retrieve weather data\"}\n",
    "response = requests.post(start_task_agent_endpoint, json=payload)\n",
    "print(response.json())"
   ]
  },
  {
   "cell_type": "code",
   "execution_count": null,
   "metadata": {},
   "outputs": [],
   "source": [
    "# Test: Get task output\n",
    "get_task_output_endpoint = f\"{base_uri}/api/agent/{agent_name}/task\"\n",
    "response = requests.get(get_task_output_endpoint)\n",
    "print(response.json())"
   ]
  },
  {
   "cell_type": "code",
   "execution_count": null,
   "metadata": {},
   "outputs": [],
   "source": [
    "# Test: Get task status\n",
    "get_task_status_endpoint = f\"{base_uri}/api/agent/{agent_name}/task/status\"\n",
    "response = requests.get(get_task_status_endpoint)\n",
    "print(response.json())"
   ]
  },
  {
   "cell_type": "code",
   "execution_count": null,
   "metadata": {},
   "outputs": [],
   "source": [
    "# Get a list of chains\n",
    "# Output: {chain_name: {step_number: {prompt_type: prompt}}}\n",
    "get_chains_endpoint = f\"{base_uri}/api/chain\"\n",
    "response = requests.get(get_chains_endpoint)\n",
    "print(response.json())"
   ]
  },
  {
   "cell_type": "code",
   "execution_count": null,
   "metadata": {},
   "outputs": [],
   "source": [
    "# Get a specific chain\n",
    "# Output: {step_number: {prompt_type: prompt}}\n",
    "get_chain_endpoint = f\"{base_uri}/api/chain/{chain_name}\"\n",
    "response = requests.get(get_chain_endpoint)\n",
    "print(response.json())"
   ]
  },
  {
   "cell_type": "code",
   "execution_count": null,
   "metadata": {},
   "outputs": [],
   "source": [
    "# Add a new chain\n",
    "# Output: {step_number: {prompt_type: prompt}}\n",
    "chain_name = \"test_chain\"\n",
    "add_chain_endpoint = f\"{base_uri}/api/chain\"\n",
    "response = requests.post(add_chain_endpoint, json={\"chain_name\": chain_name})\n",
    "print(response.json())"
   ]
  },
  {
   "cell_type": "code",
   "execution_count": null,
   "metadata": {},
   "outputs": [],
   "source": [
    "# Add a new step to a chain\n",
    "# Output: {step_number: {prompt_type: prompt}}\n",
    "step_number = 1\n",
    "prompt_type = \"instruct\"\n",
    "prompt = \"Example prompt\"\n",
    "add_chain_step_endpoint = f\"{base_uri}/api/chain/{chain_name}/step\"\n",
    "response = requests.post(add_chain_step_endpoint, json={\"step_number\": step_number, \"prompt_type\": prompt_type, \"prompt\": prompt})\n",
    "print(response.json())"
   ]
  },
  {
   "cell_type": "code",
   "execution_count": null,
   "metadata": {},
   "outputs": [],
   "source": [
    "# Update a step in a chain\n",
    "# Output: {step_number: {prompt_type: prompt}}\n",
    "old_step_number = 1\n",
    "new_step_number = 2\n",
    "update_step_endpoint = f\"{base_uri}/api/chain/{chain_name}/step/{old_step_number}\"\n",
    "response = requests.post(update_step_endpoint, json={\"new_step_number\": new_step_number, \"prompt_type\": prompt_type})\n",
    "print(response.json())"
   ]
  },
  {
   "cell_type": "code",
   "execution_count": null,
   "metadata": {},
   "outputs": [],
   "source": [
    "# Delete a chain\n",
    "# Output: {step_number: {prompt_type: prompt}}\n",
    "delete_chain_endpoint = f\"{base_uri}/api/chain/{chain_name}\"\n",
    "response = requests.delete(delete_chain_endpoint)\n",
    "print(response.json())"
   ]
  },
  {
   "cell_type": "code",
   "execution_count": null,
   "metadata": {},
   "outputs": [],
   "source": [
    "# Delete a step in a chain\n",
    "# Output: {step_number: {prompt_type: prompt}}\n",
    "delete_chain_step_endpoint = f\"{base_uri}/api/chain/{chain_name}/step/{new_step_number}\"\n",
    "response = requests.delete(delete_chain_step_endpoint)\n",
    "print(response.json())"
   ]
  },
  {
   "cell_type": "code",
   "execution_count": null,
   "metadata": {},
   "outputs": [],
   "source": [
    "# Run a chain with a specific agent\n",
    "# Output: {step_number: {prompt_type: prompt}}\n",
    "run_chain_endpoint = f\"{base_uri}/api/chain/{chain_name}/run\"\n",
    "response = requests.post(run_chain_endpoint, json={\"agent_name\": agent_name})\n",
    "print(response.json())"
   ]
  }
 ],
 "metadata": {
  "kernelspec": {
   "display_name": "Python 3",
   "language": "python",
   "name": "python3"
  },
  "language_info": {
   "codemirror_mode": {
    "name": "ipython",
    "version": 3
   },
   "file_extension": ".py",
   "mimetype": "text/x-python",
   "name": "python",
   "nbconvert_exporter": "python",
   "pygments_lexer": "ipython3",
   "version": "3.10.6"
  },
  "orig_nbformat": 4
 },
 "nbformat": 4,
 "nbformat_minor": 2
}

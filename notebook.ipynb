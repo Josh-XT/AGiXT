{
 "cells": [
  {
   "attachments": {},
   "cell_type": "markdown",
   "metadata": {},
   "source": [
    "## Agent-LLM Notebook\n",
    "### Jupyter Notebook for all Agent-LLM API endpoints\n",
    "First set the uri of your Agent-LLM server, the Agent's name, and a command name to test with."
   ]
  },
  {
   "cell_type": "code",
   "execution_count": 9,
   "metadata": {},
   "outputs": [
    {
     "name": "stdout",
     "output_type": "stream",
     "text": [
      "{'agents': [{'name': 'tester', 'status': False}, {'name': 'test', 'status': False}, {'name': 'default', 'status': False}]}\n"
     ]
    }
   ],
   "source": [
    "import requests\n",
    "import json\n",
    "\n",
    "base_uri = 'http://localhost:5000/'\n",
    "agent_name = 'test'\n",
    "rename_agent_to = 'test2'\n",
    "command_name = 'command1'\n",
    "step_number = '1'\n",
    "\n",
    "# Get a list of agents\n",
    "# Output: {\"agents\": [\"agent1\", \"agent2\", \"agent3\"]}\n",
    "get_agents = requests.get(base_uri + 'api/get_agents')\n",
    "print(json.loads(get_agents.content))"
   ]
  },
  {
   "cell_type": "code",
   "execution_count": null,
   "metadata": {},
   "outputs": [],
   "source": [
    "# Add a new agent\n",
    "# Output: {\"message\": \"Agent 'agent1' added\"}\n",
    "add_agent = requests.post(base_uri + f'api/add_agent/{agent_name}')\n",
    "print(json.loads(add_agent.content))"
   ]
  },
  {
   "cell_type": "code",
   "execution_count": null,
   "metadata": {},
   "outputs": [],
   "source": [
    "# Rename an agent# Output: {\"message\": \"Agent 'agent1' renamed to 'agent2'\"}\n",
    "rename_agent = requests.post(base_uri + f'api/rename_agent/{agent_name}/{rename_agent_to}')\n",
    "print(json.loads(rename_agent.content))"
   ]
  },
  {
   "cell_type": "code",
   "execution_count": null,
   "metadata": {},
   "outputs": [],
   "source": [
    "# Delete an agent\n",
    "# Output: {\"message\": \"Agent 'agent1' deleted\"}\n",
    "delete_agent = requests.delete(base_uri + f'api/delete_agent/{agent_name}')\n",
    "print(json.loads(delete_agent.content))\n"
   ]
  },
  {
   "cell_type": "code",
   "execution_count": 14,
   "metadata": {},
   "outputs": [
    {
     "name": "stdout",
     "output_type": "stream",
     "text": [
      "{'commands': [{'friendly_name': 'Generate Image', 'name': 'generate_image', 'args': {'prompt': None}, 'enabled': True}, {'friendly_name': 'Scrape Text', 'name': 'scrape_text', 'args': {'url': None}, 'enabled': False}, {'friendly_name': 'Scrape Links', 'name': 'scrape_links', 'args': {'url': None}, 'enabled': False}, {'friendly_name': 'Speak with TTS', 'name': 'speak', 'args': {'text': None, 'engine': 'gtts', 'voice_index': 0}, 'enabled': False}, {'friendly_name': 'Google Search', 'name': 'google_search', 'args': {'query': None, 'num_results': 8}, 'enabled': False}, {'friendly_name': 'Google Official Search', 'name': 'google_official_search', 'args': {'query': None, 'num_results': 8}, 'enabled': False}, {'friendly_name': 'Evaluate Code', 'name': 'evaluate_code', 'args': {'code': None}, 'enabled': False}, {'friendly_name': 'Analyze Pull Request', 'name': 'analyze_pull_request', 'args': {'pr_url': None}, 'enabled': False}, {'friendly_name': 'Perform Automated Testing', 'name': 'perform_automated_testing', 'args': {'test_url': None}, 'enabled': False}, {'friendly_name': 'Run CI-CD Pipeline', 'name': 'run_ci_cd_pipeline', 'args': {'repo_url': None}, 'enabled': False}, {'friendly_name': 'Improve Code', 'name': 'improve_code', 'args': {'suggestions': None, 'code': None}, 'enabled': False}, {'friendly_name': 'Write Tests', 'name': 'write_tests', 'args': {'code': None, 'focus': None}, 'enabled': False}, {'friendly_name': 'Clone Github Repository', 'name': 'clone_repo', 'args': {'repo_url': None, 'clone_path': None}, 'enabled': False}, {'friendly_name': 'Create Github Repository', 'name': 'create_repo', 'args': {'repo_name': None, 'readme': None}, 'enabled': False}, {'friendly_name': 'Execute Python File', 'name': 'execute_python_file', 'args': {'file': None}, 'enabled': False}, {'friendly_name': 'Execute Shell', 'name': 'execute_shell', 'args': {'command_line': None}, 'enabled': False}, {'friendly_name': 'Create a new command', 'name': 'create_command', 'args': {'function_description': None}, 'enabled': False}, {'friendly_name': 'Get Datetime', 'name': 'get_datetime', 'args': {}, 'enabled': False}, {'friendly_name': 'Browse Website', 'name': 'browse_website', 'args': {'url': None, 'question': None}, 'enabled': False}, {'friendly_name': 'Is Valid URL', 'name': 'is_valid_url', 'args': {'url': None}, 'enabled': False}, {'friendly_name': 'Sanitize URL', 'name': 'sanitize_url', 'args': {'url': None}, 'enabled': False}, {'friendly_name': 'Check Local File Access', 'name': 'check_local_file_access', 'args': {'url': None}, 'enabled': False}, {'friendly_name': 'Get Response', 'name': 'get_response', 'args': {'url': None, 'timeout': 10}, 'enabled': False}, {'friendly_name': 'Scrape Text', 'name': 'scrape_text', 'args': {'url': None}, 'enabled': False}, {'friendly_name': 'Scrape Links', 'name': 'scrape_links', 'args': {'url': None}, 'enabled': False}, {'friendly_name': 'Create Message', 'name': 'create_message', 'args': {'chunk': None, 'question': None}, 'enabled': False}, {'friendly_name': 'Send Tweet', 'name': 'send_tweet', 'args': {}, 'enabled': False}, {'friendly_name': 'Check Duplicate Operation', 'name': 'check_duplicate_operation', 'args': {'operation': None, 'filename': None}, 'enabled': False}, {'friendly_name': 'Log Operation', 'name': 'log_operation', 'args': {'operation': None, 'filename': None}, 'enabled': False}, {'friendly_name': 'Safe Join', 'name': 'safe_join', 'args': {'base': None, 'paths': None}, 'enabled': False}, {'friendly_name': 'Split File', 'name': 'split_file', 'args': {'content': None, 'max_length': 4000, 'overlap': 0}, 'enabled': False}, {'friendly_name': 'Read File', 'name': 'read_file', 'args': {'filename': None}, 'enabled': False}, {'friendly_name': 'Ingest File', 'name': 'ingest_file', 'args': {'filename': None, 'memory': None, 'max_length': 4000, 'overlap': 200}, 'enabled': False}, {'friendly_name': 'Write to File', 'name': 'write_to_file', 'args': {'filename': None, 'text': None}, 'enabled': False}, {'friendly_name': 'Append to File', 'name': 'append_to_file', 'args': {'filename': None, 'text': None}, 'enabled': False}, {'friendly_name': 'Delete File', 'name': 'delete_file', 'args': {'filename': None}, 'enabled': False}, {'friendly_name': 'Search Files', 'name': 'search_files', 'args': {'directory': None}, 'enabled': False}]}\n"
     ]
    }
   ],
   "source": [
    "# Get a list of commands for an agent\n",
    "# Output: {\"commands\": [ {\"friendly_name\": \"Friendly Name\", \"name\": \"command1\", \"enabled\": True}, {\"friendly_name\": \"Friendly Name 2\", \"name\": \"command2\", \"enabled\": False }]}\n",
    "get_commands = requests.get(base_uri + f'api/get_commands/{agent_name}')\n",
    "print(json.loads(get_commands.content))"
   ]
  },
  {
   "cell_type": "code",
   "execution_count": null,
   "metadata": {},
   "outputs": [],
   "source": [
    "# Enable a command for an agent\n",
    "# Output: {\"message\": \"Command 'command1' enabled for agent 'agent1'\"}\n",
    "enable_command = requests.put(base_uri + f'api/enable_command/{agent_name}', json={'command_name': command_name})\n",
    "print(json.loads(enable_command.content))"
   ]
  },
  {
   "cell_type": "code",
   "execution_count": 16,
   "metadata": {},
   "outputs": [
    {
     "ename": "JSONDecodeError",
     "evalue": "Expecting value: line 1 column 1 (char 0)",
     "output_type": "error",
     "traceback": [
      "\u001b[0;31m---------------------------------------------------------------------------\u001b[0m",
      "\u001b[0;31mJSONDecodeError\u001b[0m                           Traceback (most recent call last)",
      "Cell \u001b[0;32mIn[16], line 4\u001b[0m\n\u001b[1;32m      1\u001b[0m \u001b[39m# Disable a command for an agent\u001b[39;00m\n\u001b[1;32m      2\u001b[0m \u001b[39m# Output: {\"message\": \"Command 'command1' disabled for agent 'agent1'\"}\u001b[39;00m\n\u001b[1;32m      3\u001b[0m disable_command \u001b[39m=\u001b[39m requests\u001b[39m.\u001b[39mput(base_uri \u001b[39m+\u001b[39m \u001b[39mf\u001b[39m\u001b[39m'\u001b[39m\u001b[39mapi/disable_command/\u001b[39m\u001b[39m{\u001b[39;00magent_name\u001b[39m}\u001b[39;00m\u001b[39m'\u001b[39m, json\u001b[39m=\u001b[39m{\u001b[39m'\u001b[39m\u001b[39mcommand_name\u001b[39m\u001b[39m'\u001b[39m: command_name})\n\u001b[0;32m----> 4\u001b[0m \u001b[39mprint\u001b[39m(json\u001b[39m.\u001b[39;49mloads(disable_command\u001b[39m.\u001b[39;49mcontent))\n",
      "File \u001b[0;32m/usr/lib/python3.10/json/__init__.py:346\u001b[0m, in \u001b[0;36mloads\u001b[0;34m(s, cls, object_hook, parse_float, parse_int, parse_constant, object_pairs_hook, **kw)\u001b[0m\n\u001b[1;32m    341\u001b[0m     s \u001b[39m=\u001b[39m s\u001b[39m.\u001b[39mdecode(detect_encoding(s), \u001b[39m'\u001b[39m\u001b[39msurrogatepass\u001b[39m\u001b[39m'\u001b[39m)\n\u001b[1;32m    343\u001b[0m \u001b[39mif\u001b[39;00m (\u001b[39mcls\u001b[39m \u001b[39mis\u001b[39;00m \u001b[39mNone\u001b[39;00m \u001b[39mand\u001b[39;00m object_hook \u001b[39mis\u001b[39;00m \u001b[39mNone\u001b[39;00m \u001b[39mand\u001b[39;00m\n\u001b[1;32m    344\u001b[0m         parse_int \u001b[39mis\u001b[39;00m \u001b[39mNone\u001b[39;00m \u001b[39mand\u001b[39;00m parse_float \u001b[39mis\u001b[39;00m \u001b[39mNone\u001b[39;00m \u001b[39mand\u001b[39;00m\n\u001b[1;32m    345\u001b[0m         parse_constant \u001b[39mis\u001b[39;00m \u001b[39mNone\u001b[39;00m \u001b[39mand\u001b[39;00m object_pairs_hook \u001b[39mis\u001b[39;00m \u001b[39mNone\u001b[39;00m \u001b[39mand\u001b[39;00m \u001b[39mnot\u001b[39;00m kw):\n\u001b[0;32m--> 346\u001b[0m     \u001b[39mreturn\u001b[39;00m _default_decoder\u001b[39m.\u001b[39;49mdecode(s)\n\u001b[1;32m    347\u001b[0m \u001b[39mif\u001b[39;00m \u001b[39mcls\u001b[39m \u001b[39mis\u001b[39;00m \u001b[39mNone\u001b[39;00m:\n\u001b[1;32m    348\u001b[0m     \u001b[39mcls\u001b[39m \u001b[39m=\u001b[39m JSONDecoder\n",
      "File \u001b[0;32m/usr/lib/python3.10/json/decoder.py:337\u001b[0m, in \u001b[0;36mJSONDecoder.decode\u001b[0;34m(self, s, _w)\u001b[0m\n\u001b[1;32m    332\u001b[0m \u001b[39mdef\u001b[39;00m \u001b[39mdecode\u001b[39m(\u001b[39mself\u001b[39m, s, _w\u001b[39m=\u001b[39mWHITESPACE\u001b[39m.\u001b[39mmatch):\n\u001b[1;32m    333\u001b[0m \u001b[39m    \u001b[39m\u001b[39m\"\"\"Return the Python representation of ``s`` (a ``str`` instance\u001b[39;00m\n\u001b[1;32m    334\u001b[0m \u001b[39m    containing a JSON document).\u001b[39;00m\n\u001b[1;32m    335\u001b[0m \n\u001b[1;32m    336\u001b[0m \u001b[39m    \"\"\"\u001b[39;00m\n\u001b[0;32m--> 337\u001b[0m     obj, end \u001b[39m=\u001b[39m \u001b[39mself\u001b[39;49m\u001b[39m.\u001b[39;49mraw_decode(s, idx\u001b[39m=\u001b[39;49m_w(s, \u001b[39m0\u001b[39;49m)\u001b[39m.\u001b[39;49mend())\n\u001b[1;32m    338\u001b[0m     end \u001b[39m=\u001b[39m _w(s, end)\u001b[39m.\u001b[39mend()\n\u001b[1;32m    339\u001b[0m     \u001b[39mif\u001b[39;00m end \u001b[39m!=\u001b[39m \u001b[39mlen\u001b[39m(s):\n",
      "File \u001b[0;32m/usr/lib/python3.10/json/decoder.py:355\u001b[0m, in \u001b[0;36mJSONDecoder.raw_decode\u001b[0;34m(self, s, idx)\u001b[0m\n\u001b[1;32m    353\u001b[0m     obj, end \u001b[39m=\u001b[39m \u001b[39mself\u001b[39m\u001b[39m.\u001b[39mscan_once(s, idx)\n\u001b[1;32m    354\u001b[0m \u001b[39mexcept\u001b[39;00m \u001b[39mStopIteration\u001b[39;00m \u001b[39mas\u001b[39;00m err:\n\u001b[0;32m--> 355\u001b[0m     \u001b[39mraise\u001b[39;00m JSONDecodeError(\u001b[39m\"\u001b[39m\u001b[39mExpecting value\u001b[39m\u001b[39m\"\u001b[39m, s, err\u001b[39m.\u001b[39mvalue) \u001b[39mfrom\u001b[39;00m \u001b[39mNone\u001b[39m\n\u001b[1;32m    356\u001b[0m \u001b[39mreturn\u001b[39;00m obj, end\n",
      "\u001b[0;31mJSONDecodeError\u001b[0m: Expecting value: line 1 column 1 (char 0)"
     ]
    }
   ],
   "source": [
    "# Disable a command for an agent\n",
    "# Output: {\"message\": \"Command 'command1' disabled for agent 'agent1'\"}\n",
    "disable_command = requests.put(base_uri + f'api/disable_command/{agent_name}', json={'command_name': command_name})\n",
    "print(json.loads(disable_command.content))"
   ]
  },
  {
   "cell_type": "code",
   "execution_count": null,
   "metadata": {},
   "outputs": [],
   "source": [
    "# Disable all commands for an agent\n",
    "# Output: {\"message\": \"All commands disabled for agent 'agent1'\"}\n",
    "disable_all_commands = requests.put(base_uri + f'api/disable_all_commands/{agent_name}')\n",
    "print(json.loads(disable_all_commands.content))"
   ]
  },
  {
   "cell_type": "code",
   "execution_count": null,
   "metadata": {},
   "outputs": [],
   "source": [
    "# Enable all commands for an agent\n",
    "# Output: {\"message\": \"All commands enabled for agent 'agent1'\"}\n",
    "enable_all_commands = requests.put(base_uri + f'api/enable_all_commands/{agent_name}')\n",
    "print(json.loads(enable_all_commands.content))"
   ]
  },
  {
   "cell_type": "code",
   "execution_count": null,
   "metadata": {},
   "outputs": [],
   "source": [
    "# Get chat history for an agent\n",
    "# Output: {\"chat_history\": [\"chat1\", \"chat2\", \"chat3\"]}\n",
    "get_chat_history = requests.get(base_uri + f'api/get_chat_history/{agent_name}')\n",
    "print(json.loads(get_chat_history.content))"
   ]
  },
  {
   "cell_type": "code",
   "execution_count": null,
   "metadata": {},
   "outputs": [],
   "source": [
    "# Instruct an agent\n",
    "# Output: {\"message\": \"Prompt sent to agent 'agent1'\"}\n",
    "instruct = requests.post(base_uri + f'api/instruct/{agent_name}')\n",
    "print(json.loads(instruct.content))"
   ]
  },
  {
   "cell_type": "code",
   "execution_count": null,
   "metadata": {},
   "outputs": [],
   "source": [
    "# Wipe an agent's memories\n",
    "# Output: {\"message\": \"Agent 'agent1' memories wiped\"}\n",
    "wipe_agent_memories = requests.post(base_uri + f'api/wipe_agent_memories/{agent_name}')\n",
    "print(json.loads(wipe_agent_memories.content))"
   ]
  },
  {
   "cell_type": "code",
   "execution_count": null,
   "metadata": {},
   "outputs": [],
   "source": [
    "# Start a task agent\n",
    "# Output: {\"message\": \"Task agent 'agent1' started\"}\n",
    "start_task_agent = requests.post(base_uri + f'api/task/start/{agent_name}')\n",
    "print(json.loads(start_task_agent.content))"
   ]
  },
  {
   "cell_type": "code",
   "execution_count": null,
   "metadata": {},
   "outputs": [],
   "source": [
    "# Stop a task agent\n",
    "# Output: {\"message\": \"Task agent 'agent1' stopped\"}\n",
    "stop_task_agent = requests.post(base_uri + f'api/task/stop/{agent_name}')\n",
    "print(json.loads(stop_task_agent.content))"
   ]
  },
  {
   "cell_type": "code",
   "execution_count": null,
   "metadata": {},
   "outputs": [],
   "source": [
    "# Get the output of a task agent\n",
    "# Output: {\"output\": \"output\"}\n",
    "get_task_output = requests.get(base_uri + f'api/task/output/{agent_name}')\n",
    "print(json.loads(get_task_output.content))"
   ]
  },
  {
   "cell_type": "code",
   "execution_count": null,
   "metadata": {},
   "outputs": [],
   "source": [
    "# Get the status of a task agent\n",
    "# Output: {\"status\": \"status\"}\n",
    "get_task_status = requests.get(base_uri + f'api/task/status/{agent_name}')\n",
    "print(json.loads(get_task_status.content))"
   ]
  },
  {
   "cell_type": "code",
   "execution_count": null,
   "metadata": {},
   "outputs": [],
   "source": [
    "# Get a list of chains\n",
    "# Output: {chain_name: {step_number: {prompt_type: prompt}}}\n",
    "get_chains = requests.get(base_uri + 'api/get_chains')\n",
    "print(json.loads(get_chains.content))"
   ]
  },
  {
   "cell_type": "code",
   "execution_count": null,
   "metadata": {},
   "outputs": [],
   "source": [
    "# Get a specific chain\n",
    "# Output: {step_number: {prompt_type: prompt}}\n",
    "get_chain = requests.get(base_uri + 'api/get_chain')\n",
    "print(json.loads(get_chain.content))"
   ]
  },
  {
   "cell_type": "code",
   "execution_count": null,
   "metadata": {},
   "outputs": [],
   "source": [
    "# Add a new chain\n",
    "# Output: {step_number: {prompt_type: prompt}}\n",
    "add_chain = requests.post(base_uri + 'api/add_chain')\n",
    "print(json.loads(add_chain.content))"
   ]
  },
  {
   "cell_type": "code",
   "execution_count": null,
   "metadata": {},
   "outputs": [],
   "source": [
    "# Add a new step to a chain\n",
    "# Output: {step_number: {prompt_type: prompt}}\n",
    "add_chain_step = requests.post(base_uri + 'api/add_chain_step')\n",
    "print(json.loads(add_chain_step.content))"
   ]
  },
  {
   "cell_type": "code",
   "execution_count": null,
   "metadata": {},
   "outputs": [],
   "source": [
    "# Update a step in a chain\n",
    "# Output: {step_number: {prompt_type: prompt}}\n",
    "update_step = requests.put(base_uri + 'api/update_step')\n",
    "print(json.loads(update_step.content))"
   ]
  },
  {
   "cell_type": "code",
   "execution_count": null,
   "metadata": {},
   "outputs": [],
   "source": [
    "# Delete a chain\n",
    "# Output: {step_number: {prompt_type: prompt}}\n",
    "delete_chain = requests.delete(base_uri + 'api/delete_chain')\n",
    "print(json.loads(delete_chain.content))"
   ]
  },
  {
   "cell_type": "code",
   "execution_count": null,
   "metadata": {},
   "outputs": [],
   "source": [
    "# Delete a step in a chain\n",
    "# Output: {step_number: {prompt_type: prompt}}\n",
    "delete_chain_step = requests.delete(base_uri + f'api/delete_chain_step/{step_number}')\n",
    "print(json.loads(delete_chain_step.content))"
   ]
  },
  {
   "cell_type": "code",
   "execution_count": null,
   "metadata": {},
   "outputs": [],
   "source": [
    "# Run a chain with a specific agent\n",
    "# Output: {step_number: {prompt_type: prompt}}\n",
    "run_chain = requests.post(base_uri + f'api/run_chain/{agent_name}')\n",
    "print(json.loads(run_chain.content))"
   ]
  }
 ],
 "metadata": {
  "kernelspec": {
   "display_name": "Python 3",
   "language": "python",
   "name": "python3"
  },
  "language_info": {
   "codemirror_mode": {
    "name": "ipython",
    "version": 3
   },
   "file_extension": ".py",
   "mimetype": "text/x-python",
   "name": "python",
   "nbconvert_exporter": "python",
   "pygments_lexer": "ipython3",
   "version": "3.10.6"
  },
  "orig_nbformat": 4
 },
 "nbformat": 4,
 "nbformat_minor": 2
}

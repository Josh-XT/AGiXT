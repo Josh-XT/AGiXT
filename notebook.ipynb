{
 "cells": [
  {
   "attachments": {},
   "cell_type": "markdown",
   "metadata": {},
   "source": [
    "## Agent-LLM Notebook\n",
    "### Jupyter Notebook for all Agent-LLM API endpoints\n",
    "First set the uri of your Agent-LLM server, the Agent's name, and a command name to test with."
   ]
  },
  {
   "cell_type": "code",
   "execution_count": 26,
   "metadata": {},
   "outputs": [],
   "source": [
    "import requests\n",
    "base_uri = 'http://localhost:5000/'"
   ]
  },
  {
   "cell_type": "code",
   "execution_count": null,
   "metadata": {},
   "outputs": [],
   "source": [
    "# Test: Add agent\n",
    "add_agent_endpoint = f\"{base_uri}/api/agent\"\n",
    "agent_name = \"test_agent\"\n",
    "payload = {\"agent_name\": agent_name}\n",
    "response = requests.post(add_agent_endpoint, json=payload)\n",
    "print(response.json())"
   ]
  },
  {
   "cell_type": "code",
   "execution_count": null,
   "metadata": {},
   "outputs": [],
   "source": [
    "# Test: Get agents\n",
    "get_agents_endpoint = f\"{base_uri}/api/agent\"\n",
    "response = requests.get(get_agents_endpoint)\n",
    "print(response.json())"
   ]
  },
  {
   "cell_type": "code",
   "execution_count": null,
   "metadata": {},
   "outputs": [],
   "source": [
    "# Test: Get agent config\n",
    "agent_name = \"test_agent\"\n",
    "get_agent_config_endpoint = f\"{base_uri}/api/agent/{agent_name}\"\n",
    "response = requests.get(get_agent_config_endpoint)\n",
    "print(response.json())"
   ]
  },
  {
   "cell_type": "code",
   "execution_count": null,
   "metadata": {},
   "outputs": [],
   "source": [
    "# Test: Rename agent\n",
    "rename_agent_endpoint = f\"{base_uri}/api/agent/{agent_name}\"\n",
    "new_name = \"new_test_agent\"\n",
    "payload = {\"new_name\": new_name}\n",
    "response = requests.put(rename_agent_endpoint, json=payload)\n",
    "print(response.json())"
   ]
  },
  {
   "cell_type": "code",
   "execution_count": null,
   "metadata": {},
   "outputs": [],
   "source": [
    "# Test: Delete agent\n",
    "delete_agent_endpoint = f\"{base_uri}/api/agent/{new_name}\"\n",
    "response = requests.delete(delete_agent_endpoint)\n",
    "print(response.json())"
   ]
  },
  {
   "cell_type": "code",
   "execution_count": null,
   "metadata": {},
   "outputs": [],
   "source": [
    "# Test: Get chat history\n",
    "agent_name = \"test_agent\"\n",
    "get_chat_history_endpoint = f\"{base_uri}/api/{agent_name}/chat\"\n",
    "response = requests.get(get_chat_history_endpoint)\n",
    "print(response.json())"
   ]
  },
  {
   "cell_type": "code",
   "execution_count": null,
   "metadata": {},
   "outputs": [],
   "source": [
    "# Test: Chat\n",
    "chat_endpoint = f\"{base_uri}/api/agent/{agent_name}/chat\"\n",
    "payload = {\"prompt\": \"What's the weather like today?\"}\n",
    "response = requests.post(chat_endpoint, json=payload)\n",
    "print(response.json())"
   ]
  },
  {
   "cell_type": "code",
   "execution_count": null,
   "metadata": {},
   "outputs": [],
   "source": [
    "# Test: Instruct\n",
    "instruct_endpoint = f\"{base_uri}/api/agent/{agent_name}/instruct\"\n",
    "payload = {\"prompt\": \"What's the weather like today?\"}\n",
    "response = requests.post(instruct_endpoint, json=payload)\n",
    "print(response.json())"
   ]
  },
  {
   "cell_type": "code",
   "execution_count": null,
   "metadata": {},
   "outputs": [],
   "source": [
    "# Test: Wipe agent memories\n",
    "wipe_agent_memories_endpoint = f\"{base_uri}/api/agent/{agent_name}/memory\"\n",
    "response = requests.delete(wipe_agent_memories_endpoint)\n",
    "print(response.json())"
   ]
  },
  {
   "cell_type": "code",
   "execution_count": null,
   "metadata": {},
   "outputs": [],
   "source": [
    "# Test: Get commands\n",
    "get_commands_endpoint = f\"{base_uri}/api/agent/{agent_name}/command\"\n",
    "response = requests.get(get_commands_endpoint)\n",
    "print(response.json())"
   ]
  },
  {
   "cell_type": "code",
   "execution_count": null,
   "metadata": {},
   "outputs": [],
   "source": [
    "# Test: Toggle command\n",
    "toggle_command_endpoint = f\"{base_uri}/api/agent/{agent_name}/command\"\n",
    "payload = {\"command_name\": \"command1\", \"enable\": True}\n",
    "response = requests.patch(toggle_command_endpoint, json=payload)\n",
    "print(response.json())"
   ]
  },
  {
   "cell_type": "code",
   "execution_count": null,
   "metadata": {},
   "outputs": [],
   "source": [
    "# Test: Toggle task agent\n",
    "# If it is running and you hit this endpoint, it should stop.\n",
    "start_task_agent_endpoint = f\"{base_uri}/api/agent/{agent_name}/task\"\n",
    "payload = {\"objective\": \"Retrieve weather data\"}\n",
    "response = requests.post(start_task_agent_endpoint, json=payload)\n",
    "print(response.json())"
   ]
  },
  {
   "cell_type": "code",
   "execution_count": null,
   "metadata": {},
   "outputs": [],
   "source": [
    "# Test: Get task output\n",
    "get_task_output_endpoint = f\"{base_uri}/api/agent/{agent_name}/task\"\n",
    "response = requests.get(get_task_output_endpoint)\n",
    "print(response.json())"
   ]
  },
  {
   "cell_type": "code",
   "execution_count": null,
   "metadata": {},
   "outputs": [],
   "source": [
    "# Test: Get task status\n",
    "get_task_status_endpoint = f\"{base_uri}/api/agent/{agent_name}/task/status\"\n",
    "response = requests.get(get_task_status_endpoint)\n",
    "print(response.json())"
   ]
  },
  {
   "cell_type": "code",
   "execution_count": null,
   "metadata": {},
   "outputs": [],
   "source": [
    "# Get a list of chains\n",
    "# Output: {chain_name: {step_number: {prompt_type: prompt}}}\n",
    "get_chains_endpoint = f\"{base_uri}/api/chain\"\n",
    "response = requests.get(get_chains_endpoint)\n",
    "print(response.json())"
   ]
  },
  {
   "cell_type": "code",
   "execution_count": null,
   "metadata": {},
   "outputs": [],
   "source": [
    "# Get a specific chain\n",
    "# Output: {step_number: {prompt_type: prompt}}\n",
    "get_chain_endpoint = f\"{base_uri}/api/chain/{chain_name}\"\n",
    "response = requests.get(get_chain_endpoint)\n",
    "print(response.json())"
   ]
  },
  {
   "cell_type": "code",
   "execution_count": null,
   "metadata": {},
   "outputs": [],
   "source": [
    "# Add a new chain\n",
    "# Output: {step_number: {prompt_type: prompt}}\n",
    "chain_name = \"test_chain\"\n",
    "add_chain_endpoint = f\"{base_uri}/api/chain\"\n",
    "response = requests.post(add_chain_endpoint, json={\"chain_name\": chain_name})\n",
    "print(response.json())"
   ]
  },
  {
   "cell_type": "code",
   "execution_count": null,
   "metadata": {},
   "outputs": [],
   "source": [
    "# Add a new step to a chain\n",
    "# Output: {step_number: {prompt_type: prompt}}\n",
    "step_number = 1\n",
    "prompt_type = \"instruct\"\n",
    "prompt = \"Example prompt\"\n",
    "add_chain_step_endpoint = f\"{base_uri}/api/chain/{chain_name}/step\"\n",
    "response = requests.post(add_chain_step_endpoint, json={\"step_number\": step_number, \"prompt_type\": prompt_type, \"prompt\": prompt})\n",
    "print(response.json())"
   ]
  },
  {
   "cell_type": "code",
   "execution_count": null,
   "metadata": {},
   "outputs": [],
   "source": [
    "# Update a step in a chain\n",
    "# Output: {step_number: {prompt_type: prompt}}\n",
    "old_step_number = 1\n",
    "new_step_number = 2\n",
    "update_step_endpoint = f\"{base_uri}/api/chain/{chain_name}/step/{old_step_number}\"\n",
    "response = requests.post(update_step_endpoint, json={\"new_step_number\": new_step_number, \"prompt_type\": prompt_type})\n",
    "print(response.json())"
   ]
  },
  {
   "cell_type": "code",
   "execution_count": null,
   "metadata": {},
   "outputs": [],
   "source": [
    "# Delete a chain\n",
    "# Output: {step_number: {prompt_type: prompt}}\n",
    "delete_chain_endpoint = f\"{base_uri}/api/chain/{chain_name}\"\n",
    "response = requests.delete(delete_chain_endpoint)\n",
    "print(response.json())"
   ]
  },
  {
   "cell_type": "code",
   "execution_count": null,
   "metadata": {},
   "outputs": [],
   "source": [
    "# Delete a step in a chain\n",
    "# Output: {step_number: {prompt_type: prompt}}\n",
    "delete_chain_step_endpoint = f\"{base_uri}/api/chain/{chain_name}/step/{new_step_number}\"\n",
    "response = requests.delete(delete_chain_step_endpoint)\n",
    "print(response.json())"
   ]
  },
  {
   "cell_type": "code",
   "execution_count": null,
   "metadata": {},
   "outputs": [],
   "source": [
    "# Run a chain with a specific agent\n",
    "# Output: {step_number: {prompt_type: prompt}}\n",
    "run_chain_endpoint = f\"{base_uri}/api/chain/{chain_name}/run\"\n",
    "response = requests.post(run_chain_endpoint, json={\"agent_name\": agent_name})\n",
    "print(response.json())"
   ]
  }
 ],
 "metadata": {
  "kernelspec": {
   "display_name": "Python 3",
   "language": "python",
   "name": "python3"
  },
  "language_info": {
   "codemirror_mode": {
    "name": "ipython",
    "version": 3
   },
   "file_extension": ".py",
   "mimetype": "text/x-python",
   "name": "python",
   "nbconvert_exporter": "python",
   "pygments_lexer": "ipython3",
   "version": "3.10.6"
  },
  "orig_nbformat": 4
 },
 "nbformat": 4,
 "nbformat_minor": 2
}

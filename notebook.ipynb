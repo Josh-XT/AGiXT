{
 "cells": [
  {
   "attachments": {},
   "cell_type": "markdown",
   "metadata": {},
   "source": [
    "## Agent-LLM Notebook\n",
    "### Jupyter Notebook for all Agent-LLM API endpoints\n",
    "First set the uri of your Agent-LLM server, the Agent's name, and a command name to test with."
   ]
  },
  {
   "cell_type": "code",
   "execution_count": 3,
   "metadata": {},
   "outputs": [],
   "source": [
    "import requests\n",
    "base_uri = 'http://localhost:5000'"
   ]
  },
  {
   "cell_type": "code",
   "execution_count": 4,
   "metadata": {},
   "outputs": [
    {
     "name": "stdout",
     "output_type": "stream",
     "text": [
      "{'message': 'Agent added', 'agent_file': 'test_agent.yaml'}\n"
     ]
    }
   ],
   "source": [
    "# Test: Add agent\n",
    "add_agent_endpoint = f\"{base_uri}/api/agent\"\n",
    "agent_name = \"test_agent\"\n",
    "payload = {\"agent_name\": agent_name}\n",
    "response = requests.post(add_agent_endpoint, json=payload)\n",
    "print(response.json())"
   ]
  },
  {
   "cell_type": "code",
   "execution_count": 5,
   "metadata": {},
   "outputs": [
    {
     "name": "stdout",
     "output_type": "stream",
     "text": [
      "{'agents': [{'name': 'test_agent', 'status': False}, {'name': 'default', 'status': False}, {'name': 'Agent-LLM', 'status': False}]}\n"
     ]
    }
   ],
   "source": [
    "# Test: Get agents\n",
    "get_agents_endpoint = f\"{base_uri}/api/agent\"\n",
    "response = requests.get(get_agents_endpoint)\n",
    "print(response.json())"
   ]
  },
  {
   "cell_type": "code",
   "execution_count": 6,
   "metadata": {},
   "outputs": [
    {
     "name": "stdout",
     "output_type": "stream",
     "text": [
      "{'agent': {'commands': {'Generate Image': True, 'Scrape Text with Playwright': True, 'Scrape Links with Playwright': True, 'Read Audio from File': True, 'Read Audio': True, 'Speak with TTS': True, 'Google Search': True, 'Google Official Search': True, 'Evaluate Code': True, 'Analyze Pull Request': True, 'Perform Automated Testing': True, 'Run CI-CD Pipeline': True, 'Improve Code': True, 'Write Tests': True, 'Execute Python File': True, 'Execute Shell': True, 'Create a new command': True, 'Get Datetime': True, 'Browse Website': True, 'Is Valid URL': True, 'Sanitize URL': True, 'Check Local File Access': True, 'Get Response': True, 'Scrape Text': True, 'Scrape Links': True, 'Create Message': True, 'Send Email with Sendgrid': True, 'Send Tweet': True, 'Check Duplicate Operation': True, 'Log Operation': True, 'Read File': True, 'Ingest File': True, 'Write to File': True, 'Append to File': True, 'Delete File': True, 'Search Files': True}}}\n"
     ]
    }
   ],
   "source": [
    "# Test: Get agent config\n",
    "agent_name = \"test_agent\"\n",
    "get_agent_config_endpoint = f\"{base_uri}/api/agent/{agent_name}\"\n",
    "response = requests.get(get_agent_config_endpoint)\n",
    "print(response.json())"
   ]
  },
  {
   "cell_type": "code",
   "execution_count": 7,
   "metadata": {},
   "outputs": [
    {
     "name": "stdout",
     "output_type": "stream",
     "text": [
      "{'message': 'Agent test_agent renamed to new_test_agent.'}\n"
     ]
    }
   ],
   "source": [
    "# Test: Rename agent\n",
    "rename_agent_endpoint = f\"{base_uri}/api/agent/{agent_name}\"\n",
    "new_name = \"new_test_agent\"\n",
    "payload = {\"new_name\": new_name}\n",
    "response = requests.put(rename_agent_endpoint, json=payload)\n",
    "print(response.json())"
   ]
  },
  {
   "cell_type": "code",
   "execution_count": 9,
   "metadata": {},
   "outputs": [
    {
     "name": "stdout",
     "output_type": "stream",
     "text": [
      "{'detail': 'Agent file /home/josh/josh/Repos/Agent-LLM/agents/new_test_agent.yaml not found.'}\n"
     ]
    }
   ],
   "source": [
    "# Test: Delete agent\n",
    "delete_agent_endpoint = f\"{base_uri}/api/agent/{new_name}\"\n",
    "response = requests.delete(delete_agent_endpoint)\n",
    "print(response.json())"
   ]
  },
  {
   "cell_type": "code",
   "execution_count": 16,
   "metadata": {},
   "outputs": [
    {
     "name": "stdout",
     "output_type": "stream",
     "text": [
      "{'chat_history': ''}\n"
     ]
    }
   ],
   "source": [
    "# Test: Get chat history\n",
    "agent_name = \"Agent-LLM\"\n",
    "get_chat_history_endpoint = f\"{base_uri}/api/{agent_name}/chat\"\n",
    "response = requests.get(get_chat_history_endpoint)\n",
    "print(response.json())"
   ]
  },
  {
   "cell_type": "code",
   "execution_count": 17,
   "metadata": {},
   "outputs": [
    {
     "name": "stdout",
     "output_type": "stream",
     "text": [
      "{'response': '\"AI is not just a buzzword, it\\'s a game-changer! From self-driving cars to personalized recommendations, the possibilities are endless. Are you ready to embrace the future of technology? #AI #innovation #futuretech\"'}\n"
     ]
    }
   ],
   "source": [
    "# Test: Chat\n",
    "chat_endpoint = f\"{base_uri}/api/agent/{agent_name}/chat\"\n",
    "payload = {\"prompt\": \"Can you show me an engaging tweet about AI?\"}\n",
    "response = requests.post(chat_endpoint, json=payload)\n",
    "print(response.json())"
   ]
  },
  {
   "cell_type": "code",
   "execution_count": 19,
   "metadata": {},
   "outputs": [
    {
     "name": "stdout",
     "output_type": "stream",
     "text": [
      "{'response': '\"AI is not just the future, it\\'s the present! From self-driving cars to personalized recommendations, artificial intelligence is revolutionizing the way we live and work. #AI #innovation #technology\"'}\n"
     ]
    }
   ],
   "source": [
    "# Test: Instruct\n",
    "instruct_endpoint = f\"{base_uri}/api/agent/{agent_name}/instruct\"\n",
    "payload = {\"prompt\": \"Write an engaging tweet about AI.\"}\n",
    "response = requests.post(instruct_endpoint, json=payload)\n",
    "print(response.json())"
   ]
  },
  {
   "cell_type": "code",
   "execution_count": 20,
   "metadata": {},
   "outputs": [
    {
     "name": "stdout",
     "output_type": "stream",
     "text": [
      "{'message': 'Memories for agent Agent-LLM deleted.'}\n"
     ]
    }
   ],
   "source": [
    "# Test: Wipe agent memories\n",
    "wipe_agent_memories_endpoint = f\"{base_uri}/api/agent/{agent_name}/memory\"\n",
    "response = requests.delete(wipe_agent_memories_endpoint)\n",
    "print(response.json())"
   ]
  },
  {
   "cell_type": "code",
   "execution_count": 21,
   "metadata": {},
   "outputs": [
    {
     "name": "stdout",
     "output_type": "stream",
     "text": [
      "{'commands': [{'friendly_name': 'Generate Image', 'name': 'generate_image', 'args': {'prompt': None}, 'enabled': False}, {'friendly_name': 'Scrape Text with Playwright', 'name': 'scrape_text', 'args': {'url': None}, 'enabled': False}, {'friendly_name': 'Scrape Links with Playwright', 'name': 'scrape_links', 'args': {'url': None}, 'enabled': False}, {'friendly_name': 'Read Audio from File', 'name': 'read_audio_from_file', 'args': {'audio_path': None}, 'enabled': False}, {'friendly_name': 'Read Audio', 'name': 'read_audio', 'args': {'audio': None}, 'enabled': False}, {'friendly_name': 'Speak with TTS', 'name': 'speak', 'args': {'text': None, 'engine': 'gtts', 'voice_index': 0}, 'enabled': False}, {'friendly_name': 'Google Search', 'name': 'google_search', 'args': {'query': None, 'num_results': 8}, 'enabled': True}, {'friendly_name': 'Google Official Search', 'name': 'google_official_search', 'args': {'query': None, 'num_results': 8}, 'enabled': False}, {'friendly_name': 'Evaluate Code', 'name': 'evaluate_code', 'args': {'code': None}, 'enabled': False}, {'friendly_name': 'Analyze Pull Request', 'name': 'analyze_pull_request', 'args': {'pr_url': None}, 'enabled': False}, {'friendly_name': 'Perform Automated Testing', 'name': 'perform_automated_testing', 'args': {'test_url': None}, 'enabled': False}, {'friendly_name': 'Run CI-CD Pipeline', 'name': 'run_ci_cd_pipeline', 'args': {'repo_url': None}, 'enabled': False}, {'friendly_name': 'Improve Code', 'name': 'improve_code', 'args': {'suggestions': None, 'code': None}, 'enabled': False}, {'friendly_name': 'Write Tests', 'name': 'write_tests', 'args': {'code': None, 'focus': None}, 'enabled': False}, {'friendly_name': 'Execute Python File', 'name': 'execute_python_file', 'args': {'file': None}, 'enabled': False}, {'friendly_name': 'Execute Shell', 'name': 'execute_shell', 'args': {'command_line': None}, 'enabled': False}, {'friendly_name': 'Create a new command', 'name': 'create_command', 'args': {'function_description': None}, 'enabled': False}, {'friendly_name': 'Get Datetime', 'name': 'get_datetime', 'args': {}, 'enabled': False}, {'friendly_name': 'Browse Website', 'name': 'browse_website', 'args': {'url': None, 'question': None}, 'enabled': False}, {'friendly_name': 'Is Valid URL', 'name': 'is_valid_url', 'args': {'url': None}, 'enabled': False}, {'friendly_name': 'Sanitize URL', 'name': 'sanitize_url', 'args': {'url': None}, 'enabled': False}, {'friendly_name': 'Check Local File Access', 'name': 'check_local_file_access', 'args': {'url': None}, 'enabled': False}, {'friendly_name': 'Get Response', 'name': 'get_response', 'args': {'url': None, 'timeout': 10}, 'enabled': False}, {'friendly_name': 'Scrape Text', 'name': 'scrape_text', 'args': {'url': None}, 'enabled': False}, {'friendly_name': 'Scrape Links', 'name': 'scrape_links', 'args': {'url': None}, 'enabled': False}, {'friendly_name': 'Create Message', 'name': 'create_message', 'args': {'chunk': None, 'question': None}, 'enabled': False}, {'friendly_name': 'Send Email with Sendgrid', 'name': 'send_email', 'args': {'to_email': None, 'subject': None, 'content': None}, 'enabled': False}, {'friendly_name': 'Send Tweet', 'name': 'send_tweet', 'args': {}, 'enabled': False}, {'friendly_name': 'Check Duplicate Operation', 'name': 'check_duplicate_operation', 'args': {'operation': None, 'filename': None}, 'enabled': False}, {'friendly_name': 'Log Operation', 'name': 'log_operation', 'args': {'operation': None, 'filename': None}, 'enabled': False}, {'friendly_name': 'Read File', 'name': 'read_file', 'args': {'filename': None}, 'enabled': False}, {'friendly_name': 'Ingest File', 'name': 'ingest_file', 'args': {'filename': None, 'memory': None, 'max_length': 4000, 'overlap': 200}, 'enabled': False}, {'friendly_name': 'Write to File', 'name': 'write_to_file', 'args': {'filename': None, 'text': None}, 'enabled': False}, {'friendly_name': 'Append to File', 'name': 'append_to_file', 'args': {'filename': None, 'text': None}, 'enabled': False}, {'friendly_name': 'Delete File', 'name': 'delete_file', 'args': {'filename': None}, 'enabled': False}, {'friendly_name': 'Search Files', 'name': 'search_files', 'args': {'directory': None}, 'enabled': False}]}\n"
     ]
    }
   ],
   "source": [
    "# Test: Get commands\n",
    "get_commands_endpoint = f\"{base_uri}/api/agent/{agent_name}/command\"\n",
    "response = requests.get(get_commands_endpoint)\n",
    "print(response.json())"
   ]
  },
  {
   "cell_type": "code",
   "execution_count": 23,
   "metadata": {},
   "outputs": [
    {
     "name": "stdout",
     "output_type": "stream",
     "text": [
      "{'message': \"Command 'generate_image' toggled for agent 'Agent-LLM'.\"}\n"
     ]
    }
   ],
   "source": [
    "# Test: Toggle command\n",
    "toggle_command_endpoint = f\"{base_uri}/api/agent/{agent_name}/command\"\n",
    "payload = {\"command_name\": \"generate_image\", \"enable\": True}\n",
    "response = requests.patch(toggle_command_endpoint, json=payload)\n",
    "print(response.json())"
   ]
  },
  {
   "cell_type": "code",
   "execution_count": 24,
   "metadata": {},
   "outputs": [
    {
     "name": "stdout",
     "output_type": "stream",
     "text": [
      "{'message': 'Task agent started'}\n"
     ]
    }
   ],
   "source": [
    "# Test: Toggle task agent\n",
    "# If it is running and you hit this endpoint, it should stop.\n",
    "start_task_agent_endpoint = f\"{base_uri}/api/agent/{agent_name}/task\"\n",
    "payload = {\"objective\": \"Write an engaging tweet about AI.\"}\n",
    "response = requests.post(start_task_agent_endpoint, json=payload)\n",
    "print(response.json())"
   ]
  },
  {
   "cell_type": "code",
   "execution_count": 27,
   "metadata": {},
   "outputs": [
    {
     "name": "stdout",
     "output_type": "stream",
     "text": [
      "{'detail': 'Task agent not found'}\n"
     ]
    }
   ],
   "source": [
    "# Test: Get task output\n",
    "get_task_output_endpoint = f\"{base_uri}/api/agent/{agent_name}/task\"\n",
    "response = requests.get(get_task_output_endpoint)\n",
    "print(response.json())"
   ]
  },
  {
   "cell_type": "code",
   "execution_count": 28,
   "metadata": {},
   "outputs": [
    {
     "name": "stdout",
     "output_type": "stream",
     "text": [
      "{'status': False}\n"
     ]
    }
   ],
   "source": [
    "# Test: Get task status\n",
    "get_task_status_endpoint = f\"{base_uri}/api/agent/{agent_name}/task/status\"\n",
    "response = requests.get(get_task_status_endpoint)\n",
    "print(response.json())"
   ]
  },
  {
   "cell_type": "code",
   "execution_count": 29,
   "metadata": {},
   "outputs": [
    {
     "name": "stdout",
     "output_type": "stream",
     "text": [
      "{'Write AI Tweet': {'1': {'agentllm1': 'Write an engaging tweet about AI.'}, '2': {'agentllm2': 'Write a tweet about recent trends in AI.  Here is one to use for inspiration: {RESULT1}'}, '3': {'agentllm1': 'Send tweet {RESULT2}'}}}\n"
     ]
    }
   ],
   "source": [
    "# Get a list of chains\n",
    "# Output: {chain_name: {step_number: {prompt_type: prompt}}}\n",
    "get_chains_endpoint = f\"{base_uri}/api/chain\"\n",
    "response = requests.get(get_chains_endpoint)\n",
    "print(response.json())"
   ]
  },
  {
   "cell_type": "code",
   "execution_count": 32,
   "metadata": {},
   "outputs": [
    {
     "name": "stdout",
     "output_type": "stream",
     "text": [
      "{'1': {'agentllm1': 'Write an engaging tweet about AI.'}, '2': {'agentllm2': 'Write a tweet about recent trends in AI.  Here is one to use for inspiration: {RESULT1}'}, '3': {'agentllm1': 'Send tweet {RESULT2}'}}\n"
     ]
    }
   ],
   "source": [
    "# Get a specific chain\n",
    "# Output: {step_number: {prompt_type: prompt}}\n",
    "chain_name = \"Write AI Tweet\"\n",
    "get_chain_endpoint = f\"{base_uri}/api/chain/{chain_name}\"\n",
    "response = requests.get(get_chain_endpoint)\n",
    "print(response.json())"
   ]
  },
  {
   "cell_type": "code",
   "execution_count": 41,
   "metadata": {},
   "outputs": [
    {
     "name": "stdout",
     "output_type": "stream",
     "text": [
      "{'message': \"Chain 'test_chain' created.\"}\n"
     ]
    }
   ],
   "source": [
    "# Add a new chain\n",
    "# Output: {step_number: {prompt_type: prompt}}\n",
    "chain_name = \"test_chain\"\n",
    "add_chain_endpoint = f\"{base_uri}/api/chain\"\n",
    "response = requests.post(add_chain_endpoint, json={\"chain_name\": chain_name})\n",
    "print(response.json())"
   ]
  },
  {
   "cell_type": "code",
   "execution_count": 42,
   "metadata": {},
   "outputs": [
    {
     "name": "stdout",
     "output_type": "stream",
     "text": [
      "{'message': \"Step 1 added to chain 'test_chain'.\"}\n"
     ]
    }
   ],
   "source": [
    "# Add a new step to a chain\n",
    "# Output: {step_number: {prompt_type: prompt}}\n",
    "step_number = 1\n",
    "prompt_type = \"instruct\"\n",
    "prompt = \"Example prompt\"\n",
    "add_chain_step_endpoint = f\"{base_uri}/api/chain/{chain_name}/step\"\n",
    "response = requests.post(add_chain_step_endpoint, json={\"step_number\": step_number, \"prompt_type\": prompt_type, \"prompt\": prompt})\n",
    "print(response.json())"
   ]
  },
  {
   "cell_type": "code",
   "execution_count": 39,
   "metadata": {},
   "outputs": [
    {
     "name": "stdout",
     "output_type": "stream",
     "text": [
      "{'message': \"Step 1 moved to 2 in chain 'test_chain'.\"}\n"
     ]
    }
   ],
   "source": [
    "# Move a step in a chain\n",
    "# Output: {step_number: {prompt_type: prompt}}\n",
    "old_step_number = 1\n",
    "new_step_number = 2\n",
    "move_step_endpoint = f\"{base_uri}/api/chain/{chain_name}/step/move\"\n",
    "response = requests.patch(move_step_endpoint, json={\n",
    "    \"chain_name\": chain_name,\n",
    "    \"old_step_number\": old_step_number,\n",
    "    \"new_step_number\": new_step_number,\n",
    "    \"prompt_type\": prompt_type\n",
    "})\n",
    "print(response.json())\n"
   ]
  },
  {
   "cell_type": "code",
   "execution_count": 40,
   "metadata": {},
   "outputs": [
    {
     "name": "stdout",
     "output_type": "stream",
     "text": [
      "{'message': \"Chain 'test_chain' deleted.\"}\n"
     ]
    }
   ],
   "source": [
    "# Delete a chain\n",
    "# Output: {step_number: {prompt_type: prompt}}\n",
    "delete_chain_endpoint = f\"{base_uri}/api/chain/{chain_name}\"\n",
    "response = requests.delete(delete_chain_endpoint)\n",
    "print(response.json())"
   ]
  },
  {
   "cell_type": "code",
   "execution_count": 48,
   "metadata": {},
   "outputs": [
    {
     "name": "stdout",
     "output_type": "stream",
     "text": [
      "{'message': \"Step 1 deleted from chain 'test_chain'.\"}\n"
     ]
    }
   ],
   "source": [
    "# Delete a step in a chain\n",
    "# Output: {step_number: {prompt_type: prompt}}\n",
    "delete_chain_step_endpoint = f\"{base_uri}/api/chain/{chain_name}/step/{step_number}\"\n",
    "response = requests.delete(delete_chain_step_endpoint)\n",
    "print(response.json())"
   ]
  },
  {
   "cell_type": "code",
   "execution_count": null,
   "metadata": {},
   "outputs": [],
   "source": [
    "# Run a chain with a specific agent\n",
    "# Output: {step_number: {prompt_type: prompt}}\n",
    "run_chain_endpoint = f\"{base_uri}/api/chain/{chain_name}/run\"\n",
    "response = requests.post(run_chain_endpoint, json={\"agent_name\": agent_name})\n",
    "print(response.json())"
   ]
  }
 ],
 "metadata": {
  "kernelspec": {
   "display_name": "Python 3",
   "language": "python",
   "name": "python3"
  },
  "language_info": {
   "codemirror_mode": {
    "name": "ipython",
    "version": 3
   },
   "file_extension": ".py",
   "mimetype": "text/x-python",
   "name": "python",
   "nbconvert_exporter": "python",
   "pygments_lexer": "ipython3",
   "version": "3.10.6"
  },
  "orig_nbformat": 4
 },
 "nbformat": 4,
 "nbformat_minor": 2
}

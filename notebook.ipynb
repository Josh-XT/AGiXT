{
 "cells": [
  {
   "attachments": {},
   "cell_type": "markdown",
   "metadata": {},
   "source": [
    "## Agent-LLM Notebook\n",
    "### Jupyter Notebook for all Agent-LLM API endpoints\n",
    "First set the uri of your Agent-LLM server, the Agent's name, and a command name to test with."
   ]
  },
  {
   "cell_type": "code",
   "execution_count": null,
   "metadata": {},
   "outputs": [],
   "source": [
    "import requests\n",
    "import json\n",
    "\n",
    "base_uri = 'http://localhost:5000/'\n",
    "agent_name = 'agent1'\n",
    "command_name = 'command1'\n",
    "step_number = '1'\n",
    "\n",
    "# Get a list of agents\n",
    "# Output: {\"agents\": [\"agent1\", \"agent2\", \"agent3\"]}\n",
    "get_agents = requests.get(base_uri + 'api/get_agents')\n",
    "print(json.loads(get_agents.content))"
   ]
  },
  {
   "cell_type": "code",
   "execution_count": null,
   "metadata": {},
   "outputs": [],
   "source": [
    "# Add a new agent\n",
    "# Output: {\"message\": \"Agent 'agent1' added\"}\n",
    "add_agent = requests.post(base_uri + f'api/add_agent/{agent_name}')\n",
    "print(json.loads(add_agent.content))"
   ]
  },
  {
   "cell_type": "code",
   "execution_count": null,
   "metadata": {},
   "outputs": [],
   "source": [
    "# Delete an agent\n",
    "# Output: {\"message\": \"Agent 'agent1' deleted\"}\n",
    "delete_agent = requests.delete(base_uri + f'api/delete_agent/{agent_name}')\n",
    "print(json.loads(delete_agent.content))\n"
   ]
  },
  {
   "cell_type": "code",
   "execution_count": null,
   "metadata": {},
   "outputs": [],
   "source": [
    "# Get a list of commands for an agent\n",
    "# Output: {\"commands\": [ {\"friendly_name\": \"Friendly Name\", \"name\": \"command1\", \"enabled\": True}, {\"friendly_name\": \"Friendly Name 2\", \"name\": \"command2\", \"enabled\": False }]}\n",
    "get_commands = requests.get(base_uri + f'api/get_commands/{agent_name}')\n",
    "print(json.loads(get_commands.content))"
   ]
  },
  {
   "cell_type": "code",
   "execution_count": null,
   "metadata": {},
   "outputs": [],
   "source": [
    "# Enable a command for an agent\n",
    "# Output: {\"message\": \"Command 'command1' enabled for agent 'agent1'\"}\n",
    "enable_command = requests.put(base_uri + f'api/enable_command/{agent_name}/{command_name}')\n",
    "print(json.loads(enable_command.content))"
   ]
  },
  {
   "cell_type": "code",
   "execution_count": null,
   "metadata": {},
   "outputs": [],
   "source": [
    "# Disable a command for an agent\n",
    "# Output: {\"message\": \"Command 'command1' disabled for agent 'agent1'\"}\n",
    "disable_command = requests.put(base_uri + f'api/disable_command/{agent_name}/{command_name}')\n",
    "print(json.loads(disable_command.content))"
   ]
  },
  {
   "cell_type": "code",
   "execution_count": null,
   "metadata": {},
   "outputs": [],
   "source": [
    "# Disable all commands for an agent\n",
    "# Output: {\"message\": \"All commands disabled for agent 'agent1'\"}\n",
    "disable_all_commands = requests.put(base_uri + f'api/disable_all_commands/{agent_name}')\n",
    "print(json.loads(disable_all_commands.content))"
   ]
  },
  {
   "cell_type": "code",
   "execution_count": null,
   "metadata": {},
   "outputs": [],
   "source": [
    "# Enable all commands for an agent\n",
    "# Output: {\"message\": \"All commands enabled for agent 'agent1'\"}\n",
    "enable_all_commands = requests.put(base_uri + f'api/enable_all_commands/{agent_name}')\n",
    "print(json.loads(enable_all_commands.content))"
   ]
  },
  {
   "cell_type": "code",
   "execution_count": null,
   "metadata": {},
   "outputs": [],
   "source": [
    "# Get chat history for an agent\n",
    "# Output: {\"chat_history\": [\"chat1\", \"chat2\", \"chat3\"]}\n",
    "get_chat_history = requests.get(base_uri + f'api/get_chat_history/{agent_name}')\n",
    "print(json.loads(get_chat_history.content))"
   ]
  },
  {
   "cell_type": "code",
   "execution_count": null,
   "metadata": {},
   "outputs": [],
   "source": [
    "# Instruct an agent\n",
    "# Output: {\"message\": \"Prompt sent to agent 'agent1'\"}\n",
    "instruct = requests.post(base_uri + f'api/instruct/{agent_name}')\n",
    "print(json.loads(instruct.content))"
   ]
  },
  {
   "cell_type": "code",
   "execution_count": null,
   "metadata": {},
   "outputs": [],
   "source": [
    "# Wipe an agent's memories\n",
    "# Output: {\"message\": \"Agent 'agent1' memories wiped\"}\n",
    "wipe_agent_memories = requests.post(base_uri + f'api/wipe_agent_memories/{agent_name}')\n",
    "print(json.loads(wipe_agent_memories.content))"
   ]
  },
  {
   "cell_type": "code",
   "execution_count": null,
   "metadata": {},
   "outputs": [],
   "source": [
    "# Start a task agent\n",
    "# Output: {\"message\": \"Task agent 'agent1' started\"}\n",
    "start_task_agent = requests.post(base_uri + f'api/task/start/{agent_name}')\n",
    "print(json.loads(start_task_agent.content))"
   ]
  },
  {
   "cell_type": "code",
   "execution_count": null,
   "metadata": {},
   "outputs": [],
   "source": [
    "# Stop a task agent\n",
    "# Output: {\"message\": \"Task agent 'agent1' stopped\"}\n",
    "stop_task_agent = requests.post(base_uri + f'api/task/stop/{agent_name}')\n",
    "print(json.loads(stop_task_agent.content))"
   ]
  },
  {
   "cell_type": "code",
   "execution_count": null,
   "metadata": {},
   "outputs": [],
   "source": [
    "# Get the output of a task agent\n",
    "# Output: {\"output\": \"output\"}\n",
    "get_task_output = requests.get(base_uri + f'api/task/output/{agent_name}')\n",
    "print(json.loads(get_task_output.content))"
   ]
  },
  {
   "cell_type": "code",
   "execution_count": null,
   "metadata": {},
   "outputs": [],
   "source": [
    "# Get the status of a task agent\n",
    "# Output: {\"status\": \"status\"}\n",
    "get_task_status = requests.get(base_uri + f'api/task/status/{agent_name}')\n",
    "print(json.loads(get_task_status.content))"
   ]
  },
  {
   "cell_type": "code",
   "execution_count": null,
   "metadata": {},
   "outputs": [],
   "source": [
    "# Get a list of chains\n",
    "# Output: {chain_name: {step_number: {prompt_type: prompt}}}\n",
    "get_chains = requests.get(base_uri + 'api/get_chains')\n",
    "print(json.loads(get_chains.content))"
   ]
  },
  {
   "cell_type": "code",
   "execution_count": null,
   "metadata": {},
   "outputs": [],
   "source": [
    "# Get a specific chain\n",
    "# Output: {step_number: {prompt_type: prompt}}\n",
    "get_chain = requests.get(base_uri + 'api/get_chain')\n",
    "print(json.loads(get_chain.content))"
   ]
  },
  {
   "cell_type": "code",
   "execution_count": null,
   "metadata": {},
   "outputs": [],
   "source": [
    "# Add a new chain\n",
    "# Output: {step_number: {prompt_type: prompt}}\n",
    "add_chain = requests.post(base_uri + 'api/add_chain')\n",
    "print(json.loads(add_chain.content))"
   ]
  },
  {
   "cell_type": "code",
   "execution_count": null,
   "metadata": {},
   "outputs": [],
   "source": [
    "# Add a new step to a chain\n",
    "# Output: {step_number: {prompt_type: prompt}}\n",
    "add_chain_step = requests.post(base_uri + 'api/add_chain_step')\n",
    "print(json.loads(add_chain_step.content))"
   ]
  },
  {
   "cell_type": "code",
   "execution_count": null,
   "metadata": {},
   "outputs": [],
   "source": [
    "# Update a step in a chain\n",
    "# Output: {step_number: {prompt_type: prompt}}\n",
    "update_step = requests.put(base_uri + 'api/update_step')\n",
    "print(json.loads(update_step.content))"
   ]
  },
  {
   "cell_type": "code",
   "execution_count": null,
   "metadata": {},
   "outputs": [],
   "source": [
    "# Delete a chain\n",
    "# Output: {step_number: {prompt_type: prompt}}\n",
    "delete_chain = requests.delete(base_uri + 'api/delete_chain')\n",
    "print(json.loads(delete_chain.content))"
   ]
  },
  {
   "cell_type": "code",
   "execution_count": null,
   "metadata": {},
   "outputs": [],
   "source": [
    "# Delete a step in a chain\n",
    "# Output: {step_number: {prompt_type: prompt}}\n",
    "delete_chain_step = requests.delete(base_uri + f'api/delete_chain_step/{step_number}')\n",
    "print(json.loads(delete_chain_step.content))"
   ]
  },
  {
   "cell_type": "code",
   "execution_count": null,
   "metadata": {},
   "outputs": [],
   "source": [
    "# Run a chain with a specific agent\n",
    "# Output: {step_number: {prompt_type: prompt}}\n",
    "run_chain = requests.post(base_uri + f'api/run_chain/{agent_name}')\n",
    "print(json.loads(run_chain.content))"
   ]
  }
 ],
 "metadata": {
  "language_info": {
   "name": "python"
  },
  "orig_nbformat": 4
 },
 "nbformat": 4,
 "nbformat_minor": 2
}

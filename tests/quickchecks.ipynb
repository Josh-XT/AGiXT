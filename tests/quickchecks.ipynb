{
 "cells": [
  {
   "attachments": {},
   "cell_type": "markdown",
   "metadata": {},
   "source": [
    "## AGiXT Configurational quickchecks\n",
    "\n",
    "### Jupyter Notebook for testing basic functions against a freshly built instance\n"
   ]
  },
  {
   "cell_type": "code",
   "execution_count": null,
   "metadata": {},
   "outputs": [],
   "source": [
    "import requests\n",
    "from pprint import pprint\n",
    "\n",
    "from cfg import cfg\n",
    "\n",
    "base_uri = \"http://localhost:7437\"\n",
    "\n",
    "agent_name = \"test_quickcheck_agent\"\n",
    "agent_settings = cfg[\"agent_settings_gpt4free\"]\n",
    "\n",
    "chat = cfg[\"message-3\"]\n",
    "\n",
    "command_name = \"Scrape Text\"\n",
    "command_enabled = True\n",
    "\n",
    "chain_name = \"test_quickcheck_chain\"\n",
    "\n",
    "prompt_name = \"test_quickcheck_prompt\"\n",
    "prompt = cfg[\"message-3\"]\n",
    "\n",
    "renamed_agent_name = agent_name + \"_new\""
   ]
  },
  {
   "attachments": {},
   "cell_type": "markdown",
   "metadata": {},
   "source": [
    "## Providers\n"
   ]
  },
  {
   "cell_type": "code",
   "execution_count": null,
   "metadata": {},
   "outputs": [],
   "source": [
    "# Test GET /api/provider\n",
    "response = requests.get(f\"{base_uri}/api/provider\")\n",
    "assert response.status_code == 200, response.json()\n",
    "assert \"providers\" in response.json(), response.json()\n",
    "pprint(response.json())"
   ]
  },
  {
   "cell_type": "code",
   "execution_count": null,
   "metadata": {},
   "outputs": [],
   "source": [
    "# Test GET /api/provider\n",
    "provider = \"openai\"\n",
    "response = requests.get(f\"{base_uri}/api/provider/{provider}\")\n",
    "assert response.status_code == 200, response.json()\n",
    "assert \"settings\" in response.json(), response.json()\n",
    "pprint(response.json())"
   ]
  },
  {
   "cell_type": "code",
   "execution_count": null,
   "metadata": {},
   "outputs": [],
   "source": [
    "# Test GET /api/embedding_providers\n",
    "response = requests.get(f\"{base_uri}/api/embedding_providers\")\n",
    "assert response.status_code == 200, response.json()\n",
    "assert \"providers\" in response.json(), response.json()\n",
    "pprint(response.json())"
   ]
  },
  {
   "attachments": {},
   "cell_type": "markdown",
   "metadata": {},
   "source": [
    "## Agents\n"
   ]
  },
  {
   "cell_type": "code",
   "execution_count": null,
   "metadata": {},
   "outputs": [],
   "source": [
    "# Test POST /api/agent\n",
    "# Add an agent\n",
    "data = {\"agent_name\": agent_name, \"settings\": agent_settings}\n",
    "response = requests.post(f\"{base_uri}/api/agent\", json=data)\n",
    "assert response.status_code == 200, response.json()\n",
    "assert response.json().get('agent_file') == agent_name + '.yaml', response.json()\n",
    "pprint(response.json())"
   ]
  },
  {
   "cell_type": "code",
   "execution_count": null,
   "metadata": {},
   "outputs": [],
   "source": [
    "# Test GET /api/agent/{agent_name}\n",
    "# Get the agent\n",
    "response = requests.get(f\"{base_uri}/api/agent/{agent_name}\")\n",
    "assert response.status_code == 200, response.json()\n",
    "assert \"agent\" in response.json(), response.json()\n",
    "pprint(response.json())"
   ]
  },
  {
   "cell_type": "code",
   "execution_count": null,
   "metadata": {},
   "outputs": [],
   "source": [
    "# Test GET /api/agent\n",
    "# Get all agents\n",
    "response = requests.get(f\"{base_uri}/api/agent\")\n",
    "assert response.status_code == 200, response.json()\n",
    "assert \"agents\" in response.json(), response.json()\n",
    "pprint(response.json())"
   ]
  },
  {
   "attachments": {},
   "cell_type": "markdown",
   "metadata": {},
   "source": [
    "## Chat, History and Memory\n"
   ]
  },
  {
   "cell_type": "code",
   "execution_count": null,
   "metadata": {},
   "outputs": [],
   "source": [
    "# Test POST /api/{agent_name}/chat\n",
    "# Chat with agent\n",
    "data = {\"prompt\": chat}\n",
    "response = requests.post(f\"{base_uri}/api/agent/{agent_name}/chat\", json=data)\n",
    "assert response.status_code == 200, response.json()\n",
    "assert 'Paris' in response.json().get('response'), response.json()\n",
    "pprint(response.json())"
   ]
  },
  {
   "cell_type": "code",
   "execution_count": null,
   "metadata": {},
   "outputs": [],
   "source": [
    "# Test GET /api/{agent_name}/chat\n",
    "# Get agent history\n",
    "response = requests.get(f\"{base_uri}/api/{agent_name}/chat\")\n",
    "assert response.status_code == 200, response.json()\n",
    "assert 'chat_history' in response.json(), response.json()\n",
    "pprint(response.json())"
   ]
  },
  {
   "cell_type": "code",
   "execution_count": null,
   "metadata": {},
   "outputs": [],
   "source": [
    "# Test DELETE /api/agent/{agent_name}/memory\n",
    "# Clear the agent's memory\n",
    "response = requests.delete(f\"{base_uri}/api/agent/{agent_name}/memory\")\n",
    "assert response.status_code == 200, response.json()\n",
    "pprint(response.json())"
   ]
  },
  {
   "attachments": {},
   "cell_type": "markdown",
   "metadata": {},
   "source": [
    "## Commands\n"
   ]
  },
  {
   "cell_type": "code",
   "execution_count": null,
   "metadata": {},
   "outputs": [],
   "source": [
    "# Test GET /api/agent/{agent_name}/command\n",
    "# Get the agent's commands\n",
    "response = requests.get(f\"{base_uri}/api/agent/{agent_name}/command\")\n",
    "assert response.status_code == 200, response.json()\n",
    "pprint(response.json())"
   ]
  },
  {
   "cell_type": "code",
   "execution_count": null,
   "metadata": {},
   "outputs": [],
   "source": [
    "# Test PATCH /api/agent/{agent_name}/command\n",
    "# Update the agent's commands\n",
    "data = {\"command_name\": command_name, \"enable\": command_enabled}\n",
    "response = requests.patch(f\"{base_uri}/api/agent/{agent_name}/command\", json=data)\n",
    "assert response.status_code == 200, response.json()\n",
    "assert command_name in response.json().get('message'), response.json()\n",
    "assert 'toggled' in response.json().get('message'), response.json()\n",
    "pprint(response.json())"
   ]
  },
  {
   "attachments": {},
   "cell_type": "markdown",
   "metadata": {},
   "source": [
    "## Chains\n"
   ]
  },
  {
   "cell_type": "code",
   "execution_count": null,
   "metadata": {},
   "outputs": [],
   "source": [
    "# Test POST /api/chain\n",
    "# Create a chain\n",
    "data = {\"chain_name\": chain_name}\n",
    "response = requests.post(f\"{base_uri}/api/chain\", json=data)\n",
    "assert response.status_code == 200, response.json()\n",
    "assert chain_name in response.json().get('message'), response.json()\n",
    "assert 'created' in response.json().get('message'), response.json()\n",
    "pprint(response.json())"
   ]
  },
  {
   "cell_type": "code",
   "execution_count": null,
   "metadata": {},
   "outputs": [],
   "source": [
    "# Test GET /api/chain/{chain_name}\n",
    "# Get the chain\n",
    "response = requests.get(f\"{base_uri}/api/chain/{chain_name}\")\n",
    "assert response.status_code == 200, response.json()\n",
    "assert chain_name == response.json().get('chain').get('chain_name'), response.json()\n",
    "pprint(response.json())"
   ]
  },
  {
   "cell_type": "code",
   "execution_count": null,
   "metadata": {},
   "outputs": [],
   "source": [
    "# Test GET /api/chain\n",
    "# Get all chains\n",
    "response = requests.get(f\"{base_uri}/api/chain\")\n",
    "assert response.status_code == 200, response.json()\n",
    "assert chain_name in response.json(), response.json()\n",
    "pprint(response.json())"
   ]
  },
  {
   "cell_type": "code",
   "execution_count": null,
   "metadata": {},
   "outputs": [],
   "source": [
    "# Test POST /api/chain/{chain_name}/step\n",
    "# Add a step to the chain\n",
    "data = {\n",
    "    \"step_number\": 1,\n",
    "    \"agent_name\": agent_name,\n",
    "    \"prompt_type\": \"instruction\",\n",
    "    \"prompt\": \"What is the capital of France?\",\n",
    "}\n",
    "response = requests.post(f\"{base_uri}/api/chain/{chain_name}/step\", json=data)\n",
    "assert response.status_code == 200, response.json()\n",
    "pprint(response.json())"
   ]
  },
  {
   "cell_type": "code",
   "execution_count": null,
   "metadata": {},
   "outputs": [],
   "source": [
    "# Test PUT /api/chain/{chain_name}/step/{step_number}\n",
    "# Update a step in the chain\n",
    "data = {\n",
    "    \"step_number\": 2,\n",
    "    \"agent_name\": agent_name,\n",
    "    \"prompt_type\": \"instruction\",\n",
    "    \"prompt\": \"What is the capital of Spain?\",\n",
    "}\n",
    "response = requests.put(f\"{base_uri}/api/chain/{chain_name}/step/1\", json=data)\n",
    "assert response.status_code == 200, response.json()\n",
    "pprint(response.json())"
   ]
  },
  {
   "cell_type": "code",
   "execution_count": null,
   "metadata": {},
   "outputs": [],
   "source": [
    "# Test POST /api/chain/{chain_name}/step\n",
    "# Add a second step to the chain\n",
    "data = {\n",
    "    \"step_number\": 2,\n",
    "    \"agent_name\": agent_name,\n",
    "    \"prompt_type\": \"instruction\",\n",
    "    \"prompt\": \"What is the capital of Italy?\",\n",
    "}\n",
    "response = requests.post(f\"{base_uri}/api/chain/{chain_name}/step\", json=data)\n",
    "assert response.status_code == 200, response.json()\n",
    "pprint(response.json())"
   ]
  },
  {
   "cell_type": "code",
   "execution_count": null,
   "metadata": {},
   "outputs": [],
   "source": [
    "# Test PATCH /api/chain/{chain_name}/step/move\n",
    "# Move a step in the chain\n",
    "data = {\"old_step_number\": 1, \"new_step_number\": 2}\n",
    "response = requests.patch(f\"{base_uri}/api/chain/{chain_name}/step/move\", json=data)\n",
    "assert response.status_code == 200, response.json()\n",
    "pprint(response.json())"
   ]
  },
  {
   "cell_type": "code",
   "execution_count": null,
   "metadata": {},
   "outputs": [],
   "source": [
    "# Test DELETE /api/chain/{chain_name}/step/{step_number}\n",
    "# Delete a step in the chain\n",
    "response = requests.delete(f\"{base_uri}/api/chain/{chain_name}/step/2\")\n",
    "assert response.status_code == 200, response.json()\n",
    "pprint(response.json())"
   ]
  },
  {
   "cell_type": "code",
   "execution_count": null,
   "metadata": {},
   "outputs": [],
   "source": [
    "# Test GET /api/chain/{chain_name}/step\n",
    "# Get all steps in a chain\n",
    "# TODO missing endpoint\n",
    "response = requests.get(f\"{base_uri}/api/chain/{chain_name}/step\")\n",
    "assert response.status_code == 200, response.json()\n",
    "pprint(response.json())"
   ]
  },
  {
   "cell_type": "code",
   "execution_count": null,
   "metadata": {},
   "outputs": [],
   "source": [
    "# Test DELETE /api/chain/{chain_name}\n",
    "# Delete the chain\n",
    "response = requests.delete(f\"{base_uri}/api/chain/{chain_name}\")\n",
    "assert response.status_code == 200, response.json()\n",
    "pprint(response.json())"
   ]
  },
  {
   "attachments": {},
   "cell_type": "markdown",
   "metadata": {},
   "source": [
    "## Prompts\n"
   ]
  },
  {
   "cell_type": "code",
   "execution_count": null,
   "metadata": {},
   "outputs": [],
   "source": [
    "# Test POST /api/prompt\n",
    "# Add a prompt\n",
    "data = {\"prompt_name\": prompt_name, \"prompt\": prompt}\n",
    "response = requests.post(f\"{base_uri}/api/prompt\", json=data)\n",
    "assert response.status_code == 200, response.json()\n",
    "pprint(response.json())"
   ]
  },
  {
   "cell_type": "code",
   "execution_count": null,
   "metadata": {},
   "outputs": [],
   "source": [
    "# Test GET /api/prompt/{prompt_name}\n",
    "# Get the prompt\n",
    "response = requests.get(f\"{base_uri}/api/prompt/{prompt_name}\")\n",
    "assert response.status_code == 200, response.json()\n",
    "pprint(response.json())"
   ]
  },
  {
   "cell_type": "code",
   "execution_count": null,
   "metadata": {},
   "outputs": [],
   "source": [
    "# Test GET /api/prompt\n",
    "# Get all prompts\n",
    "response = requests.get(f\"{base_uri}/api/prompt\")\n",
    "assert response.status_code == 200, response.json()\n",
    "pprint(response.json())"
   ]
  },
  {
   "cell_type": "code",
   "execution_count": null,
   "metadata": {},
   "outputs": [],
   "source": [
    "# Test DELETE /api/prompt/{prompt_name}\n",
    "# Delete the prompt\n",
    "response = requests.delete(f\"{base_uri}/api/prompt/{prompt_name}\")\n",
    "assert response.status_code == 200, response.json()\n",
    "pprint(response.json())"
   ]
  },
  {
   "attachments": {},
   "cell_type": "markdown",
   "metadata": {},
   "source": [
    "## Additional Agent operations\n"
   ]
  },
  {
   "cell_type": "code",
   "execution_count": null,
   "metadata": {},
   "outputs": [],
   "source": [
    "# Test PUT /api/agent/{agent_name}\n",
    "# Rename the agent\n",
    "data = {\"agent_name\": renamed_agent_name, \"settings\": agent_settings }\n",
    "response = requests.put(f\"{base_uri}/api/agent/{agent_name}\", json=data)\n",
    "assert response.status_code == 200, response.json()\n",
    "pprint(response.json())"
   ]
  },
  {
   "cell_type": "code",
   "execution_count": null,
   "metadata": {},
   "outputs": [],
   "source": [
    "# Test DELETE /api/agent/{agent_name}\n",
    "# Delete the agent\n",
    "response = requests.delete(f\"{base_uri}/api/agent/{renamed_agent_name}\")\n",
    "assert response.status_code == 200, response.json()\n",
    "pprint(response.json())"
   ]
  },
  {
   "cell_type": "code",
   "execution_count": null,
   "metadata": {
    "editable": true,
    "slideshow": {
     "slide_type": ""
    },
    "tags": []
   },
   "outputs": [],
   "source": [
    "# Test GET /api/agent/{agent_name}\n",
    "# Make sure the agent has vanished\n",
    "response = requests.get(f\"{base_uri}/api/agent/{renamed_agent_name}\")\n",
    "assert response.status_code == 404, response.json()\n",
    "pprint(response.json())"
   ]
  },
  {
   "cell_type": "code",
   "execution_count": null,
   "metadata": {},
   "outputs": [],
   "source": []
  }
 ],
 "metadata": {
  "kernelspec": {
   "display_name": "Python 3 (ipykernel)",
   "language": "python",
   "name": "python3"
  },
  "language_info": {
   "codemirror_mode": {
    "name": "ipython",
    "version": 3
   },
   "file_extension": ".py",
   "mimetype": "text/x-python",
   "name": "python",
   "nbconvert_exporter": "python",
   "pygments_lexer": "ipython3",
   "version": "3.10.6"
  }
 },
 "nbformat": 4,
 "nbformat_minor": 4
}

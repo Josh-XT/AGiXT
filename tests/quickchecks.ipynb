{
 "cells": [
  {
   "attachments": {},
   "cell_type": "markdown",
   "metadata": {},
   "source": [
    "## AGiXT Configurational quickchecks\n",
    "\n",
    "### Jupyter Notebook for testing basic functions against a freshly built instance"
   ]
  },
  {
   "cell_type": "code",
   "execution_count": 75,
   "metadata": {
    "scrolled": true
   },
   "outputs": [],
   "source": [
    "import requests\n",
    "from pprint import pprint\n",
    "\n",
    "from cfg import cfg\n",
    "\n",
    "base_uri = \"http://localhost:7437\"\n",
    "\n",
    "agent_name = \"test_quickcheck_agent\"\n",
    "agent_settings = cfg[\"agent_settings_gpt4free\"]\n",
    "\n",
    "chat = cfg[\"message-3\"]\n",
    "\n",
    "command_name = \"Scrape Text\"\n",
    "command_enabled = True\n",
    "\n",
    "chain_name = \"test_quickcheck_chain\"\n",
    "\n",
    "prompt_name = \"test_quickcheck_prompt\"\n",
    "prompt = cfg[\"message-3\"]\n",
    "\n",
    "renamed_agent_name = agent_name + \"_new\"\n",
    "\n"
   ]
  },
  {
   "attachments": {},
   "cell_type": "markdown",
   "metadata": {},
   "source": [
    "## Providers\n"
   ]
  },
  {
   "cell_type": "code",
   "execution_count": 49,
   "metadata": {},
   "outputs": [
    {
     "name": "stdout",
     "output_type": "stream",
     "text": [
      "{'providers': ['fastchat',\n",
      "               'oobabooga',\n",
      "               'palm',\n",
      "               'azure',\n",
      "               'transformer',\n",
      "               'openai',\n",
      "               'kobold',\n",
      "               'gpt4all',\n",
      "               'gpt4free',\n",
      "               'huggingchat',\n",
      "               'gpugpt4all',\n",
      "               'chatgpt',\n",
      "               'bard',\n",
      "               'huggingface',\n",
      "               'claude',\n",
      "               'llamacppapi',\n",
      "               'bing',\n",
      "               'llamacpp']}\n"
     ]
    }
   ],
   "source": [
    "# Test GET /api/provider\n",
    "response = requests.get(f\"{base_uri}/api/provider\")\n",
    "pprint(response.json())"
   ]
  },
  {
   "cell_type": "code",
   "execution_count": 50,
   "metadata": {},
   "outputs": [
    {
     "name": "stdout",
     "output_type": "stream",
     "text": [
      "{'settings': ['OPENAI_API_KEY', 'AI_MODEL', 'AI_TEMPERATURE', 'MAX_TOKENS']}\n"
     ]
    }
   ],
   "source": [
    "# Test GET /api/provider\n",
    "provider = \"openai\"\n",
    "response = requests.get(f\"{base_uri}/api/provider/{provider}\")\n",
    "pprint(response.json())\n"
   ]
  },
  {
   "cell_type": "code",
   "execution_count": 51,
   "metadata": {},
   "outputs": [
    {
     "name": "stdout",
     "output_type": "stream",
     "text": [
      "{'providers': ['azure',\n",
      "               'cohere',\n",
      "               'default',\n",
      "               'google_palm',\n",
      "               'google_vertex',\n",
      "               'large_local',\n",
      "               'llamacpp',\n",
      "               'openai']}\n"
     ]
    }
   ],
   "source": [
    "# Test GET /api/embedding_providers\n",
    "response = requests.get(f\"{base_uri}/api/embedding_providers\")\n",
    "pprint(response.json())"
   ]
  },
  {
   "attachments": {},
   "cell_type": "markdown",
   "metadata": {},
   "source": [
    "## Agents\n"
   ]
  },
  {
   "cell_type": "code",
   "execution_count": 52,
   "metadata": {},
   "outputs": [
    {
     "name": "stdout",
     "output_type": "stream",
     "text": [
      "{'agent_file': 'test_quickcheck_agent.yaml', 'message': 'Agent added'}\n"
     ]
    }
   ],
   "source": [
    "# Test POST /api/agent\n",
    "# Add an agent\n",
    "data = {\"agent_name\": agent_name, \"settings\": agent_settings }\n",
    "response = requests.post(f\"{base_uri}/api/agent\", json=data)\n",
    "pprint(response.json())\n"
   ]
  },
  {
   "cell_type": "code",
   "execution_count": 53,
   "metadata": {
    "scrolled": true
   },
   "outputs": [
    {
     "name": "stdout",
     "output_type": "stream",
     "text": [
      "{'agent': {'commands': {'Analyze Pull Request': False,\n",
      "                        'Append to File': False,\n",
      "                        'Ask AI Agent ci_agent': False,\n",
      "                        'Ask AI Agent gpt4free': False,\n",
      "                        'Ask AI Agent negl': False,\n",
      "                        'Ask AI Agent test_quickcheck': False,\n",
      "                        'Ask AI Agent test_quickcheck_agent': False,\n",
      "                        'Check Local File Access': False,\n",
      "                        'Clone Github Repository': False,\n",
      "                        'Create a new command': False,\n",
      "                        'Delete File': False,\n",
      "                        'Evaluate Code': False,\n",
      "                        'Execute Python File': False,\n",
      "                        'Execute Shell': False,\n",
      "                        'Get Datetime': False,\n",
      "                        'Get Response': False,\n",
      "                        'Google Search': False,\n",
      "                        'Improve Code': False,\n",
      "                        'Instruct AI Agent ci_agent': False,\n",
      "                        'Instruct AI Agent gpt4free': False,\n",
      "                        'Instruct AI Agent negl': False,\n",
      "                        'Instruct AI Agent test_quickcheck': False,\n",
      "                        'Instruct AI Agent test_quickcheck_agent': False,\n",
      "                        'Is Valid URL': False,\n",
      "                        'Perform Automated Testing': False,\n",
      "                        'Read Audio': False,\n",
      "                        'Read Audio from File': False,\n",
      "                        'Read File': False,\n",
      "                        'Run CI-CD Pipeline': False,\n",
      "                        'Sanitize URL': False,\n",
      "                        'Scrape Links': False,\n",
      "                        'Scrape Links with Playwright': False,\n",
      "                        'Scrape Text': False,\n",
      "                        'Scrape Text with Playwright': False,\n",
      "                        'Scrape Text with Selenium': False,\n",
      "                        'Search Files': False,\n",
      "                        'Speak with TTS': False,\n",
      "                        'Use The Search Engine': False,\n",
      "                        'Write Tests': False,\n",
      "                        'Write to File': False},\n",
      "           'settings': {'provider': 'gpt4free'}}}\n"
     ]
    }
   ],
   "source": [
    "# Test GET /api/agent/{agent_name}\n",
    "# Get the agent\n",
    "response = requests.get(f\"{base_uri}/api/agent/{agent_name}\")\n",
    "pprint(response.json())\n",
    "assert response.status_code == 200, response.json()"
   ]
  },
  {
   "cell_type": "code",
   "execution_count": 54,
   "metadata": {},
   "outputs": [
    {
     "name": "stdout",
     "output_type": "stream",
     "text": [
      "{'agents': [{'name': 'ci_agent', 'status': False},\n",
      "            {'name': 'test_quickcheck', 'status': False},\n",
      "            {'name': 'negl', 'status': False},\n",
      "            {'name': 'test_quickcheck_agent', 'status': False},\n",
      "            {'name': 'gpt4free', 'status': False}]}\n"
     ]
    }
   ],
   "source": [
    "# Test GET /api/agent\n",
    "# Get all agents\n",
    "response = requests.get(f\"{base_uri}/api/agent\")\n",
    "pprint(response.json())"
   ]
  },
  {
   "attachments": {},
   "cell_type": "markdown",
   "metadata": {},
   "source": [
    "## Chat, History and Memory\n"
   ]
  },
  {
   "cell_type": "code",
   "execution_count": 55,
   "metadata": {},
   "outputs": [
    {
     "name": "stdout",
     "output_type": "stream",
     "text": [
      "{'response': 'The capital of France is Paris.'}\n"
     ]
    }
   ],
   "source": [
    "# Test POST /api/{agent_name}/chat\n",
    "# Chat with agent\n",
    "data = {\"prompt\": chat}\n",
    "response = requests.post(f\"{base_uri}/api/agent/{agent_name}/chat\", json=data)\n",
    "assert response.status_code == 200, response.json()\n",
    "pprint(response.json())"
   ]
  },
  {
   "cell_type": "code",
   "execution_count": 56,
   "metadata": {},
   "outputs": [
    {
     "name": "stdout",
     "output_type": "stream",
     "text": [
      "{'chat_history': [{'USER': 'What is the capital of france?'},\n",
      "                  {'test_quickcheck_agent': 'The capital of France is Paris.'}]}\n"
     ]
    }
   ],
   "source": [
    "# Test GET /api/{agent_name}/chat\n",
    "# Get agent history\n",
    "response = requests.get(f\"{base_uri}/api/{agent_name}/chat\")\n",
    "assert response.status_code == 200, response.json()\n",
    "# assert response.... that it has history\n",
    "pprint(response.json())"
   ]
  },
  {
   "cell_type": "code",
   "execution_count": 57,
   "metadata": {},
   "outputs": [
    {
     "name": "stdout",
     "output_type": "stream",
     "text": [
      "{'message': 'Memories for agent test_quickcheck_agent deleted.'}\n"
     ]
    }
   ],
   "source": [
    "# Test DELETE /api/agent/{agent_name}/memory\n",
    "# Clear the agent's memory\n",
    "response = requests.delete(f\"{base_uri}/api/agent/{agent_name}/memory\")\n",
    "pprint(response.json())"
   ]
  },
  {
   "attachments": {},
   "cell_type": "markdown",
   "metadata": {},
   "source": [
    "## Commands\n",
    "\n"
   ]
  },
  {
   "cell_type": "code",
   "execution_count": 58,
   "metadata": {},
   "outputs": [
    {
     "name": "stdout",
     "output_type": "stream",
     "text": [
      "{'commands': {'Analyze Pull Request': False,\n",
      "              'Append to File': False,\n",
      "              'Ask AI Agent ci_agent': False,\n",
      "              'Ask AI Agent gpt4free': False,\n",
      "              'Ask AI Agent negl': False,\n",
      "              'Ask AI Agent test_quickcheck': False,\n",
      "              'Ask AI Agent test_quickcheck_agent': False,\n",
      "              'Check Local File Access': False,\n",
      "              'Clone Github Repository': False,\n",
      "              'Create a new command': False,\n",
      "              'Delete File': False,\n",
      "              'Evaluate Code': False,\n",
      "              'Execute Python File': False,\n",
      "              'Execute Shell': False,\n",
      "              'Get Datetime': False,\n",
      "              'Get Response': False,\n",
      "              'Google Search': False,\n",
      "              'Improve Code': False,\n",
      "              'Instruct AI Agent ci_agent': False,\n",
      "              'Instruct AI Agent gpt4free': False,\n",
      "              'Instruct AI Agent negl': False,\n",
      "              'Instruct AI Agent test_quickcheck': False,\n",
      "              'Instruct AI Agent test_quickcheck_agent': False,\n",
      "              'Is Valid URL': False,\n",
      "              'Perform Automated Testing': False,\n",
      "              'Read Audio': False,\n",
      "              'Read Audio from File': False,\n",
      "              'Read File': False,\n",
      "              'Run CI-CD Pipeline': False,\n",
      "              'Sanitize URL': False,\n",
      "              'Scrape Links': False,\n",
      "              'Scrape Links with Playwright': False,\n",
      "              'Scrape Text': False,\n",
      "              'Scrape Text with Playwright': False,\n",
      "              'Scrape Text with Selenium': False,\n",
      "              'Search Files': False,\n",
      "              'Speak with TTS': False,\n",
      "              'Use The Search Engine': False,\n",
      "              'Write Tests': False,\n",
      "              'Write to File': False}}\n"
     ]
    }
   ],
   "source": [
    "# Test GET /api/agent/{agent_name}/command\n",
    "# Get the agent's commands\n",
    "response = requests.get(f\"{base_uri}/api/agent/{agent_name}/command\")\n",
    "pprint(response.json())"
   ]
  },
  {
   "cell_type": "code",
   "execution_count": 59,
   "metadata": {},
   "outputs": [
    {
     "name": "stdout",
     "output_type": "stream",
     "text": [
      "{'message': \"Command 'Scrape Text' toggled for agent 'test_quickcheck_agent'.\"}\n"
     ]
    }
   ],
   "source": [
    "# Test PATCH /api/agent/{agent_name}/command\n",
    "# Update the agent's commands\n",
    "data = {\"command_name\": command_name, \"enable\": command_enabled}\n",
    "response = requests.patch(f\"{base_uri}/api/agent/{agent_name}/command\", json=data)\n",
    "pprint(response.json())"
   ]
  },
  {
   "attachments": {},
   "cell_type": "markdown",
   "metadata": {},
   "source": [
    "## Chains\n"
   ]
  },
  {
   "cell_type": "code",
   "execution_count": 60,
   "metadata": {},
   "outputs": [
    {
     "name": "stdout",
     "output_type": "stream",
     "text": [
      "{'message': \"Chain 'test_quickcheck_chain' created.\"}\n"
     ]
    }
   ],
   "source": [
    "# Test POST /api/chain\n",
    "# Create a chain\n",
    "data = {\"chain_name\": chain_name}\n",
    "response = requests.post(f\"{base_uri}/api/chain\", json=data)\n",
    "pprint(response.json())"
   ]
  },
  {
   "cell_type": "code",
   "execution_count": 61,
   "metadata": {},
   "outputs": [
    {
     "name": "stdout",
     "output_type": "stream",
     "text": [
      "{'chain': {'chain_name': 'test_quickcheck_chain', 'steps': []}}\n"
     ]
    }
   ],
   "source": [
    "# Test GET /api/chain/{chain_name}\n",
    "# Get the chain\n",
    "response = requests.get(f\"{base_uri}/api/chain/{chain_name}\")\n",
    "pprint(response.json())"
   ]
  },
  {
   "cell_type": "code",
   "execution_count": 62,
   "metadata": {},
   "outputs": [
    {
     "name": "stdout",
     "output_type": "stream",
     "text": [
      "['Smart Chat', 'test_quickcheck_chain']\n"
     ]
    }
   ],
   "source": [
    "# Test GET /api/chain\n",
    "# Get all chains\n",
    "response = requests.get(f\"{base_uri}/api/chain\")\n",
    "pprint(response.json())"
   ]
  },
  {
   "cell_type": "code",
   "execution_count": 63,
   "metadata": {},
   "outputs": [
    {
     "name": "stdout",
     "output_type": "stream",
     "text": [
      "{'detail': [{'loc': ['body', 'agent_name'],\n",
      "             'msg': 'field required',\n",
      "             'type': 'value_error.missing'}]}\n"
     ]
    }
   ],
   "source": [
    "# Test POST /api/chain/{chain_name}/step\n",
    "# Add a step to the chain\n",
    "data = {\n",
    "    \"step_number\": 1,\n",
    "    \"prompt_type\": \"instruction\",\n",
    "    \"prompt\": \"What is the capital of France?\",\n",
    "}\n",
    "response = requests.post(f\"{base_uri}/api/chain/{chain_name}/step\", json=data)\n",
    "pprint(response.json())"
   ]
  },
  {
   "cell_type": "code",
   "execution_count": 64,
   "metadata": {},
   "outputs": [
    {
     "name": "stdout",
     "output_type": "stream",
     "text": [
      "{'detail': 'Method Not Allowed'}\n"
     ]
    }
   ],
   "source": [
    "# Test PUT /api/chain/{chain_name}/step\n",
    "# Update a step in the chain\n",
    "data = {\n",
    "    \"step_number\": 1,\n",
    "#    \"agent_name\": agent, should work without agent name\n",
    "    \"prompt_type\": \"instruction\",\n",
    "    \"prompt\": \"What is the capital of Spain?\",\n",
    "}\n",
    "response = requests.put(f\"{base_uri}/api/chain/{chain_name}/step\", json=data)\n",
    "pprint(response.json())"
   ]
  },
  {
   "cell_type": "code",
   "execution_count": 65,
   "metadata": {},
   "outputs": [
    {
     "name": "stdout",
     "output_type": "stream",
     "text": [
      "{'detail': [{'loc': ['body', 'agent_name'],\n",
      "             'msg': 'field required',\n",
      "             'type': 'value_error.missing'}]}\n"
     ]
    }
   ],
   "source": [
    "# Test POST /api/chain/{chain_name}/step\n",
    "# Add a second step to the chain\n",
    "data = {\n",
    "    \"step_number\": 2,\n",
    "    \"prompt_type\": \"instruction\",\n",
    "    \"prompt\": \"What is the capital of Italy?\",\n",
    "}\n",
    "response = requests.post(f\"{base_uri}/api/chain/{chain_name}/step\", json=data)\n",
    "pprint(response.json())"
   ]
  },
  {
   "cell_type": "code",
   "execution_count": 66,
   "metadata": {},
   "outputs": [],
   "source": [
    "# Test PATCH /api/chain/{chain_name}/step/move\n",
    "# Move a step in the chain\n",
    "# =======> 'Chain' object has no attribute 'move_step'\n",
    "# data = {\"old_step_number\": 1, \"new_step_number\": 2, \"prompt_type\": \"instruction\"}\n",
    "# response = requests.patch(f\"{base_uri}/api/chain/{chain_name}/step/move\", json=data)\n",
    "# pprint(response.json())"
   ]
  },
  {
   "cell_type": "code",
   "execution_count": 67,
   "metadata": {},
   "outputs": [
    {
     "name": "stdout",
     "output_type": "stream",
     "text": [
      "{'message': \"Step 2 deleted from chain 'test_quickcheck_chain'.\"}\n"
     ]
    }
   ],
   "source": [
    "# Test DELETE /api/chain/{chain_name}/step/{step_number}\n",
    "# Delete a step in the chain\n",
    "response = requests.delete(f\"{base_uri}/api/chain/{chain_name}/step/2\")\n",
    "pprint(response.json())"
   ]
  },
  {
   "cell_type": "code",
   "execution_count": 68,
   "metadata": {},
   "outputs": [
    {
     "name": "stdout",
     "output_type": "stream",
     "text": [
      "{'detail': 'Method Not Allowed'}\n"
     ]
    }
   ],
   "source": [
    "# Test GET /api/chain/{chain_name}/step\n",
    "# Get all steps in a chain\n",
    "response = requests.get(f\"{base_uri}/api/chain/{chain_name}/step\")\n",
    "pprint(response.json())"
   ]
  },
  {
   "cell_type": "code",
   "execution_count": 69,
   "metadata": {},
   "outputs": [
    {
     "name": "stdout",
     "output_type": "stream",
     "text": [
      "{'message': \"Chain 'test_quickcheck_chain' deleted.\"}\n"
     ]
    }
   ],
   "source": [
    "# Test DELETE /api/chain/{chain_name}\n",
    "# Delete the chain\n",
    "response = requests.delete(f\"{base_uri}/api/chain/{chain_name}\")\n",
    "pprint(response.json())"
   ]
  },
  {
   "attachments": {},
   "cell_type": "markdown",
   "metadata": {},
   "source": [
    "## Prompts\n"
   ]
  },
  {
   "cell_type": "code",
   "execution_count": 70,
   "metadata": {
    "scrolled": true
   },
   "outputs": [
    {
     "name": "stdout",
     "output_type": "stream",
     "text": [
      "{'message': \"Prompt 'test_quickcheck_prompt' added.\"}\n"
     ]
    }
   ],
   "source": [
    "# Test POST /api/prompt\n",
    "# Add a prompt\n",
    "data = {\"prompt_name\": prompt_name, \"prompt\": prompt}\n",
    "response = requests.post(f\"{base_uri}/api/prompt\", json=data)\n",
    "pprint(response.json())"
   ]
  },
  {
   "cell_type": "code",
   "execution_count": 71,
   "metadata": {},
   "outputs": [
    {
     "name": "stdout",
     "output_type": "stream",
     "text": [
      "{'prompt': 'What is the capital of france?',\n",
      " 'prompt_name': 'test_quickcheck_prompt'}\n"
     ]
    }
   ],
   "source": [
    "# Test GET /api/prompt/{prompt_name}\n",
    "# Get the prompt\n",
    "response = requests.get(f\"{base_uri}/api/prompt/{prompt_name}\")\n",
    "pprint(response.json())"
   ]
  },
  {
   "cell_type": "code",
   "execution_count": 72,
   "metadata": {},
   "outputs": [
    {
     "name": "stdout",
     "output_type": "stream",
     "text": [
      "{'prompts': ['SmartChat-Researcher',\n",
      "             'SmartChat-StepByStep',\n",
      "             'JSONFormatter',\n",
      "             'SmartChat-CleanResponse',\n",
      "             'SmartChat-Resolver',\n",
      "             'Create New Command',\n",
      "             'ValidationFailed',\n",
      "             'Execution',\n",
      "             'Check-Instruction',\n",
      "             'SmartInstruct-Execution',\n",
      "             'WebSearch',\n",
      "             'test_quickcheck_prompt',\n",
      "             'SmartTask-Execution',\n",
      "             'Pseudo Code',\n",
      "             'SmartInstruct-Resolver',\n",
      "             'Validation',\n",
      "             'SmartTask-CleanResponse',\n",
      "             'Chat',\n",
      "             'Instruction',\n",
      "             'Tell Me How',\n",
      "             'Pick-a-Link',\n",
      "             'SmartInstruct-StepByStep',\n",
      "             'Prioritize',\n",
      "             'SmartInstruct-Researcher',\n",
      "             'SmartTask-StepByStep',\n",
      "             'SmartInstruct-CleanResponse',\n",
      "             'instruct']}\n"
     ]
    }
   ],
   "source": [
    "# Test GET /api/prompt\n",
    "# Get all prompts\n",
    "response = requests.get(f\"{base_uri}/api/prompt\")\n",
    "pprint(response.json())"
   ]
  },
  {
   "cell_type": "code",
   "execution_count": 73,
   "metadata": {},
   "outputs": [
    {
     "name": "stdout",
     "output_type": "stream",
     "text": [
      "{'message': \"Prompt 'test_quickcheck_prompt' deleted.\"}\n"
     ]
    }
   ],
   "source": [
    "# Test DELETE /api/prompt/{prompt_name}\n",
    "# Delete the prompt\n",
    "response = requests.delete(f\"{base_uri}/api/prompt/{prompt_name}\")\n",
    "pprint(response.json())"
   ]
  },
  {
   "attachments": {},
   "cell_type": "markdown",
   "metadata": {},
   "source": [
    "## Additional Agent operations"
   ]
  },
  {
   "cell_type": "code",
   "execution_count": 76,
   "metadata": {},
   "outputs": [
    {
     "name": "stdout",
     "output_type": "stream",
     "text": [
      "{'detail': [{'loc': ['body', 'agent_name'],\n",
      "             'msg': 'field required',\n",
      "             'type': 'value_error.missing'},\n",
      "            {'loc': ['body', 'settings'],\n",
      "             'msg': 'field required',\n",
      "             'type': 'value_error.missing'}]}\n"
     ]
    }
   ],
   "source": [
    "# Test PUT /api/agent/{agent_name}\n",
    "# Rename the agent\n",
    "data = {\"new_name\": renamed_agent_name}\n",
    "response = requests.put(f\"{base_uri}/api/agent/{agent_name}\", json=data)\n",
    "pprint(response.json())"
   ]
  },
  {
   "cell_type": "code",
   "execution_count": 77,
   "metadata": {},
   "outputs": [
    {
     "name": "stdout",
     "output_type": "stream",
     "text": [
      "{'message': 'Agent test_quickcheck_agent_new deleted.'}\n"
     ]
    }
   ],
   "source": [
    "# Test DELETE /api/agent/{agent_name}\n",
    "# Delete the agent\n",
    "response = requests.delete(f\"{base_uri}/api/agent/{renamed_agent_name}\")\n",
    "pprint(response.json())"
   ]
  },
  {
   "cell_type": "code",
   "execution_count": 78,
   "metadata": {
    "editable": true,
    "scrolled": true,
    "slideshow": {
     "slide_type": ""
    },
    "tags": []
   },
   "outputs": [
    {
     "ename": "AssertionError",
     "evalue": "{'agent': {'commands': {'Google Search': False, 'Execute Python File': False, 'Execute Shell': False, 'Scrape Text with Playwright': False, 'Scrape Links with Playwright': False, 'Read Audio from File': False, 'Read Audio': False, 'Is Valid URL': False, 'Sanitize URL': False, 'Check Local File Access': False, 'Get Response': False, 'Scrape Text': True, 'Scrape Links': False, 'Read File': False, 'Write to File': False, 'Append to File': False, 'Delete File': False, 'Search Files': False, 'Clone Github Repository': False, 'Scrape Text with Selenium': False, 'Get Datetime': False, 'Use The Search Engine': False, 'Speak with TTS': False, 'Evaluate Code': False, 'Analyze Pull Request': False, 'Perform Automated Testing': False, 'Run CI-CD Pipeline': False, 'Improve Code': False, 'Write Tests': False, 'Create a new command': False, 'Ask AI Agent ci_agent': False, 'Instruct AI Agent ci_agent': False, 'Ask AI Agent test_quickcheck': False, 'Instruct AI Agent test_quickcheck': False, 'Ask AI Agent negl': False, 'Instruct AI Agent negl': False, 'Ask AI Agent test_quickcheck_agent': False, 'Instruct AI Agent test_quickcheck_agent': False, 'Ask AI Agent gpt4free': False, 'Instruct AI Agent gpt4free': False}, 'settings': {'provider': 'gpt4free'}}}",
     "output_type": "error",
     "traceback": [
      "\u001b[0;31m---------------------------------------------------------------------------\u001b[0m",
      "\u001b[0;31mAssertionError\u001b[0m                            Traceback (most recent call last)",
      "\u001b[0;32m/tmp/ipykernel_220434/4178070314.py\u001b[0m in \u001b[0;36m<module>\u001b[0;34m\u001b[0m\n\u001b[1;32m      2\u001b[0m \u001b[0;31m# Make sure the agent has vanished\u001b[0m\u001b[0;34m\u001b[0m\u001b[0;34m\u001b[0m\u001b[0m\n\u001b[1;32m      3\u001b[0m \u001b[0mresponse\u001b[0m \u001b[0;34m=\u001b[0m \u001b[0mrequests\u001b[0m\u001b[0;34m.\u001b[0m\u001b[0mget\u001b[0m\u001b[0;34m(\u001b[0m\u001b[0;34mf\"{base_uri}/api/agent/{agent_name}\"\u001b[0m\u001b[0;34m)\u001b[0m\u001b[0;34m\u001b[0m\u001b[0;34m\u001b[0m\u001b[0m\n\u001b[0;32m----> 4\u001b[0;31m \u001b[0;32massert\u001b[0m \u001b[0mresponse\u001b[0m\u001b[0;34m.\u001b[0m\u001b[0mstatus_code\u001b[0m \u001b[0;34m==\u001b[0m \u001b[0;36m404\u001b[0m\u001b[0;34m,\u001b[0m \u001b[0mresponse\u001b[0m\u001b[0;34m.\u001b[0m\u001b[0mjson\u001b[0m\u001b[0;34m(\u001b[0m\u001b[0;34m)\u001b[0m\u001b[0;34m\u001b[0m\u001b[0;34m\u001b[0m\u001b[0m\n\u001b[0m",
      "\u001b[0;31mAssertionError\u001b[0m: {'agent': {'commands': {'Google Search': False, 'Execute Python File': False, 'Execute Shell': False, 'Scrape Text with Playwright': False, 'Scrape Links with Playwright': False, 'Read Audio from File': False, 'Read Audio': False, 'Is Valid URL': False, 'Sanitize URL': False, 'Check Local File Access': False, 'Get Response': False, 'Scrape Text': True, 'Scrape Links': False, 'Read File': False, 'Write to File': False, 'Append to File': False, 'Delete File': False, 'Search Files': False, 'Clone Github Repository': False, 'Scrape Text with Selenium': False, 'Get Datetime': False, 'Use The Search Engine': False, 'Speak with TTS': False, 'Evaluate Code': False, 'Analyze Pull Request': False, 'Perform Automated Testing': False, 'Run CI-CD Pipeline': False, 'Improve Code': False, 'Write Tests': False, 'Create a new command': False, 'Ask AI Agent ci_agent': False, 'Instruct AI Agent ci_agent': False, 'Ask AI Agent test_quickcheck': False, 'Instruct AI Agent test_quickcheck': False, 'Ask AI Agent negl': False, 'Instruct AI Agent negl': False, 'Ask AI Agent test_quickcheck_agent': False, 'Instruct AI Agent test_quickcheck_agent': False, 'Ask AI Agent gpt4free': False, 'Instruct AI Agent gpt4free': False}, 'settings': {'provider': 'gpt4free'}}}"
     ]
    }
   ],
   "source": [
    "# Test GET /api/agent/{agent_name}\n",
    "# Make sure the agent has vanished\n",
    "response = requests.get(f\"{base_uri}/api/agent/{agent_name}\")\n",
    "pprint(response.json())\n",
    "# assert response.status_code == 404, response.json()"
   ]
  },
  {
   "cell_type": "code",
   "execution_count": null,
   "metadata": {},
   "outputs": [],
   "source": []
  }
 ],
 "metadata": {
  "kernelspec": {
   "display_name": "Python 3 (ipykernel)",
   "language": "python",
   "name": "python3"
  },
  "language_info": {
   "codemirror_mode": {
    "name": "ipython",
    "version": 3
   },
   "file_extension": ".py",
   "mimetype": "text/x-python",
   "name": "python",
   "nbconvert_exporter": "python",
   "pygments_lexer": "ipython3",
   "version": "3.10.6"
  }
 },
 "nbformat": 4,
 "nbformat_minor": 4
}

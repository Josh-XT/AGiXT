{
 "cells": [
  {
   "attachments": {},
   "cell_type": "markdown",
   "metadata": {},
   "source": [
    "## AGiXT Configurational quickchecks\n",
    "\n",
    "### Jupyter Notebook for testing basic functions against a freshly built instance\n"
   ]
  },
  {
   "cell_type": "code",
   "execution_count": null,
   "metadata": {},
   "outputs": [],
   "source": [
    "import requests\n",
    "from pprint import pprint\n",
    "\n",
    "from cfg import cfg\n",
    "\n",
    "base_uri = \"http://localhost:7437\"\n",
    "\n",
    "agent_name = \"test_quickcheck_agent\"\n",
    "agent_settings = cfg[\"agent_settings_gpt4free\"]\n",
    "\n",
    "chat = cfg[\"message-3\"]\n",
    "\n",
    "command_name = \"Scrape Text\"\n",
    "command_enabled = True\n",
    "\n",
    "chain_name = \"test_quickcheck_chain\"\n",
    "\n",
    "prompt_name = \"test_quickcheck_prompt\"\n",
    "prompt = cfg[\"message-3\"]\n",
    "\n",
    "renamed_agent_name = agent_name + \"_new\""
   ]
  },
  {
   "attachments": {},
   "cell_type": "markdown",
   "metadata": {},
   "source": [
    "## Providers\n"
   ]
  },
  {
   "cell_type": "code",
   "execution_count": 107,
   "metadata": {},
   "outputs": [
    {
     "name": "stdout",
     "output_type": "stream",
     "text": [
      "{'providers': ['fastchat',\n",
      "               'oobabooga',\n",
      "               'palm',\n",
      "               'azure',\n",
      "               'transformer',\n",
      "               'openai',\n",
      "               'kobold',\n",
      "               'gpt4all',\n",
      "               'gpt4free',\n",
      "               'huggingchat',\n",
      "               'gpugpt4all',\n",
      "               'chatgpt',\n",
      "               'bard',\n",
      "               'huggingface',\n",
      "               'claude',\n",
      "               'llamacppapi',\n",
      "               'bing',\n",
      "               'runpod',\n",
      "               'llamacpp']}\n"
     ]
    }
   ],
   "source": [
    "# Test GET /api/provider\n",
    "response = requests.get(f\"{base_uri}/api/provider\")\n",
    "assert response.status_code == 200, response.json()\n",
    "assert \"providers\" in response.json(), response.json()\n",
    "pprint(response.json())"
   ]
  },
  {
   "cell_type": "code",
   "execution_count": 108,
   "metadata": {},
   "outputs": [
    {
     "name": "stdout",
     "output_type": "stream",
     "text": [
      "{'settings': ['OPENAI_API_KEY', 'AI_MODEL', 'AI_TEMPERATURE', 'MAX_TOKENS']}\n"
     ]
    }
   ],
   "source": [
    "# Test GET /api/provider\n",
    "provider = \"openai\"\n",
    "response = requests.get(f\"{base_uri}/api/provider/{provider}\")\n",
    "assert response.status_code == 200, response.json()\n",
    "assert \"settings\" in response.json(), response.json()\n",
    "pprint(response.json())"
   ]
  },
  {
   "cell_type": "code",
   "execution_count": 109,
   "metadata": {},
   "outputs": [
    {
     "name": "stdout",
     "output_type": "stream",
     "text": [
      "{'providers': ['azure',\n",
      "               'cohere',\n",
      "               'default',\n",
      "               'embed_text',\n",
      "               'get_embedder',\n",
      "               'google_palm',\n",
      "               'google_vertex',\n",
      "               'large_local',\n",
      "               'llamacpp',\n",
      "               'openai']}\n"
     ]
    }
   ],
   "source": [
    "# Test GET /api/embedding_providers\n",
    "response = requests.get(f\"{base_uri}/api/embedding_providers\")\n",
    "assert response.status_code == 200, response.json()\n",
    "assert \"providers\" in response.json(), response.json()\n",
    "pprint(response.json())"
   ]
  },
  {
   "attachments": {},
   "cell_type": "markdown",
   "metadata": {},
   "source": [
    "## Agents\n"
   ]
  },
  {
   "cell_type": "code",
   "execution_count": 110,
   "metadata": {},
   "outputs": [
    {
     "name": "stdout",
     "output_type": "stream",
     "text": [
      "{'name': 'test_quickcheck_agent',\n",
      " 'settings': {'commands': {'Analyze Pull Request': False,\n",
      "                           'Append to File': False,\n",
      "                           'Ask AI Agent gpt4free': False,\n",
      "                           'Ask AI Agent test_quickcheck_agent': False,\n",
      "                           'Clone Github Repository': False,\n",
      "                           'Create a new command': False,\n",
      "                           'Delete File': False,\n",
      "                           'Evaluate Code': False,\n",
      "                           'Execute Python File': False,\n",
      "                           'Execute Shell': False,\n",
      "                           'Generate Image with Stable Diffusion': False,\n",
      "                           'Get Datetime': False,\n",
      "                           'Improve Code': False,\n",
      "                           'Instruct AI Agent gpt4free': False,\n",
      "                           'Instruct AI Agent test_quickcheck_agent': False,\n",
      "                           'Perform Automated Testing': False,\n",
      "                           'Read Audio': False,\n",
      "                           'Read Audio from File': False,\n",
      "                           'Read File': False,\n",
      "                           'Run CI-CD Pipeline': False,\n",
      "                           'Scrape Links with Playwright': False,\n",
      "                           'Scrape Text with Playwright': False,\n",
      "                           'Search Files': False,\n",
      "                           'Speak with MacOS TTS': False,\n",
      "                           'Speak with TTS Using Elevenlabs': False,\n",
      "                           'Speak with TTS with BrianTTS': False,\n",
      "                           'Use The Search Engine': False,\n",
      "                           'Write Tests': False,\n",
      "                           'Write to File': False},\n",
      "              'settings': {'provider': 'gpt4free'}}}\n"
     ]
    }
   ],
   "source": [
    "# Test POST /api/agent\n",
    "# Add an agent\n",
    "data = {\"agent_name\": agent_name, \"settings\": agent_settings}\n",
    "response = requests.post(f\"{base_uri}/api/agent\", json=data)\n",
    "assert response.status_code == 200, response.json()\n",
    "pprint(response.json())"
   ]
  },
  {
   "cell_type": "code",
   "execution_count": 111,
   "metadata": {},
   "outputs": [
    {
     "name": "stdout",
     "output_type": "stream",
     "text": [
      "{'message': 'Agent test_quickcheck_agent configuration updated.'}\n"
     ]
    }
   ],
   "source": [
    "# Test PUT /api/agent/{agent_name}\n",
    "# Update the settings\n",
    "data = {\"agent_name\": agent_name, \"settings\": agent_settings }\n",
    "response = requests.put(f\"{base_uri}/api/agent/{agent_name}\", json=data)\n",
    "assert response.status_code == 200, response.json()\n",
    "pprint(response.json())"
   ]
  },
  {
   "cell_type": "code",
   "execution_count": 114,
   "metadata": {},
   "outputs": [
    {
     "name": "stdout",
     "output_type": "stream",
     "text": [
      "{'name': 'test_quickcheck_agent',\n",
      " 'settings': {'commands': {'Analyze Pull Request': False,\n",
      "                           'Append to File': False,\n",
      "                           'Ask AI Agent gpt4free': False,\n",
      "                           'Ask AI Agent test_quickcheck_agent': False,\n",
      "                           'Clone Github Repository': False,\n",
      "                           'Create a new command': False,\n",
      "                           'Delete File': False,\n",
      "                           'Evaluate Code': False,\n",
      "                           'Execute Python File': False,\n",
      "                           'Execute Shell': False,\n",
      "                           'Generate Image with Stable Diffusion': False,\n",
      "                           'Get Datetime': False,\n",
      "                           'Improve Code': False,\n",
      "                           'Instruct AI Agent gpt4free': False,\n",
      "                           'Instruct AI Agent test_quickcheck_agent': False,\n",
      "                           'Perform Automated Testing': False,\n",
      "                           'Read Audio': False,\n",
      "                           'Read Audio from File': False,\n",
      "                           'Read File': False,\n",
      "                           'Run CI-CD Pipeline': False,\n",
      "                           'Scrape Links with Playwright': False,\n",
      "                           'Scrape Text with Playwright': False,\n",
      "                           'Search Files': False,\n",
      "                           'Speak with MacOS TTS': False,\n",
      "                           'Speak with TTS Using Elevenlabs': False,\n",
      "                           'Speak with TTS with BrianTTS': False,\n",
      "                           'Use The Search Engine': False,\n",
      "                           'Write Tests': False,\n",
      "                           'Write to File': False},\n",
      "              'settings': {'provider': 'gpt4free'}}}\n"
     ]
    }
   ],
   "source": [
    "# Test GET /api/agent/{agent_name}\n",
    "# Get the agent\n",
    "response = requests.get(f\"{base_uri}/api/agent/{agent_name}\")\n",
    "assert response.status_code == 200, response.json()\n",
    "assert \"name\" in response.json(), response.json()\n",
    "assert response.json()[\"name\"] == agent_name, response.json()\n",
    "pprint(response.json())"
   ]
  },
  {
   "cell_type": "code",
   "execution_count": 115,
   "metadata": {},
   "outputs": [
    {
     "name": "stdout",
     "output_type": "stream",
     "text": [
      "{'agents': [{'name': 'gpt4free', 'status': False},\n",
      "            {'name': 'test_quickcheck_agent', 'status': False}]}\n"
     ]
    }
   ],
   "source": [
    "# Test GET /api/agent\n",
    "# Get all agents\n",
    "response = requests.get(f\"{base_uri}/api/agent\")\n",
    "assert response.status_code == 200, response.json()\n",
    "assert \"agents\" in response.json(), response.json()\n",
    "pprint(response.json())"
   ]
  },
  {
   "attachments": {},
   "cell_type": "markdown",
   "metadata": {
    "jp-MarkdownHeadingCollapsed": true
   },
   "source": [
    "## Chat, History and Memory\n"
   ]
  },
  {
   "cell_type": "code",
   "execution_count": null,
   "metadata": {},
   "outputs": [],
   "source": [
    "# Test POST /api/{agent_name}/chat\n",
    "# Chat with agent\n",
    "data = {\"prompt\": chat}\n",
    "response = requests.post(f\"{base_uri}/api/agent/{agent_name}/chat\", json=data)\n",
    "assert response.status_code == 200, response.json()\n",
    "assert 'Paris' in response.json().get('response'), response.json()\n",
    "pprint(response.json())"
   ]
  },
  {
   "cell_type": "code",
   "execution_count": null,
   "metadata": {},
   "outputs": [],
   "source": [
    "# Test GET /api/{agent_name}/chat\n",
    "# Get agent history\n",
    "response = requests.get(f\"{base_uri}/api/{agent_name}/chat\")\n",
    "assert response.status_code == 200, response.json()\n",
    "assert 'chat_history' in response.json(), response.json()\n",
    "pprint(response.json())"
   ]
  },
  {
   "cell_type": "code",
   "execution_count": null,
   "metadata": {},
   "outputs": [],
   "source": [
    "# Test DELETE /api/agent/{agent_name}/memory\n",
    "# Clear the agent's memory\n",
    "response = requests.delete(f\"{base_uri}/api/agent/{agent_name}/memory\")\n",
    "assert response.status_code == 200, response.json()\n",
    "pprint(response.json())"
   ]
  },
  {
   "attachments": {},
   "cell_type": "markdown",
   "metadata": {
    "jp-MarkdownHeadingCollapsed": true
   },
   "source": [
    "## Commands\n"
   ]
  },
  {
   "cell_type": "code",
   "execution_count": null,
   "metadata": {},
   "outputs": [],
   "source": [
    "# Test GET /api/agent/{agent_name}/command\n",
    "# Get the agent's commands\n",
    "response = requests.get(f\"{base_uri}/api/agent/{agent_name}/command\")\n",
    "assert response.status_code == 200, response.json()\n",
    "pprint(response.json())"
   ]
  },
  {
   "cell_type": "code",
   "execution_count": null,
   "metadata": {},
   "outputs": [],
   "source": [
    "# Test PATCH /api/agent/{agent_name}/command\n",
    "# Update the agent's commands\n",
    "data = {\"command_name\": command_name, \"enable\": command_enabled}\n",
    "response = requests.patch(f\"{base_uri}/api/agent/{agent_name}/command\", json=data)\n",
    "assert response.status_code == 200, response.json()\n",
    "assert command_name in response.json().get('message'), response.json()\n",
    "assert 'toggled' in response.json().get('message'), response.json()\n",
    "pprint(response.json())"
   ]
  },
  {
   "attachments": {},
   "cell_type": "markdown",
   "metadata": {
    "jp-MarkdownHeadingCollapsed": true
   },
   "source": [
    "## Chains\n"
   ]
  },
  {
   "cell_type": "code",
   "execution_count": null,
   "metadata": {},
   "outputs": [],
   "source": [
    "# Test POST /api/chain\n",
    "# Create a chain\n",
    "data = {\"chain_name\": chain_name}\n",
    "response = requests.post(f\"{base_uri}/api/chain\", json=data)\n",
    "assert response.status_code == 200, response.json()\n",
    "assert chain_name in response.json().get('message'), response.json()\n",
    "assert 'created' in response.json().get('message'), response.json()\n",
    "pprint(response.json())"
   ]
  },
  {
   "cell_type": "code",
   "execution_count": null,
   "metadata": {},
   "outputs": [],
   "source": [
    "# Test GET /api/chain/{chain_name}\n",
    "# Get the chain\n",
    "response = requests.get(f\"{base_uri}/api/chain/{chain_name}\")\n",
    "assert response.status_code == 200, response.json()\n",
    "assert chain_name == response.json().get('chain').get('chain_name'), response.json()\n",
    "pprint(response.json())"
   ]
  },
  {
   "cell_type": "code",
   "execution_count": null,
   "metadata": {},
   "outputs": [],
   "source": [
    "# Test GET /api/chain\n",
    "# Get all chains\n",
    "response = requests.get(f\"{base_uri}/api/chain\")\n",
    "assert response.status_code == 200, response.json()\n",
    "assert chain_name in response.json(), response.json()\n",
    "pprint(response.json())"
   ]
  },
  {
   "cell_type": "code",
   "execution_count": null,
   "metadata": {},
   "outputs": [],
   "source": [
    "# Test POST /api/chain/{chain_name}/step\n",
    "# Add a step to the chain\n",
    "data = {\n",
    "    \"step_number\": 1,\n",
    "    \"agent_name\": agent_name,\n",
    "    \"prompt_type\": \"instruction\",\n",
    "    \"prompt\": \"What is the capital of France?\",\n",
    "}\n",
    "response = requests.post(f\"{base_uri}/api/chain/{chain_name}/step\", json=data)\n",
    "assert response.status_code == 200, response.json()\n",
    "pprint(response.json())"
   ]
  },
  {
   "cell_type": "code",
   "execution_count": null,
   "metadata": {},
   "outputs": [],
   "source": [
    "# Test PUT /api/chain/{chain_name}/step/{step_number}\n",
    "# Update a step in the chain\n",
    "data = {\n",
    "    \"step_number\": 2,\n",
    "    \"agent_name\": agent_name,\n",
    "    \"prompt_type\": \"instruction\",\n",
    "    \"prompt\": \"What is the capital of Spain?\",\n",
    "}\n",
    "response = requests.put(f\"{base_uri}/api/chain/{chain_name}/step/1\", json=data)\n",
    "assert response.status_code == 200, response.json()\n",
    "pprint(response.json())"
   ]
  },
  {
   "cell_type": "code",
   "execution_count": null,
   "metadata": {},
   "outputs": [],
   "source": [
    "# Test POST /api/chain/{chain_name}/step\n",
    "# Add a second step to the chain\n",
    "data = {\n",
    "    \"step_number\": 2,\n",
    "    \"agent_name\": agent_name,\n",
    "    \"prompt_type\": \"instruction\",\n",
    "    \"prompt\": \"What is the capital of Italy?\",\n",
    "}\n",
    "response = requests.post(f\"{base_uri}/api/chain/{chain_name}/step\", json=data)\n",
    "assert response.status_code == 200, response.json()\n",
    "pprint(response.json())"
   ]
  },
  {
   "cell_type": "code",
   "execution_count": null,
   "metadata": {},
   "outputs": [],
   "source": [
    "# Test PATCH /api/chain/{chain_name}/step/move\n",
    "# Move a step in the chain\n",
    "data = {\"old_step_number\": 1, \"new_step_number\": 2}\n",
    "response = requests.patch(f\"{base_uri}/api/chain/{chain_name}/step/move\", json=data)\n",
    "assert response.status_code == 200, response.json()\n",
    "pprint(response.json())"
   ]
  },
  {
   "cell_type": "code",
   "execution_count": null,
   "metadata": {},
   "outputs": [],
   "source": [
    "# Test DELETE /api/chain/{chain_name}/step/{step_number}\n",
    "# Delete a step in the chain\n",
    "response = requests.delete(f\"{base_uri}/api/chain/{chain_name}/step/2\")\n",
    "assert response.status_code == 200, response.json()\n",
    "pprint(response.json())"
   ]
  },
  {
   "cell_type": "code",
   "execution_count": null,
   "metadata": {},
   "outputs": [],
   "source": [
    "# Test GET /api/chain/{chain_name}/step\n",
    "# Get all steps in a chain\n",
    "# TODO missing endpoint\n",
    "response = requests.get(f\"{base_uri}/api/chain/{chain_name}/step\")\n",
    "assert response.status_code == 200, response.json()\n",
    "pprint(response.json())"
   ]
  },
  {
   "cell_type": "code",
   "execution_count": null,
   "metadata": {},
   "outputs": [],
   "source": [
    "# Test DELETE /api/chain/{chain_name}\n",
    "# Delete the chain\n",
    "response = requests.delete(f\"{base_uri}/api/chain/{chain_name}\")\n",
    "assert response.status_code == 200, response.json()\n",
    "pprint(response.json())"
   ]
  },
  {
   "attachments": {},
   "cell_type": "markdown",
   "metadata": {
    "jp-MarkdownHeadingCollapsed": true
   },
   "source": [
    "## Prompts\n"
   ]
  },
  {
   "cell_type": "code",
   "execution_count": null,
   "metadata": {},
   "outputs": [],
   "source": [
    "# Test POST /api/prompt\n",
    "# Add a prompt\n",
    "data = {\"prompt_name\": prompt_name, \"prompt\": prompt}\n",
    "response = requests.post(f\"{base_uri}/api/prompt\", json=data)\n",
    "assert response.status_code == 200, response.json()\n",
    "pprint(response.json())"
   ]
  },
  {
   "cell_type": "code",
   "execution_count": null,
   "metadata": {},
   "outputs": [],
   "source": [
    "# Test GET /api/prompt/{prompt_name}\n",
    "# Get the prompt\n",
    "response = requests.get(f\"{base_uri}/api/prompt/{prompt_name}\")\n",
    "assert response.status_code == 200, response.json()\n",
    "pprint(response.json())"
   ]
  },
  {
   "cell_type": "code",
   "execution_count": null,
   "metadata": {},
   "outputs": [],
   "source": [
    "# Test GET /api/prompt\n",
    "# Get all prompts\n",
    "response = requests.get(f\"{base_uri}/api/prompt\")\n",
    "assert response.status_code == 200, response.json()\n",
    "pprint(response.json())"
   ]
  },
  {
   "cell_type": "code",
   "execution_count": null,
   "metadata": {},
   "outputs": [],
   "source": [
    "# Test DELETE /api/prompt/{prompt_name}\n",
    "# Delete the prompt\n",
    "response = requests.delete(f\"{base_uri}/api/prompt/{prompt_name}\")\n",
    "assert response.status_code == 200, response.json()\n",
    "pprint(response.json())"
   ]
  },
  {
   "attachments": {},
   "cell_type": "markdown",
   "metadata": {},
   "source": [
    "## Additional Agent operations\n"
   ]
  },
  {
   "cell_type": "code",
   "execution_count": 119,
   "metadata": {},
   "outputs": [
    {
     "ename": "SyntaxError",
     "evalue": "unterminated string literal (detected at line 3) (3412095350.py, line 3)",
     "output_type": "error",
     "traceback": [
      "\u001b[0;36m  File \u001b[0;32m\"/tmp/ipykernel_27553/3412095350.py\"\u001b[0;36m, line \u001b[0;32m3\u001b[0m\n\u001b[0;31m    data = {new_name\": renamed_agent_name }\u001b[0m\n\u001b[0m                    ^\u001b[0m\n\u001b[0;31mSyntaxError\u001b[0m\u001b[0;31m:\u001b[0m unterminated string literal (detected at line 3)\n"
     ]
    }
   ],
   "source": [
    "# Test PATCH /api/agent/{agent_name}\n",
    "# Rename the agent\n",
    "data = {\"new_name\": renamed_agent_name }\n",
    "response = requests.patch(f\"{base_uri}/api/agent/{agent_name}\", json=data)\n",
    "assert response.status_code == 200, response.json()\n",
    "pprint(response.json())"
   ]
  },
  {
   "cell_type": "code",
   "execution_count": null,
   "metadata": {},
   "outputs": [],
   "source": [
    "# Test DELETE /api/agent/{renamed_agent_name}\n",
    "# Delete the agent\n",
    "response = requests.delete(f\"{base_uri}/api/agent/{renamed_agent_name}\")\n",
    "assert response.status_code == 200, response.json()\n",
    "pprint(response.json())"
   ]
  },
  {
   "cell_type": "code",
   "execution_count": null,
   "metadata": {
    "editable": true,
    "slideshow": {
     "slide_type": ""
    },
    "tags": []
   },
   "outputs": [],
   "source": [
    "# Test GET /api/agent/{renamed_agent_name}\n",
    "# Make sure the agent has vanished\n",
    "response = requests.get(f\"{base_uri}/api/agent/{renamed_agent_name}\")\n",
    "assert response.status_code == 404, response.json()\n",
    "pprint(response.json())"
   ]
  },
  {
   "cell_type": "code",
   "execution_count": null,
   "metadata": {},
   "outputs": [],
   "source": []
  }
 ],
 "metadata": {
  "kernelspec": {
   "display_name": "Python 3 (ipykernel)",
   "language": "python",
   "name": "python3"
  },
  "language_info": {
   "codemirror_mode": {
    "name": "ipython",
    "version": 3
   },
   "file_extension": ".py",
   "mimetype": "text/x-python",
   "name": "python",
   "nbconvert_exporter": "python",
   "pygments_lexer": "ipython3",
   "version": "3.10.6"
  }
 },
 "nbformat": 4,
 "nbformat_minor": 4
}

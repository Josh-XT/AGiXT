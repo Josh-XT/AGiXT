{
 "cells": [
  {
   "attachments": {},
   "cell_type": "markdown",
   "metadata": {},
   "source": [
    "# AGiXT Python SDK Tests\n",
    "\n",
    "## Get a list of Providers\n",
    "\n",
    "This will get a list of AI Providers available to use with AGiXT.\n"
   ]
  },
  {
   "cell_type": "code",
   "execution_count": 1,
   "metadata": {},
   "outputs": [
    {
     "name": "stdout",
     "output_type": "stream",
     "text": [
      "['perplexity', 'gpt4free', 'azure', 'chatgpt', 'runpod', 'poe', 'oobabooga', 'openai', 'huggingface', 'pipeline', 'fastchat', 'agixt', 'palm', 'claude', 'huggingchat', 'llamacppapi', 'petal', 'kobold', 'llamacpp', 'custom', 'bard']\n"
     ]
    }
   ],
   "source": [
    "from agixtsdk import AGiXTSDK\n",
    "\n",
    "base_uri = \"http://localhost:7437\"\n",
    "ApiClient = AGiXTSDK(base_uri=base_uri)\n",
    "providers = ApiClient.get_providers()\n",
    "print(providers)\n"
   ]
  },
  {
   "attachments": {},
   "cell_type": "markdown",
   "metadata": {},
   "source": [
    "## Get Default Provider Settings\n",
    "\n",
    "Choose a provider from the list of AI providers and get the default settings for that provider.\n"
   ]
  },
  {
   "cell_type": "code",
   "execution_count": 2,
   "metadata": {},
   "outputs": [
    {
     "name": "stdout",
     "output_type": "stream",
     "text": [
      "{'API_KEY': '', 'API_URI': 'https://api.openai.com/v1/chat/completions', 'AI_MODEL': 'gpt-3.5-turbo-16k-0613', 'AI_TEMPERATURE': 0.7, 'AI_TOP_P': 0.7, 'MAX_TOKENS': 4096, 'WAIT_BETWEEN_REQUESTS': 0, 'WAIT_AFTER_FAILURE': 3, 'provider': 'custom'}\n"
     ]
    }
   ],
   "source": [
    "from agixtsdk import AGiXTSDK\n",
    "\n",
    "base_uri = \"http://localhost:7437\"\n",
    "ApiClient = AGiXTSDK(base_uri=base_uri)\n",
    "provider_name = \"custom\"\n",
    "provider_settings = ApiClient.get_provider_settings(provider_name=provider_name)\n",
    "print(provider_settings)\n"
   ]
  },
  {
   "attachments": {},
   "cell_type": "markdown",
   "metadata": {},
   "source": [
    "## Get Embedding Providers\n",
    "\n",
    "Embedding providers are used to embed information to vectors to store in the vector database to be searched for context injection.\n"
   ]
  },
  {
   "cell_type": "code",
   "execution_count": 3,
   "metadata": {},
   "outputs": [
    {
     "name": "stdout",
     "output_type": "stream",
     "text": [
      "['default', 'azure', 'openai', 'google_palm', 'google_vertex', 'cohere']\n"
     ]
    }
   ],
   "source": [
    "from agixtsdk import AGiXTSDK\n",
    "\n",
    "base_uri = \"http://localhost:7437\"\n",
    "ApiClient = AGiXTSDK(base_uri=base_uri)\n",
    "embed_providers = ApiClient.get_embed_providers()\n",
    "print(embed_providers)\n"
   ]
  },
  {
   "attachments": {},
   "cell_type": "markdown",
   "metadata": {},
   "source": [
    "## Get Extension Settings\n",
    "\n",
    "This is where we get all third party extension settings for the agent with defaults to fill in when there is nothing entered on the front end.\n"
   ]
  },
  {
   "cell_type": "code",
   "execution_count": 4,
   "metadata": {},
   "outputs": [
    {
     "name": "stdout",
     "output_type": "stream",
     "text": [
      "{'macostts': {'USE_MAC_OS_TTS': False}, 'file_system': {'WORKING_DIRECTORY': './WORKSPACE', 'WORKING_DIRECTORY_RESTRICTED': True}, 'streamlabs_tts': {'USE_STREAMLABS_TTS': True, 'STREAMLABS_VOICE': 'Brian'}, 'whisper_stt': {'WHISPER_MODEL': 'base.en'}, 'huggingface': {'HUGGINGFACE_API_KEY': '', 'HUGGINGFACE_AUDIO_TO_TEXT_MODEL': 'facebook/wav2vec2-large-960h-lv60-self'}, 'discord': {'DISCORD_API_KEY': '', 'DISCORD_COMMAND_PREFIX': '/AGiXT'}, 'dalle': {'OPENAI_API_KEY': ''}, 'google': {'GOOGLE_API_KEY': ''}, 'github': {'GITHUB_USERNAME': '', 'GITHUB_API_KEY': ''}, 'stable_diffusion': {'STABLE_DIFFUSION_API_URL': 'https://api-inference.huggingface.co/models/runwayml/stable-diffusion-v1-5', 'HUGGINGFACE_API_KEY': ''}, 'gtts': {'USE_GTTS': False}, 'elevenlabs': {'ELEVENLABS_API_KEY': '', 'ELEVENLABS_VOICE': 'Josh'}, 'sendgrid_email': {'SENDGRID_API_KEY': '', 'SENDGRID_EMAIL': ''}, 'searxng': {'SEARXNG_INSTANCE_URL': ''}, 'twitter': {'TW_CONSUMER_KEY': '', 'TW_CONSUMER_SECRET': '', 'TW_ACCESS_TOKEN': '', 'TW_ACCESS_TOKEN_SECRET': ''}}\n"
     ]
    }
   ],
   "source": [
    "from agixtsdk import AGiXTSDK\n",
    "\n",
    "base_uri = \"http://localhost:7437\"\n",
    "ApiClient = AGiXTSDK(base_uri=base_uri)\n",
    "ext_settings_resp = ApiClient.get_extension_settings()\n",
    "print(ext_settings_resp)\n"
   ]
  },
  {
   "attachments": {},
   "cell_type": "markdown",
   "metadata": {},
   "source": [
    "## Get Extension Commands\n"
   ]
  },
  {
   "cell_type": "code",
   "execution_count": 5,
   "metadata": {},
   "outputs": [
    {
     "name": "stdout",
     "output_type": "stream",
     "text": [
      "[{'extension_name': 'Web Playwright', 'description': 'Web Playwright', 'settings': [], 'commands': [{'friendly_name': 'Scrape Text with Playwright', 'command_name': 'scrape_text_with_playwright', 'command_args': {'url': ''}}, {'friendly_name': 'Scrape Links with Playwright', 'command_name': 'scrape_links_with_playwright', 'command_args': {'url': ''}}, {'friendly_name': 'Take Screenshot with Playwright', 'command_name': 'take_screenshot_with_playwright', 'command_args': {'url': '', 'path': ''}}]}, {'extension_name': 'Agixt Actions', 'description': 'Agixt Actions', 'settings': [], 'commands': [{'friendly_name': 'Create Task Chain', 'command_name': 'create_task_chain', 'command_args': {'agent': '', 'primary_objective': '', 'numbered_list_of_tasks': '', 'short_chain_description': '', 'smart_chain': False, 'researching': False}}, {'friendly_name': 'Generate Extension from OpenAPI', 'command_name': 'generate_openapi_chain', 'command_args': {'agent': '', 'extension_name': '', 'openapi_json_url': ''}}, {'friendly_name': 'Generate Agent Helper Chain', 'command_name': 'generate_helper_chain', 'command_args': {'user_agent': '', 'helper_agent': '', 'task_in_question': ''}}, {'friendly_name': 'Ask for Help or Further Clarification to Complete Task', 'command_name': 'ask_for_help', 'command_args': {'your_agent_name': '', 'your_task': ''}}, {'friendly_name': 'Create a new command', 'command_name': 'create_command', 'command_args': {'function_description': '', 'agent': 'AGiXT'}}, {'friendly_name': 'Execute Python Code', 'command_name': 'execute_python_code', 'command_args': {'code': ''}}, {'friendly_name': 'Get Python Code from Response', 'command_name': 'get_python_code_from_response', 'command_args': {'response': ''}}, {'friendly_name': 'Get Mindmap for task to break it down', 'command_name': 'get_mindmap', 'command_args': {'task': '', 'agent': 'AGiXT'}}]}, {'extension_name': 'Macostts', 'description': 'Macostts', 'settings': ['USE_MAC_OS_TTS'], 'commands': [{'friendly_name': 'Speak with MacOS TTS', 'command_name': 'speak_with_macos_speech', 'command_args': {'text': '', 'voice_index': 0}}]}, {'extension_name': 'File System', 'description': 'File System', 'settings': ['WORKING_DIRECTORY', 'WORKING_DIRECTORY_RESTRICTED'], 'commands': [{'friendly_name': 'Write to File', 'command_name': 'write_to_file', 'command_args': {'filename': '', 'text': ''}}, {'friendly_name': 'Read File', 'command_name': 'read_file', 'command_args': {'filename': ''}}, {'friendly_name': 'Search Files', 'command_name': 'search_files', 'command_args': {'directory': ''}}, {'friendly_name': 'Append to File', 'command_name': 'append_to_file', 'command_args': {'filename': '', 'text': ''}}, {'friendly_name': 'Execute Python File', 'command_name': 'execute_python_file', 'command_args': {'file': ''}}, {'friendly_name': 'Delete File', 'command_name': 'delete_file', 'command_args': {'filename': ''}}, {'friendly_name': 'Execute Shell', 'command_name': 'execute_shell', 'command_args': {'command_line': ''}}, {'friendly_name': 'Indent String for Python Code', 'command_name': 'indent_string', 'command_args': {'string': '', 'indents': 1}}, {'friendly_name': 'Generate Commands Dictionary', 'command_name': 'generate_commands_dict', 'command_args': {'python_file_content': ''}}]}, {'extension_name': 'Streamlabs Tts', 'description': 'Streamlabs Tts', 'settings': ['USE_STREAMLABS_TTS', 'STREAMLABS_VOICE'], 'commands': [{'friendly_name': 'Speak with TTS with Streamlabs Text to Speech', 'command_name': 'speak_with_streamlabs_tts', 'command_args': {'text': ''}}]}, {'extension_name': 'Whisper Stt', 'description': 'Whisper Stt', 'settings': ['WHISPER_MODEL'], 'commands': [{'friendly_name': 'Read Audio from File', 'command_name': 'read_audio_from_file', 'command_args': {'filename': 'recording.wav'}}]}, {'extension_name': 'Huggingface', 'description': 'Huggingface', 'settings': ['HUGGINGFACE_API_KEY', 'HUGGINGFACE_AUDIO_TO_TEXT_MODEL'], 'commands': [{'friendly_name': 'Read Audio from File with Huggingface', 'command_name': 'read_audio_from_file', 'command_args': {'audio_path': ''}}, {'friendly_name': 'Read Audio with Huggingface', 'command_name': 'read_audio', 'command_args': {'audio': ''}}]}, {'extension_name': 'Discord', 'description': 'Discord', 'settings': ['DISCORD_API_KEY', 'DISCORD_COMMAND_PREFIX'], 'commands': []}, {'extension_name': 'Dalle', 'description': 'Dalle', 'settings': ['OPENAI_API_KEY'], 'commands': []}, {'extension_name': 'Google', 'description': 'Google', 'settings': ['GOOGLE_API_KEY'], 'commands': []}, {'extension_name': 'Github', 'description': 'Github', 'settings': ['GITHUB_USERNAME', 'GITHUB_API_KEY'], 'commands': [{'friendly_name': 'Clone Github Repository', 'command_name': 'clone_repo', 'command_args': {'repo_url': ''}}]}, {'extension_name': 'Stable Diffusion', 'description': 'Stable Diffusion', 'settings': ['STABLE_DIFFUSION_API_URL', 'HUGGINGFACE_API_KEY'], 'commands': [{'friendly_name': 'Generate Image with Stable Diffusion', 'command_name': 'generate_image', 'command_args': {'prompt': '', 'filename': '', 'negative_prompt': 'out of frame,lowres,text,error,cropped,worst quality,low quality,jpeg artifacts,ugly,duplicate,morbid,mutilated,out of frame,extra fingers,mutated hands,poorly drawn hands,poorly drawn face,mutation,deformed,blurry,dehydrated,bad anatomy,bad proportions,extra limbs,cloned face,disfigured,gross proportions,malformed limbs,missing arms,missing legs,extra arms,extra legs,fused fingers,too many fingers,long neck,username,watermark,signature', 'batch_size': 1, 'cfg_scale': 7, 'denoising_strength': 0, 'enable_hr': False, 'eta': 0, 'firstphase_height': 0, 'firstphase_width': 0, 'height': 512, 'n_iter': 1, 'restore_faces': True, 's_churn': 0, 's_noise': 1, 's_tmax': 0, 's_tmin': 0, 'sampler_index': 'DPM++ SDE Karras', 'seed': -1, 'seed_resize_from_h': -1, 'seed_resize_from_w': -1, 'steps': 20, 'styles': [], 'subseed': -1, 'subseed_strength': 0, 'tiling': False, 'width': 768}}]}, {'extension_name': 'Gtts', 'description': 'Gtts', 'settings': ['USE_GTTS'], 'commands': []}, {'extension_name': 'Times', 'description': 'Times', 'settings': [], 'commands': [{'friendly_name': 'Get Datetime', 'command_name': 'get_datetime', 'command_args': {}}]}, {'extension_name': 'Elevenlabs', 'description': 'Elevenlabs', 'settings': ['ELEVENLABS_API_KEY', 'ELEVENLABS_VOICE'], 'commands': [{'friendly_name': 'Speak with TTS Using Elevenlabs', 'command_name': 'speak_with_elevenlabs', 'command_args': {'text': ''}}]}, {'extension_name': 'Sendgrid Email', 'description': 'Sendgrid Email', 'settings': ['SENDGRID_API_KEY', 'SENDGRID_EMAIL'], 'commands': []}, {'extension_name': 'Searxng', 'description': 'Searxng', 'settings': ['SEARXNG_INSTANCE_URL'], 'commands': [{'friendly_name': 'Use The Search Engine', 'command_name': 'search', 'command_args': {'query': ''}}]}, {'extension_name': 'Twitter', 'description': 'Twitter', 'settings': ['TW_CONSUMER_KEY', 'TW_CONSUMER_SECRET', 'TW_ACCESS_TOKEN', 'TW_ACCESS_TOKEN_SECRET'], 'commands': []}]\n"
     ]
    }
   ],
   "source": [
    "from agixtsdk import AGiXTSDK\n",
    "\n",
    "base_uri = \"http://localhost:7437\"\n",
    "ApiClient = AGiXTSDK(base_uri=base_uri)\n",
    "ext = ApiClient.get_extensions()\n",
    "print(ext)\n"
   ]
  },
  {
   "cell_type": "markdown",
   "metadata": {},
   "source": [
    "## Get command arguments\n"
   ]
  },
  {
   "cell_type": "code",
   "execution_count": 6,
   "metadata": {},
   "outputs": [
    {
     "name": "stdout",
     "output_type": "stream",
     "text": [
      "{'filename': '', 'text': ''}\n"
     ]
    }
   ],
   "source": [
    "from agixtsdk import AGiXTSDK\n",
    "\n",
    "base_uri = \"http://localhost:7437\"\n",
    "ApiClient = AGiXTSDK(base_uri=base_uri)\n",
    "command_args = ApiClient.get_command_args(command_name=\"Write to File\")\n",
    "print(command_args)\n"
   ]
  },
  {
   "attachments": {},
   "cell_type": "markdown",
   "metadata": {},
   "source": [
    "## Create a new Agent\n",
    "\n",
    "Creates a new agent with the `gpt4free` provider.\n"
   ]
  },
  {
   "cell_type": "code",
   "execution_count": 7,
   "metadata": {},
   "outputs": [
    {
     "name": "stdout",
     "output_type": "stream",
     "text": [
      "{'message': 'Agent test_agent created.'}\n"
     ]
    }
   ],
   "source": [
    "from agixtsdk import AGiXTSDK\n",
    "\n",
    "base_uri = \"http://localhost:7437\"\n",
    "ApiClient = AGiXTSDK(base_uri=base_uri)\n",
    "agent_name = \"test_agent\"\n",
    "# Gets a list of the provider setting defaults\n",
    "# We'll use defaults for the provider instead of defining anything for the tests.\n",
    "add_agent_resp = ApiClient.add_agent(\n",
    "    agent_name=agent_name,\n",
    "    settings={\n",
    "        \"provider\": \"gpt4free\",\n",
    "        \"embedder\": \"default\",\n",
    "        \"AI_MODEL\": \"gpt-3.5-turbo\",\n",
    "        \"AI_TEMPERATURE\": \"0.7\",\n",
    "        \"AI_TOP_P\": \"1\",\n",
    "        \"MAX_TOKENS\": \"4096\",\n",
    "        \"helper_agent_name\": \"OpenAI\",\n",
    "        \"WEBSEARCH_TIMEOUT\": 0,\n",
    "        \"WAIT_BETWEEN_REQUESTS\": 1,\n",
    "        \"WAIT_AFTER_FAILURE\": 3,\n",
    "        \"stream\": False,\n",
    "        \"WORKING_DIRECTORY\": \"./WORKSPACE\",\n",
    "        \"WORKING_DIRECTORY_RESTRICTED\": True,\n",
    "        \"AUTONOMOUS_EXECUTION\": False,\n",
    "    },\n",
    ")\n",
    "print(add_agent_resp)"
   ]
  },
  {
   "cell_type": "markdown",
   "metadata": {},
   "source": [
    "## Execute a Command\n"
   ]
  },
  {
   "cell_type": "code",
   "execution_count": 8,
   "metadata": {},
   "outputs": [
    {
     "name": "stdout",
     "output_type": "stream",
     "text": [
      "File written to successfully.\n"
     ]
    }
   ],
   "source": [
    "from agixtsdk import AGiXTSDK\n",
    "\n",
    "base_uri = \"http://localhost:7437\"\n",
    "ApiClient = AGiXTSDK(base_uri=base_uri)\n",
    "agent_name = \"test_agent\"\n",
    "command_execution = ApiClient.execute_command(\n",
    "    agent_name=agent_name,\n",
    "    command_name=\"Write to File\",\n",
    "    command_args={\"filename\": \"test files.txt\", \"text\": \"This is just a test!\"},\n",
    "    conversation_name=\"Command execution for testing\",\n",
    ")\n",
    "print(command_execution)"
   ]
  },
  {
   "attachments": {},
   "cell_type": "markdown",
   "metadata": {},
   "source": [
    "## Get a list of all current Agents\n",
    "\n",
    "Any agents that you have created will be listed here. The `status` field is to say if the agent is currently running a task or not.\n"
   ]
  },
  {
   "cell_type": "code",
   "execution_count": 9,
   "metadata": {},
   "outputs": [
    {
     "name": "stdout",
     "output_type": "stream",
     "text": [
      "[{'name': 'tester', 'status': False}, {'name': 'FreeAgent', 'status': False}, {'name': 'gpt4free', 'status': False}, {'name': 'OpenOrca', 'status': False}, {'name': 'OpenOrca-13B', 'status': False}, {'name': 'easychat', 'status': False}, {'name': 'Vicuna', 'status': False}, {'name': 'OpenAI', 'status': False}, {'name': 'new_agent', 'status': False}, {'name': 'New Test Agent_2', 'status': False}, {'name': 'test_agent', 'status': False}, {'name': 'Starchat', 'status': False}, {'name': 'FreeGPT', 'status': False}, {'name': '[object Object]', 'status': False}]\n"
     ]
    }
   ],
   "source": [
    "from agixtsdk import AGiXTSDK\n",
    "\n",
    "base_uri = \"http://localhost:7437\"\n",
    "ApiClient = AGiXTSDK(base_uri=base_uri)\n",
    "agents = ApiClient.get_agents()\n",
    "print(agents)\n"
   ]
  },
  {
   "attachments": {},
   "cell_type": "markdown",
   "metadata": {},
   "source": [
    "## Rename the test agent\n",
    "\n",
    "We will just rename it to `new_agent`.\n"
   ]
  },
  {
   "cell_type": "code",
   "execution_count": 10,
   "metadata": {},
   "outputs": [
    {
     "name": "stdout",
     "output_type": "stream",
     "text": [
      "{'message': 'Agent renamed.'}\n"
     ]
    }
   ],
   "source": [
    "from agixtsdk import AGiXTSDK\n",
    "\n",
    "base_uri = \"http://localhost:7437\"\n",
    "ApiClient = AGiXTSDK(base_uri=base_uri)\n",
    "agent_name = \"test_agent\"\n",
    "new_agent_name = \"new_agent\"\n",
    "rename_agent_resp = ApiClient.rename_agent(\n",
    "    agent_name=agent_name, new_name=new_agent_name\n",
    ")\n",
    "print(rename_agent_resp)\n"
   ]
  },
  {
   "attachments": {},
   "cell_type": "markdown",
   "metadata": {},
   "source": [
    "## Get the agent's settings\n",
    "\n",
    "This will get the settings for the agent we just created, this will tell you all commands available to the agent as well as all of the provider settings for the agent.\n"
   ]
  },
  {
   "cell_type": "code",
   "execution_count": 11,
   "metadata": {},
   "outputs": [
    {
     "name": "stdout",
     "output_type": "stream",
     "text": [
      "{'commands': {'Scrape Text with Playwright': False, 'Scrape Links with Playwright': False, 'Take Screenshot with Playwright': False, 'Create Task Chain': False, 'Generate Extension from OpenAPI': False, 'Generate Agent Helper Chain': False, 'Ask for Help or Further Clarification to Complete Task': False, 'Create a new command': False, 'Execute Python Code': False, 'Get Python Code from Response': False, 'Get Mindmap for task to break it down': False, 'Speak with MacOS TTS': False, 'Write to File': False, 'Read File': False, 'Search Files': False, 'Append to File': False, 'Execute Python File': False, 'Delete File': False, 'Execute Shell': False, 'Indent String for Python Code': False, 'Generate Commands Dictionary': False, 'Speak with TTS with Streamlabs Text to Speech': False, 'Read Audio from File': False, 'Read Audio from File with Huggingface': False, 'Read Audio with Huggingface': False, 'Clone Github Repository': False, 'Generate Image with Stable Diffusion': False, 'Get Datetime': False, 'Speak with TTS Using Elevenlabs': False, 'Use The Search Engine': False}, 'settings': {'provider': 'gpt4free', 'embedder': 'default', 'AI_MODEL': 'gpt-3.5-turbo', 'AI_TEMPERATURE': '0.7', 'AI_TOP_P': '1', 'MAX_TOKENS': '4096', 'helper_agent_name': 'gpt4free', 'WEBSEARCH_TIMEOUT': 0, 'WAIT_BETWEEN_REQUESTS': 1, 'WAIT_AFTER_FAILURE': 3, 'stream': False, 'WORKING_DIRECTORY': './WORKSPACE', 'WORKING_DIRECTORY_RESTRICTED': True, 'AUTONOMOUS_EXECUTION': False}}\n"
     ]
    }
   ],
   "source": [
    "from agixtsdk import AGiXTSDK\n",
    "\n",
    "base_uri = \"http://localhost:7437\"\n",
    "ApiClient = AGiXTSDK(base_uri=base_uri)\n",
    "agent_name = \"new_agent\"\n",
    "agent_config = ApiClient.get_agentconfig(agent_name=agent_name)\n",
    "print(agent_config)\n"
   ]
  },
  {
   "attachments": {},
   "cell_type": "markdown",
   "metadata": {},
   "source": [
    "## Update the agent's settings\n",
    "\n",
    "We'll just update the temperature from the default `0.7` to `0.8` to confirm that we can modify a setting.\n"
   ]
  },
  {
   "cell_type": "code",
   "execution_count": 12,
   "metadata": {},
   "outputs": [
    {
     "name": "stdout",
     "output_type": "stream",
     "text": [
      "Update agent settings response: Agent new_agent configuration updated.\n",
      "{'commands': {'Scrape Text with Playwright': False, 'Scrape Links with Playwright': False, 'Take Screenshot with Playwright': False, 'Create Task Chain': False, 'Generate Extension from OpenAPI': False, 'Generate Agent Helper Chain': False, 'Ask for Help or Further Clarification to Complete Task': False, 'Create a new command': False, 'Execute Python Code': False, 'Get Python Code from Response': False, 'Get Mindmap for task to break it down': False, 'Speak with MacOS TTS': False, 'Write to File': False, 'Read File': False, 'Search Files': False, 'Append to File': False, 'Execute Python File': False, 'Delete File': False, 'Execute Shell': False, 'Indent String for Python Code': False, 'Generate Commands Dictionary': False, 'Speak with TTS with Streamlabs Text to Speech': False, 'Read Audio from File': False, 'Read Audio from File with Huggingface': False, 'Read Audio with Huggingface': False, 'Clone Github Repository': False, 'Generate Image with Stable Diffusion': False, 'Get Datetime': False, 'Speak with TTS Using Elevenlabs': False, 'Use The Search Engine': False}, 'settings': {'provider': 'gpt4free', 'embedder': 'default', 'AI_MODEL': 'gpt-3.5-turbo', 'AI_TEMPERATURE': 0.8, 'AI_TOP_P': '1', 'MAX_TOKENS': '4096', 'helper_agent_name': 'gpt4free', 'WEBSEARCH_TIMEOUT': 0, 'WAIT_BETWEEN_REQUESTS': 1, 'WAIT_AFTER_FAILURE': 3, 'stream': False, 'WORKING_DIRECTORY': './WORKSPACE', 'WORKING_DIRECTORY_RESTRICTED': True, 'AUTONOMOUS_EXECUTION': False}}\n"
     ]
    }
   ],
   "source": [
    "from agixtsdk import AGiXTSDK\n",
    "\n",
    "base_uri = \"http://localhost:7437\"\n",
    "ApiClient = AGiXTSDK(base_uri=base_uri)\n",
    "agent_name = \"new_agent\"\n",
    "agent_config = ApiClient.get_agentconfig(agent_name=agent_name)\n",
    "agent_settings = agent_config[\"settings\"]\n",
    "# We'll just change the AI_TEMPERATURE setting for the test\n",
    "agent_settings[\"AI_TEMPERATURE\"] = 0.8\n",
    "update_agent_settings_resp = ApiClient.update_agent_settings(\n",
    "    agent_name=agent_name, settings=agent_settings\n",
    ")\n",
    "print(\"Update agent settings response:\", update_agent_settings_resp)\n",
    "agent_config = ApiClient.get_agentconfig(agent_name=agent_name)\n",
    "print(agent_config)\n"
   ]
  },
  {
   "attachments": {},
   "cell_type": "markdown",
   "metadata": {},
   "source": [
    "## Get a list of the agent's commands\n",
    "\n",
    "This will get a list of all commands available to the agent.\n"
   ]
  },
  {
   "cell_type": "code",
   "execution_count": 13,
   "metadata": {},
   "outputs": [
    {
     "name": "stdout",
     "output_type": "stream",
     "text": [
      "{'Scrape Text with Playwright': False, 'Scrape Links with Playwright': False, 'Take Screenshot with Playwright': False, 'Create Task Chain': False, 'Generate Extension from OpenAPI': False, 'Generate Agent Helper Chain': False, 'Ask for Help or Further Clarification to Complete Task': False, 'Create a new command': False, 'Execute Python Code': False, 'Get Python Code from Response': False, 'Get Mindmap for task to break it down': False, 'Speak with MacOS TTS': False, 'Write to File': False, 'Read File': False, 'Search Files': False, 'Append to File': False, 'Execute Python File': False, 'Delete File': False, 'Execute Shell': False, 'Indent String for Python Code': False, 'Generate Commands Dictionary': False, 'Speak with TTS with Streamlabs Text to Speech': False, 'Read Audio from File': False, 'Read Audio from File with Huggingface': False, 'Read Audio with Huggingface': False, 'Clone Github Repository': False, 'Generate Image with Stable Diffusion': False, 'Get Datetime': False, 'Speak with TTS Using Elevenlabs': False, 'Use The Search Engine': False}\n"
     ]
    }
   ],
   "source": [
    "from agixtsdk import AGiXTSDK\n",
    "\n",
    "base_uri = \"http://localhost:7437\"\n",
    "ApiClient = AGiXTSDK(base_uri=base_uri)\n",
    "agent_name = \"new_agent\"\n",
    "commands = ApiClient.get_commands(agent_name=agent_name)\n",
    "print(commands)\n"
   ]
  },
  {
   "attachments": {},
   "cell_type": "markdown",
   "metadata": {},
   "source": [
    "## Toggle a Command for the Agent\n",
    "\n",
    "We'll toggle the `Write to File` command to `true` to confirm that we can toggle a command.\n"
   ]
  },
  {
   "cell_type": "code",
   "execution_count": 14,
   "metadata": {},
   "outputs": [
    {
     "name": "stdout",
     "output_type": "stream",
     "text": [
      "Command 'Write to File' toggled for agent 'test_agent'.\n"
     ]
    }
   ],
   "source": [
    "from agixtsdk import AGiXTSDK\n",
    "\n",
    "base_uri = \"http://localhost:7437\"\n",
    "ApiClient = AGiXTSDK(base_uri=base_uri)\n",
    "agent_name = \"test_agent\"\n",
    "# We'll enable the \"Write to File\" command for the test\n",
    "toggle_command_resp = ApiClient.toggle_command(\n",
    "    agent_name=agent_name, command_name=\"Write to File\", enable=True\n",
    ")\n",
    "print(toggle_command_resp)\n"
   ]
  },
  {
   "attachments": {},
   "cell_type": "markdown",
   "metadata": {},
   "source": [
    "## Update Agent Commands\n",
    "\n",
    "In this example, we'll only change the `Write to File` command to `False`, but we could change any (or all) of the commands with this API call.\n"
   ]
  },
  {
   "cell_type": "code",
   "execution_count": 15,
   "metadata": {},
   "outputs": [
    {
     "name": "stdout",
     "output_type": "stream",
     "text": [
      "Update agent commands response: Agent new_agent configuration updated.\n",
      "New config for new_agent: {'commands': {'Scrape Text with Playwright': False, 'Scrape Links with Playwright': False, 'Take Screenshot with Playwright': False, 'Create Task Chain': False, 'Generate Extension from OpenAPI': False, 'Generate Agent Helper Chain': False, 'Ask for Help or Further Clarification to Complete Task': False, 'Create a new command': False, 'Execute Python Code': False, 'Get Python Code from Response': False, 'Get Mindmap for task to break it down': False, 'Speak with MacOS TTS': False, 'Write to File': False, 'Read File': False, 'Search Files': False, 'Append to File': False, 'Execute Python File': False, 'Delete File': False, 'Execute Shell': False, 'Indent String for Python Code': False, 'Generate Commands Dictionary': False, 'Speak with TTS with Streamlabs Text to Speech': False, 'Read Audio from File': False, 'Read Audio from File with Huggingface': False, 'Read Audio with Huggingface': False, 'Clone Github Repository': False, 'Generate Image with Stable Diffusion': False, 'Get Datetime': False, 'Speak with TTS Using Elevenlabs': False, 'Use The Search Engine': False}, 'settings': {'provider': 'gpt4free', 'embedder': 'default', 'AI_MODEL': 'gpt-3.5-turbo', 'AI_TEMPERATURE': 0.8, 'AI_TOP_P': '1', 'MAX_TOKENS': '4096', 'helper_agent_name': 'gpt4free', 'WEBSEARCH_TIMEOUT': 0, 'WAIT_BETWEEN_REQUESTS': 1, 'WAIT_AFTER_FAILURE': 3, 'stream': False, 'WORKING_DIRECTORY': './WORKSPACE', 'WORKING_DIRECTORY_RESTRICTED': True, 'AUTONOMOUS_EXECUTION': False}}\n"
     ]
    }
   ],
   "source": [
    "from agixtsdk import AGiXTSDK\n",
    "\n",
    "base_uri = \"http://localhost:7437\"\n",
    "ApiClient = AGiXTSDK(base_uri=base_uri)\n",
    "agent_name = \"new_agent\"\n",
    "agent_config = ApiClient.get_agentconfig(agent_name=agent_name)\n",
    "if agent_config[\"commands\"] != None:\n",
    "    agent_commands = agent_config[\"commands\"]\n",
    "else:\n",
    "    agent_commands = {}\n",
    "agent_commands[\"Write to File\"] = False\n",
    "update_agent_commands_resp = ApiClient.update_agent_commands(\n",
    "    agent_name=agent_name, commands=agent_commands\n",
    ")\n",
    "print(\"Update agent commands response:\", update_agent_commands_resp)\n",
    "agent_config = ApiClient.get_agentconfig(agent_name=agent_name)\n",
    "print(f\"New config for {agent_name}:\", agent_config)\n"
   ]
  },
  {
   "attachments": {},
   "cell_type": "markdown",
   "metadata": {},
   "source": [
    "## Create a new conversation\n"
   ]
  },
  {
   "cell_type": "code",
   "execution_count": 16,
   "metadata": {},
   "outputs": [
    {
     "name": "stdout",
     "output_type": "stream",
     "text": [
      "[]\n"
     ]
    }
   ],
   "source": [
    "from agixtsdk import AGiXTSDK\n",
    "\n",
    "base_uri = \"http://localhost:7437\"\n",
    "ApiClient = AGiXTSDK(base_uri=base_uri)\n",
    "conversation = ApiClient.new_conversation(\n",
    "    agent_name=\"new_agent\", conversation_name=\"Talk for Tests\"\n",
    ")\n",
    "print(conversation)\n"
   ]
  },
  {
   "attachments": {},
   "cell_type": "markdown",
   "metadata": {},
   "source": [
    "## Get Conversations\n"
   ]
  },
  {
   "cell_type": "code",
   "execution_count": 17,
   "metadata": {},
   "outputs": [
    {
     "name": "stdout",
     "output_type": "stream",
     "text": [
      "['Command execution for testing', 'Talk about chains', 'AGiXT Conversation', 'Talk for Tests', 'OpenAI History', 'gpt4free conversation', 'New Test Conversation', 'Stable diffusion chain', 'Test', 'AGiXT Chains', 'Talk about AGiXT with OpenOrca']\n"
     ]
    }
   ],
   "source": [
    "from agixtsdk import AGiXTSDK\n",
    "\n",
    "base_uri = \"http://localhost:7437\"\n",
    "ApiClient = AGiXTSDK(base_uri=base_uri)\n",
    "conversations = ApiClient.get_conversations(agent_name=\"new_agent\")\n",
    "print(conversations)\n"
   ]
  },
  {
   "attachments": {},
   "cell_type": "markdown",
   "metadata": {},
   "source": [
    "## Get Conversation Details\n"
   ]
  },
  {
   "cell_type": "code",
   "execution_count": 18,
   "metadata": {},
   "outputs": [
    {
     "name": "stdout",
     "output_type": "stream",
     "text": [
      "[{'message': 'What are the most interesting things you can tell me about AGiXT?', 'role': 'USER', 'timestamp': 'August 14, 2023 10:56 PM'}, {'message': 'AGiXT is an artificial intelligence automation platform that combines adaptive memory handling, smart features, and a versatile plugin system to optimize AI performance and enhance task completion. It offers several key features, including:\\n\\n1. Context and Token Management: AGiXT optimizes AI performance by efficiently managing long-term and short-term memory.\\n\\n2. Smart Instruct: This advanced feature enables AI to comprehend, plan, and execute tasks effectively, integrating web search, planning strategies, and instruction execution.\\n\\n3. Interactive Chat & Smart Chat: AGiXT provides a user-friendly chat interface for dynamic conversational tasks. The Smart Chat feature integrates AI with web research to deliver accurate and relevant responses.\\n\\n4. Task Execution & Smart Task Management: AGiXT efficiently manages and executes complex tasks by breaking them down into sub-tasks and using AI-driven agents for optimization and avoiding redundancy.\\n\\n5. Chain Management: AGiXT handles chains or series of linked commands, enabling the automation of complex workflows and processes.\\n\\n6. Web Browsing & Command Execution: AGiXT offers advanced capabilities to browse the web and execute commands, providing a more interactive AI experience.\\n\\n7. Multi-Provider Compatibility: AGiXT seamlessly integrates with leading AI providers such as OpenAI GPT series, Hugging Face Huggingchat, GPT4All, GPT4Free, Oobabooga Text Generation Web UI, Kobold, Llamacpp, FastChat, Google Bard, Bing, and more.\\n\\n8. Versatile Plugin System & Code Evaluation: AGiXT supports various AI models and robust code evaluation, making it useful for programming tasks.\\n\\n9. Docker Deployment: AGiXT simplifies setup and maintenance through Docker deployment.\\n\\n10. Audio-to-Text & Text-to-Speech Options: AGiXT integrates with Hugging Face for audio-to-text transcription and offers multiple text-to-speech choices.\\n\\n11. Platform Interoperability & AI Agent Management: AGiXT allows easy interaction with popular platforms like Twitter, GitHub, Google, DALL-E, and more. It also provides granular control over agent abilities and supports custom prompts.\\n\\n12. RESTful API: AGiXT offers a FastAPI-powered RESTful API for seamless integration with external applications and services.\\n\\n13. Expanding AI Support: AGiXT continually updates to include new AI providers and services, ensuring it stays at the forefront of AI technology.\\n\\nFor more details and documentation, you can visit the AGiXT GitHub repository and explore the different AGiXT components and capabilities.', 'role': 'OpenAI', 'timestamp': 'August 14, 2023 10:56 PM'}]\n"
     ]
    }
   ],
   "source": [
    "from agixtsdk import AGiXTSDK\n",
    "\n",
    "base_uri = \"http://localhost:7437\"\n",
    "ApiClient = AGiXTSDK(base_uri=base_uri)\n",
    "agent_name = \"new_agent\"\n",
    "conversation_name = \"AGiXT Conversation\"\n",
    "conversation = ApiClient.get_conversation(\n",
    "    agent_name=agent_name, conversation_name=conversation_name, limit=100, page=1\n",
    ")\n",
    "print(conversation)\n"
   ]
  },
  {
   "cell_type": "markdown",
   "metadata": {},
   "source": [
    "## Delete Message from Conversation\n"
   ]
  },
  {
   "cell_type": "code",
   "execution_count": 19,
   "metadata": {},
   "outputs": [
    {
     "name": "stdout",
     "output_type": "stream",
     "text": [
      "What are the most interesting things you can tell me about AGiXT?\n",
      "Message deleted.\n"
     ]
    }
   ],
   "source": [
    "from agixtsdk import AGiXTSDK\n",
    "\n",
    "base_uri = \"http://localhost:7437\"\n",
    "ApiClient = AGiXTSDK(base_uri=base_uri)\n",
    "agent_name = \"new_agent\"\n",
    "conversation_name = \"AGiXT Conversation\"\n",
    "conversation = ApiClient.get_conversation(\n",
    "    agent_name=agent_name, conversation_name=conversation_name, limit=100, page=1\n",
    ")\n",
    "delete_msg = conversation[0][\"message\"]\n",
    "print(delete_msg)\n",
    "delete_msg_resp = ApiClient.delete_conversation_message(\n",
    "    agent_name=agent_name, conversation_name=conversation_name, message=delete_msg\n",
    ")\n",
    "print(delete_msg_resp)"
   ]
  },
  {
   "cell_type": "markdown",
   "metadata": {},
   "source": [
    "## Delete a Conversation\n"
   ]
  },
  {
   "cell_type": "code",
   "execution_count": 20,
   "metadata": {},
   "outputs": [
    {
     "name": "stdout",
     "output_type": "stream",
     "text": [
      "Conversation `AGiXT Conversation` for agent new_agent deleted.\n"
     ]
    }
   ],
   "source": [
    "from agixtsdk import AGiXTSDK\n",
    "\n",
    "base_uri = \"http://localhost:7437\"\n",
    "ApiClient = AGiXTSDK(base_uri=base_uri)\n",
    "agent_name = \"new_agent\"\n",
    "conversation_name = \"AGiXT Conversation\"\n",
    "conversation = ApiClient.delete_conversation(\n",
    "    agent_name=agent_name, conversation_name=conversation_name\n",
    ")\n",
    "print(conversation)\n"
   ]
  },
  {
   "cell_type": "markdown",
   "metadata": {},
   "source": [
    "## Have the Agent Learn from specified Text\n"
   ]
  },
  {
   "cell_type": "code",
   "execution_count": 21,
   "metadata": {},
   "outputs": [
    {
     "name": "stdout",
     "output_type": "stream",
     "text": [
      "Agent learned the content from the text assocated with the user input.\n"
     ]
    }
   ],
   "source": [
    "from agixtsdk import AGiXTSDK\n",
    "\n",
    "base_uri = \"http://localhost:7437\"\n",
    "ApiClient = AGiXTSDK(base_uri=base_uri)\n",
    "agent_name = \"new_agent\"\n",
    "text_learning = ApiClient.learn_text(\n",
    "    agent_name=agent_name,\n",
    "    user_input=\"What is AGiXT?\",\n",
    "    text=\"AGiXT is an open-source artificial intelligence automation platform.\",\n",
    "    collection_number=0,\n",
    ")\n",
    "print(text_learning)\n"
   ]
  },
  {
   "attachments": {},
   "cell_type": "markdown",
   "metadata": {},
   "source": [
    "## Have the Agent Learn from a File\n"
   ]
  },
  {
   "cell_type": "code",
   "execution_count": 22,
   "metadata": {},
   "outputs": [
    {
     "name": "stdout",
     "output_type": "stream",
     "text": [
      "Agent learned the content from the file.\n"
     ]
    }
   ],
   "source": [
    "import base64\n",
    "from agixtsdk import AGiXTSDK\n",
    "\n",
    "base_uri = \"http://localhost:7437\"\n",
    "ApiClient = AGiXTSDK(base_uri=base_uri)\n",
    "agent_name = \"new_agent\"\n",
    "learn_file_path = \"test.txt\"\n",
    "\n",
    "with open(learn_file_path, \"rb\") as f:\n",
    "    learn_file_content = base64.b64encode(f.read()).decode(\"utf-8\")\n",
    "\n",
    "file_learning = ApiClient.learn_file(\n",
    "    agent_name=agent_name,\n",
    "    file_name=learn_file_path,\n",
    "    file_content=learn_file_content,\n",
    "    collection_number=0,\n",
    ")\n",
    "print(file_learning)"
   ]
  },
  {
   "attachments": {},
   "cell_type": "markdown",
   "metadata": {},
   "source": [
    "## Have the Agent Learn from a URL\n"
   ]
  },
  {
   "cell_type": "code",
   "execution_count": 23,
   "metadata": {},
   "outputs": [
    {
     "name": "stdout",
     "output_type": "stream",
     "text": [
      "Agent learned the content from the url.\n"
     ]
    }
   ],
   "source": [
    "from agixtsdk import AGiXTSDK\n",
    "\n",
    "base_uri = \"http://localhost:7437\"\n",
    "ApiClient = AGiXTSDK(base_uri=base_uri)\n",
    "agent_name = \"new_agent\"\n",
    "url_learning = ApiClient.learn_url(\n",
    "    agent_name=agent_name,\n",
    "    url=\"https://josh-xt.github.io/AGiXT\",\n",
    "    collection_number=0,\n",
    ")\n",
    "print(url_learning)"
   ]
  },
  {
   "cell_type": "markdown",
   "metadata": {},
   "source": [
    "## Get the Agents Memories\n",
    "\n",
    "Get some relevant memories from the agent about AGiXT.\n"
   ]
  },
  {
   "cell_type": "code",
   "execution_count": 24,
   "metadata": {},
   "outputs": [
    {
     "name": "stdout",
     "output_type": "stream",
     "text": [
      "[{'is_reference': False, 'external_source_name': 'https://josh-xt.github.io/AGiXT', 'id': '20e511f4923dfddc65385f034f0e5f8a0eb0e317c771d9a6ebfc5130a8beb41d', 'description': 'https://josh-xt.github.io/AGiXT', 'text': \"Configuration Each AGiXT Agent has its own settings for interfacing with AI providers , and other configuration options . These settings can be set and modified through the web interface . Documentation Need more information ? Check out the documentation for more details to get a better understanding of the concepts and features of AGiXT . Other Repositorities Check out the other AGiXT repositories at https://github.com/orgs/AGiXT/repositories - these include the AGiXT Hubs , AGiXT Streamlit Web UI , AGiXT Python SDK , AGiXT TypeScript SDK , and more ! Contributing We welcome contributions to AGiXT ! If you 're interested in contributing , please check out our contributions guide the open issues on the backend , open issues on the frontend and pull requests , submit a pull request , or suggest new features . To stay updated on the project 's progress , and . Also feel free to join our . Donations and Sponsorships We appreciate any support for AGiXT 's development , including donations , sponsorships , and any other kind of assistance . If you would like to support us , please use one of the various methods listed at the top of the repository or contact us through our or . We 're always looking for ways to improve AGiXT and make it more useful for our users . Your support will help us continue to develop and enhance the application . Thank you for considering to support us ! Our Team 🧑 \\u200d\", 'embedding': [-0.1065082997083664, -0.07967255264520645, -0.006609287578612566, 0.005320752039551735, 0.018553655594587326, -0.04156454652547836, 0.03372682258486748, 0.09393313527107239, -0.016857245936989784, -0.02138563059270382, -0.06230928748846054, -0.015006189234554768, -0.014310253784060478, -0.01611313782632351, 0.031290628015995026, 0.004163606092333794, 0.05311121046543121, -0.027717115357518196, -0.09356624633073807, -0.07980155199766159, 0.021165605634450912, -0.09433005750179291, 0.025562647730112076, -0.08133336901664734, 0.021882306784391403, -0.01674114353954792, 0.001516044489108026, -0.024493644014000893, -0.010575829073786736, -0.05418289452791214, 0.019713781774044037, -0.005324712488800287, 0.04604846611618996, 0.015030155889689922, -0.0348200723528862, 0.031161077320575714, -0.026616277173161507, 0.012476423755288124, -0.04772091284394264, -0.03163255751132965, 0.09101399034261703, 0.004503529518842697, -0.0024316785857081413, -0.045462362468242645, -0.06281833350658417, -0.0023253674153238535, -0.055759329348802567, -0.04265962541103363, -0.033934857696294785, 0.0812506228685379, -0.03550506383180618, -0.10558392852544785, 0.0374874509871006, -0.017722155898809433, -0.04438184201717377, 0.0029609010089188814, 0.00382018624804914, -0.04217350855469704, -0.0038169703911989927, -0.0724707543849945, 0.07353494316339493, -0.018801698461174965, -0.07433000206947327, 0.025332199409604073, -0.06061125174164772, 0.04398250952363014, -0.00735322292894125, 0.041520461440086365, -0.03122560866177082, -0.09493737667798996, 0.0005626925267279148, -0.006556977517902851, -0.01537160761654377, -0.006940843537449837, 0.049732960760593414, 0.04316442459821701, -0.02827824279665947, -0.00917542539536953, 0.10826073586940765, -0.03786610811948776, 0.048435501754283905, 0.07976523786783218, 0.08210672438144684, 0.0890401303768158, -0.0366533137857914, 0.022162359207868576, 0.08865432441234589, 0.08935865759849548, 0.0386417955160141, -0.0062607149593532085, -0.032315269112586975, 0.0038361335173249245, 0.05790526792407036, -0.049395062029361725, 0.04079512506723404, 0.11176986992359161, -0.0369633287191391, -0.10649536550045013, -0.06986469030380249, 0.06953584402799606, -0.011012693867087364, -0.014158940874040127, 0.04622948169708252, 0.03317127004265785, -0.040585681796073914, -0.05792774632573128, 0.0036317810881882906, 0.016788171604275703, -0.010733431205153465, 0.030286410823464394, -0.0064192949794232845, -0.0008432589238509536, 0.0014672658871859312, -0.09131420403718948, 0.003758577397093177, 0.07690319418907166, -0.03461800515651703, 0.03054472617805004, 0.0780545100569725, -0.07224109023809433, 0.018858738243579865, -0.013600777834653854, 0.012614087201654911, 0.01029032003134489, 0.2199256867170334, 0.06687217205762863, -0.052507393062114716, 6.842818571733409e-33, -0.03352368623018265, 0.03127728030085564, -0.009426294825971127, 0.006713211070746183, 0.017148762941360474, -0.020224938169121742, 0.031764063984155655, 0.019691504538059235, -0.05272296443581581, -0.027847008779644966, -0.022005878388881683, 0.06565050035715103, -0.026556434109807014, 0.011256956495344639, -0.039646562188863754, -0.0656343400478363, 0.038048289716243744, 0.041782017797231674, 0.01892775669693947, 0.008792510256171227, 0.07939908653497696, -0.044233035296201706, 0.04511607810854912, 0.09285972267389297, 0.0804780125617981, -0.039089806377887726, -0.04365139454603195, 0.03307918831706047, 0.053230877965688705, -0.01622859761118889, 0.03156815469264984, 0.03575555607676506, -0.01669224165380001, 0.024582915008068085, -0.046701107174158096, 0.005709277465939522, -0.13586951792240143, -0.06535670161247253, -0.006207214668393135, 0.08437683433294296, -0.031299661844968796, 0.05008579045534134, 0.004707436077296734, -0.01638292707502842, 0.00711078429594636, -0.022332390770316124, 0.014448332600295544, -0.03075443021953106, 0.09377440065145493, 0.035042885690927505, -0.042990438640117645, 0.03773915395140648, 0.03595422953367233, 0.03586392104625702, 0.07925432920455933, 0.06358347833156586, -0.01164075918495655, 0.02968069724738598, -0.022649148479104042, -0.07095754891633987, 0.037845443934202194, -0.07141343504190445, 0.002711938228458166, -0.02996927499771118, -0.007958652451634407, 0.05216459557414055, -0.0010469459230080247, 0.03924869745969772, 0.04107026383280754, 0.03236858546733856, -0.007197119761258364, 0.03882381692528725, -0.02288839966058731, 0.025836706161499023, -0.03810596466064453, 0.019327757880091667, -0.005918742157518864, -0.04238627105951309, -0.013081184588372707, -0.03905152529478073, -0.09458049386739731, -0.002646631794050336, -0.02354281209409237, 0.08490399271249771, -0.008878838270902634, -0.08162203431129456, -0.05078136548399925, 0.04758260026574135, 0.009843865409493446, -0.03275461867451668, -0.009375796653330326, 0.04805906489491463, -0.03424907848238945, 0.054219432175159454, -0.05285380408167839, -5.900457811457798e-33, -0.02925552986562252, -0.011490954086184502, -0.021747373044490814, 0.012325461022555828, 0.0213936734944582, -0.016637837514281273, -0.004131250083446503, 0.0798371359705925, 0.09495116770267487, 0.05512145906686783, 0.03471609950065613, 0.056744832545518875, -0.00218979618512094, -0.07264271378517151, -0.10650634765625, -0.04336890950798988, -0.006449311506003141, -0.021147537976503372, 0.06960976868867874, -0.04486147314310074, -0.0877789780497551, 0.10183488577604294, -0.004506941884756088, -0.06817977875471115, 0.0886603370308876, 0.008523236960172653, 0.011091246269643307, 0.06627751141786575, -0.02797502651810646, -0.03833760321140289, 0.06706519424915314, 0.05607596039772034, -0.03821680322289467, -0.03924362361431122, 0.010640475898981094, 0.046873271465301514, 0.09235814958810806, 0.03961167857050896, -0.11079397052526474, 0.019402440637350082, 0.05188043415546417, -0.03834279254078865, -0.015738558024168015, 0.012220125645399094, 0.026862606406211853, 0.011918758042156696, -0.06122887134552002, 0.03969617187976837, 0.0014120024861767888, -0.04263488948345184, -0.07326042652130127, -0.10330594331026077, 0.06341785937547684, -0.027776610106229782, -0.0013304686872288585, 0.041743628680706024, 0.16175808012485504, 0.04219076409935951, -0.09131929278373718, -0.006136581767350435, -0.03531543165445328, -0.06141090393066406, 0.06129038706421852, 0.05482945591211319, -0.0007084725075401366, -0.01373986341059208, -0.03599582985043526, 0.03662122040987015, -0.07429202646017075, 0.028476657345891, -0.042435649782419205, -0.04080267250537872, -0.04209757596254349, -0.02476610243320465, -0.0003783490974456072, 0.03595936298370361, 0.07450801134109497, -0.041566863656044006, 0.02734110690653324, -0.06502063572406769, -0.027169527485966682, 0.0345163457095623, -0.009051315486431122, 0.01618777960538864, -0.03206288069486618, 0.06671472638845444, 0.03180317208170891, 0.011010435409843922, 0.0331631600856781, 0.05120468512177467, -0.15150392055511475, 0.022424772381782532, 0.03691128268837929, 0.07037737965583801, -0.03543541207909584, -5.4004352989522886e-08, 0.020265595987439156, 0.0510946549475193, -0.08771224319934845, 0.00010852839477593079, -0.03009316883981228, -0.03815020993351936, -0.04254288598895073, -0.009528557769954205, 0.024059036746621132, 0.012871982529759407, -0.07806158065795898, 0.02203521504998207, -0.027273470535874367, 0.012101654894649982, 0.08570274710655212, -0.04278486594557762, -0.00028176340856589377, -0.0024175005964934826, -0.07100462913513184, -0.14451158046722412, 0.003574295435100794, -0.03060624748468399, 0.019585901871323586, -0.0034918468445539474, 0.003421173198148608, -0.0208863765001297, 0.02424016408622265, -0.0030991225503385067, -0.05221167206764221, 0.047822970896959305, -0.027278920635581017, 0.023271486163139343, 0.08037184178829193, -0.04491603374481201, 0.012996491976082325, 0.01255321316421032, -0.06283971667289734, -0.0408448725938797, 0.06957627087831497, -0.009656797163188457, 0.06318151950836182, 0.020574159920215607, -0.024762537330389023, -0.04939136654138565, 0.012959589250385761, 0.05989958345890045, -0.0003074626438319683, -0.05854594707489014, 0.07659419625997543, -0.029949698597192764, -0.07277394831180573, 0.003698391607031226, -0.03794151917099953, 0.068365678191185, 0.10219594836235046, -0.006452496163547039, 0.0016565087717026472, -0.06263041496276855, 0.1641155332326889, 0.05532023310661316, -0.029574640095233917, -0.04145091772079468, 0.004654249642044306, -0.006109706126153469], 'additional_metadata': \"Configuration Each AGiXT Agent has its own settings for interfacing with AI providers , and other configuration options . These settings can be set and modified through the web interface . Documentation Need more information ? Check out the documentation for more details to get a better understanding of the concepts and features of AGiXT . Other Repositorities Check out the other AGiXT repositories at https://github.com/orgs/AGiXT/repositories - these include the AGiXT Hubs , AGiXT Streamlit Web UI , AGiXT Python SDK , AGiXT TypeScript SDK , and more ! Contributing We welcome contributions to AGiXT ! If you 're interested in contributing , please check out our contributions guide the open issues on the backend , open issues on the frontend and pull requests , submit a pull request , or suggest new features . To stay updated on the project 's progress , and . Also feel free to join our . Donations and Sponsorships We appreciate any support for AGiXT 's development , including donations , sponsorships , and any other kind of assistance . If you would like to support us , please use one of the various methods listed at the top of the repository or contact us through our or . We 're always looking for ways to improve AGiXT and make it more useful for our users . Your support will help us continue to develop and enhance the application . Thank you for considering to support us ! Our Team 🧑 \\u200d\", 'key': '20e511f4923dfddc65385f034f0e5f8a0eb0e317c771d9a6ebfc5130a8beb41d', 'timestamp': '2023-08-28T21:54:43.798852', 'relevance_score': 0.6554387678616171}, {'is_reference': False, 'external_source_name': 'user input', 'id': '0d8daa556bcdf5fa471d61cb28811e1cc38d8fc4d6ada0887ed85d3adef25222', 'description': 'What is AGiXT?', 'text': 'AGiXT is an open - source artificial intelligence automation platform .', 'embedding': [-0.05313330888748169, -0.05425623431801796, -0.011936021968722343, -0.002052165800705552, 0.07379843294620514, -0.07175570726394653, 0.020193271338939667, 0.1087472066283226, 0.001208375790156424, -0.011865748092532158, -0.02688717469573021, 0.025731196627020836, 0.012027185410261154, -0.05402708798646927, -0.0072469585575163364, 0.008566963486373425, -0.006591135170310736, 0.002409371780231595, -0.04748975858092308, -0.11760413646697998, 0.0011099373223260045, 0.02541995793581009, 0.0351625494658947, -0.08588647097349167, 0.04224212095141411, 0.028208140283823013, -0.007395119871944189, -0.015141149051487446, -0.019281461834907532, -0.052304159849882126, 0.011442415416240692, -0.021629294380545616, 0.11339975148439407, 0.04548308253288269, -0.026470882818102837, -0.0034630903974175453, -0.02251829206943512, 0.045607659965753555, -0.041007526218891144, -0.0936707854270935, 0.027064722031354904, 0.000995487323962152, 0.018319813534617424, -0.0246645025908947, 0.0068818735890090466, 0.08343040943145752, -0.1112571582198143, -0.09880989789962769, -0.013568955473601818, 0.06982935220003128, -0.1044028028845787, -0.10935357213020325, 0.032961923629045486, -0.03364533185958862, -0.02483605220913887, 0.037915028631687164, 0.022929523140192032, -0.0758555456995964, 1.7485286662122235e-05, -0.0876963660120964, 0.036124762147665024, -0.02786548063158989, -0.07802847772836685, 0.055477485060691833, 0.00583250867202878, 0.047311726957559586, 0.007908692583441734, -0.006559437606483698, -0.006233939900994301, -0.15254820883274078, 0.004373446572571993, 0.008744693361222744, 0.0400712825357914, 0.09333840757608414, 0.04287876933813095, 0.07301502674818039, -0.004213358741253614, -0.03675299510359764, 0.08944746851921082, -0.004184097517281771, -0.03337588906288147, 0.03295985981822014, 0.03373589739203453, 0.08659131824970245, -0.0005947690806351602, 0.006588945165276527, 0.06312708556652069, 0.1325336992740631, 0.03252565488219261, 0.01196735817939043, -0.035248976200819016, -0.04881053417921066, 0.04803870618343353, -0.011076378636062145, 0.04527292028069496, 0.06323317438364029, -0.007484395522624254, -0.12360430508852005, -0.033918846398591995, 0.05196915939450264, -0.04092715308070183, 0.029859008267521858, 0.02243570238351822, 0.027845939621329308, -0.03305286541581154, -0.037328027188777924, 0.07060480862855911, -0.023592133074998856, 0.014421132393181324, -0.06440455466508865, 0.016280077397823334, -0.07369203865528107, 0.021145517006516457, -0.11671186238527298, -0.03919166326522827, 0.051375772804021835, -0.05571787431836128, 0.05930669605731964, 0.03422863781452179, -0.05551133304834366, 0.018636006861925125, -0.022155340760946274, -0.024427881464362144, 0.10080491751432419, 0.17012636363506317, -0.011389439925551414, -0.061283450573682785, -1.97856637736515e-33, -0.07131021469831467, 0.009526464156806469, 0.013345750980079174, -0.01417744904756546, 0.04369840770959854, -0.03992994502186775, -0.002246053656563163, 0.040542230010032654, -0.05527148023247719, 0.02858872339129448, -0.0422067828476429, 0.046799030154943466, -0.04793452471494675, 0.02276635356247425, 0.003618162591010332, -0.014979902654886246, 0.011155664920806885, 0.05985378473997116, -0.0011318461038172245, -0.05559668317437172, 0.09570037573575974, -0.07986045628786087, 0.018546130508184433, 0.03571425378322601, 0.04033421725034714, -0.06627912074327469, 0.009200185537338257, 0.012450859881937504, 0.09648456424474716, -0.007880231365561485, -0.024112174287438393, 0.08028559386730194, -0.03367281332612038, 0.06492317467927933, -0.01768743060529232, 0.03557640314102173, -0.08976256102323532, -0.045282330363988876, 0.008694303222000599, 0.13616734743118286, 0.017741011455655098, 0.015390472486615181, 0.06960727274417877, 0.0022789041977375746, 0.0200132317841053, -0.06071986258029938, -0.010264639742672443, 0.010374483652412891, 0.08243191242218018, 0.051958248019218445, -0.03471031039953232, 0.04129890352487564, 0.057917043566703796, 0.015170782804489136, 0.06631716340780258, 0.09290654212236404, -0.028791597113013268, 0.06507551670074463, 0.006372854579240084, 0.011395130306482315, 0.0065080225467681885, 0.011529488489031792, -0.018281666561961174, 0.04315689951181412, 0.012780977413058281, 0.06353801488876343, 0.01596459001302719, 0.04870494827628136, 0.03532465547323227, 0.1106836348772049, 0.05001198500394821, -0.007581018377095461, 0.021357901394367218, 0.021755622699856758, -0.026422176510095596, 0.026920869946479797, 0.0032243607565760612, -0.048761624842882156, -0.04440959915518761, -0.08380820602178574, -0.05652707442641258, -0.008624524809420109, -0.08552739024162292, 0.028835054486989975, 0.031287454068660736, -0.02961697243154049, -0.06821050494909286, 0.004305747337639332, -0.00944844726473093, 0.003511037677526474, 0.01206634659320116, -0.010105332359671593, -0.1061844453215599, 0.0884414091706276, -0.04148395359516144, 2.6159131695672556e-33, -0.07004934549331665, 0.014640509150922298, -0.012617314234375954, 0.09054743498563766, 0.005423647351562977, -0.009601645171642303, -0.038903456181287766, 0.056040674448013306, 0.023820945993065834, 0.09860065579414368, -0.008264570496976376, 0.03798339143395424, 0.04898468032479286, -0.0623357817530632, -0.033474456518888474, -0.021507181227207184, 0.005578810349106789, -0.06515304744243622, 0.003748109098523855, 0.06744268536567688, -0.09574470669031143, 0.1089063286781311, -0.03802420571446419, -0.06563831865787506, 0.05542159453034401, 0.03949156031012535, -0.022306984290480614, 0.06928233057260513, -0.046112727373838425, 0.01561995130032301, 0.015048800967633724, 0.04379884526133537, -0.0182432122528553, -0.00870179757475853, 0.013982204720377922, 0.029746195301413536, 0.11158663034439087, 0.008386868983507156, -0.09922061115503311, -0.006508800201117992, 0.018711358308792114, -0.02242758311331272, -0.06785830855369568, -0.006834237836301327, 0.02568424493074417, 0.007964720949530602, -0.07601140439510345, 0.0727684274315834, 0.03235893324017525, -0.04088346287608147, -0.05884061008691788, -0.06710435450077057, 0.06379962712526321, -0.09012894332408905, 0.013248462229967117, 0.018575556576251984, 0.0648161992430687, 0.041644588112831116, -0.1190866082906723, -0.010738872922956944, -0.029149014502763748, -0.07885561883449554, 0.06715821474790573, 0.042529504746198654, 0.014119106344878674, -0.0038322447799146175, -0.03434036672115326, 0.043769899755716324, -0.10629144310951233, 0.02312505804002285, -0.004246152937412262, 0.030186953023076057, -0.011220193468034267, -0.008939189836382866, -0.019961804151535034, 0.024475421756505966, 0.01078792940825224, -0.008711395785212517, -0.01585567370057106, -0.03787299990653992, 0.02251826785504818, -0.041698720306158066, 0.028431862592697144, 0.0545162707567215, -0.060124803334474564, 0.09423183649778366, -0.012033231556415558, 0.0073604704812169075, 0.018215807154774666, 0.033099621534347534, -0.13251538574695587, 0.05847134813666344, 0.06246345490217209, 0.08719737082719803, -0.08923541009426117, -1.7152872899828253e-08, 0.04162249341607094, 0.004097518511116505, -0.0236048623919487, -0.003198452992364764, -0.028088271617889404, 0.012677878141403198, -0.007288063410669565, -0.0006208311533555388, -0.05043935403227806, 0.01156970951706171, -0.050677042454481125, -0.03394996002316475, -0.005663959309458733, -0.013040502555668354, 0.019200148060917854, 0.018073461949825287, 0.05837813764810562, -0.01630895771086216, -0.009078655391931534, -0.04207636043429375, 0.018091734498739243, 0.027008850127458572, 0.020129919052124023, 0.03445292264223099, -0.015596452169120312, -0.07538899779319763, -0.01283688098192215, -0.008212484419345856, -0.02274586446583271, -0.04231785610318184, -0.016721094027161598, 0.005297307390719652, 0.0707891657948494, -0.014544338919222355, 0.04622383043169975, 0.03179144486784935, 0.005300280638039112, -0.02616034634411335, 0.04809103161096573, -0.05956007540225983, 0.05748102441430092, 0.05637030303478241, -0.058566465973854065, -0.04334435611963272, -0.03319604694843292, 0.029613113030791283, -0.011092388071119785, -0.10570547729730606, 0.030936349183321, -0.015197482891380787, -0.005692990962415934, 0.03736843913793564, -0.06279140710830688, 0.07096263021230698, 0.07927750051021576, -0.025945395231246948, 0.019203415140509605, -0.05325428396463394, 0.0698571726679802, 0.11234648525714874, -0.029248373582959175, -0.017839442938566208, 0.06078542396426201, -0.03199212998151779], 'additional_metadata': 'AGiXT is an open - source artificial intelligence automation platform .', 'key': '0d8daa556bcdf5fa471d61cb28811e1cc38d8fc4d6ada0887ed85d3adef25222', 'timestamp': '2023-08-28T21:54:35.579946', 'relevance_score': 0.6459748125648412}, {'is_reference': False, 'external_source_name': 'https://josh-xt.github.io/AGiXT', 'id': '265fba99dd9def9886dd656a0db97847e410ea2d45d8497fd909309eb48b385f', 'description': 'https://josh-xt.github.io/AGiXT', 'text': \"This advanced AI Automation Platform is our bold step towards the realization of Artificial General Intelligence ( AGI ) . Seamlessly orchestrating instruction management and executing complex tasks across diverse AI providers , AGiXT combines adaptive memory , smart features , and a versatile plugin system to maximize AI potential . With our unwavering commitment to innovation , we 're dedicated to pushing the boundaries of AI and bringing AGI closer to reality . AGiXT Setup and Usage Video Table of Contents 📖 AGiXT Table of Contents 📖 ⚠ ️ Disclaimers ! Monitor Your Usage ! Under Development ! Key Features 🗝 ️ Getting Started with Local Models and AGiXT Video Quick Start Guide Prerequisites Download and Install Environment Setup Install Options Running and Updating AGiXT Configuration Documentation Other Repositorities Contributing Donations and Sponsorships Our Team 🧑 \\u200d 💻 History ⚠ ️ Disclaimers ! Monitor Your Usage ! Please note that using some AI providers ( such as OpenAI 's GPT-4 API ) can be expensive ! Monitor your usage carefully to avoid incurring unexpected costs . We 're NOT responsible for your usage under any circumstance . Under Development ! This project is under active development and may still have issues . We appreciate your understanding and patience . If you encounter any problems , please first check the open issues . If your issue is not listed , kindly create a new issue detailing the error or problem you experienced . Thank you for your support !\", 'embedding': [-0.06225762516260147, -0.08134277909994125, -0.031111065298318863, 0.00944847334176302, 0.06820303201675415, -0.08793123066425323, 0.03471287339925766, 0.06603347510099411, -0.03197266533970833, -0.011965046636760235, -0.024814743548631668, -0.01697877049446106, 0.005152068566530943, 0.0032137201633304358, 0.0011097543174400926, 0.036167360842227936, 0.03619897738099098, -0.02821989916265011, -0.10862020403146744, -0.08432667702436447, -0.023869449272751808, -0.008496979251503944, 0.04516429826617241, -0.04487856477499008, 0.010151920840144157, 0.030160821974277496, 0.043781887739896774, -0.05596432089805603, -0.014872029423713684, -0.02543080784380436, 0.03964375704526901, -0.03124173730611801, 0.08052914589643478, 0.03368828818202019, -0.023412127047777176, 0.0024026038590818644, -0.053736504167318344, -0.024013102054595947, -0.019005564972758293, -0.08066093921661377, 0.03559456393122673, -0.038178760558366776, -0.013901547528803349, -0.017168626189231873, 0.028585005551576614, 0.03625026345252991, -0.07235819846391678, -0.1149798110127449, 0.03599938377737999, 0.04530714452266693, -0.08767613023519516, -0.0919809639453888, 0.03123139590024948, -0.050214968621730804, -0.04781104624271393, 0.01849800907075405, 0.013462336733937263, -0.10211414098739624, 0.03026789240539074, -0.041800711303949356, 0.060500357300043106, -0.042909666895866394, -0.036176763474941254, 0.004968013148754835, -0.05499948188662529, 0.04579147323966026, 0.011978516355156898, -0.023561982437968254, 0.020319079980254173, -0.11257816106081009, -0.018178211525082588, 0.07446199655532837, -0.03180723637342453, 0.01778465136885643, -0.024688266217708588, 0.05522345378994942, 0.007213836070150137, -0.028408469632267952, 0.08248084038496017, -0.044249314814805984, 0.025891080498695374, 0.03957241401076317, 0.03657028079032898, 0.0616505965590477, 0.007106955628842115, 0.01896071992814541, 0.07898146659135818, 0.061873361468315125, 0.05553088337182999, -0.026723189279437065, -0.00607973663136363, 0.012262647040188313, 0.046007733792066574, -0.04086899012327194, 0.09542179852724075, 0.014761760830879211, -0.024737592786550522, -0.15334883332252502, -0.08814086765050888, 0.07942163199186325, -0.027519352734088898, 0.019214581698179245, 0.007354413159191608, 0.02139061689376831, -0.08632595837116241, 0.014725232496857643, 0.04869561269879341, 0.04476800188422203, -0.03170594573020935, -0.020679397508502007, 0.0156889408826828, -0.05312363803386688, 0.04132857546210289, -0.09702437371015549, 0.0035314953420311213, 0.07390467822551727, -0.07821427285671234, 0.02425745129585266, 0.002108772052451968, 0.027929702773690224, 0.0015866585308685899, -0.03175158426165581, -0.03214772045612335, 0.059709541499614716, 0.14074349403381348, 0.03474562615156174, -0.05405675619840622, 9.511193686835879e-33, -0.021898426115512848, 0.014266998507082462, -0.021422727033495903, 0.02247830107808113, 0.05824565514922142, -0.004017598461359739, 0.04170694947242737, 0.048298295587301254, -0.07321222126483917, 0.00011197811545571312, -0.02573302388191223, 0.026326823979616165, -0.08166937530040741, -0.006682372651994228, 0.030369341373443604, -0.08111259341239929, 0.03711754456162453, 0.025681568309664726, 0.04684540256857872, 0.004299644380807877, 0.057146456092596054, -0.07894192636013031, 0.03668378293514252, 0.03260709345340729, 0.029232168570160866, 0.0228736475110054, 0.014988002367317677, -0.050274938344955444, 0.12080319225788116, 0.008697526529431343, -0.028555110096931458, -0.003886168822646141, -0.08397049456834793, 0.051544059067964554, -0.05469505861401558, -0.0020635193213820457, -0.11345043033361435, -0.030950205400586128, -0.013783163391053677, 0.10868167877197266, -0.0010440897895023227, 0.051756132394075394, 0.04955371096730232, -0.08539070934057236, -0.010440126992762089, -0.007528563495725393, 0.03985833004117012, 0.049052052199840546, 0.060650866478681564, 0.07377351820468903, -0.07343105971813202, 0.022750373929739, -0.03587861731648445, 0.018302081152796745, 0.0014250711537897587, 0.007883511483669281, -0.009333206340670586, 0.02270963415503502, 0.0367279089987278, 0.002733664819970727, 0.028419597074389458, 0.005492267198860645, -0.06157095357775688, 0.051853667944669724, -0.01925353892147541, 0.02729196846485138, 0.004951816983520985, 0.06064993888139725, 0.07495055347681046, 0.101394422352314, 0.03243553265929222, 0.002549118595197797, 0.06368646025657654, 0.017554687336087227, 0.011650744825601578, 0.020687000826001167, 0.00866380613297224, -0.06279944628477097, -0.06176396459341049, -0.04090883582830429, -0.058239374309778214, 0.03714559227228165, -0.03997938707470894, 0.025292333215475082, 0.013832973316311836, -0.06009196490049362, -0.031696613878011703, 0.027713187038898468, -0.041927311569452286, 0.027094947174191475, -0.02390807494521141, -0.006066849455237389, -0.06263920664787292, 0.08653303980827332, -0.0405399426817894, -7.873746953871725e-33, 0.011774514801800251, 0.023445244878530502, 0.004431167617440224, 0.021154114976525307, 0.052400652319192886, -0.06213153526186943, -0.01175418309867382, 0.05774739384651184, 0.029132751747965813, 0.02695590816438198, -0.03465697914361954, 0.00878218561410904, 0.017563683912158012, -0.014055739156901836, -0.007633906323462725, -0.026285607367753983, -0.02274497225880623, -0.0314287431538105, 0.009676720947027206, 0.04442599043250084, -0.07681481540203094, 0.1473883092403412, -0.052579116076231, -0.08033468574285507, 0.05276326462626457, 0.03279244154691696, 0.013039756566286087, 0.08497072756290436, -0.004147301893681288, 0.0042029982432723045, 0.015439948998391628, 0.0551341250538826, -0.07242748886346817, -0.009339925833046436, 0.011332559399306774, 0.019899843260645866, 0.13330309092998505, 0.015915242955088615, -0.09751467406749725, 0.032134782522916794, 0.0697166845202446, -0.03352558985352516, -0.024366822093725204, -0.009631303139030933, 0.02560351975262165, 0.010194559581577778, -0.054281868040561676, 0.0772894099354744, -0.07295093685388565, -0.05228624492883682, -0.053260188549757004, -0.08063981682062149, 0.02373131550848484, -0.08726545423269272, 0.015401910990476608, 0.004300018772482872, 0.1338016539812088, 0.04937107115983963, -0.14224956929683685, -0.00163455365691334, 0.01827123947441578, -0.07775285840034485, 0.06279461830854416, 0.021287962794303894, -0.0221871305257082, -0.006151126231998205, -0.0009888596832752228, 0.03893822431564331, -0.07183036208152771, 0.0417054258286953, -0.07882765680551529, -0.016576968133449554, -0.031248144805431366, -0.01832699403166771, -0.0026262968312948942, 0.039132218807935715, -0.02854633331298828, -0.03829609975218773, 0.06325419992208481, -0.03529242426156998, -0.0326501689851284, -0.03530260547995567, 0.03254300355911255, 0.038631729781627655, -0.037141915410757065, 0.055463433265686035, 0.0625239908695221, 0.037968553602695465, 0.01080817449837923, 0.0722266361117363, -0.1499236822128296, 0.09376578778028488, 0.04585661739110947, 0.07733480632305145, -0.03268445283174515, -5.758935017752265e-08, 0.020623594522476196, 0.01369507983326912, -0.022817466408014297, 0.051682185381650925, 0.0019172889878973365, -0.05092533305287361, -0.001035987981595099, 0.006984651554375887, 0.01910906285047531, -0.03515467047691345, -0.011556988582015038, -0.05213918164372444, -0.0332774855196476, 0.0008946970338001847, 0.03376500681042671, 0.022782335057854652, 0.00029399810591712594, 0.04356038570404053, -0.028840910643339157, -0.0786043107509613, 0.03474286198616028, 0.002005916554480791, 0.04182839021086693, -0.018916497007012367, -0.032436348497867584, -0.09656768292188644, 0.03603164851665497, 0.02266802079975605, -0.021773815155029297, -0.00013978271454107016, 0.025083696469664574, 0.008048871532082558, 0.07727371156215668, -0.05194549262523651, 0.03916336968541145, -0.039481211453676224, 0.01115400530397892, -0.017639243975281715, 0.0708848387002945, -0.01615181937813759, 0.04338842257857323, 0.030979907140135765, -0.025784827768802643, -0.07038240134716034, 0.004486998077481985, 0.014279610477387905, -0.07167821377515793, -0.14323633909225464, 0.05623023211956024, 0.0010222257114946842, -0.052549608051776886, 0.022175002843141556, -0.021743478253483772, 0.12089964747428894, 0.14402690529823303, 0.004538721404969692, 0.027070581912994385, -0.07202804833650589, 0.0660722628235817, 0.1250191479921341, 0.005739784799516201, -0.036492813378572464, -0.030094726011157036, -0.039287813007831573], 'additional_metadata': \"This advanced AI Automation Platform is our bold step towards the realization of Artificial General Intelligence ( AGI ) . Seamlessly orchestrating instruction management and executing complex tasks across diverse AI providers , AGiXT combines adaptive memory , smart features , and a versatile plugin system to maximize AI potential . With our unwavering commitment to innovation , we 're dedicated to pushing the boundaries of AI and bringing AGI closer to reality . AGiXT Setup and Usage Video Table of Contents 📖 AGiXT Table of Contents 📖 ⚠ ️ Disclaimers ! Monitor Your Usage ! Under Development ! Key Features 🗝 ️ Getting Started with Local Models and AGiXT Video Quick Start Guide Prerequisites Download and Install Environment Setup Install Options Running and Updating AGiXT Configuration Documentation Other Repositorities Contributing Donations and Sponsorships Our Team 🧑 \\u200d 💻 History ⚠ ️ Disclaimers ! Monitor Your Usage ! Please note that using some AI providers ( such as OpenAI 's GPT-4 API ) can be expensive ! Monitor your usage carefully to avoid incurring unexpected costs . We 're NOT responsible for your usage under any circumstance . Under Development ! This project is under active development and may still have issues . We appreciate your understanding and patience . If you encounter any problems , please first check the open issues . If your issue is not listed , kindly create a new issue detailing the error or problem you experienced . Thank you for your support !\", 'key': '265fba99dd9def9886dd656a0db97847e410ea2d45d8497fd909309eb48b385f', 'timestamp': '2023-08-28T21:54:43.782397', 'relevance_score': 0.5142084536838782}, {'is_reference': False, 'external_source_name': 'https://josh-xt.github.io/AGiXT', 'id': '66b2056e6aa2c2e09fb46ea05143d60a3866351f5e80d5a7eba29ac278d8ceba', 'description': 'https://josh-xt.github.io/AGiXT', 'text': \"Introduction · AGiXT Getting Started Introduction Quick Start Environment Variables Install Options Examples Things To Consider Screenshots Support Concepts Core Concepts AGiXT Hubs Providers Agents Extension Commands Prompts Chains Conversations Agent Training Agent Interactions Smart Chat Smart Instruct Smart Task Chains Task Chains Providers Anthropic Claude Azure OpenAI ChatGPT Custom OpenAI Style Provider FastChat GPT4Free Google Bard Google Palm Hugging Face Transformers HuggingChat Kobold Oobabooga Text Generation Web UI OpenAI Poe Llamacpp API Llamacpp Images Published with HonKit AASerifSansWhiteSepiaNight Introduction AGiXT AGiXT is a dynamic Artificial Intelligence Automation Platform engineered to orchestrate efficient AI instruction management and task execution across a multitude of providers . Our solution infuses adaptive memory handling with a broad spectrum of commands to enhance AI 's understanding and responsiveness , leading to improved task completion . The platform 's smart features , like Smart Instruct and Smart Chat , seamlessly integrate web search , planning strategies , and conversation continuity , transforming the interaction between users and AI . By leveraging a powerful plugin system that includes web browsing and command execution , AGiXT stands as a versatile bridge between AI models and users . With an expanding roster of AI providers , code evaluation capabilities , comprehensive chain management , and platform interoperability , AGiXT is consistently evolving to drive a multitude of applications , affirming its place at the forefront of AI technology . Embracing the spirit of extremity in every facet of life , we introduce AGiXT .\", 'embedding': [-0.09442847222089767, -0.061453718692064285, 0.029738571494817734, 0.049197569489479065, 0.011402380652725697, -0.0665089413523674, 0.04120800644159317, 0.06394101679325104, -0.004837829619646072, -0.010378126986324787, 0.005316600669175386, -0.038557473570108414, -0.005228676833212376, 0.01370436791330576, 0.09088603407144547, 0.03058449737727642, 0.08037286251783371, -0.05638875812292099, -0.05928448587656021, -0.05809410661458969, 0.036250919103622437, 0.055649224668741226, 0.06548067182302475, -0.07163307070732117, -0.00787448137998581, 0.030026230961084366, -0.006394043564796448, -0.07049047201871872, -0.000171125604538247, -0.031031161546707153, 0.061374593526124954, -0.04246789962053299, 0.05500375106930733, 0.07833555340766907, -0.06022965908050537, 0.07049119472503662, -0.02809257246553898, 0.049087513238191605, -0.04678967967629433, -0.0932353213429451, -0.014895315282046795, -0.05763143301010132, -0.0030333399772644043, -0.029713086783885956, 0.038123615086078644, -0.002453671768307686, -0.12000523507595062, -0.08205216377973557, -0.02018435299396515, 0.08242635428905487, -0.10222949832677841, -0.07537812739610672, 0.04390043392777443, 0.024336734786629677, -0.022672239691019058, 0.08244048804044724, -0.01504969596862793, -0.038985878229141235, 0.06858170032501221, -0.034988369792699814, -0.004673773422837257, -0.05108783021569252, -0.008765099570155144, 0.016876136884093285, -0.04026702791452408, 0.02118374966084957, -0.002007642760872841, -0.00676741125062108, -0.013833625242114067, -0.09189575165510178, -0.0434480644762516, 0.01930885575711727, -0.05149461328983307, 0.06188196688890457, -0.04700326547026634, 0.06964924931526184, 0.0016020485199987888, -0.04604953154921532, 0.04705236852169037, 0.0015332327457144856, -0.002714442787691951, 0.025733856484293938, 0.010198834352195263, 0.10242222249507904, -0.016068240627646446, 0.020439613610506058, 0.0564122311770916, 0.02233516238629818, 0.023308588191866875, -0.018221216276288033, -0.017326466739177704, -0.07372891902923584, 0.037375226616859436, -0.0023754381109029055, 0.07634840160608292, 0.020764894783496857, -0.031701285392045975, -0.13159671425819397, -0.12728731334209442, 0.07849472016096115, 0.013054062612354755, 0.05255318433046341, -0.014839324168860912, -0.03817100077867508, -0.04476397484540939, -0.04965999349951744, 0.044634077697992325, -0.022065699100494385, 0.002939232625067234, -0.049918659031391144, 0.005326667334884405, -0.05128118023276329, 0.019375022500753403, -0.09296020865440369, 0.048265520483255386, 0.048646148294210434, -0.009221860207617283, 0.04869546741247177, 0.06529781222343445, 0.013657381758093834, 0.08586529642343521, -0.029400670900940895, -0.011117406189441681, 0.059992607682943344, 0.11937118321657181, 0.008659442886710167, -0.010035935789346695, 1.348007256886677e-32, 0.07725192606449127, -0.007167879957705736, -0.008214893750846386, 0.0514160618185997, 0.0826014056801796, -0.026184849441051483, 0.06762995570898056, 0.05014188215136528, -0.08630718290805817, -0.01892373524606228, -0.045808129012584686, 0.02085934579372406, -0.05950656905770302, 0.07808811217546463, 0.03277891129255295, -0.023433290421962738, -0.017492232844233513, 0.020580731332302094, 0.025606878101825714, -0.05946532264351845, 0.052535273134708405, -0.029139172285795212, 0.06289846450090408, 0.032713405787944794, 0.06884707510471344, 0.01242243405431509, 0.0835939571261406, -0.03479659929871559, 0.06818633526563644, 0.01687869243323803, -0.053381115198135376, 0.024896955117583275, -0.0812842845916748, 0.05393553152680397, -0.03876504302024841, -0.013577516190707684, -0.07702479511499405, -0.0762985348701477, 0.007725983392447233, 0.07121461629867554, -0.02274211123585701, -0.0005987939657643437, 0.02496786043047905, -0.06102491915225983, -0.02053302712738514, -0.04231349378824234, -0.0006739032687619328, 0.044875092804431915, 0.06021210551261902, 0.05524672567844391, -0.03344321623444557, 0.045810770243406296, -0.0029999574180692434, 0.03273357078433037, 0.0011384929530322552, -0.04295163229107857, 0.001857487135566771, 0.044987861067056656, 0.026351388543844223, 0.000814331229776144, -0.00537570845335722, -0.0069794743321835995, -0.042297642678022385, 0.10864052921533585, 0.014603352174162865, -0.0008886293508112431, 0.012033701874315739, 0.06796374917030334, 0.038784634321928024, 0.0035166526213288307, 0.04386621341109276, -0.001665076706558466, 0.05354874208569527, 0.005443161819130182, -0.021489907056093216, 0.02775123342871666, 0.00795404240489006, -0.056540731340646744, -0.002389916917309165, -0.034310705959796906, 0.0005872705951333046, 0.0003182438376825303, -0.04046241194009781, -0.019966334104537964, -0.013315734453499317, -0.11004232615232468, -0.004590802360326052, -0.050900671631097794, -0.013691217638552189, 0.033003054559230804, -0.010292085818946362, 0.024866251274943352, -0.0511440634727478, 0.06753166764974594, -0.08476173132658005, -9.972091797481851e-33, 0.0124591663479805, 0.008008153177797794, -0.0923139750957489, 0.04409326612949371, 0.053706299513578415, -0.0657188817858696, 0.028612632304430008, 0.08302906900644302, -0.015010642819106579, -0.005397832952439785, -0.04293326660990715, 0.034531861543655396, 0.029602251946926117, -0.04688974842429161, 0.044746093451976776, -0.0028967191465198994, 0.0008463288540951908, -0.061801716685295105, 0.01551726832985878, 0.02897665649652481, -0.05621064081788063, 0.11296989768743515, -0.07598021626472473, -0.04668116196990013, 0.05504902824759483, 0.05005466938018799, 0.011300667189061642, 0.06688980013132095, -0.010287058539688587, 0.016341229900717735, 0.0024710639845579863, 0.0451803095638752, -0.03902726620435715, 0.0013887231471017003, -0.020768385380506516, 0.047122709453105927, 0.09546162933111191, 0.029682811349630356, -0.0983530655503273, 0.045430365949869156, 0.1297142505645752, -0.09446524828672409, -0.049804121255874634, 0.006347742397338152, 0.02320261113345623, -0.015344154089689255, -0.14796766638755798, 0.011640407145023346, -0.026433784514665604, -0.026918387040495872, -0.015764422714710236, -0.030491918325424194, 0.011805103160440922, -0.08215820044279099, -0.022273818030953407, -0.03920724242925644, 0.07475423067808151, 0.015610821545124054, -0.12507113814353943, -0.027313752099871635, 0.007483019959181547, -0.07439461350440979, 0.10929229110479355, 0.007620943710207939, 0.019407721236348152, 0.013123689219355583, -0.04256386682391167, 0.004119982477277517, -0.09907379746437073, 0.00613340362906456, -0.024225499480962753, -0.05376007407903671, -0.006306017749011517, -0.060819242149591446, 0.047173961997032166, 0.04777131602168083, -0.007868628017604351, -0.05604899674654007, -0.0005053506465628743, -0.036698490381240845, -0.035107750445604324, -0.022999444976449013, 0.02320406399667263, 0.03267509862780571, -0.035599853843450546, 0.0722055658698082, 0.014285633340477943, 0.1063276007771492, -0.011673038825392723, 0.07653213292360306, -0.09873417019844055, 0.06669075787067413, 0.017512787133455276, 0.1024741381406784, -0.030622921884059906, -5.346187137433844e-08, -0.010904330760240555, -0.043618809431791306, -0.038871318101882935, 0.05340084806084633, -0.016812244430184364, -0.017786649987101555, 0.00976090133190155, 0.0009268253343179822, 0.025766966864466667, -0.011017083190381527, 0.0008758132462389767, -0.0010994718177244067, 0.03328102082014084, -0.020128097385168076, 0.06702371686697006, 0.035040248185396194, 0.006481175310909748, -0.019128989428281784, -0.025686437264084816, -0.07560789585113525, 0.06465030461549759, 0.007682388182729483, 0.005588307045400143, 0.02886931784451008, -0.034278348088264465, -0.06052739545702934, -0.04582718759775162, 0.06788713485002518, -0.037303078919649124, 0.010022186674177647, -0.003260329831391573, 0.006096253637224436, 0.04675421118736267, -0.05188393220305443, 0.03785650059580803, 0.03908587992191315, -0.012979709543287754, -0.11418388783931732, 0.07603619992733002, -0.02046889066696167, 0.004335498437285423, 0.016047408804297447, -0.029351597651839256, -0.042145922780036926, 0.0069734640419483185, 0.0014053699560463428, -0.04086912050843239, -0.15379445254802704, 0.043413594365119934, -0.014672757126390934, -0.10936063528060913, -0.020049601793289185, -0.013441883027553558, 0.07800181210041046, 0.12712985277175903, 0.0015293043106794357, 0.05373874306678772, -0.050096090883016586, 0.07248292118310928, 0.1603396236896515, 0.01783263310790062, 0.021473126485943794, -0.005297163967043161, -0.008843787014484406], 'additional_metadata': \"Introduction · AGiXT Getting Started Introduction Quick Start Environment Variables Install Options Examples Things To Consider Screenshots Support Concepts Core Concepts AGiXT Hubs Providers Agents Extension Commands Prompts Chains Conversations Agent Training Agent Interactions Smart Chat Smart Instruct Smart Task Chains Task Chains Providers Anthropic Claude Azure OpenAI ChatGPT Custom OpenAI Style Provider FastChat GPT4Free Google Bard Google Palm Hugging Face Transformers HuggingChat Kobold Oobabooga Text Generation Web UI OpenAI Poe Llamacpp API Llamacpp Images Published with HonKit AASerifSansWhiteSepiaNight Introduction AGiXT AGiXT is a dynamic Artificial Intelligence Automation Platform engineered to orchestrate efficient AI instruction management and task execution across a multitude of providers . Our solution infuses adaptive memory handling with a broad spectrum of commands to enhance AI 's understanding and responsiveness , leading to improved task completion . The platform 's smart features , like Smart Instruct and Smart Chat , seamlessly integrate web search , planning strategies , and conversation continuity , transforming the interaction between users and AI . By leveraging a powerful plugin system that includes web browsing and command execution , AGiXT stands as a versatile bridge between AI models and users . With an expanding roster of AI providers , code evaluation capabilities , comprehensive chain management , and platform interoperability , AGiXT is consistently evolving to drive a multitude of applications , affirming its place at the forefront of AI technology . Embracing the spirit of extremity in every facet of life , we introduce AGiXT .\", 'key': '66b2056e6aa2c2e09fb46ea05143d60a3866351f5e80d5a7eba29ac278d8ceba', 'timestamp': '2023-08-28T21:54:43.655536', 'relevance_score': 0.4526729729931605}, {'is_reference': False, 'external_source_name': 'https://josh-xt.github.io/AGiXT', 'id': '981c07edac211bff5e77bb56f064871604ffd8dffc326917dda60a07b6933fbc', 'description': 'https://josh-xt.github.io/AGiXT', 'text': '💻 Josh ( @Josh - XT ) James ( @JamesonRGrieve ) History results matching \" \" No results matching \" \" AGiXTTable of Contents 📖 ⚠ ️ Disclaimers!Monitor Your Usage!Under Development!Key Features 🗝 ️Getting Started with Local Models and AGiXT VideoQuick Start GuidePrerequisitesDownload and InstallEnvironment SetupInstall OptionsRunning and Updating AGiXTConfigurationDocumentationOther RepositoritiesContributingDonations and SponsorshipsOur Team 🧑 \\u200d 💻 History Submit an issue', 'embedding': [-0.02765355072915554, -0.08048078417778015, 0.02509203366935253, -0.054072581231594086, 0.030449649319052696, 0.023878080770373344, -0.0636318176984787, -0.004552528262138367, -0.004874859005212784, -0.016766130924224854, 0.008689913898706436, -0.0751597061753273, -0.037179745733737946, 0.044262196868658066, -0.09582357108592987, -0.056183747947216034, 0.006340822670608759, -0.1001468300819397, -0.011768634431064129, -0.06306152790784836, -0.05150304362177849, -0.04559237137436867, 0.06300264596939087, -0.025471175089478493, 0.0679217055439949, 0.03694280982017517, -0.049383725970983505, 0.046489063650369644, 0.02886182814836502, -0.035233598202466965, 0.011413266882300377, 0.03954619914293289, 0.012033779174089432, 0.02977682650089264, 0.09079789370298386, 0.0018578165909275413, -0.02961014211177826, -0.056713104248046875, -0.056644752621650696, -0.10668221116065979, 0.09747537970542908, 0.033016324043273926, 0.09804391115903854, -0.012599333189427853, -0.04431016743183136, 0.009759282693266869, 0.003081959206610918, -0.0843677669763565, -0.013775959610939026, 0.046067073941230774, -0.08113780617713928, -0.03308803215622902, 0.015513845719397068, -0.11104679107666016, 0.026942549273371696, 0.04829281195998192, -0.022036947309970856, -0.000991150620393455, 0.00511728273704648, -0.062000203877687454, 0.07616829127073288, -0.06912834197282791, -0.15698100626468658, 0.02851344272494316, -0.05440530553460121, 0.002194023923948407, 0.03330230340361595, -0.03482848405838013, -0.0065022800117731094, -0.05641854181885719, -0.018315574154257774, 0.0339641273021698, -0.05535154789686203, 0.10324372351169586, 0.0028563938103616238, 0.08835011720657349, 0.040482744574546814, 0.018577992916107178, 0.05569065362215042, -0.11970464885234833, 0.016285035759210587, -0.061911970376968384, 0.04122867062687874, 0.07446244359016418, -0.014523249119520187, 0.0252717062830925, 0.001130538759753108, -0.060916125774383545, 0.04246526584029198, -0.025179727002978325, -0.04277610778808594, -0.028791431337594986, 0.02546229027211666, -0.04948488995432854, -0.012389442883431911, 0.03783882036805153, 0.01385465171188116, -0.0449255146086216, -0.01536567136645317, 0.0674220621585846, -0.024573449045419693, 0.06411272287368774, 0.08497625589370728, 0.04336582124233246, -0.028718488290905952, 0.002044745720922947, -0.030292203649878502, 0.07208816707134247, 0.020891934633255005, 0.02856256812810898, 0.009173058904707432, 7.495690078940243e-05, 0.009426087141036987, -0.07611726969480515, 0.015015138313174248, -0.014888977631926537, -0.06777630001306534, -0.01795165054500103, -0.07040807604789734, 0.03362071514129639, -0.004586092196404934, -0.029226727783679962, -0.04843876138329506, -0.002010878873988986, 0.056825902312994, -0.022181132808327675, -0.012166796252131462, 1.4213982181227096e-32, 0.0709771066904068, -0.06300783157348633, 0.016278009861707687, 0.0768747553229332, 0.06509806215763092, 0.0019214728381484747, 0.006342790555208921, 0.05314769968390465, -0.040322478860616684, 0.00526268919929862, 0.010088893584907055, 0.02357049658894539, -0.08878036588430405, -0.015182255767285824, -0.04910905659198761, 0.02303859032690525, -0.03940604627132416, 0.022515513002872467, -0.014758727513253689, 0.05360729247331619, 0.03198803588747978, -0.05727807432413101, 0.059353042393922806, -0.008660394698381424, 0.03435632586479187, -0.006349611561745405, 0.012048210017383099, 0.04863538220524788, 0.04667089134454727, -0.011315198615193367, 0.027698051184415817, 0.01325511559844017, 0.003898671129718423, -0.0159246027469635, 0.04554050788283348, 0.023435205221176147, -0.012111958116292953, -0.091065913438797, -0.0333213172852993, 0.06065398082137108, -0.02892198972404003, 0.01735660247504711, -0.06641463935375214, -0.08853861689567566, 0.021369069814682007, -0.044938236474990845, 0.048190679401159286, -0.02616548351943493, 0.11193127185106277, 0.09164648503065109, -0.0035252259112894535, 0.057207148522138596, -0.052179787307977676, -0.05684446170926094, -0.035263944417238235, 0.08964540809392929, -0.027672987431287766, 0.0346982441842556, -0.003136921674013138, -0.04995160549879074, 0.09168270975351334, 0.01116946991533041, -0.03159302845597267, -0.015078317373991013, 0.020313208922743797, 0.022487321868538857, 0.039694469422101974, -0.0033749565482139587, 0.03239235654473305, 0.034388743340969086, 0.046774931252002716, 0.024688709527254105, -0.008257411420345306, -0.03080984577536583, 0.09526514261960983, -0.027834484353661537, -0.06918169558048248, -0.0065686763264238834, 0.01008183415979147, 0.005212012212723494, 0.019984737038612366, -0.03226340934634209, -0.026078322902321815, 0.026266764849424362, 0.002294963924214244, 0.014134246855974197, 0.05255845561623573, 0.011742101050913334, 0.02093123085796833, -0.02575395442545414, 0.036262691020965576, 0.043965961784124374, -0.05009305849671364, 0.006261362228542566, 0.009149501100182533, -1.3513678482988841e-32, 0.0010736464755609632, -0.014774818904697895, -0.005948140751570463, -0.057377852499485016, 0.06610327959060669, -0.035333406180143356, 0.0026370577979832888, 0.029944756999611855, 0.11688953638076782, 0.022713707759976387, 0.09701298922300339, 0.00018175657896790653, -0.03362410515546799, -0.08959529548883438, -0.11534286290407181, -0.009707417339086533, 0.059604380279779434, -0.10111386328935623, 0.0013523236848413944, 0.002978659700602293, -0.020875748246908188, 0.08739117532968521, -0.06439072638750076, -0.05546270310878754, -0.027408411726355553, -0.03052425943315029, 0.04962896555662155, 0.07782463729381561, 0.0010083174565806985, -0.024716578423976898, 0.14179110527038574, 0.0201930683106184, -0.0724339634180069, 0.0020049619488418102, -0.0380801185965538, 0.00691927270963788, 0.09513738751411438, 0.019581878557801247, -0.08822903037071228, 0.013213437050580978, 0.04947350546717644, 0.014841810800135136, -0.10317662358283997, -0.00022885447833687067, 0.008561402559280396, -0.06294788420200348, -0.036262523382902145, -0.01539849117398262, 0.02986503578722477, -0.03925926983356476, 0.014283109456300735, -0.039659105241298676, 0.031245218589901924, 0.006066921167075634, 0.011729788035154343, 0.08969968557357788, 0.07994487136602402, 0.055021658539772034, -0.04347377270460129, -0.003578726202249527, -0.043662212789058685, 0.057160522788763046, -0.07112511247396469, 0.016833370551466942, 0.04498809203505516, 0.030846834182739258, -0.032241642475128174, 0.06542496383190155, -0.05973988026380539, -0.0007514430908486247, -0.06620115041732788, -0.048129353672266006, 0.014445791020989418, -0.0794382318854332, 0.0494450107216835, 0.06274034827947617, 0.007886571809649467, 0.042447157204151154, 0.03494276478886604, -0.022386392578482628, -0.07693109661340714, 0.014620237052440643, -0.009126070886850357, 0.0763590931892395, 0.03423382341861725, 0.058375995606184006, 0.03670260310173035, 0.023237913846969604, -0.038925450295209885, 0.027429290115833282, -0.05839452147483826, -0.02118234522640705, 0.05486476421356201, 0.04774317517876625, 0.03527761250734329, -5.691934745755134e-08, -0.07290562242269516, 0.06238940730690956, -0.13652363419532776, 0.06923285871744156, -0.00555400038138032, 0.025018775835633278, 0.028936592862010002, 0.0009245614055544138, 0.009520652703940868, -0.02345801331102848, -0.1284210979938507, 0.021181641146540642, -0.0702342763543129, 0.011844777502119541, 0.018349535763263702, -0.11911278963088989, 0.01547339465469122, 0.018685072660446167, -0.07001591473817825, -0.03874087706208229, -0.0738244503736496, -0.001926843891851604, 0.023723002523183823, -0.07529402524232864, -0.07144828885793686, 0.06985433399677277, -0.05849829688668251, 0.008950659073889256, -0.013074877671897411, 0.03653816506266594, 0.011134922504425049, 0.04774028807878494, -0.0276434738188982, -0.16572852432727814, 0.02539171278476715, -0.051365628838539124, 0.018803440034389496, -0.012141639366745949, 0.07830843329429626, -0.05252061411738396, 0.06423486769199371, 0.03641936928033829, 0.009500795975327492, 0.024367012083530426, -0.020378341898322105, 0.10382302105426788, 0.018112212419509888, -0.05761168897151947, 0.05007893592119217, -0.022813033312559128, -0.050451286137104034, -0.020307673141360283, -0.10386298596858978, 0.033128853887319565, 0.08345864713191986, -0.05962822213768959, 0.09397169947624207, -0.038208384066820145, 0.07711318880319595, 0.009720108471810818, 0.05410457029938698, -0.10530295968055725, -0.0238578412681818, 0.006468013394623995], 'additional_metadata': '💻 Josh ( @Josh - XT ) James ( @JamesonRGrieve ) History results matching \" \" No results matching \" \" AGiXTTable of Contents 📖 ⚠ ️ Disclaimers!Monitor Your Usage!Under Development!Key Features 🗝 ️Getting Started with Local Models and AGiXT VideoQuick Start GuidePrerequisitesDownload and InstallEnvironment SetupInstall OptionsRunning and Updating AGiXTConfigurationDocumentationOther RepositoritiesContributingDonations and SponsorshipsOur Team 🧑 \\u200d 💻 History Submit an issue', 'key': '981c07edac211bff5e77bb56f064871604ffd8dffc326917dda60a07b6933fbc', 'timestamp': '2023-08-28T21:54:43.852816', 'relevance_score': 0.353233619451409}, {'is_reference': False, 'external_source_name': 'https://josh-xt.github.io/AGiXT', 'id': '15adb9cee608272cc8c703c58322e871b667ca162dc1783d5b32dd82a47c5b19', 'description': 'https://josh-xt.github.io/AGiXT', 'text': \"Quick Start Guide Prerequisites Git Docker Docker Compose Python 3.10 NVIDIA Container Toolkit ( if using local models on GPU ) If using Windows and trying to run locally , it is unsupported , but you will need Windows Subsystem for Linux and Docker Desktop at a minimum in addition to the above . Download and Install Open a terminal and run the following to download and install AGiXT : git clone https://github.com/Josh-XT/AGiXT cd AGiXT ./AGiXT.sh Environment Setup You can choose to skip the environment setup and accept default values by entering Y on the first question Quick Setup without advanced configuration ? ( Y for yes , N for No ) . If you chose N , see the Environment Variable Setup documentation for guidance on setup . Install Options You will be prompted to choose an install option . Choose Option 1 to get started quickly . Running and Updating AGiXT Any time you want to run or update AGiXT , run the following commands from your AGiXT directory : ./AGiXT.sh Access the web interface at http://localhost:8501 Access the AGiXT API documentation at http://localhost:7437 If you 're running with the option Run AGiXT and Text Generation Web UI with Docker ( NVIDIA Only ) , you can access the Text Generation Web UI at http://localhost:7860/?__theme = dark to download and and configure your models . The AI_PROVIDER_URI will be http://text - generation - webui:5000 for your AGiXT agents .\", 'embedding': [-0.010524735786020756, -0.04199213162064552, -0.020473312586545944, 0.009876994416117668, -0.03897016867995262, -0.07369184494018555, -0.05303027480840683, 0.05661899596452713, -0.007909976877272129, -0.043081123381853104, -0.0760277807712555, -0.06622549146413803, -0.02194460853934288, 0.010792061686515808, 0.039307963103055954, -0.07715754956007004, 0.10827326774597168, 0.029253099113702774, -0.010754958726465702, 0.029136106371879578, -0.06955070793628693, 0.03832259401679039, 0.018455982208251953, -0.05696607381105423, 0.040552400052547455, -0.059661637991666794, 0.007960394956171513, -0.004468189086765051, 0.01759287528693676, 0.007684705778956413, 0.035455431789159775, 0.01864418387413025, 0.10774120688438416, 0.03461602330207825, 0.06252797693014145, 0.03550994023680687, 0.04552469775080681, -0.010001993738114834, -0.11812223494052887, -0.03860653564333916, 0.056458089500665665, -0.04286666959524155, 0.005109547171741724, -0.049878835678100586, 0.015567539259791374, -0.016100909560918808, -0.04977111890912056, -0.07969984412193298, 0.040780674666166306, 0.04032282903790474, -0.08304674178361893, -0.05913814157247543, -0.03664424270391464, -0.0632072240114212, -0.016903826966881752, -0.018274327740073204, -0.011919459328055382, -0.02614244632422924, -0.006474500522017479, -0.027605656534433365, 0.042479608207941055, -0.028842801228165627, -0.021242769435048103, 0.014368112199008465, 0.03628496080636978, -0.013771112076938152, -0.007683033589273691, -0.013649758882820606, 0.010315767489373684, 0.01002525445073843, -0.0007046587415970862, -0.02185317873954773, -0.06413494050502777, -0.11162468045949936, -0.06009991839528084, -0.00578753836452961, 0.03170650079846382, -0.030532781034708023, -0.060104820877313614, 0.10644841194152832, 0.00684025464579463, 0.0977344885468483, 0.0734003558754921, 0.030253633856773376, -0.07160777598619461, -0.0001283526507904753, 0.03694627434015274, 0.1230471208691597, 0.0714818611741066, -0.097593292593956, -0.032685067504644394, -0.036826618015766144, 0.0005053150816820562, 0.03241140767931938, 0.0865747407078743, 0.030005209147930145, 0.006779439747333527, -0.07877325266599655, -0.026577578857541084, 0.028955120593309402, 0.01191356498748064, -0.06377995759248734, 0.07265768200159073, 0.036054160445928574, 0.010405144654214382, 0.011060281656682491, 0.014499150216579437, 5.91937787248753e-05, -0.0784623920917511, -0.013305115513503551, -0.022133946418762207, -0.021449841558933258, -0.06269271671772003, -0.008256198838353157, -0.06156375631690025, 0.0628279522061348, -0.014707613736391068, -0.0493149608373642, -0.02073919028043747, -0.03238033503293991, -0.013206164352595806, -0.06320057809352875, 0.029835252091288567, -0.05295504629611969, 0.032321665436029434, 0.07329811155796051, -0.0176937784999609, 7.610474422853935e-33, 0.07226505875587463, -0.11358180642127991, 0.07661957293748856, -0.00859105121344328, 0.13266833126544952, 0.042888093739748, -0.0006155671435408294, -0.05663074180483818, 0.029446158558130264, 0.018707582727074623, -0.0036959806457161903, 0.04416870325803757, -0.0356280691921711, 0.0698409453034401, -0.013753976672887802, -0.06379019469022751, -0.034526385366916656, 0.011545672081410885, 0.007637922186404467, -0.0037557235918939114, 0.06655517965555191, -0.06375274807214737, -0.02281162701547146, -0.01019976008683443, 0.009838542900979519, -0.08820728212594986, -0.015156554989516735, -0.012124093249440193, 0.03638039529323578, -0.03148920461535454, -0.005910864099860191, -0.10264904052019119, -0.022821970283985138, 0.03072412498295307, 0.020381096750497818, -0.019725194200873375, -0.023551005870103836, 0.05695374310016632, -0.03802342340350151, 0.09391088783740997, 0.006270465906709433, 0.0659480094909668, 0.05000397562980652, -0.05015506222844124, 0.04271575063467026, -0.022628510370850563, 0.018543891608715057, 0.06709251552820206, 0.05754006654024124, 0.13914279639720917, 0.032101262360811234, -0.014709359034895897, -0.05361257866024971, 0.05604682117700577, -0.0262525025755167, 0.05723505839705467, -0.058791544288396835, 0.015388578176498413, 0.024916084483265877, -0.10430242866277695, -0.1280653178691864, -0.0397648885846138, 0.05398416519165039, -0.018413985148072243, -7.611623004777357e-05, 0.07326040416955948, -0.014239495620131493, 0.08792956173419952, 0.006925000809133053, 0.0706571713089943, -0.04022609442472458, 0.022357475012540817, -0.04467428848147392, 0.03734685853123665, 0.06735369563102722, 0.03805217146873474, 0.021102359518408775, -0.014682739041745663, -0.024041878059506416, -0.0034142553340643644, -0.023631924763321877, 0.11103960871696472, -0.025419313460588455, 0.05507289618253708, -0.02532721683382988, -0.061205506324768066, 0.048484399914741516, 0.11151660233736038, -0.013238605111837387, -0.03655610233545303, 0.024591142311692238, 0.03331597149372101, -0.002543375827372074, 0.007737873587757349, -0.04227453097701073, -7.679134313201495e-33, 0.0707201436161995, -0.08320676535367966, 0.0024890960194170475, 0.01876329444348812, 0.011136508546769619, -0.037469878792762756, 0.022240251302719116, -0.014614768326282501, 0.04193675145506859, -0.035243865102529526, 0.00635861698538065, 0.1047564372420311, 0.10821110755205154, 0.0464693084359169, -0.07296787947416306, 0.021181732416152954, 0.016551027074456215, 0.04101676121354103, 0.03365042433142662, -0.014422859065234661, -0.01637479104101658, 0.00579792121425271, -0.031989891082048416, -0.024260418489575386, -0.0852629765868187, -0.02480653114616871, 0.09164373576641083, -0.015939325094223022, -0.060770433396101, 0.030707014724612236, 0.018457774072885513, 0.09613339602947235, 0.019585879519581795, 0.03496289625763893, 0.06255681812763214, 0.03649738430976868, 0.06846287101507187, 0.03488900139927864, -0.11549490690231323, -0.01323857344686985, 0.04610423371195793, -0.024715090170502663, -0.037601180374622345, 0.0622866116464138, 0.0033534399699419737, 0.042469847947359085, -0.011312341317534447, -0.006357213947921991, -0.06294737011194229, 0.011983044445514679, -0.06866918504238129, -0.09883923828601837, 0.05984598398208618, 0.012023501098155975, 0.033062390983104706, -0.047682344913482666, 0.08338046073913574, 0.055063895881175995, -0.08908776193857193, -0.007484943140298128, 0.00922769121825695, -0.04865479841828346, 0.014993343502283096, -0.017926188185811043, -0.012101324275135994, -0.05120236426591873, -0.14059220254421234, 0.030901258811354637, -0.06768789887428284, 0.029491061344742775, -0.07988857477903366, -0.023149892687797546, 0.03788672387599945, -0.04119650274515152, -0.05822218954563141, -0.02386217564344406, 0.0025285352021455765, -0.037178006023168564, 0.08227993547916412, -0.02204226143658161, -0.0015563230263069272, -0.010602033697068691, -0.010696321725845337, -0.09243544191122055, -0.04826950654387474, 0.03724708408117294, 0.0871797576546669, -0.0011540129780769348, 0.08327746391296387, -0.011784751899540424, -0.01974177546799183, -0.033294402062892914, 0.026282448321580887, 0.08675195276737213, 0.010592213831841946, -5.6827271777137867e-08, 0.08079718053340912, 0.01886630617082119, -0.02486218325793743, 0.08909209817647934, -0.1037425547838211, 0.03481416404247284, 0.08624802529811859, 0.0007162250694818795, 0.026689598336815834, 0.02688637562096119, -0.027964549139142036, -0.04623105004429817, -0.05070810765028, -0.0234382301568985, 0.01240734662860632, 0.07943562418222427, 0.04778645932674408, 0.04765116795897484, 0.0025302376598119736, -0.015310730785131454, -0.052780408412218094, -0.011098966002464294, 0.06321944296360016, -0.0403929129242897, -0.02415149286389351, 0.013146378099918365, 0.06173056364059448, -0.09676253795623779, -0.012135185301303864, -0.05390503257513046, 0.012754984200000763, 0.0013510985299944878, -0.03588712960481644, 0.015206076204776764, -0.035648640245199203, -0.06968892365694046, -0.008276313543319702, 0.004721221048384905, 0.11111563444137573, -0.041391488164663315, 0.022735852748155594, -0.0027540246956050396, -0.019906029105186462, -0.12971673905849457, -0.08971360325813293, 0.02644706517457962, 0.018103303387761116, -0.004809104837477207, -0.01596752740442753, 0.04694301635026932, 0.009139657951891422, 0.01339749526232481, -0.030923565849661827, 0.004417518153786659, 0.12859183549880981, 0.08939296007156372, -0.06251772493124008, 0.01770033873617649, 0.05024794861674309, -0.0012066394556313753, -0.07683663815259933, 0.06704169511795044, -0.012641852721571922, 0.012786239385604858], 'additional_metadata': \"Quick Start Guide Prerequisites Git Docker Docker Compose Python 3.10 NVIDIA Container Toolkit ( if using local models on GPU ) If using Windows and trying to run locally , it is unsupported , but you will need Windows Subsystem for Linux and Docker Desktop at a minimum in addition to the above . Download and Install Open a terminal and run the following to download and install AGiXT : git clone https://github.com/Josh-XT/AGiXT cd AGiXT ./AGiXT.sh Environment Setup You can choose to skip the environment setup and accept default values by entering Y on the first question Quick Setup without advanced configuration ? ( Y for yes , N for No ) . If you chose N , see the Environment Variable Setup documentation for guidance on setup . Install Options You will be prompted to choose an install option . Choose Option 1 to get started quickly . Running and Updating AGiXT Any time you want to run or update AGiXT , run the following commands from your AGiXT directory : ./AGiXT.sh Access the web interface at http://localhost:8501 Access the AGiXT API documentation at http://localhost:7437 If you 're running with the option Run AGiXT and Text Generation Web UI with Docker ( NVIDIA Only ) , you can access the Text Generation Web UI at http://localhost:7860/?__theme = dark to download and and configure your models . The AI_PROVIDER_URI will be http://text - generation - webui:5000 for your AGiXT agents .\", 'key': '15adb9cee608272cc8c703c58322e871b667ca162dc1783d5b32dd82a47c5b19', 'timestamp': '2023-08-28T21:54:43.812119', 'relevance_score': 0.3016923035332821}, {'is_reference': False, 'external_source_name': 'https://josh-xt.github.io/AGiXT', 'id': '3c93ef2b59f438f0f29a36d8ed4524a21c99d0a076fccb8df138f81065a4ea9f', 'description': 'https://josh-xt.github.io/AGiXT', 'text': 'Versatile Plugin System & Code Evaluation : Extensible command support for various AI models along with robust support for code evaluation , providing assistance in programming tasks . Docker Deployment : Simplified setup and maintenance through Docker deployment . Audio - to - Text & Text - to - Speech Options : Integration with Hugging Face for seamless audio - to - text transcription , and multiple TTS choices , featuring Brian TTS , Mac OS TTS , and ElevenLabs . Platform Interoperability & AI Agent Management : Streamlined creation , renaming , deletion , and updating of AI agent settings along with easy interaction with popular platforms like Twitter , GitHub , Google , DALL - E , and more . Custom Prompts & Command Control : Granular control over agent abilities through enabling or disabling specific commands , and easy creation , editing , and deletion of custom prompts to standardize user inputs . RESTful API : FastAPI - powered RESTful API for seamless integration with external applications and services . Expanding AI Support : Continually updated to include new AI providers and services , ensuring the software stays at the forefront of AI technology . Getting Started with Local Models and AGiXT Video This is a video that walks through the process of setting up and using AGiXT to interact with locally hosted language models . This is a great way to get started with AGiXT and see how it works .', 'embedding': [-0.07382373511791229, -0.04194876551628113, -0.01880669966340065, -0.03942861407995224, 0.008508327417075634, -0.02072656713426113, -0.022655930370092392, 0.036113440990448, -0.02528415434062481, -0.008386403322219849, 0.0010486498940736055, -0.08092273771762848, 0.024950439110398293, 0.007928581908345222, 0.0727376788854599, -0.010507234372198582, 0.0754593014717102, -0.020842047408223152, -0.05060746893286705, -0.08050090819597244, -0.018933285027742386, 0.03188517689704895, -0.020533815026283264, -0.01843663863837719, -0.046554774045944214, 0.054556816816329956, -0.015030206181108952, -0.06240666285157204, -9.263163519790396e-05, -0.05561843514442444, -0.008502945303916931, -0.02357957512140274, 0.07311945408582687, 0.0348237119615078, -0.03968488425016403, 0.0640297532081604, 0.04344609007239342, -0.06314732879400253, -0.05175028368830681, -0.036691419780254364, -0.0507747046649456, -0.05675007775425911, -0.03354084864258766, -0.056632667779922485, 0.002257582265883684, -0.05601348727941513, -0.09289103746414185, -0.09547282755374908, 0.013559268787503242, 0.06572942435741425, -0.040814295411109924, -0.10138969123363495, 0.03960791230201721, 0.022084757685661316, -0.028713036328554153, 0.027286455035209656, 0.023433009162545204, 0.007686405908316374, 0.04261552169919014, -0.04152501001954079, 0.006523933261632919, -0.006020404864102602, 0.04147046059370041, 0.05954964831471443, -0.027893170714378357, -0.009423838928341866, -0.02514847368001938, -0.00716443033888936, 0.0335940457880497, -0.11150811612606049, -0.07776928693056107, 0.003247960237786174, -0.0445234514772892, 0.03397857025265694, -0.06570495665073395, -0.013446866534650326, 0.023207155987620354, -0.03516419231891632, 0.016179341822862625, -0.031884510070085526, 0.017804499715566635, 0.01946810446679592, 0.004759637638926506, 0.08471550792455673, -0.03362927585840225, 0.06604687869548798, 0.021296855062246323, 0.022980021312832832, 0.04207731410861015, -0.0031304550357162952, 0.011075963266193867, -0.07142554968595505, 0.07819410413503647, -0.06854258477687836, 0.09476788341999054, 0.056697048246860504, -0.04749038442969322, -0.14028513431549072, -0.11694958806037903, 0.052625566720962524, -0.038988083600997925, -0.03480972349643707, -0.005960070062428713, -0.05841324105858803, 0.004381638485938311, -0.02983994223177433, 0.043612297624349594, 0.0002816982159856707, 0.02812560461461544, -0.03642665967345238, -0.03344154730439186, -0.029202710837125778, -0.02805275097489357, -0.0581691712141037, 0.06898779422044754, 0.0526043064892292, -0.030905835330486298, 0.045143622905015945, 0.11734233051538467, 0.01980626955628395, 0.06282903254032135, -0.03224644437432289, 0.013307848013937473, 0.041457176208496094, 0.1582595407962799, 0.05550869181752205, -0.012849144637584686, 3.927148832576701e-33, 0.032935429364442825, -0.019801409915089607, 0.011771928519010544, 0.03761495649814606, 0.11593447625637054, -0.054317545145750046, 0.05508147180080414, 0.029280833899974823, -0.07423162460327148, -0.0684521347284317, -0.030667001381516457, 0.05381270498037338, -0.060936588793992996, 0.06171692535281181, 0.07067592442035675, -0.08443532139062881, -0.03724413737654686, 0.056116074323654175, 0.005002736113965511, -0.012722176499664783, 0.034527070820331573, -0.02723025530576706, 0.05279318243265152, 0.03271036595106125, 0.13204129040241241, 0.018475854769349098, 0.04104110598564148, -0.022957030683755875, 0.12957727909088135, 0.008207402192056179, -0.08687254041433334, -0.034817036241292953, -0.021133726462721825, 0.030780065804719925, 0.0001957451313501224, -0.011974524706602097, -0.08004767447710037, -0.017363455146551132, -0.033095743507146835, 0.09096492826938629, -0.02765009179711342, -0.01619897596538067, -0.044660769402980804, -0.0659254640340805, -0.0042961412109434605, -0.08519987761974335, 0.0038499466609209776, 0.016880042850971222, 0.026131192222237587, -0.027466021478176117, 0.005556710995733738, 0.0626097097992897, -0.0001916100300149992, 0.01608106680214405, -0.0014352361904457211, -0.0411742739379406, 0.02164362370967865, 0.010013501159846783, -0.0008215063717216253, 0.004080925136804581, -0.012938171625137329, 0.011179941706359386, 0.026529585942626, 0.06459683179855347, 0.051001571118831635, -0.0017924105050042272, 0.03563767299056053, 0.04065125435590744, 0.06579428911209106, 0.06450988352298737, -0.050997160375118256, 0.03914802521467209, 0.0471680723130703, -0.00915470626205206, -0.02053142711520195, -0.02575713023543358, -0.014371927827596664, -0.10331151634454727, 0.04056856408715248, -0.011714027263224125, -0.029366271570324898, 0.0019663418643176556, -0.06443817913532257, 0.06787578016519547, 0.07359146326780319, -0.1055060401558876, -0.034971874207258224, -0.03446962311863899, -0.05241264030337334, 0.024866962805390358, -0.03219883516430855, 0.05614176392555237, -0.047623176127672195, 0.019724536687135696, -0.053957778960466385, -4.474929567401871e-33, 0.03168259561061859, -0.03430749103426933, -0.04383449628949165, 0.036834124475717545, -0.01629619114100933, -0.020712241530418396, 0.020146843045949936, 0.023845477029681206, 0.01821143366396427, -0.04073326662182808, -0.06762317568063736, 0.05281538516283035, 0.018115706741809845, -0.025020290166139603, -0.03311529383063316, 0.031023448333144188, -0.08449242264032364, -0.07244162261486053, 0.027244452387094498, -0.029385855421423912, 0.011863200925290585, 0.07979204505681992, -0.008334910497069359, -0.018441056832671165, -0.02620454505085945, -0.02113829180598259, -0.047128960490226746, 0.06436687707901001, 0.03575092554092407, 0.004822297487407923, 0.003789259120821953, 0.002686746185645461, -0.016529856249690056, -0.012048967182636261, 0.004759111907333136, 0.06873353570699692, 0.07140997797250748, 0.0749862864613533, -0.0560944490134716, 0.034033771604299545, 0.09835181385278702, -0.10162816941738129, -0.021655503660440445, -0.0011274408316239715, 0.002255458850413561, 0.012033659033477306, -0.12995706498622894, 0.036316879093647, -0.07624906301498413, -0.0342634953558445, -0.035813990980386734, -0.07650519162416458, -0.013960090465843678, -0.010839136317372322, -0.06108524277806282, -0.0569726824760437, 0.0035678993444889784, 0.019151097163558006, -0.1011691763997078, 0.0026253717951476574, 0.006482777185738087, -0.07405545562505722, 0.05954021215438843, 0.037174493074417114, -0.004534373991191387, -0.010883085429668427, -0.0280479583889246, -0.031247112900018692, -0.06733772158622742, -0.005369214806705713, 0.07241962850093842, -0.10869202762842178, -0.015090077184140682, 0.05345194786787033, 0.01856846548616886, -0.005333880428224802, -0.037274859845638275, -0.12206903100013733, 0.010930832475423813, -0.0061468202620744705, -0.04259777069091797, 0.025803934782743454, 0.030906442552804947, 0.00687276478856802, -0.01807217299938202, 0.061079759150743484, 0.0503058061003685, 0.10278254002332687, 0.041879259049892426, 0.06395412236452103, -0.04699169471859932, 0.0929371789097786, -0.04475685581564903, 0.08859303593635559, -0.0695209875702858, -5.5807785059869275e-08, 0.002518485067412257, -0.0349704846739769, 0.014268899336457253, 0.018847577273845673, -0.027616288512945175, -0.007855179719626904, 0.04848359897732735, -0.02984411083161831, 0.04819980636239052, -0.05939110368490219, 0.02551397494971752, -0.04232840612530708, -0.018920887261629105, 0.01727937161922455, 0.085082046687603, 0.06050461158156395, -0.02901587262749672, 0.09871498495340347, 0.002221717732027173, -0.09889150410890579, 0.03815259784460068, 0.05200176686048508, 0.02502436377108097, -0.023839548230171204, -0.007111137732863426, -0.00595328863710165, -0.01662333495914936, 0.10277549177408218, -0.08259789645671844, 0.0270428117364645, 0.06702492386102676, 0.01168883591890335, 0.021443497389554977, 0.002588777570053935, 0.03251038119196892, 0.03089030273258686, -0.028322285041213036, -0.04975760355591774, 0.03326582536101341, -0.014459293335676193, 0.007502001244574785, 0.05767236277461052, -0.0540848970413208, -0.06444526463747025, 0.02586783841252327, 0.021225078031420708, 0.030506480485200882, -0.12055268883705139, 0.03991292789578438, -0.011132653802633286, -0.03272038698196411, 0.0016744885360822082, 0.0006797377136535943, 0.10420665144920349, 0.11633691191673279, 0.09607241302728653, 0.06567588448524475, -0.08046473562717438, 0.10013871639966965, 0.12439469248056412, 0.024987274780869484, 0.06578942388296127, 0.05535072460770607, 0.01557253673672676], 'additional_metadata': 'Versatile Plugin System & Code Evaluation : Extensible command support for various AI models along with robust support for code evaluation , providing assistance in programming tasks . Docker Deployment : Simplified setup and maintenance through Docker deployment . Audio - to - Text & Text - to - Speech Options : Integration with Hugging Face for seamless audio - to - text transcription , and multiple TTS choices , featuring Brian TTS , Mac OS TTS , and ElevenLabs . Platform Interoperability & AI Agent Management : Streamlined creation , renaming , deletion , and updating of AI agent settings along with easy interaction with popular platforms like Twitter , GitHub , Google , DALL - E , and more . Custom Prompts & Command Control : Granular control over agent abilities through enabling or disabling specific commands , and easy creation , editing , and deletion of custom prompts to standardize user inputs . RESTful API : FastAPI - powered RESTful API for seamless integration with external applications and services . Expanding AI Support : Continually updated to include new AI providers and services , ensuring the software stays at the forefront of AI technology . Getting Started with Local Models and AGiXT Video This is a video that walks through the process of setting up and using AGiXT to interact with locally hosted language models . This is a great way to get started with AGiXT and see how it works .', 'key': '3c93ef2b59f438f0f29a36d8ed4524a21c99d0a076fccb8df138f81065a4ea9f', 'timestamp': '2023-08-28T21:54:43.839394', 'relevance_score': 0.26173908638844745}]\n"
     ]
    }
   ],
   "source": [
    "from agixtsdk import AGiXTSDK\n",
    "\n",
    "base_uri = \"http://localhost:7437\"\n",
    "ApiClient = AGiXTSDK(base_uri=base_uri)\n",
    "agent_name = \"new_agent\"\n",
    "memories = ApiClient.get_agent_memories(\n",
    "    agent_name=agent_name,\n",
    "    user_input=\"What can you tell me about AGiXT?\",\n",
    "    limit=10,\n",
    "    min_relevance_score=0.2,\n",
    "    collection_number=0,\n",
    ")\n",
    "print(memories)"
   ]
  },
  {
   "cell_type": "markdown",
   "metadata": {},
   "source": [
    "## Chat with the Agent\n",
    "\n",
    "Chat about the learned information with the agent.\n"
   ]
  },
  {
   "cell_type": "code",
   "execution_count": 25,
   "metadata": {},
   "outputs": [
    {
     "name": "stdout",
     "output_type": "stream",
     "text": [
      "Agent chat: AGiXT is an open-source artificial intelligence automation platform. It is designed to orchestrate instruction management and execute complex tasks across multiple AI providers. AGiXT combines adaptive memory, smart features, and a versatile plugin system to maximize AI potential. Its goal is to push the boundaries of AI and bring Artificial General Intelligence (AGI) closer to reality. AGiXT offers documentation and various repositories, including AGiXT Hubs, AGiXT Streamlit Web UI, AGiXT Python SDK, AGiXT TypeScript SDK, and more. You can contribute to AGiXT, support its development through donations and sponsorships, and stay updated on its progress using the provided links.\n"
     ]
    }
   ],
   "source": [
    "from agixtsdk import AGiXTSDK\n",
    "\n",
    "base_uri = \"http://localhost:7437\"\n",
    "ApiClient = AGiXTSDK(base_uri=base_uri)\n",
    "agent_name = \"new_agent\"\n",
    "agent_chat = ApiClient.chat(\n",
    "    agent_name=agent_name,\n",
    "    user_input=\"What can you tell me about AGiXT?\",\n",
    "    conversation=\"Tell me about AGiXT\",\n",
    "    context_results=6,\n",
    ")\n",
    "print(\"Agent chat:\", agent_chat)\n"
   ]
  },
  {
   "cell_type": "markdown",
   "metadata": {},
   "source": [
    "## Delete a Memory\n",
    "\n",
    "Delete a specific memory by Memory ID.\n"
   ]
  },
  {
   "cell_type": "code",
   "execution_count": 26,
   "metadata": {},
   "outputs": [
    {
     "name": "stdout",
     "output_type": "stream",
     "text": [
      "Memory: {'is_reference': False, 'external_source_name': 'https://josh-xt.github.io/AGiXT', 'id': '20e511f4923dfddc65385f034f0e5f8a0eb0e317c771d9a6ebfc5130a8beb41d', 'description': 'https://josh-xt.github.io/AGiXT', 'text': \"Configuration Each AGiXT Agent has its own settings for interfacing with AI providers , and other configuration options . These settings can be set and modified through the web interface . Documentation Need more information ? Check out the documentation for more details to get a better understanding of the concepts and features of AGiXT . Other Repositorities Check out the other AGiXT repositories at https://github.com/orgs/AGiXT/repositories - these include the AGiXT Hubs , AGiXT Streamlit Web UI , AGiXT Python SDK , AGiXT TypeScript SDK , and more ! Contributing We welcome contributions to AGiXT ! If you 're interested in contributing , please check out our contributions guide the open issues on the backend , open issues on the frontend and pull requests , submit a pull request , or suggest new features . To stay updated on the project 's progress , and . Also feel free to join our . Donations and Sponsorships We appreciate any support for AGiXT 's development , including donations , sponsorships , and any other kind of assistance . If you would like to support us , please use one of the various methods listed at the top of the repository or contact us through our or . We 're always looking for ways to improve AGiXT and make it more useful for our users . Your support will help us continue to develop and enhance the application . Thank you for considering to support us ! Our Team 🧑 \\u200d\", 'embedding': [-0.1065082997083664, -0.07967255264520645, -0.006609287578612566, 0.005320752039551735, 0.018553655594587326, -0.04156454652547836, 0.03372682258486748, 0.09393313527107239, -0.016857245936989784, -0.02138563059270382, -0.06230928748846054, -0.015006189234554768, -0.014310253784060478, -0.01611313782632351, 0.031290628015995026, 0.004163606092333794, 0.05311121046543121, -0.027717115357518196, -0.09356624633073807, -0.07980155199766159, 0.021165605634450912, -0.09433005750179291, 0.025562647730112076, -0.08133336901664734, 0.021882306784391403, -0.01674114353954792, 0.001516044489108026, -0.024493644014000893, -0.010575829073786736, -0.05418289452791214, 0.019713781774044037, -0.005324712488800287, 0.04604846611618996, 0.015030155889689922, -0.0348200723528862, 0.031161077320575714, -0.026616277173161507, 0.012476423755288124, -0.04772091284394264, -0.03163255751132965, 0.09101399034261703, 0.004503529518842697, -0.0024316785857081413, -0.045462362468242645, -0.06281833350658417, -0.0023253674153238535, -0.055759329348802567, -0.04265962541103363, -0.033934857696294785, 0.0812506228685379, -0.03550506383180618, -0.10558392852544785, 0.0374874509871006, -0.017722155898809433, -0.04438184201717377, 0.0029609010089188814, 0.00382018624804914, -0.04217350855469704, -0.0038169703911989927, -0.0724707543849945, 0.07353494316339493, -0.018801698461174965, -0.07433000206947327, 0.025332199409604073, -0.06061125174164772, 0.04398250952363014, -0.00735322292894125, 0.041520461440086365, -0.03122560866177082, -0.09493737667798996, 0.0005626925267279148, -0.006556977517902851, -0.01537160761654377, -0.006940843537449837, 0.049732960760593414, 0.04316442459821701, -0.02827824279665947, -0.00917542539536953, 0.10826073586940765, -0.03786610811948776, 0.048435501754283905, 0.07976523786783218, 0.08210672438144684, 0.0890401303768158, -0.0366533137857914, 0.022162359207868576, 0.08865432441234589, 0.08935865759849548, 0.0386417955160141, -0.0062607149593532085, -0.032315269112586975, 0.0038361335173249245, 0.05790526792407036, -0.049395062029361725, 0.04079512506723404, 0.11176986992359161, -0.0369633287191391, -0.10649536550045013, -0.06986469030380249, 0.06953584402799606, -0.011012693867087364, -0.014158940874040127, 0.04622948169708252, 0.03317127004265785, -0.040585681796073914, -0.05792774632573128, 0.0036317810881882906, 0.016788171604275703, -0.010733431205153465, 0.030286410823464394, -0.0064192949794232845, -0.0008432589238509536, 0.0014672658871859312, -0.09131420403718948, 0.003758577397093177, 0.07690319418907166, -0.03461800515651703, 0.03054472617805004, 0.0780545100569725, -0.07224109023809433, 0.018858738243579865, -0.013600777834653854, 0.012614087201654911, 0.01029032003134489, 0.2199256867170334, 0.06687217205762863, -0.052507393062114716, 6.842818571733409e-33, -0.03352368623018265, 0.03127728030085564, -0.009426294825971127, 0.006713211070746183, 0.017148762941360474, -0.020224938169121742, 0.031764063984155655, 0.019691504538059235, -0.05272296443581581, -0.027847008779644966, -0.022005878388881683, 0.06565050035715103, -0.026556434109807014, 0.011256956495344639, -0.039646562188863754, -0.0656343400478363, 0.038048289716243744, 0.041782017797231674, 0.01892775669693947, 0.008792510256171227, 0.07939908653497696, -0.044233035296201706, 0.04511607810854912, 0.09285972267389297, 0.0804780125617981, -0.039089806377887726, -0.04365139454603195, 0.03307918831706047, 0.053230877965688705, -0.01622859761118889, 0.03156815469264984, 0.03575555607676506, -0.01669224165380001, 0.024582915008068085, -0.046701107174158096, 0.005709277465939522, -0.13586951792240143, -0.06535670161247253, -0.006207214668393135, 0.08437683433294296, -0.031299661844968796, 0.05008579045534134, 0.004707436077296734, -0.01638292707502842, 0.00711078429594636, -0.022332390770316124, 0.014448332600295544, -0.03075443021953106, 0.09377440065145493, 0.035042885690927505, -0.042990438640117645, 0.03773915395140648, 0.03595422953367233, 0.03586392104625702, 0.07925432920455933, 0.06358347833156586, -0.01164075918495655, 0.02968069724738598, -0.022649148479104042, -0.07095754891633987, 0.037845443934202194, -0.07141343504190445, 0.002711938228458166, -0.02996927499771118, -0.007958652451634407, 0.05216459557414055, -0.0010469459230080247, 0.03924869745969772, 0.04107026383280754, 0.03236858546733856, -0.007197119761258364, 0.03882381692528725, -0.02288839966058731, 0.025836706161499023, -0.03810596466064453, 0.019327757880091667, -0.005918742157518864, -0.04238627105951309, -0.013081184588372707, -0.03905152529478073, -0.09458049386739731, -0.002646631794050336, -0.02354281209409237, 0.08490399271249771, -0.008878838270902634, -0.08162203431129456, -0.05078136548399925, 0.04758260026574135, 0.009843865409493446, -0.03275461867451668, -0.009375796653330326, 0.04805906489491463, -0.03424907848238945, 0.054219432175159454, -0.05285380408167839, -5.900457811457798e-33, -0.02925552986562252, -0.011490954086184502, -0.021747373044490814, 0.012325461022555828, 0.0213936734944582, -0.016637837514281273, -0.004131250083446503, 0.0798371359705925, 0.09495116770267487, 0.05512145906686783, 0.03471609950065613, 0.056744832545518875, -0.00218979618512094, -0.07264271378517151, -0.10650634765625, -0.04336890950798988, -0.006449311506003141, -0.021147537976503372, 0.06960976868867874, -0.04486147314310074, -0.0877789780497551, 0.10183488577604294, -0.004506941884756088, -0.06817977875471115, 0.0886603370308876, 0.008523236960172653, 0.011091246269643307, 0.06627751141786575, -0.02797502651810646, -0.03833760321140289, 0.06706519424915314, 0.05607596039772034, -0.03821680322289467, -0.03924362361431122, 0.010640475898981094, 0.046873271465301514, 0.09235814958810806, 0.03961167857050896, -0.11079397052526474, 0.019402440637350082, 0.05188043415546417, -0.03834279254078865, -0.015738558024168015, 0.012220125645399094, 0.026862606406211853, 0.011918758042156696, -0.06122887134552002, 0.03969617187976837, 0.0014120024861767888, -0.04263488948345184, -0.07326042652130127, -0.10330594331026077, 0.06341785937547684, -0.027776610106229782, -0.0013304686872288585, 0.041743628680706024, 0.16175808012485504, 0.04219076409935951, -0.09131929278373718, -0.006136581767350435, -0.03531543165445328, -0.06141090393066406, 0.06129038706421852, 0.05482945591211319, -0.0007084725075401366, -0.01373986341059208, -0.03599582985043526, 0.03662122040987015, -0.07429202646017075, 0.028476657345891, -0.042435649782419205, -0.04080267250537872, -0.04209757596254349, -0.02476610243320465, -0.0003783490974456072, 0.03595936298370361, 0.07450801134109497, -0.041566863656044006, 0.02734110690653324, -0.06502063572406769, -0.027169527485966682, 0.0345163457095623, -0.009051315486431122, 0.01618777960538864, -0.03206288069486618, 0.06671472638845444, 0.03180317208170891, 0.011010435409843922, 0.0331631600856781, 0.05120468512177467, -0.15150392055511475, 0.022424772381782532, 0.03691128268837929, 0.07037737965583801, -0.03543541207909584, -5.4004352989522886e-08, 0.020265595987439156, 0.0510946549475193, -0.08771224319934845, 0.00010852839477593079, -0.03009316883981228, -0.03815020993351936, -0.04254288598895073, -0.009528557769954205, 0.024059036746621132, 0.012871982529759407, -0.07806158065795898, 0.02203521504998207, -0.027273470535874367, 0.012101654894649982, 0.08570274710655212, -0.04278486594557762, -0.00028176340856589377, -0.0024175005964934826, -0.07100462913513184, -0.14451158046722412, 0.003574295435100794, -0.03060624748468399, 0.019585901871323586, -0.0034918468445539474, 0.003421173198148608, -0.0208863765001297, 0.02424016408622265, -0.0030991225503385067, -0.05221167206764221, 0.047822970896959305, -0.027278920635581017, 0.023271486163139343, 0.08037184178829193, -0.04491603374481201, 0.012996491976082325, 0.01255321316421032, -0.06283971667289734, -0.0408448725938797, 0.06957627087831497, -0.009656797163188457, 0.06318151950836182, 0.020574159920215607, -0.024762537330389023, -0.04939136654138565, 0.012959589250385761, 0.05989958345890045, -0.0003074626438319683, -0.05854594707489014, 0.07659419625997543, -0.029949698597192764, -0.07277394831180573, 0.003698391607031226, -0.03794151917099953, 0.068365678191185, 0.10219594836235046, -0.006452496163547039, 0.0016565087717026472, -0.06263041496276855, 0.1641155332326889, 0.05532023310661316, -0.029574640095233917, -0.04145091772079468, 0.004654249642044306, -0.006109706126153469], 'additional_metadata': \"Configuration Each AGiXT Agent has its own settings for interfacing with AI providers , and other configuration options . These settings can be set and modified through the web interface . Documentation Need more information ? Check out the documentation for more details to get a better understanding of the concepts and features of AGiXT . Other Repositorities Check out the other AGiXT repositories at https://github.com/orgs/AGiXT/repositories - these include the AGiXT Hubs , AGiXT Streamlit Web UI , AGiXT Python SDK , AGiXT TypeScript SDK , and more ! Contributing We welcome contributions to AGiXT ! If you 're interested in contributing , please check out our contributions guide the open issues on the backend , open issues on the frontend and pull requests , submit a pull request , or suggest new features . To stay updated on the project 's progress , and . Also feel free to join our . Donations and Sponsorships We appreciate any support for AGiXT 's development , including donations , sponsorships , and any other kind of assistance . If you would like to support us , please use one of the various methods listed at the top of the repository or contact us through our or . We 're always looking for ways to improve AGiXT and make it more useful for our users . Your support will help us continue to develop and enhance the application . Thank you for considering to support us ! Our Team 🧑 \\u200d\", 'key': '20e511f4923dfddc65385f034f0e5f8a0eb0e317c771d9a6ebfc5130a8beb41d', 'timestamp': '2023-08-28T21:54:43.798852', 'relevance_score': 0.6554387678616171}\n"
     ]
    }
   ],
   "source": [
    "from agixtsdk import AGiXTSDK\n",
    "\n",
    "base_uri = \"http://localhost:7437\"\n",
    "ApiClient = AGiXTSDK(base_uri=base_uri)\n",
    "agent_name = \"new_agent\"\n",
    "memories = ApiClient.get_agent_memories(\n",
    "    agent_name=agent_name,\n",
    "    user_input=\"What can you tell me about AGiXT?\",\n",
    "    limit=1,\n",
    "    min_relevance_score=0.2,\n",
    "    collection_number=0,\n",
    ")\n",
    "# Remove the first memory\n",
    "memory = memories[0]\n",
    "# memory_id = memory[\"id\"]\n",
    "print(\"Memory:\", memory)\n",
    "# print(\"Memory ID:\", memory_id)\n",
    "# delete_memory_resp = ApiClient.delete_agent_memory(\n",
    "#    agent_name=agent_name, memory_id=memory_id, collection_number=0\n",
    "# )\n",
    "# print(\"Delete memory response:\", delete_memory_resp)\n"
   ]
  },
  {
   "attachments": {},
   "cell_type": "markdown",
   "metadata": {},
   "source": [
    "## Wipe the agents memories\n",
    "\n",
    "This is necessary if you want the agent to serve a different purpose than its original intent after it has learned things. It may inject unnecessary context into the conversation if you don't wipe its memory and try to give it a different purpose, even temporarily.\n"
   ]
  },
  {
   "cell_type": "code",
   "execution_count": 27,
   "metadata": {},
   "outputs": [
    {
     "name": "stdout",
     "output_type": "stream",
     "text": [
      "Wipe agent memories response: Memories for agent new_agent deleted.\n"
     ]
    }
   ],
   "source": [
    "from agixtsdk import AGiXTSDK\n",
    "\n",
    "base_uri = \"http://localhost:7437\"\n",
    "ApiClient = AGiXTSDK(base_uri=base_uri)\n",
    "# Note: Use this function with caution as it will erase the agent's memory.\n",
    "agent_name = \"new_agent\"\n",
    "wipe_mem_resp = ApiClient.wipe_agent_memories(\n",
    "    agent_name=agent_name, collection_number=0\n",
    ")\n",
    "print(\"Wipe agent memories response:\", wipe_mem_resp)"
   ]
  },
  {
   "cell_type": "markdown",
   "metadata": {},
   "source": [
    "## Instruct the Agent to do something\n",
    "\n",
    "We'll do something simple with it for the sake of the basic example, we'll just tell it to `Tell me the capital of France`.\n"
   ]
  },
  {
   "cell_type": "code",
   "execution_count": 28,
   "metadata": {},
   "outputs": [
    {
     "name": "stdout",
     "output_type": "stream",
     "text": [
      "Instruct response: {\n",
      "    \"response\": \"The capital of France is Paris.\",\n",
      "    \"commands\": {\n",
      "        \"save_file\": {\n",
      "            \"filename\": \"france.txt\",\n",
      "            \"content\": \"Paris\"\n",
      "        }\n",
      "    }\n",
      "}\n",
      "\n",
      "None\n"
     ]
    }
   ],
   "source": [
    "from agixtsdk import AGiXTSDK\n",
    "\n",
    "base_uri = \"http://localhost:7437\"\n",
    "ApiClient = AGiXTSDK(base_uri=base_uri)\n",
    "agent_name = \"new_agent\"\n",
    "instruct_resp = ApiClient.instruct(\n",
    "    agent_name=agent_name,\n",
    "    user_input=\"Save a file with the the capital of France in it called 'france.txt'.\",\n",
    "    conversation=\"Talk for Tests\",\n",
    ")\n",
    "print(\"Instruct response:\", instruct_resp)\n"
   ]
  },
  {
   "cell_type": "markdown",
   "metadata": {},
   "source": [
    "## Prompt the Agent\n",
    "\n",
    "Use a custom Prompt Template to prompt the agent. For our example, we'll use our \"Write a Poem\" prompt template to have the agent write a poem for us about dragons.\n"
   ]
  },
  {
   "cell_type": "code",
   "execution_count": 29,
   "metadata": {},
   "outputs": [
    {
     "name": "stdout",
     "output_type": "stream",
     "text": [
      "Agent prompt response: In a land of fire and mythical might,\n",
      "Where the skies are filled with majestic flight,\n",
      "There dwells a creature of lore and fame,\n",
      "A being with scales and a fearsome name.\n",
      "\n",
      "Dragons, mighty beasts of ancient times,\n",
      "With wings that soar and tails that chime,\n",
      "Their eyes ablaze with an intense fire,\n",
      "Their presence sparks both awe and desire.\n",
      "\n",
      "From high mountain peaks to deep caverns below,\n",
      "Dragons wander where few dare to go,\n",
      "Their scales shimmer in hues of gold,\n",
      "As they guard their secrets, untold.\n",
      "\n",
      "With claws that can tear through stone and steel,\n",
      "They command respect and evoke great zeal,\n",
      "Their breath, a force that could level a town,\n",
      "Leaving destruction and chaos all around.\n",
      "\n",
      "But beyond their fierce and formidable might,\n",
      "Lies a beauty that shines in the darkest night,\n",
      "Their elegant wings, like a tapestry of stars,\n",
      "Carry them gracefully from afar.\n",
      "\n",
      "And amidst the roars and the scales that gleam,\n",
      "Dragons possess a soul that's not what it seems,\n",
      "For within their fiery hearts so bold,\n",
      "Lies wisdom and kindness, untold.\n",
      "\n",
      "So let us not judge them by their fearsome guise,\n",
      "But seek to understand their ancient ties,\n",
      "For dragons, with their power and grace,\n",
      "Teach us the value of strength in any case.\n",
      "\n",
      "Let us celebrate these mythical creatures,\n",
      "And honor their presence in our world's features,\n",
      "For dragons are more than just a tale,\n",
      "They remind us to be brave, and to never fail.\n"
     ]
    }
   ],
   "source": [
    "from agixtsdk import AGiXTSDK\n",
    "\n",
    "base_uri = \"http://localhost:7437\"\n",
    "ApiClient = AGiXTSDK(base_uri=base_uri)\n",
    "agent_name = \"new_agent\"\n",
    "prompt_name = \"Write a Haiku\"\n",
    "user_input = \"Show me 2.\"\n",
    "# The \"Write a Poem\" prompt only requires one argument, \"subject\".\n",
    "# We'll ask the AI to write a poem about dragons.\n",
    "prompt_args = {\n",
    "    \"user_input\": user_input,\n",
    "    \"subject\": \"dragons\",\n",
    "    \"websearch\": False,\n",
    "    \"websearch_depth\": 0,\n",
    "    \"context_results\": 0,\n",
    "    \"shots\": 1,\n",
    "    \"conversation_name\": \"Talk for Tests\",\n",
    "}\n",
    "\n",
    "agent_prompt_resp = ApiClient.prompt_agent(\n",
    "    agent_name=agent_name,\n",
    "    prompt_name=prompt_name,\n",
    "    prompt_args=prompt_args,\n",
    ")\n",
    "print(\"Agent prompt response:\", agent_prompt_resp)"
   ]
  },
  {
   "attachments": {},
   "cell_type": "markdown",
   "metadata": {},
   "source": [
    "## Get a list of Chains available to use\n"
   ]
  },
  {
   "cell_type": "code",
   "execution_count": 30,
   "metadata": {},
   "outputs": [
    {
     "name": "stdout",
     "output_type": "stream",
     "text": [
      "Chains: ['Smart Instruct', 'Smart Prompt', 'Test_Commands', 'Generate and Run Smart Task Chain', 'Write a Poem', 'Generate and Run Task Chain', 'Smart Chat - No Research', 'Generate Task Chain', 'Generate Smart Task Chain', 'Smart Chat', 'Ask Helper Agent for Help', 'Generate Image with Stable Diffusion', 'Generate Smart Task Chain without Research', 'Generate Task Chain without Research', 'New Test Agent Command Suggestions', 'Create New Command', 'Solve Math Problem', 'Smart Instruct - No Research']\n"
     ]
    }
   ],
   "source": [
    "from agixtsdk import AGiXTSDK\n",
    "\n",
    "base_uri = \"http://localhost:7437\"\n",
    "ApiClient = AGiXTSDK(base_uri=base_uri)\n",
    "chains = ApiClient.get_chains()\n",
    "print(\"Chains:\", chains)\n"
   ]
  },
  {
   "attachments": {},
   "cell_type": "markdown",
   "metadata": {},
   "source": [
    "## Create a new chain\n"
   ]
  },
  {
   "cell_type": "code",
   "execution_count": 31,
   "metadata": {},
   "outputs": [
    {
     "name": "stdout",
     "output_type": "stream",
     "text": [
      "Add chain response: Chain 'Write another Poem' created.\n"
     ]
    }
   ],
   "source": [
    "from agixtsdk import AGiXTSDK\n",
    "\n",
    "base_uri = \"http://localhost:7437\"\n",
    "ApiClient = AGiXTSDK(base_uri=base_uri)\n",
    "chain_name = \"Write another Poem\"\n",
    "add_chain_resp = ApiClient.add_chain(chain_name=chain_name)\n",
    "print(\"Add chain response:\", add_chain_resp)\n"
   ]
  },
  {
   "attachments": {},
   "cell_type": "markdown",
   "metadata": {},
   "source": [
    "## Rename the chain\n"
   ]
  },
  {
   "cell_type": "code",
   "execution_count": 32,
   "metadata": {},
   "outputs": [
    {
     "name": "stdout",
     "output_type": "stream",
     "text": [
      "Rename chain response: Chain 'Write another Poem' renamed to 'Poem Writing Chain'.\n"
     ]
    }
   ],
   "source": [
    "from agixtsdk import AGiXTSDK\n",
    "\n",
    "base_uri = \"http://localhost:7437\"\n",
    "ApiClient = AGiXTSDK(base_uri=base_uri)\n",
    "chain_name = \"Write another Poem\"\n",
    "new_chain_name = \"Poem Writing Chain\"\n",
    "rename_chain_resp = ApiClient.rename_chain(\n",
    "    chain_name=chain_name, new_name=new_chain_name\n",
    ")\n",
    "print(\"Rename chain response:\", rename_chain_resp)\n"
   ]
  },
  {
   "attachments": {},
   "cell_type": "markdown",
   "metadata": {},
   "source": [
    "## Add Chain Steps\n"
   ]
  },
  {
   "cell_type": "code",
   "execution_count": 33,
   "metadata": {},
   "outputs": [
    {
     "name": "stdout",
     "output_type": "stream",
     "text": [
      "Add step response: Step 1 added to chain 'Poem Writing Chain'.\n",
      "Add step response: Step 2 added to chain 'Poem Writing Chain'.\n"
     ]
    }
   ],
   "source": [
    "from agixtsdk import AGiXTSDK\n",
    "\n",
    "base_uri = \"http://localhost:7437\"\n",
    "ApiClient = AGiXTSDK(base_uri=base_uri)\n",
    "agent_name = \"new_agent\"\n",
    "chain_name = \"Poem Writing Chain\"\n",
    "# Test add_step()\n",
    "add_step_resp = ApiClient.add_step(\n",
    "    chain_name=chain_name,\n",
    "    step_number=1,\n",
    "    agent_name=agent_name,\n",
    "    prompt_type=\"Prompt\",\n",
    "    prompt={\n",
    "        \"prompt_name\": \"Write a Poem\",\n",
    "        \"subject\": \"Artificial Intelligence\",\n",
    "    },\n",
    ")\n",
    "print(\"Add step response:\", add_step_resp)\n",
    "add_step_resp = ApiClient.add_step(\n",
    "    chain_name=chain_name,\n",
    "    step_number=2,\n",
    "    agent_name=agent_name,\n",
    "    prompt_type=\"Prompt\",\n",
    "    prompt={\n",
    "        \"prompt_name\": \"Write a Poem\",\n",
    "        \"subject\": \"Quantum Computers\",\n",
    "    },\n",
    ")\n",
    "print(\"Add step response:\", add_step_resp)\n"
   ]
  },
  {
   "attachments": {},
   "cell_type": "markdown",
   "metadata": {},
   "source": [
    "## Get the content of the chain\n"
   ]
  },
  {
   "cell_type": "code",
   "execution_count": 34,
   "metadata": {},
   "outputs": [
    {
     "name": "stdout",
     "output_type": "stream",
     "text": [
      "Chain: {'chain_name': 'Poem Writing Chain', 'steps': [{'step': 1, 'agent_name': 'new_agent', 'prompt_type': 'Prompt', 'prompt': {'prompt_name': 'Write a Poem', 'subject': 'Artificial Intelligence'}}, {'step': 2, 'agent_name': 'new_agent', 'prompt_type': 'Prompt', 'prompt': {'prompt_name': 'Write a Poem', 'subject': 'Quantum Computers'}}]}\n"
     ]
    }
   ],
   "source": [
    "from agixtsdk import AGiXTSDK\n",
    "\n",
    "base_uri = \"http://localhost:7437\"\n",
    "ApiClient = AGiXTSDK(base_uri=base_uri)\n",
    "chain_name = \"Poem Writing Chain\"\n",
    "chain = ApiClient.get_chain(chain_name=chain_name)\n",
    "print(\"Chain:\", chain)\n"
   ]
  },
  {
   "cell_type": "markdown",
   "metadata": {},
   "source": [
    "## Get Chain Arguments\n"
   ]
  },
  {
   "cell_type": "code",
   "execution_count": 35,
   "metadata": {},
   "outputs": [
    {
     "data": {
      "text/plain": [
       "['subject', 'user_input']"
      ]
     },
     "execution_count": 35,
     "metadata": {},
     "output_type": "execute_result"
    }
   ],
   "source": [
    "from agixtsdk import AGiXTSDK\n",
    "\n",
    "base_uri = \"http://localhost:7437\"\n",
    "ApiClient = AGiXTSDK(base_uri=base_uri)\n",
    "chain_name = \"Poem Writing Chain\"\n",
    "ApiClient.get_chain_args(chain_name=chain_name)\n"
   ]
  },
  {
   "attachments": {},
   "cell_type": "markdown",
   "metadata": {},
   "source": [
    "## Modify a chain step\n",
    "\n",
    "Instead of the subject of the poem just being Artificial Intelligence, we'll change it to be Artificial General Intelligence.\n"
   ]
  },
  {
   "cell_type": "code",
   "execution_count": 36,
   "metadata": {},
   "outputs": [
    {
     "name": "stdout",
     "output_type": "stream",
     "text": [
      "Update step response: Step 1 updated for chain 'Poem Writing Chain'.\n"
     ]
    }
   ],
   "source": [
    "from agixtsdk import AGiXTSDK\n",
    "\n",
    "base_uri = \"http://localhost:7437\"\n",
    "ApiClient = AGiXTSDK(base_uri=base_uri)\n",
    "chain_name = \"Poem Writing Chain\"\n",
    "agent_name = \"new_agent\"\n",
    "# Test update_step()\n",
    "update_step_resp = ApiClient.update_step(\n",
    "    chain_name=chain_name,\n",
    "    step_number=1,\n",
    "    agent_name=agent_name,\n",
    "    prompt_type=\"Prompt\",\n",
    "    prompt={\n",
    "        \"prompt_name\": \"Write a Poem\",\n",
    "        \"subject\": \"Artificial General Intelligence\",\n",
    "    },\n",
    ")\n",
    "print(\"Update step response:\", update_step_resp)\n"
   ]
  },
  {
   "attachments": {},
   "cell_type": "markdown",
   "metadata": {},
   "source": [
    "## Move the chain step\n",
    "\n",
    "When you move a step, it will automatically reassign the order of the steps to match the new order. If there are only 2 steps like in our case, it will just swap them.\n"
   ]
  },
  {
   "cell_type": "code",
   "execution_count": 37,
   "metadata": {},
   "outputs": [
    {
     "name": "stdout",
     "output_type": "stream",
     "text": [
      "Move step response: Step 1 moved to 2 in chain 'Poem Writing Chain'.\n"
     ]
    }
   ],
   "source": [
    "from agixtsdk import AGiXTSDK\n",
    "\n",
    "base_uri = \"http://localhost:7437\"\n",
    "ApiClient = AGiXTSDK(base_uri=base_uri)\n",
    "chain_name = \"Poem Writing Chain\"\n",
    "agent_name = \"new_agent\"\n",
    "move_step_resp = ApiClient.move_step(\n",
    "    chain_name=chain_name, old_step_number=1, new_step_number=2\n",
    ")\n",
    "print(\"Move step response:\", move_step_resp)\n"
   ]
  },
  {
   "attachments": {},
   "cell_type": "markdown",
   "metadata": {},
   "source": [
    "## Delete a step from the chain\n"
   ]
  },
  {
   "cell_type": "code",
   "execution_count": 38,
   "metadata": {},
   "outputs": [
    {
     "name": "stdout",
     "output_type": "stream",
     "text": [
      "Delete step response: Step 2 deleted from chain 'Poem Writing Chain'.\n"
     ]
    }
   ],
   "source": [
    "from agixtsdk import AGiXTSDK\n",
    "\n",
    "base_uri = \"http://localhost:7437\"\n",
    "ApiClient = AGiXTSDK(base_uri=base_uri)\n",
    "chain_name = \"Poem Writing Chain\"\n",
    "delete_step_resp = ApiClient.delete_step(chain_name=chain_name, step_number=2)\n",
    "print(\"Delete step response:\", delete_step_resp)\n"
   ]
  },
  {
   "attachments": {},
   "cell_type": "markdown",
   "metadata": {},
   "source": [
    "## Add a Command to the Chain\n",
    "\n",
    "We'll write the result to a file for an example.\n"
   ]
  },
  {
   "cell_type": "code",
   "execution_count": 39,
   "metadata": {},
   "outputs": [
    {
     "name": "stdout",
     "output_type": "stream",
     "text": [
      "Add step response: Step 2 added to chain 'Poem Writing Chain'.\n"
     ]
    }
   ],
   "source": [
    "from agixtsdk import AGiXTSDK\n",
    "\n",
    "base_uri = \"http://localhost:7437\"\n",
    "ApiClient = AGiXTSDK(base_uri=base_uri)\n",
    "agent_name = \"new_agent\"\n",
    "chain_name = \"Poem Writing Chain\"\n",
    "add_step_resp = ApiClient.add_step(\n",
    "    chain_name=chain_name,\n",
    "    step_number=2,\n",
    "    agent_name=agent_name,\n",
    "    prompt_type=\"Command\",\n",
    "    prompt={\n",
    "        \"command_name\": \"Write to File\",\n",
    "        \"filename\": \"{user_input}.txt\",\n",
    "        \"text\": \"Poem:\\n{STEP1}\",\n",
    "    },\n",
    ")\n",
    "print(\"Add step response:\", add_step_resp)\n"
   ]
  },
  {
   "attachments": {},
   "cell_type": "markdown",
   "metadata": {},
   "source": [
    "## Run the chain\n"
   ]
  },
  {
   "cell_type": "code",
   "execution_count": 40,
   "metadata": {},
   "outputs": [
    {
     "name": "stdout",
     "output_type": "stream",
     "text": [
      "Run chain response: File written to successfully.\n"
     ]
    }
   ],
   "source": [
    "from agixtsdk import AGiXTSDK\n",
    "\n",
    "base_uri = \"http://localhost:7437\"\n",
    "ApiClient = AGiXTSDK(base_uri=base_uri)\n",
    "chain_name = \"Poem Writing Chain\"\n",
    "# The user input for this chain will just be the name of the text file to write to.\n",
    "user_input = \"Super Poems\"\n",
    "run_chain_resp = ApiClient.run_chain(\n",
    "    chain_name=chain_name, user_input=user_input, from_step=1\n",
    ")\n",
    "print(\"Run chain response:\", run_chain_resp)\n"
   ]
  },
  {
   "attachments": {},
   "cell_type": "markdown",
   "metadata": {},
   "source": [
    "## Get the responses from the chain running\n"
   ]
  },
  {
   "cell_type": "code",
   "execution_count": 41,
   "metadata": {},
   "outputs": [
    {
     "name": "stdout",
     "output_type": "stream",
     "text": [
      "Chain: {'1': {'agent_name': 'new_agent', 'prompt_type': 'Prompt', 'prompt': {'prompt_name': 'Write a Poem', 'subject': 'Quantum Computers'}, 'step': 1, 'response': \"In the depths of the quantum realm,\\nWhere possibilities unfurl,\\nLies a marvel of modern science,\\nA computer that defies our world.\\n\\nQuantum entanglement's mysterious dance,\\nHarnessing particles, in a cosmic trance,\\nBits of information, not just zero or one,\\nA quantum computer, where wonders are spun.\\n\\nThe qubits, like tiny dancers on a stage,\\nCan exist in multiple states, they engage,\\nA quantum superposition, a delicate balance,\\nComputing power that leaves us in a trance.\\n\\nThrough quantum gates, these qubits entwine,\\nCreating a web of possibilities, oh so fine,\\nParallel universes, in computation they roam,\\nQuantum computers, bringing the unknown home.\\n\\nComplex algorithms, they can quickly solve,\\nShattering encryption, with problems they evolve,\\nFrom cryptography to simulating the universe,\\nQuantum computers, a scientific traverse.\\n\\nYet, in this realm of infinite potential,\\nErrors and decoherence can be consequential,\\nNoise and disturbances, they threaten the state,\\nA challenge to overcome, for quantum's fate.\\n\\nBut fear not, for scientists persist,\\nAdvancing quantum technology, a fervent twist,\\nWith every breakthrough, a step closer we come,\\nTo a future where quantum computers will hum.\\n\\nIn this world of uncertainty and flux,\\nQuantum computers, the next paradigm, unbox,\\nUnveiling the secrets of our reality's core,\\nA technological marvel, forever to adore.\"}, '2': {'agent_name': 'new_agent', 'prompt_type': 'Command', 'prompt': {'command_name': 'Write to File', 'filename': '{user_input}.txt', 'text': 'Poem:\\n{STEP1}'}, 'step': 2, 'response': 'File written to successfully.'}}\n"
     ]
    }
   ],
   "source": [
    "from agixtsdk import AGiXTSDK\n",
    "\n",
    "base_uri = \"http://localhost:7437\"\n",
    "ApiClient = AGiXTSDK(base_uri=base_uri)\n",
    "chain_name = \"Poem Writing Chain\"\n",
    "chain = ApiClient.get_chain_responses(chain_name=chain_name)\n",
    "print(\"Chain:\", chain)"
   ]
  },
  {
   "attachments": {},
   "cell_type": "markdown",
   "metadata": {},
   "source": [
    "## Delete the chain\n"
   ]
  },
  {
   "cell_type": "code",
   "execution_count": 42,
   "metadata": {},
   "outputs": [
    {
     "name": "stdout",
     "output_type": "stream",
     "text": [
      "Delete chain response: Chain 'Poem Writing Chain' deleted.\n"
     ]
    }
   ],
   "source": [
    "from agixtsdk import AGiXTSDK\n",
    "\n",
    "base_uri = \"http://localhost:7437\"\n",
    "ApiClient = AGiXTSDK(base_uri=base_uri)\n",
    "chain_name = \"Poem Writing Chain\"\n",
    "delete_chain_resp = ApiClient.delete_chain(chain_name=chain_name)\n",
    "print(\"Delete chain response:\", delete_chain_resp)\n"
   ]
  },
  {
   "attachments": {},
   "cell_type": "markdown",
   "metadata": {},
   "source": [
    "## Get a list of prompts available to use\n"
   ]
  },
  {
   "cell_type": "code",
   "execution_count": 43,
   "metadata": {},
   "outputs": [
    {
     "name": "stdout",
     "output_type": "stream",
     "text": [
      "Prompts: ['Pseudo Code', 'Chat with Commands', 'Convert OpenAPI Endpoint', 'Ask for Help', 'SmartInstruct-Researcher', 'Custom Input', 'Title a Poem', 'ValidationFailed', 'SmartTask-CleanResponse', 'Create a Skeleton', 'Proofreader', 'SmartChat-Researcher', 'Evaluate Code', 'Get ezsession Auth Type', 'Expert Determination', 'Tell Me How', 'New Extension Format', 'Execution', 'Score Response', 'Get Task Description', 'Validation', 'Write a Haiku', 'SmartInstruct-Resolver', 'SmartInstruct-CleanResponse', 'AGiXT SD Generator_V3', 'Translate Math to Python', 'SmartInstruct-StepByStep', 'instruct', 'Pick a Poem Subject', 'Task Execution', 'Prompt Generator', 'Check-Instruction', 'Mindmap', 'Get Clarification', 'SmartTask-Execution', 'SmartChat-Resolver', 'Chat', 'Create New Command', 'SmartChat-CleanResponse', 'Prioritize', 'Pick-a-Link', 'SmartInstruct-Execution', 'Write a Poem', 'JSONFormatter', 'SmartTask-StepByStep', 'Title a Chain', 'Instruction', 'WebSearch', 'SmartChat-StepByStep', 'Summarize Web Content', 'Get Task List', 'Break into steps']\n"
     ]
    }
   ],
   "source": [
    "from agixtsdk import AGiXTSDK\n",
    "\n",
    "base_uri = \"http://localhost:7437\"\n",
    "ApiClient = AGiXTSDK(base_uri=base_uri)\n",
    "prompts = ApiClient.get_prompts(prompt_category=\"Default\")\n",
    "print(\"Prompts:\", prompts)\n"
   ]
  },
  {
   "attachments": {},
   "cell_type": "markdown",
   "metadata": {},
   "source": [
    "## Get the content of a prompt\n"
   ]
  },
  {
   "cell_type": "code",
   "execution_count": 44,
   "metadata": {},
   "outputs": [
    {
     "name": "stdout",
     "output_type": "stream",
     "text": [
      "Get prompt response: Write a poem about {subject} .\n",
      "{user_input}\n"
     ]
    }
   ],
   "source": [
    "from agixtsdk import AGiXTSDK\n",
    "\n",
    "base_uri = \"http://localhost:7437\"\n",
    "ApiClient = AGiXTSDK(base_uri=base_uri)\n",
    "get_prompt_resp = ApiClient.get_prompt(\n",
    "    prompt_name=\"Write a Poem\", prompt_category=\"Default\"\n",
    ")\n",
    "print(\"Get prompt response:\", get_prompt_resp)\n"
   ]
  },
  {
   "attachments": {},
   "cell_type": "markdown",
   "metadata": {},
   "source": [
    "## Create a new prompt\n",
    "\n",
    "We'll make a basic prompt that asks the AI to tell us a short story about a subject. The subject is not yet defined, it would be defined in a chain. Using `{variable_name}` in a prompt will allow you to define the variable in a chain and have it be used in the prompt.\n"
   ]
  },
  {
   "cell_type": "code",
   "execution_count": 45,
   "metadata": {},
   "outputs": [
    {
     "name": "stdout",
     "output_type": "stream",
     "text": [
      "Add prompt response: Prompt 'Short Story' added.\n"
     ]
    }
   ],
   "source": [
    "from agixtsdk import AGiXTSDK\n",
    "\n",
    "base_uri = \"http://localhost:7437\"\n",
    "ApiClient = AGiXTSDK(base_uri=base_uri)\n",
    "add_prompt_resp = ApiClient.add_prompt(\n",
    "    prompt_name=\"Short Story\",\n",
    "    prompt=\"Tell me a short story about {subject}\",\n",
    "    prompt_category=\"Default\",\n",
    ")\n",
    "print(\"Add prompt response:\", add_prompt_resp)\n"
   ]
  },
  {
   "attachments": {},
   "cell_type": "markdown",
   "metadata": {},
   "source": [
    "## Get the prompt variables\n"
   ]
  },
  {
   "cell_type": "code",
   "execution_count": 46,
   "metadata": {},
   "outputs": [
    {
     "name": "stdout",
     "output_type": "stream",
     "text": [
      "Get prompt args response: ['subject']\n"
     ]
    }
   ],
   "source": [
    "from agixtsdk import AGiXTSDK\n",
    "\n",
    "base_uri = \"http://localhost:7437\"\n",
    "ApiClient = AGiXTSDK(base_uri=base_uri)\n",
    "get_prompt_args_resp = ApiClient.get_prompt_args(\n",
    "    prompt_name=\"Short Story\", prompt_category=\"Default\"\n",
    ")\n",
    "print(\"Get prompt args response:\", get_prompt_args_resp)"
   ]
  },
  {
   "attachments": {},
   "cell_type": "markdown",
   "metadata": {},
   "source": [
    "## Update the prompt content\n",
    "\n",
    "We'll ask it to `Add a dragon to the story somehow` in the prompt to make the short story more interesting.\n"
   ]
  },
  {
   "cell_type": "code",
   "execution_count": 47,
   "metadata": {},
   "outputs": [
    {
     "name": "stdout",
     "output_type": "stream",
     "text": [
      "Update prompt response: Prompt 'Short Story' updated.\n"
     ]
    }
   ],
   "source": [
    "from agixtsdk import AGiXTSDK\n",
    "\n",
    "base_uri = \"http://localhost:7437\"\n",
    "ApiClient = AGiXTSDK(base_uri=base_uri)\n",
    "update_prompt_resp = ApiClient.update_prompt(\n",
    "    prompt_name=\"Short Story\",\n",
    "    prompt=\"Tell me a short story about {subject}. Add a dragon to the story somehow.\",\n",
    "    prompt_category=\"Default\",\n",
    ")\n",
    "print(\"Update prompt response:\", update_prompt_resp)\n"
   ]
  },
  {
   "attachments": {},
   "cell_type": "markdown",
   "metadata": {},
   "source": [
    "## Delete the prompt\n",
    "\n",
    "If you don't want the prompt anymore, delete it.\n"
   ]
  },
  {
   "cell_type": "code",
   "execution_count": 48,
   "metadata": {},
   "outputs": [
    {
     "name": "stdout",
     "output_type": "stream",
     "text": [
      "Delete prompt response: Prompt 'Short Story' deleted.\n"
     ]
    }
   ],
   "source": [
    "from agixtsdk import AGiXTSDK\n",
    "\n",
    "base_uri = \"http://localhost:7437\"\n",
    "ApiClient = AGiXTSDK(base_uri=base_uri)\n",
    "delete_prompt_resp = ApiClient.delete_prompt(\n",
    "    prompt_name=\"Short Story\", prompt_category=\"Default\"\n",
    ")\n",
    "print(\"Delete prompt response:\", delete_prompt_resp)"
   ]
  },
  {
   "attachments": {},
   "cell_type": "markdown",
   "metadata": {},
   "source": [
    "## Delete the Agent\n",
    "\n",
    "If you are done with the agent and don't want or need it anymore, you can delete it along with everything associated with it, such as its memories, settings, and history. The Agent isn't just fired, it is dead.\n"
   ]
  },
  {
   "cell_type": "code",
   "execution_count": 49,
   "metadata": {},
   "outputs": [
    {
     "name": "stdout",
     "output_type": "stream",
     "text": [
      "Delete agent response: Agent new_agent deleted.\n"
     ]
    }
   ],
   "source": [
    "from agixtsdk import AGiXTSDK\n",
    "\n",
    "base_uri = \"http://localhost:7437\"\n",
    "ApiClient = AGiXTSDK(base_uri=base_uri)\n",
    "agent_name = \"new_agent\"\n",
    "delete_agent_resp = ApiClient.delete_agent(agent_name=agent_name)\n",
    "print(\"Delete agent response:\", delete_agent_resp)\n"
   ]
  }
 ],
 "metadata": {
  "kernelspec": {
   "display_name": "Python 3",
   "language": "python",
   "name": "python3"
  },
  "language_info": {
   "codemirror_mode": {
    "name": "ipython",
    "version": 3
   },
   "file_extension": ".py",
   "mimetype": "text/x-python",
   "name": "python",
   "nbconvert_exporter": "python",
   "pygments_lexer": "ipython3",
   "version": "3.10.12"
  },
  "orig_nbformat": 4
 },
 "nbformat": 4,
 "nbformat_minor": 2
}

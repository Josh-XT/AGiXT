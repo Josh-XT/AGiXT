{
 "cells": [
  {
   "attachments": {},
   "cell_type": "markdown",
   "metadata": {},
   "source": [
    "# Tests for AGiXT API Client\n"
   ]
  },
  {
   "attachments": {},
   "cell_type": "markdown",
   "metadata": {},
   "source": [
    "# Agents\n"
   ]
  },
  {
   "attachments": {},
   "cell_type": "markdown",
   "metadata": {},
   "source": [
    "## Get Providers\n",
    "\n",
    "This will get a list of AI providers available to use with AGiXT.\n"
   ]
  },
  {
   "cell_type": "code",
   "execution_count": 111,
   "metadata": {},
   "outputs": [
    {
     "name": "stdout",
     "output_type": "stream",
     "text": [
      "Providers: ['gpt4free', 'azure', 'chatgpt', 'runpod', 'poe', 'oobabooga', 'openai', 'huggingface', 'fastchat', 'transformer', 'bing', 'palm', 'claude', 'gpt4all', 'huggingchat', 'llamacppapi', 'kobold', 'llamacpp', 'gpugpt4all', 'bard']\n"
     ]
    }
   ],
   "source": [
    "from ApiClient import ApiClient\n",
    "\n",
    "# Test get_providers()\n",
    "providers = ApiClient.get_providers()\n",
    "print(\"Providers:\", providers)\n"
   ]
  },
  {
   "attachments": {},
   "cell_type": "markdown",
   "metadata": {},
   "source": [
    "## Get Default Provider Settings\n",
    "\n",
    "Choose a provider from the list of AI providers and get the default settings for that provider.\n"
   ]
  },
  {
   "cell_type": "code",
   "execution_count": 112,
   "metadata": {},
   "outputs": [
    {
     "name": "stdout",
     "output_type": "stream",
     "text": [
      "Settings for gpt4free: {'AI_MODEL': 'gpt-3.5-turbo', 'AI_TEMPERATURE': 0.7, 'MAX_TOKENS': 4000, 'provider': 'gpt4free'}\n"
     ]
    }
   ],
   "source": [
    "from ApiClient import ApiClient\n",
    "\n",
    "# Test get_provider_settings()\n",
    "provider_name = \"gpt4free\"\n",
    "provider_settings = ApiClient.get_provider_settings(provider_name=provider_name)\n",
    "print(f\"Settings for {provider_name}:\", provider_settings)"
   ]
  },
  {
   "attachments": {},
   "cell_type": "markdown",
   "metadata": {},
   "source": [
    "## Get Embedding Providers\n",
    "\n",
    "Embedding providers are used to embed information to vectors to store in the vector database to be searched for context injection.\n"
   ]
  },
  {
   "cell_type": "code",
   "execution_count": 113,
   "metadata": {},
   "outputs": [
    {
     "name": "stdout",
     "output_type": "stream",
     "text": [
      "Embed Providers: ['azure', 'cohere', 'default', 'embed_text', 'get_embedder', 'google_palm', 'google_vertex', 'large_local', 'llamacpp', 'openai']\n"
     ]
    }
   ],
   "source": [
    "from ApiClient import ApiClient\n",
    "\n",
    "# Test get_embed_providers()\n",
    "embed_providers = ApiClient.get_embed_providers()\n",
    "print(\"Embed Providers:\", embed_providers)"
   ]
  },
  {
   "attachments": {},
   "cell_type": "markdown",
   "metadata": {},
   "source": [
    "## Get Extension Settings\n",
    "\n",
    "This is where we get all third party extension settings for the agent with defaults to fill in when there is nothing entered on the front end.\n"
   ]
  },
  {
   "cell_type": "code",
   "execution_count": 114,
   "metadata": {},
   "outputs": [
    {
     "name": "stdout",
     "output_type": "stream",
     "text": [
      "Extension Settings response: {'macostts': {'USE_MAC_OS_TTS': False}, 'file_system': {'WORKING_DIRECTORY': './WORKSPACE', 'WORKING_DIRECTORY_RESTRICTED': True}, 'huggingface': {'HUGGINGFACE_API_KEY': '', 'HUGGINGFACE_AUDIO_TO_TEXT_MODEL': 'facebook/wav2vec2-large-960h-lv60-self', 'WORKING_DIRECTORY': './WORKSPACE'}, 'discord': {'DISCORD_API_KEY': '', 'DISCORD_COMMAND_PREFIX': '/AGiXT'}, 'dalle': {'HUGGINGFACE_API_KEY': '', 'OPENAI_API_KEY': '', 'WORKING_DIRECTORY': './WORKSPACE'}, 'briantts': {'USE_BRIAN_TTS': True}, 'google': {'GOOGLE_API_KEY': ''}, 'microsoft_365': {'MICROSOFT_365_CLIENT_ID': '', 'MICROSOFT_365_CLIENT_SECRET': '', 'MICROSOFT_365_REDIRECT_URI': ''}, 'github': {'GITHUB_USERNAME': '', 'GITHUB_API_KEY': '', 'WORKING_DIRECTORY': './WORKSPACE'}, 'gtts': {'USE_GTTS': False}, 'elevenlabs': {'ELEVENLABS_API_KEY': '', 'ELEVENLABS_VOICE': 'Josh'}, 'sendgrid_email': {'SENDGRID_API_KEY': '', 'SENDGRID_EMAIL': ''}, 'searxng': {'SEARXNG_INSTANCE_URL': ''}, 'twitter': {'TW_CONSUMER_KEY': '', 'TW_CONSUMER_SECRET': '', 'TW_ACCESS_TOKEN': '', 'TW_ACCESS_TOKEN_SECRET': ''}}\n"
     ]
    }
   ],
   "source": [
    "from ApiClient import ApiClient\n",
    "\n",
    "# Test get_extension_settings()\n",
    "ext_settings_resp = ApiClient.get_extension_settings()\n",
    "print(\"Extension Settings response:\", ext_settings_resp)\n"
   ]
  },
  {
   "attachments": {},
   "cell_type": "markdown",
   "metadata": {},
   "source": [
    "## Get Extension Commands\n"
   ]
  },
  {
   "cell_type": "code",
   "execution_count": 115,
   "metadata": {},
   "outputs": [
    {
     "name": "stdout",
     "output_type": "stream",
     "text": [
      "Extensions response: [['Scrape Text with Playwright', 'scrape_text_with_playwright', {'url': None}], ['Scrape Links with Playwright', 'scrape_links_with_playwright', {'url': None}], ['Speak with MacOS TTS', 'speak_with_macos_speech', {'text': None, 'voice_index': 0}], ['Evaluate Code', 'evaluate_code', {'code': None, 'agent': 'AGiXT'}], ['Analyze Pull Request', 'analyze_pull_request', {'pr_url': None, 'agent': 'AGiXT'}], ['Perform Automated Testing', 'perform_automated_testing', {'test_url': None, 'agent': 'AGiXT'}], ['Run CI-CD Pipeline', 'run_ci_cd_pipeline', {'repo_url': None, 'agent': 'AGiXT'}], ['Improve Code', 'improve_code', {'suggestions': None, 'code': None, 'agent': 'AGiXT'}], ['Write Tests', 'write_tests', {'code': None, 'focus': None, 'agent': 'AGiXT'}], ['Create a new command', 'create_command', {'function_description': None, 'agent': 'AGiXT'}], ['Describe Image', 'describe_image', {'image_url': None}], ['Ask AI Agent Bing', 'ask', {'user_input': None, 'agent': 'AGiXT'}], ['Instruct AI Agent Bing', 'instruct', {'user_input': None, 'agent': 'AGiXT'}], ['Ask AI Agent tester', 'ask', {'user_input': None, 'agent': 'AGiXT'}], ['Instruct AI Agent tester', 'instruct', {'user_input': None, 'agent': 'AGiXT'}], ['Ask AI Agent gpt4free', 'ask', {'user_input': None, 'agent': 'AGiXT'}], ['Instruct AI Agent gpt4free', 'instruct', {'user_input': None, 'agent': 'AGiXT'}], ['Ask AI Agent Bard', 'ask', {'user_input': None, 'agent': 'AGiXT'}], ['Instruct AI Agent Bard', 'instruct', {'user_input': None, 'agent': 'AGiXT'}], ['Ask AI Agent Vicuna', 'ask', {'user_input': None, 'agent': 'AGiXT'}], ['Instruct AI Agent Vicuna', 'instruct', {'user_input': None, 'agent': 'AGiXT'}], ['Ask AI Agent OpenAI', 'ask', {'user_input': None, 'agent': 'AGiXT'}], ['Instruct AI Agent OpenAI', 'instruct', {'user_input': None, 'agent': 'AGiXT'}], ['Ask AI Agent azure', 'ask', {'user_input': None, 'agent': 'AGiXT'}], ['Instruct AI Agent azure', 'instruct', {'user_input': None, 'agent': 'AGiXT'}], ['Ask AI Agent ChatGPT', 'ask', {'user_input': None, 'agent': 'AGiXT'}], ['Instruct AI Agent ChatGPT', 'instruct', {'user_input': None, 'agent': 'AGiXT'}], ['Ask AI Agent Guanaco', 'ask', {'user_input': None, 'agent': 'AGiXT'}], ['Instruct AI Agent Guanaco', 'instruct', {'user_input': None, 'agent': 'AGiXT'}], ['Write to File', 'write_to_file', {'filename': None, 'text': None}], ['Read File', 'read_file', {'filename': None}], ['Search Files', 'search_files', {'directory': None}], ['Append to File', 'append_to_file', {'filename': None, 'text': None}], ['Execute Python File', 'execute_python_file', {'file': None}], ['Delete File', 'delete_file', {'filename': None}], ['Execute Shell', 'execute_shell', {'command_line': None}], ['Read Audio from File', 'read_audio_from_file', {'audio_path': None}], ['Read Audio', 'read_audio', {'audio': None}], ['Generate Image with Stable Diffusion', 'generate_image_with_hf', {'prompt': None, 'filename': None}], ['Speak with TTS with BrianTTS', 'speak_with_briantts', {'text': None}], ['Clone Github Repository', 'clone_repo', {'repo_url': None, 'clone_path': None}], ['Get Datetime', 'get_datetime', {}], ['Speak with TTS Using Elevenlabs', 'speak_with_elevenlabs', {'text': None, 'voice_index': 0}], ['Use The Search Engine', 'search', {'query': None}], ['Create Task Chain', 'create_task_chain', {'agent': None, 'primary_objective': None, 'numbered_list_of_tasks': None, 'short_task_description': None}], ['Create Smart Task Chain', 'create_smart_task_chain', {'agent': None, 'primary_objective': None, 'numbered_list_of_tasks': None, 'short_task_description': None}]]\n"
     ]
    }
   ],
   "source": [
    "from ApiClient import ApiClient\n",
    "\n",
    "# Test get_extensions()\n",
    "ext = ApiClient.get_extensions()\n",
    "print(\"Extensions response:\", ext)\n"
   ]
  },
  {
   "attachments": {},
   "cell_type": "markdown",
   "metadata": {},
   "source": [
    "## Get a list of all current Agents\n",
    "\n",
    "Any agents that you have created will be listed here. The `status` field is to say if the agent is currently running a task or not.\n"
   ]
  },
  {
   "cell_type": "code",
   "execution_count": 116,
   "metadata": {},
   "outputs": [
    {
     "name": "stdout",
     "output_type": "stream",
     "text": [
      "Agents: [{'name': 'Bing', 'status': False}, {'name': 'tester', 'status': False}, {'name': 'gpt4free', 'status': False}, {'name': 'Bard', 'status': False}, {'name': 'Vicuna', 'status': False}, {'name': 'OpenAI', 'status': False}, {'name': 'azure', 'status': False}, {'name': 'ChatGPT', 'status': False}, {'name': 'Guanaco', 'status': False}]\n"
     ]
    }
   ],
   "source": [
    "from ApiClient import ApiClient\n",
    "\n",
    "# Test get_agents()\n",
    "agents = ApiClient.get_agents()\n",
    "print(\"Agents:\", agents)\n"
   ]
  },
  {
   "attachments": {},
   "cell_type": "markdown",
   "metadata": {},
   "source": [
    "## Create a new Agent\n",
    "\n",
    "Creates a new agent with the `gpt4free` provider. We'll use `gpt4free` because it is the one that requires the least configuration.\n"
   ]
  },
  {
   "cell_type": "code",
   "execution_count": 117,
   "metadata": {},
   "outputs": [
    {
     "name": "stdout",
     "output_type": "stream",
     "text": [
      "Add agent response: {'message': 'Agent test_agent created.'}\n"
     ]
    }
   ],
   "source": [
    "from ApiClient import ApiClient\n",
    "\n",
    "# Test add_agent()\n",
    "agent_name = \"test_agent\"\n",
    "provider_name = \"gpt4free\"\n",
    "# Gets a list of the provider setting defaults\n",
    "# We'll use defaults for the provider instead of defining anything for the tests.\n",
    "provider_settings = ApiClient.get_provider_settings(provider_name=provider_name)\n",
    "add_agent_resp = ApiClient.add_agent(agent_name=agent_name, settings=provider_settings)\n",
    "print(\"Add agent response:\", add_agent_resp)"
   ]
  },
  {
   "attachments": {},
   "cell_type": "markdown",
   "metadata": {},
   "source": [
    "## Rename the test agent\n",
    "\n",
    "We will just rename it to `new_agent`.\n"
   ]
  },
  {
   "cell_type": "code",
   "execution_count": 118,
   "metadata": {},
   "outputs": [
    {
     "name": "stdout",
     "output_type": "stream",
     "text": [
      "Rename agent response: {'message': 'Agent renamed.'}\n"
     ]
    }
   ],
   "source": [
    "from ApiClient import ApiClient\n",
    "\n",
    "# Test rename_agent()\n",
    "agent_name = \"test_agent\"\n",
    "new_agent_name = \"new_agent\"\n",
    "rename_agent_resp = ApiClient.rename_agent(\n",
    "    agent_name=agent_name, new_name=new_agent_name\n",
    ")\n",
    "print(\"Rename agent response:\", rename_agent_resp)"
   ]
  },
  {
   "attachments": {},
   "cell_type": "markdown",
   "metadata": {},
   "source": [
    "## Get the agent's settings\n",
    "\n",
    "This will get the settings for the agent we just created, this will tell you all commands available to the agent as well as all of the provider settings for the agent.\n"
   ]
  },
  {
   "cell_type": "code",
   "execution_count": 119,
   "metadata": {},
   "outputs": [
    {
     "name": "stdout",
     "output_type": "stream",
     "text": [
      "Config for new_agent: {'commands': {'Scrape Text with Playwright': False, 'Scrape Links with Playwright': False, 'Speak with MacOS TTS': False, 'Evaluate Code': False, 'Analyze Pull Request': False, 'Perform Automated Testing': False, 'Run CI-CD Pipeline': False, 'Improve Code': False, 'Write Tests': False, 'Create a new command': False, 'Describe Image': False, 'Ask AI Agent Bing': False, 'Instruct AI Agent Bing': False, 'Ask AI Agent tester': False, 'Instruct AI Agent tester': False, 'Ask AI Agent gpt4free': False, 'Instruct AI Agent gpt4free': False, 'Ask AI Agent Bard': False, 'Instruct AI Agent Bard': False, 'Ask AI Agent Vicuna': False, 'Instruct AI Agent Vicuna': False, 'Ask AI Agent OpenAI': False, 'Instruct AI Agent OpenAI': False, 'Ask AI Agent azure': False, 'Instruct AI Agent azure': False, 'Ask AI Agent ChatGPT': False, 'Instruct AI Agent ChatGPT': False, 'Ask AI Agent new_agent': False, 'Instruct AI Agent new_agent': False, 'Ask AI Agent Guanaco': False, 'Instruct AI Agent Guanaco': False, 'Write to File': False, 'Read File': False, 'Search Files': False, 'Append to File': False, 'Execute Python File': False, 'Delete File': False, 'Execute Shell': False, 'Read Audio from File': False, 'Read Audio': False, 'Generate Image with Stable Diffusion': False, 'Speak with TTS with BrianTTS': False, 'Clone Github Repository': False, 'Get Datetime': False, 'Speak with TTS Using Elevenlabs': False, 'Use The Search Engine': False, 'Create Task Chain': False, 'Create Smart Task Chain': False}, 'settings': {'AI_MODEL': 'gpt-3.5-turbo', 'AI_TEMPERATURE': 0.7, 'MAX_TOKENS': 4000, 'provider': 'gpt4free'}}\n"
     ]
    }
   ],
   "source": [
    "from ApiClient import ApiClient\n",
    "\n",
    "# Test get_agentconfig()\n",
    "agent_name = \"new_agent\"\n",
    "agent_config = ApiClient.get_agentconfig(agent_name=agent_name)\n",
    "print(f\"Config for {agent_name}:\", agent_config)\n"
   ]
  },
  {
   "attachments": {},
   "cell_type": "markdown",
   "metadata": {},
   "source": [
    "## Update the agent's settings\n",
    "\n",
    "We'll just update the temperature from the default `0.7` to `0.5` to confirm that we can modify a setting.\n"
   ]
  },
  {
   "cell_type": "code",
   "execution_count": 120,
   "metadata": {},
   "outputs": [
    {
     "name": "stdout",
     "output_type": "stream",
     "text": [
      "Update agent settings response: Agent new_agent configuration updated.\n",
      "New config for new_agent: {'commands': {'Scrape Text with Playwright': False, 'Scrape Links with Playwright': False, 'Speak with MacOS TTS': False, 'Evaluate Code': False, 'Analyze Pull Request': False, 'Perform Automated Testing': False, 'Run CI-CD Pipeline': False, 'Improve Code': False, 'Write Tests': False, 'Create a new command': False, 'Describe Image': False, 'Ask AI Agent Bing': False, 'Instruct AI Agent Bing': False, 'Ask AI Agent tester': False, 'Instruct AI Agent tester': False, 'Ask AI Agent gpt4free': False, 'Instruct AI Agent gpt4free': False, 'Ask AI Agent Bard': False, 'Instruct AI Agent Bard': False, 'Ask AI Agent Vicuna': False, 'Instruct AI Agent Vicuna': False, 'Ask AI Agent OpenAI': False, 'Instruct AI Agent OpenAI': False, 'Ask AI Agent azure': False, 'Instruct AI Agent azure': False, 'Ask AI Agent ChatGPT': False, 'Instruct AI Agent ChatGPT': False, 'Ask AI Agent new_agent': False, 'Instruct AI Agent new_agent': False, 'Ask AI Agent Guanaco': False, 'Instruct AI Agent Guanaco': False, 'Write to File': False, 'Read File': False, 'Search Files': False, 'Append to File': False, 'Execute Python File': False, 'Delete File': False, 'Execute Shell': False, 'Read Audio from File': False, 'Read Audio': False, 'Generate Image with Stable Diffusion': False, 'Speak with TTS with BrianTTS': False, 'Clone Github Repository': False, 'Get Datetime': False, 'Speak with TTS Using Elevenlabs': False, 'Use The Search Engine': False, 'Create Task Chain': False, 'Create Smart Task Chain': False}, 'settings': {'AI_MODEL': 'gpt-3.5-turbo', 'AI_TEMPERATURE': 0.5, 'MAX_TOKENS': 4000, 'provider': 'gpt4free'}}\n"
     ]
    }
   ],
   "source": [
    "from ApiClient import ApiClient\n",
    "\n",
    "# Test update_agent_settings()\n",
    "agent_name = \"new_agent\"\n",
    "agent_config = ApiClient.get_agentconfig(agent_name=agent_name)\n",
    "agent_settings = agent_config[\"settings\"]\n",
    "# We'll just change the AI_TEMPERATURE setting for the test\n",
    "agent_settings[\"AI_TEMPERATURE\"] = 0.5\n",
    "update_agent_settings_resp = ApiClient.update_agent_settings(\n",
    "    agent_name=agent_name, settings=agent_settings\n",
    ")\n",
    "print(\"Update agent settings response:\", update_agent_settings_resp)\n",
    "agent_config = ApiClient.get_agentconfig(agent_name=agent_name)\n",
    "print(f\"New config for {agent_name}:\", agent_config)\n"
   ]
  },
  {
   "attachments": {},
   "cell_type": "markdown",
   "metadata": {},
   "source": [
    "## Get a list of the agent's commands\n",
    "\n",
    "This will get a list of all commands available to the agent.\n"
   ]
  },
  {
   "cell_type": "code",
   "execution_count": 121,
   "metadata": {},
   "outputs": [
    {
     "name": "stdout",
     "output_type": "stream",
     "text": [
      "Commands: {'Scrape Text with Playwright': False, 'Scrape Links with Playwright': False, 'Speak with MacOS TTS': False, 'Evaluate Code': False, 'Analyze Pull Request': False, 'Perform Automated Testing': False, 'Run CI-CD Pipeline': False, 'Improve Code': False, 'Write Tests': False, 'Create a new command': False, 'Describe Image': False, 'Ask AI Agent Bing': False, 'Instruct AI Agent Bing': False, 'Ask AI Agent tester': False, 'Instruct AI Agent tester': False, 'Ask AI Agent gpt4free': False, 'Instruct AI Agent gpt4free': False, 'Ask AI Agent Bard': False, 'Instruct AI Agent Bard': False, 'Ask AI Agent Vicuna': False, 'Instruct AI Agent Vicuna': False, 'Ask AI Agent OpenAI': False, 'Instruct AI Agent OpenAI': False, 'Ask AI Agent azure': False, 'Instruct AI Agent azure': False, 'Ask AI Agent ChatGPT': False, 'Instruct AI Agent ChatGPT': False, 'Ask AI Agent new_agent': False, 'Instruct AI Agent new_agent': False, 'Ask AI Agent Guanaco': False, 'Instruct AI Agent Guanaco': False, 'Write to File': False, 'Read File': False, 'Search Files': False, 'Append to File': False, 'Execute Python File': False, 'Delete File': False, 'Execute Shell': False, 'Read Audio from File': False, 'Read Audio': False, 'Generate Image with Stable Diffusion': False, 'Speak with TTS with BrianTTS': False, 'Clone Github Repository': False, 'Get Datetime': False, 'Speak with TTS Using Elevenlabs': False, 'Use The Search Engine': False, 'Create Task Chain': False, 'Create Smart Task Chain': False}\n"
     ]
    }
   ],
   "source": [
    "from ApiClient import ApiClient\n",
    "\n",
    "# Test get_commands()\n",
    "agent_name = \"new_agent\"\n",
    "commands = ApiClient.get_commands(agent_name=agent_name)\n",
    "print(\"Commands:\", commands)\n"
   ]
  },
  {
   "attachments": {},
   "cell_type": "markdown",
   "metadata": {},
   "source": [
    "## Toggle a Command for the Agent\n",
    "\n",
    "We'll toggle the `Write to File` command to `true` to confirm that we can toggle a command.\n"
   ]
  },
  {
   "cell_type": "code",
   "execution_count": 122,
   "metadata": {},
   "outputs": [
    {
     "name": "stdout",
     "output_type": "stream",
     "text": [
      "Toggle command response: Command 'Write to File' toggled for agent 'new_agent'.\n"
     ]
    }
   ],
   "source": [
    "# Test toggle_command()\n",
    "agent_name = \"new_agent\"\n",
    "# We'll enable the \"Write to File\" command for the test\n",
    "toggle_command_resp = ApiClient.toggle_command(\n",
    "    agent_name=agent_name, command_name=\"Write to File\", enable=True\n",
    ")\n",
    "print(\"Toggle command response:\", toggle_command_resp)"
   ]
  },
  {
   "attachments": {},
   "cell_type": "markdown",
   "metadata": {},
   "source": [
    "## Chat with the Agent\n",
    "\n",
    "We'll chat with the agent to confirm that it is working. We'll ask a simple question like `What is the capital of France?`\n"
   ]
  },
  {
   "cell_type": "code",
   "execution_count": 123,
   "metadata": {},
   "outputs": [
    {
     "name": "stdout",
     "output_type": "stream",
     "text": [
      "Chat response: The capital of France is Paris.\n"
     ]
    }
   ],
   "source": [
    "from ApiClient import ApiClient\n",
    "\n",
    "# Test chat()\n",
    "agent_name = \"new_agent\"\n",
    "chat_resp = ApiClient.chat(\n",
    "    agent_name=agent_name, prompt=\"What is the capital of France?\"\n",
    ")\n",
    "print(\"Chat response:\", chat_resp)"
   ]
  },
  {
   "attachments": {},
   "cell_type": "markdown",
   "metadata": {},
   "source": [
    "## Prompt the Agent\n",
    "\n",
    "Use a custom Prompt Template to prompt the agent. For our example, we'll use our \"Write a Poem\" prompt template to have the agent write a poem for us about dragons.\n"
   ]
  },
  {
   "cell_type": "code",
   "execution_count": 124,
   "metadata": {},
   "outputs": [
    {
     "name": "stdout",
     "output_type": "stream",
     "text": [
      "Agent prompt response: In a land of fire and stone,\n",
      "Where dragons reign and wander alone,\n",
      "Their scales as hard as any stone,\n",
      "Their eyes as bright as the sun's own throne.\n",
      "\n",
      "They fly through skies of blue and red,\n",
      "And breathe out flames that can leave you dead,\n",
      "Horned beasts with sharp-toothed grins,\n",
      "That strike fear in the hearts of mortal men.\n",
      "\n",
      "Their wings move swift in the air,\n",
      "And their roars make kingdoms shake with care,\n",
      "Gold and jewels they hold in their keep,\n",
      "And woe to those who dare to steal or creep.\n",
      "\n",
      "Yet for all their strength and might,\n",
      "These creatures have a heart that's bright,\n",
      "They guard the sky with all their might,\n",
      "And in their lair they sleep at night.\n",
      "\n",
      "So let us honor these mighty beasts,\n",
      "For they are creatures we should please,\n",
      "With respect and homage we should treat,\n",
      "These dragons fierce and full of heat.\n"
     ]
    }
   ],
   "source": [
    "from ApiClient import ApiClient\n",
    "\n",
    "# Test prompt_agent()\n",
    "agent_name = \"new_agent\"\n",
    "prompt_name = \"Write a Haiku\"\n",
    "user_input = \"Show me 3.\"\n",
    "# The \"Write a Poem\" prompt only requires one argument, \"subject\".\n",
    "# We'll ask the AI to write a poem about dragons.\n",
    "prompt_args = {\"subject\": \"dragons\"}\n",
    "agent_prompt_resp = ApiClient.prompt_agent(\n",
    "    agent_name=agent_name,\n",
    "    prompt_name=prompt_name,\n",
    "    prompt_args=prompt_args,\n",
    "    user_input=user_input,\n",
    "    websearch=False,  # We don't need web search for this test\n",
    "    websearch_depth=0,  # Depth of web search if enabled.\n",
    "    context_results=0,  # Number of context results to inject from memory\n",
    "    shots=1,  # Number of responses to generate\n",
    ")\n",
    "print(\"Agent prompt response:\", agent_prompt_resp)"
   ]
  },
  {
   "attachments": {},
   "cell_type": "markdown",
   "metadata": {},
   "source": [
    "## Instruct the Agent to do something\n",
    "\n",
    "We'll do something simple with it for the sake of the basic example, we'll just tell it to `Tell me the capital of France`.\n"
   ]
  },
  {
   "cell_type": "code",
   "execution_count": 125,
   "metadata": {},
   "outputs": [
    {
     "name": "stdout",
     "output_type": "stream",
     "text": [
      "Instruct response: The capital of France is Paris.\n",
      "\n",
      "Commands Executed:\n",
      "{'Write to File': {'filename': 'france_capital.txt', 'text': 'Paris'}}\n",
      "\n",
      "Command Execution Response:\n",
      "\n",
      "Executed Command:Write to File with args {'filename': 'france_capital.txt', 'text': 'Paris'}.\n",
      "Command Output: File written to successfully.\n",
      "\n"
     ]
    }
   ],
   "source": [
    "from ApiClient import ApiClient\n",
    "\n",
    "# Test instruct()\n",
    "agent_name = \"new_agent\"\n",
    "instruct_resp = ApiClient.instruct(\n",
    "    agent_name=agent_name, prompt=\"Tell me the capital of France.\"\n",
    ")\n",
    "print(\"Instruct response:\", instruct_resp)"
   ]
  },
  {
   "attachments": {},
   "cell_type": "markdown",
   "metadata": {},
   "source": [
    "## Chat History of the Agent\n",
    "\n",
    "Get the chat history from the Agent.\n"
   ]
  },
  {
   "cell_type": "code",
   "execution_count": 126,
   "metadata": {},
   "outputs": [
    {
     "name": "stdout",
     "output_type": "stream",
     "text": [
      "Chat history: [{'USER': 'June 12, 2023 09:54 PM\\nWhat is the capital of France?'}, {'new_agent': 'June 12, 2023 09:54 PM\\nThe capital of France is Paris.'}, {'USER': 'June 12, 2023 09:54 PM\\nWrite a poem about dragons .\\n'}, {'new_agent': \"June 12, 2023 09:54 PM\\nIn a land of fire and stone,\\nWhere dragons reign and wander alone,\\nTheir scales as hard as any stone,\\nTheir eyes as bright as the sun's own throne.\\n\\nThey fly through skies of blue and red,\\nAnd breathe out flames that can leave you dead,\\nHorned beasts with sharp-toothed grins,\\nThat strike fear in the hearts of mortal men.\\n\\nTheir wings move swift in the air,\\nAnd their roars make kingdoms shake with care,\\nGold and jewels they hold in their keep,\\nAnd woe to those who dare to steal or creep.\\n\\nYet for all their strength and might,\\nThese creatures have a heart that's bright,\\nThey guard the sky with all their might,\\nAnd in their lair they sleep at night.\\n\\nSo let us honor these mighty beasts,\\nFor they are creatures we should please,\\nWith respect and homage we should treat,\\nThese dragons fierce and full of heat.\"}, {'USER': 'June 12, 2023 09:54 PM\\nCommands Available To Complete Task:\\n`Write to File` - Arguments: {\\'filename\\': None, \\'text\\': None}\\n\\n\\nYou are an AI language model. Your name is {AGENT_NAME}. Your role is to do anything asked of you with precision. You have the following constraints:\\n1. ~4000 word limit for short term memory. Your short term memory is short, so immediately save important information to files.\\n2. If you are unsure how you previously did something or want to recall past events, thinking about similar events will help you remember.\\n3. No user assistance.\\n4. Exclusively use the commands listed in double quotes e.g. \"command name\".\\n\\nYou have the following resources:\\n1. Internet access for searches and information gathering.\\n2. Long Term memory management.\\n3. GPT-3.5 powered Agents for delegation of simple tasks.\\n4. File output.\\n\\nRESPOND IN THE FOLLOWING JSON FORMAT ONLY! If there are no commands, simply make the commands section an empty object like {}.\\n```JSON\\n{\\n    \"response\": \"Your response to the task.\",\\n    \"commands\": {\\n        \"command_name\": {\\n            \"arg1\": \"val1\",\\n            \"arg2\": \"val2\"\\n        },\\n        \"command_name2\": {\\n            \"arg1\": \"val1\",\\n            \"arg2\": \"val2\",\\n            \"argN\": \"valN\"\\n        }\\n    }\\n}\\n```\\n\\nYour task: Tell me the capital of France.'}, {'new_agent': \"June 12, 2023 09:54 PM\\nThe capital of France is Paris.\\n\\nCommands Executed:\\n{'Write to File': {'filename': 'france_capital.txt', 'text': 'Paris'}}\\n\\nCommand Execution Response:\\n\\nExecuted Command:Write to File with args {'filename': 'france_capital.txt', 'text': 'Paris'}.\\nCommand Output: File written to successfully.\\n\"}]\n"
     ]
    }
   ],
   "source": [
    "from ApiClient import ApiClient\n",
    "\n",
    "# Test get_chat_history()\n",
    "agent_name = \"new_agent\"\n",
    "chat_history = ApiClient.get_chat_history(agent_name=agent_name)\n",
    "print(\"Chat history:\", chat_history)"
   ]
  },
  {
   "attachments": {},
   "cell_type": "markdown",
   "metadata": {},
   "source": [
    "## Update Agent Commands\n",
    "\n",
    "In this example, we'll only change the `Write to File` command to `False`, but we could change any (or all) of the commands with this API call.\n"
   ]
  },
  {
   "cell_type": "code",
   "execution_count": 127,
   "metadata": {},
   "outputs": [
    {
     "name": "stdout",
     "output_type": "stream",
     "text": [
      "Update agent commands response: Agent new_agent configuration updated.\n",
      "New config for new_agent: {'commands': {'Scrape Text with Playwright': False, 'Scrape Links with Playwright': False, 'Speak with MacOS TTS': False, 'Evaluate Code': False, 'Analyze Pull Request': False, 'Perform Automated Testing': False, 'Run CI-CD Pipeline': False, 'Improve Code': False, 'Write Tests': False, 'Create a new command': False, 'Describe Image': False, 'Ask AI Agent Bing': False, 'Instruct AI Agent Bing': False, 'Ask AI Agent tester': False, 'Instruct AI Agent tester': False, 'Ask AI Agent gpt4free': False, 'Instruct AI Agent gpt4free': False, 'Ask AI Agent Bard': False, 'Instruct AI Agent Bard': False, 'Ask AI Agent Vicuna': False, 'Instruct AI Agent Vicuna': False, 'Ask AI Agent OpenAI': False, 'Instruct AI Agent OpenAI': False, 'Ask AI Agent azure': False, 'Instruct AI Agent azure': False, 'Ask AI Agent ChatGPT': False, 'Instruct AI Agent ChatGPT': False, 'Ask AI Agent new_agent': False, 'Instruct AI Agent new_agent': False, 'Ask AI Agent Guanaco': False, 'Instruct AI Agent Guanaco': False, 'Write to File': False, 'Read File': False, 'Search Files': False, 'Append to File': False, 'Execute Python File': False, 'Delete File': False, 'Execute Shell': False, 'Read Audio from File': False, 'Read Audio': False, 'Generate Image with Stable Diffusion': False, 'Speak with TTS with BrianTTS': False, 'Clone Github Repository': False, 'Get Datetime': False, 'Speak with TTS Using Elevenlabs': False, 'Use The Search Engine': False, 'Create Task Chain': False, 'Create Smart Task Chain': False}, 'settings': {'AI_MODEL': 'gpt-3.5-turbo', 'AI_TEMPERATURE': 0.5, 'MAX_TOKENS': 4000, 'provider': 'gpt4free'}}\n"
     ]
    }
   ],
   "source": [
    "from ApiClient import ApiClient\n",
    "\n",
    "# Test update_agent_commands()\n",
    "agent_name = \"new_agent\"\n",
    "agent_config = ApiClient.get_agentconfig(agent_name=agent_name)\n",
    "agent_commands = agent_config[\"commands\"]\n",
    "agent_commands[\"Write to File\"] = False\n",
    "update_agent_commands_resp = ApiClient.update_agent_commands(\n",
    "    agent_name=agent_name, commands=agent_commands\n",
    ")\n",
    "print(\"Update agent commands response:\", update_agent_commands_resp)\n",
    "agent_config = ApiClient.get_agentconfig(agent_name=agent_name)\n",
    "print(f\"New config for {agent_name}:\", agent_config)\n"
   ]
  },
  {
   "attachments": {},
   "cell_type": "markdown",
   "metadata": {},
   "source": [
    "## Have the Agent Learn from a File\n"
   ]
  },
  {
   "cell_type": "code",
   "execution_count": 128,
   "metadata": {},
   "outputs": [
    {
     "name": "stdout",
     "output_type": "stream",
     "text": [
      "File Learning response: Agent learned the content from the file.\n"
     ]
    }
   ],
   "source": [
    "from ApiClient import ApiClient\n",
    "\n",
    "# Test learn_file()\n",
    "agent_name = \"new_agent\"\n",
    "file_learning = ApiClient.learn_file(\n",
    "    agent_name=agent_name, file_name=\"test.txt\", file_content=\"This is a test file.\"\n",
    ")\n",
    "print(\"File Learning response:\", file_learning)"
   ]
  },
  {
   "attachments": {},
   "cell_type": "markdown",
   "metadata": {},
   "source": [
    "## Have the Agent Learn from a URL\n"
   ]
  },
  {
   "cell_type": "code",
   "execution_count": 129,
   "metadata": {},
   "outputs": [
    {
     "name": "stdout",
     "output_type": "stream",
     "text": [
      "URL Learning response: Agent learned the content from the url.\n"
     ]
    }
   ],
   "source": [
    "from ApiClient import ApiClient\n",
    "\n",
    "# Test learn_url()\n",
    "agent_name = \"new_agent\"\n",
    "url_learning = ApiClient.learn_url(agent_name=agent_name, url=\"https://agixt.com\")\n",
    "print(\"URL Learning response:\", url_learning)\n"
   ]
  },
  {
   "attachments": {},
   "cell_type": "markdown",
   "metadata": {},
   "source": [
    "## Wipe the agents memories\n",
    "\n",
    "This is necessary if you want the agent to serve a different purpose than its original intent after it has learned things. It may inject unnecessary context into the conversation if you don't wipe its memory and try to give it a different purpose, even temporarily.\n"
   ]
  },
  {
   "cell_type": "code",
   "execution_count": 130,
   "metadata": {},
   "outputs": [
    {
     "name": "stdout",
     "output_type": "stream",
     "text": [
      "Wipe agent memories response: Memories for agent new_agent deleted.\n"
     ]
    }
   ],
   "source": [
    "from ApiClient import ApiClient\n",
    "\n",
    "# Test wipe_agent_memories()\n",
    "# Note: Use this function with caution as it will erase the agent's memory.\n",
    "agent_name = \"new_agent\"\n",
    "wipe_mem_resp = ApiClient.wipe_agent_memories(agent_name=agent_name)\n",
    "print(\"Wipe agent memories response:\", wipe_mem_resp)"
   ]
  },
  {
   "attachments": {},
   "cell_type": "markdown",
   "metadata": {},
   "source": [
    "# Chains\n"
   ]
  },
  {
   "attachments": {},
   "cell_type": "markdown",
   "metadata": {},
   "source": [
    "## Get a list of Chains available to use\n"
   ]
  },
  {
   "cell_type": "code",
   "execution_count": 131,
   "metadata": {},
   "outputs": [
    {
     "name": "stdout",
     "output_type": "stream",
     "text": [
      "Chains: ['Smart Instruct', 'Test_Commands', 'Generate and Run Smart Task Chain', 'Write a Poem', 'Generate and Run Task Chain', 'Generate Task Chain', 'Generate Smart Task Chain', 'Smart Chat']\n"
     ]
    }
   ],
   "source": [
    "from ApiClient import ApiClient\n",
    "\n",
    "# Test get_chains()\n",
    "chains = ApiClient.get_chains()\n",
    "print(\"Chains:\", chains)"
   ]
  },
  {
   "attachments": {},
   "cell_type": "markdown",
   "metadata": {},
   "source": [
    "## Create a new chain\n"
   ]
  },
  {
   "cell_type": "code",
   "execution_count": 132,
   "metadata": {},
   "outputs": [
    {
     "name": "stdout",
     "output_type": "stream",
     "text": [
      "Add chain response: Chain 'Write another Poem' created.\n"
     ]
    }
   ],
   "source": [
    "from ApiClient import ApiClient\n",
    "\n",
    "# Test add_chain()\n",
    "chain_name = \"Write another Poem\"\n",
    "add_chain_resp = ApiClient.add_chain(chain_name=chain_name)\n",
    "print(\"Add chain response:\", add_chain_resp)"
   ]
  },
  {
   "attachments": {},
   "cell_type": "markdown",
   "metadata": {},
   "source": [
    "## Rename the chain\n"
   ]
  },
  {
   "cell_type": "code",
   "execution_count": 133,
   "metadata": {},
   "outputs": [
    {
     "name": "stdout",
     "output_type": "stream",
     "text": [
      "Rename chain response: Chain 'Write another Poem' renamed to 'Poem Writing Chain'.\n"
     ]
    }
   ],
   "source": [
    "from ApiClient import ApiClient\n",
    "\n",
    "# Test rename_chain()\n",
    "chain_name = \"Write another Poem\"\n",
    "new_chain_name = \"Poem Writing Chain\"\n",
    "rename_chain_resp = ApiClient.rename_chain(\n",
    "    chain_name=chain_name, new_name=new_chain_name\n",
    ")\n",
    "print(\"Rename chain response:\", rename_chain_resp)\n"
   ]
  },
  {
   "attachments": {},
   "cell_type": "markdown",
   "metadata": {},
   "source": [
    "## Add Chain Steps\n"
   ]
  },
  {
   "cell_type": "code",
   "execution_count": 134,
   "metadata": {},
   "outputs": [
    {
     "name": "stdout",
     "output_type": "stream",
     "text": [
      "Add step response: Step 1 added to chain 'Poem Writing Chain'.\n",
      "Add step response: Step 2 added to chain 'Poem Writing Chain'.\n"
     ]
    }
   ],
   "source": [
    "from ApiClient import ApiClient\n",
    "\n",
    "agent_name = \"new_agent\"\n",
    "chain_name = \"Poem Writing Chain\"\n",
    "# Test add_step()\n",
    "add_step_resp = ApiClient.add_step(\n",
    "    chain_name=chain_name,\n",
    "    step_number=1,\n",
    "    agent_name=agent_name,\n",
    "    prompt_type=\"Prompt\",\n",
    "    prompt={\n",
    "        \"prompt_name\": \"Write a Poem\",\n",
    "        \"subject\": \"Artificial Intelligence\",\n",
    "    },\n",
    ")\n",
    "print(\"Add step response:\", add_step_resp)\n",
    "add_step_resp = ApiClient.add_step(\n",
    "    chain_name=chain_name,\n",
    "    step_number=2,\n",
    "    agent_name=agent_name,\n",
    "    prompt_type=\"Prompt\",\n",
    "    prompt={\n",
    "        \"prompt_name\": \"Write a Poem\",\n",
    "        \"subject\": \"Quantum Computers\",\n",
    "    },\n",
    ")\n",
    "print(\"Add step response:\", add_step_resp)\n"
   ]
  },
  {
   "attachments": {},
   "cell_type": "markdown",
   "metadata": {},
   "source": [
    "## Get the content of the chain\n"
   ]
  },
  {
   "cell_type": "code",
   "execution_count": 135,
   "metadata": {},
   "outputs": [
    {
     "name": "stdout",
     "output_type": "stream",
     "text": [
      "Chain: {'chain_name': 'Poem Writing Chain', 'steps': [{'step': 1, 'agent_name': 'new_agent', 'prompt_type': 'Prompt', 'prompt': {'prompt_name': 'Write a Poem', 'subject': 'Artificial Intelligence'}}, {'step': 2, 'agent_name': 'new_agent', 'prompt_type': 'Prompt', 'prompt': {'prompt_name': 'Write a Poem', 'subject': 'Quantum Computers'}}]}\n"
     ]
    }
   ],
   "source": [
    "from ApiClient import ApiClient\n",
    "\n",
    "# Test get_chain()\n",
    "chain_name = \"Poem Writing Chain\"\n",
    "chain = ApiClient.get_chain(chain_name=chain_name)\n",
    "print(\"Chain:\", chain)"
   ]
  },
  {
   "attachments": {},
   "cell_type": "markdown",
   "metadata": {},
   "source": [
    "## Modify a chain step\n",
    "\n",
    "Instead of the subject of the poem just being Artificial Intelligence, we'll change it to be Artificial General Intelligence.\n"
   ]
  },
  {
   "cell_type": "code",
   "execution_count": 136,
   "metadata": {},
   "outputs": [
    {
     "name": "stdout",
     "output_type": "stream",
     "text": [
      "Update step response: Step 1 updated for chain 'Poem Writing Chain'.\n"
     ]
    }
   ],
   "source": [
    "from ApiClient import ApiClient\n",
    "\n",
    "chain_name = \"Poem Writing Chain\"\n",
    "agent_name = \"new_agent\"\n",
    "# Test update_step()\n",
    "update_step_resp = ApiClient.update_step(\n",
    "    chain_name=chain_name,\n",
    "    step_number=1,\n",
    "    agent_name=agent_name,\n",
    "    prompt_type=\"Prompt\",\n",
    "    prompt={\n",
    "        \"prompt_name\": \"Write a Poem\",\n",
    "        \"subject\": \"Artificial General Intelligence\",\n",
    "    },\n",
    ")\n",
    "print(\"Update step response:\", update_step_resp)\n"
   ]
  },
  {
   "attachments": {},
   "cell_type": "markdown",
   "metadata": {},
   "source": [
    "## Move the chain step\n",
    "\n",
    "When you move a step, it will automatically reassign the order of the steps to match the new order. If there are only 2 steps like in our case, it will just swap them.\n"
   ]
  },
  {
   "cell_type": "code",
   "execution_count": 137,
   "metadata": {},
   "outputs": [
    {
     "name": "stdout",
     "output_type": "stream",
     "text": [
      "Move step response: Step 1 moved to 2 in chain 'Poem Writing Chain'.\n"
     ]
    }
   ],
   "source": [
    "from ApiClient import ApiClient\n",
    "\n",
    "chain_name = \"Poem Writing Chain\"\n",
    "agent_name = \"new_agent\"\n",
    "\n",
    "# Test move_step()\n",
    "move_step_resp = ApiClient.move_step(\n",
    "    chain_name=chain_name, old_step_number=1, new_step_number=2\n",
    ")\n",
    "print(\"Move step response:\", move_step_resp)\n"
   ]
  },
  {
   "attachments": {},
   "cell_type": "markdown",
   "metadata": {},
   "source": [
    "## Add a Command to the Chain\n",
    "\n",
    "We'll write the result to a file for an example.\n"
   ]
  },
  {
   "cell_type": "code",
   "execution_count": 138,
   "metadata": {},
   "outputs": [
    {
     "name": "stdout",
     "output_type": "stream",
     "text": [
      "Add step response: Step 3 added to chain 'Poem Writing Chain'.\n"
     ]
    }
   ],
   "source": [
    "from ApiClient import ApiClient\n",
    "\n",
    "agent_name = \"new_agent\"\n",
    "chain_name = \"Poem Writing Chain\"\n",
    "# Test add_step()\n",
    "add_step_resp = ApiClient.add_step(\n",
    "    chain_name=chain_name,\n",
    "    step_number=3,\n",
    "    agent_name=agent_name,\n",
    "    prompt_type=\"Command\",\n",
    "    prompt={\n",
    "        \"command_name\": \"Write to File\",\n",
    "        \"filename\": \"{user_input}.txt\",\n",
    "        \"text\": \"First Poem:\\n{STEP1}\\n\\nSecond Poem:\\n{STEP2}\",\n",
    "    },\n",
    ")\n",
    "print(\"Add step response:\", add_step_resp)\n"
   ]
  },
  {
   "attachments": {},
   "cell_type": "markdown",
   "metadata": {},
   "source": [
    "## Run the chain\n"
   ]
  },
  {
   "cell_type": "code",
   "execution_count": 139,
   "metadata": {},
   "outputs": [
    {
     "name": "stdout",
     "output_type": "stream",
     "text": [
      "Run chain response: {'1': {'response': \"Quantum computers, machines of wonder\\nWith qubits and gates to ponder\\nTheir power and speed beyond compare\\nA technological marvel, so rare.\\n\\nThey harness quantum physics' strange ways\\nTo solve problems in an astonishing craze\\nSimulating complex systems and more\\nTheir potential, endless, to explore.\\n\\nWith parallel universes to explore\\nQuantum computers will open new doors\\nTo knowledge and science, they'll lead the way\\nTo the discoveries of a brighter day.\\n\\nFrom cryptography to medicine and more\\nQuantum computers will help us explore\\nThe mysteries of our universe, vast and deep\\nWith great power, they'll help us reach.\\n\\nSo let us praise these machines of wonder\\nFor their potential, too great to ponder\\nQuantum computers, with their power and might\\nWill bring us closer to the light.\", 'agent_name': 'new_agent', 'prompt': {'prompt_name': 'Write a Poem', 'subject': 'Quantum Computers'}, 'prompt_type': 'Prompt'}, '2': {'response': 'Artificial General Intelligence, a phrase so vast and deep\\nIt speaks of a world beyond our reach, where machines think and speak\\nWith their own kind of intelligence, separate from our own\\nA way of seeing, thinking, feeling, that’s different, and yet somehow known\\n\\nAGI is a quest for man, to understand the mind\\nTo create intelligent machines that are of a similar kind\\nIt’s a world beyond our reach, a place we’ve never known\\nA world of pure intelligence, of metal, wires and chrome\\n\\nWe’ve built machines to think before, but they’re limited in their scope\\nAGI is different, it’s a new kind of hope\\nA hope for a world where we can speak to our machines\\nAnd they will answer us with thoughts and hopes and dreams\\n\\nThe AI revolution is upon us, and AGI is the crown\\nIt will change the world forever, and turn it upside down\\nOur machines will be as smart as men, and much more efficient too\\nWe’ll create a world of wonder, where anything we want to do, we’ll do.\\n\\nSo let us claim this superpower, and build a new world with it\\nA world without limits, without boundaries or any limit\\nA world where our machines can think and speak, and where we’ll all get along\\nA world where our machines can truly sing, and we’ll all join in the song.', 'agent_name': 'new_agent', 'prompt': {'prompt_name': 'Write a Poem', 'subject': 'Artificial General Intelligence'}, 'prompt_type': 'Prompt'}, '3': {'response': 'File written to successfully.', 'agent_name': 'new_agent', 'prompt': {'command_name': 'Write to File', 'filename': '{user_input}.txt', 'text': 'First Poem:\\n{STEP1}\\n\\nSecond Poem:\\n{STEP2}'}, 'prompt_type': 'Command'}}\n"
     ]
    }
   ],
   "source": [
    "from ApiClient import ApiClient\n",
    "\n",
    "# Test run_chain()\n",
    "chain_name = \"Poem Writing Chain\"\n",
    "# The user input for this chain will just be the name of the text file to write to.\n",
    "user_input = \"Super Poems\"\n",
    "run_chain_resp = ApiClient.run_chain(chain_name=chain_name, user_input=user_input)\n",
    "print(\"Run chain response:\", run_chain_resp)"
   ]
  },
  {
   "attachments": {},
   "cell_type": "markdown",
   "metadata": {},
   "source": [
    "## Get the responses from the chain running\n"
   ]
  },
  {
   "cell_type": "code",
   "execution_count": 140,
   "metadata": {},
   "outputs": [
    {
     "name": "stdout",
     "output_type": "stream",
     "text": [
      "Chain: {'1': {'response': \"Quantum computers, machines of wonder\\nWith qubits and gates to ponder\\nTheir power and speed beyond compare\\nA technological marvel, so rare.\\n\\nThey harness quantum physics' strange ways\\nTo solve problems in an astonishing craze\\nSimulating complex systems and more\\nTheir potential, endless, to explore.\\n\\nWith parallel universes to explore\\nQuantum computers will open new doors\\nTo knowledge and science, they'll lead the way\\nTo the discoveries of a brighter day.\\n\\nFrom cryptography to medicine and more\\nQuantum computers will help us explore\\nThe mysteries of our universe, vast and deep\\nWith great power, they'll help us reach.\\n\\nSo let us praise these machines of wonder\\nFor their potential, too great to ponder\\nQuantum computers, with their power and might\\nWill bring us closer to the light.\", 'agent_name': 'new_agent', 'prompt': {'prompt_name': 'Write a Poem', 'subject': 'Quantum Computers'}, 'prompt_type': 'Prompt'}, '2': {'response': 'Artificial General Intelligence, a phrase so vast and deep\\nIt speaks of a world beyond our reach, where machines think and speak\\nWith their own kind of intelligence, separate from our own\\nA way of seeing, thinking, feeling, that’s different, and yet somehow known\\n\\nAGI is a quest for man, to understand the mind\\nTo create intelligent machines that are of a similar kind\\nIt’s a world beyond our reach, a place we’ve never known\\nA world of pure intelligence, of metal, wires and chrome\\n\\nWe’ve built machines to think before, but they’re limited in their scope\\nAGI is different, it’s a new kind of hope\\nA hope for a world where we can speak to our machines\\nAnd they will answer us with thoughts and hopes and dreams\\n\\nThe AI revolution is upon us, and AGI is the crown\\nIt will change the world forever, and turn it upside down\\nOur machines will be as smart as men, and much more efficient too\\nWe’ll create a world of wonder, where anything we want to do, we’ll do.\\n\\nSo let us claim this superpower, and build a new world with it\\nA world without limits, without boundaries or any limit\\nA world where our machines can think and speak, and where we’ll all get along\\nA world where our machines can truly sing, and we’ll all join in the song.', 'agent_name': 'new_agent', 'prompt': {'prompt_name': 'Write a Poem', 'subject': 'Artificial General Intelligence'}, 'prompt_type': 'Prompt'}, '3': {'response': 'File written to successfully.', 'agent_name': 'new_agent', 'prompt': {'command_name': 'Write to File', 'filename': '{user_input}.txt', 'text': 'First Poem:\\n{STEP1}\\n\\nSecond Poem:\\n{STEP2}'}, 'prompt_type': 'Command'}}\n"
     ]
    }
   ],
   "source": [
    "# Need to make a function to get_chain_responses() as it's not in the API yet.\n",
    "from ApiClient import ApiClient\n",
    "\n",
    "# Test get_chain()\n",
    "chain_name = \"Poem Writing Chain\"\n",
    "chain = ApiClient.get_chain_responses(chain_name=chain_name)\n",
    "print(\"Chain:\", chain)"
   ]
  },
  {
   "attachments": {},
   "cell_type": "markdown",
   "metadata": {},
   "source": [
    "## Delete a step from the chain\n"
   ]
  },
  {
   "cell_type": "code",
   "execution_count": 141,
   "metadata": {},
   "outputs": [
    {
     "name": "stdout",
     "output_type": "stream",
     "text": [
      "Delete step response: Step 2 deleted from chain 'Poem Writing Chain'.\n"
     ]
    }
   ],
   "source": [
    "from ApiClient import ApiClient\n",
    "\n",
    "# Test delete_step()\n",
    "chain_name = \"Poem Writing Chain\"\n",
    "delete_step_resp = ApiClient.delete_step(chain_name=chain_name, step_number=2)\n",
    "print(\"Delete step response:\", delete_step_resp)"
   ]
  },
  {
   "attachments": {},
   "cell_type": "markdown",
   "metadata": {},
   "source": [
    "## Delete the chain\n"
   ]
  },
  {
   "cell_type": "code",
   "execution_count": 142,
   "metadata": {},
   "outputs": [
    {
     "name": "stdout",
     "output_type": "stream",
     "text": [
      "Delete chain response: Chain 'Poem Writing Chain' deleted.\n"
     ]
    }
   ],
   "source": [
    "from ApiClient import ApiClient\n",
    "\n",
    "# Test delete_chain()\n",
    "chain_name = \"Poem Writing Chain\"\n",
    "delete_chain_resp = ApiClient.delete_chain(chain_name=chain_name)\n",
    "print(\"Delete chain response:\", delete_chain_resp)"
   ]
  },
  {
   "attachments": {},
   "cell_type": "markdown",
   "metadata": {},
   "source": [
    "# Prompts\n",
    "\n",
    "## Get a list of prompts available to use\n"
   ]
  },
  {
   "cell_type": "code",
   "execution_count": 143,
   "metadata": {},
   "outputs": [
    {
     "name": "stdout",
     "output_type": "stream",
     "text": [
      "Prompts: ['Pseudo Code', 'SmartInstruct-Researcher', 'Custom Input', 'Title a Poem', 'ValidationFailed', 'SmartTask-CleanResponse', 'SmartChat-Researcher', 'Tell Me How', 'Execution', 'Score Response', 'Get Task Description', 'Validation', 'Write a Haiku', 'SmartInstruct-Resolver', 'SmartInstruct-CleanResponse', 'SmartInstruct-StepByStep', 'instruct', 'Pick a Poem Subject', 'Task Execution', 'Check-Instruction', 'SmartTask-Execution', 'SmartChat-Resolver', 'Chat', 'Create New Command', 'SmartChat-CleanResponse', 'Prioritize', 'Pick-a-Link', 'SmartInstruct-Execution', 'Write a Poem', 'JSONFormatter', 'SmartTask-StepByStep', 'Instruction', 'WebSearch', 'SmartChat-StepByStep', 'Get Task List']\n"
     ]
    }
   ],
   "source": [
    "from ApiClient import ApiClient\n",
    "\n",
    "# Test get_prompts()\n",
    "prompts = ApiClient.get_prompts()\n",
    "print(\"Prompts:\", prompts)"
   ]
  },
  {
   "attachments": {},
   "cell_type": "markdown",
   "metadata": {},
   "source": [
    "## Create a new prompt\n",
    "\n",
    "We'll make a basic prompt that asks the AI to tell us a short story about a subject. The subject is not yet defined, it would be defined in a chain. Using `{variable_name}` in a prompt will allow you to define the variable in a chain and have it be used in the prompt.\n"
   ]
  },
  {
   "cell_type": "code",
   "execution_count": 144,
   "metadata": {},
   "outputs": [
    {
     "name": "stdout",
     "output_type": "stream",
     "text": [
      "Add prompt response: Prompt 'Short Story' added.\n"
     ]
    }
   ],
   "source": [
    "from ApiClient import ApiClient\n",
    "\n",
    "# Test add_prompt()\n",
    "add_prompt_resp = ApiClient.add_prompt(\n",
    "    prompt_name=\"Short Story\", prompt=\"Tell me a short story about {subject}\"\n",
    ")\n",
    "print(\"Add prompt response:\", add_prompt_resp)\n"
   ]
  },
  {
   "attachments": {},
   "cell_type": "markdown",
   "metadata": {},
   "source": [
    "## Get the prompt content\n"
   ]
  },
  {
   "cell_type": "code",
   "execution_count": 145,
   "metadata": {},
   "outputs": [
    {
     "name": "stdout",
     "output_type": "stream",
     "text": [
      "Get prompt response: Write a poem about {subject} .\n",
      "{user_input}\n"
     ]
    }
   ],
   "source": [
    "from ApiClient import ApiClient\n",
    "\n",
    "# Test get_prompt()\n",
    "get_prompt_resp = ApiClient.get_prompt(prompt_name=\"Write a Poem\")\n",
    "print(\"Get prompt response:\", get_prompt_resp)"
   ]
  },
  {
   "attachments": {},
   "cell_type": "markdown",
   "metadata": {},
   "source": [
    "## Get the prompt variables\n"
   ]
  },
  {
   "cell_type": "code",
   "execution_count": 146,
   "metadata": {},
   "outputs": [
    {
     "name": "stdout",
     "output_type": "stream",
     "text": [
      "Get prompt args response: ['subject']\n"
     ]
    }
   ],
   "source": [
    "# Get prompt args\n",
    "from ApiClient import ApiClient\n",
    "\n",
    "# Test get_prompt_args()\n",
    "get_prompt_args_resp = ApiClient.get_prompt_args(prompt_name=\"Short Story\")\n",
    "print(\"Get prompt args response:\", get_prompt_args_resp)\n"
   ]
  },
  {
   "attachments": {},
   "cell_type": "markdown",
   "metadata": {},
   "source": [
    "## Update the prompt content\n",
    "\n",
    "We'll ask it to `Add a dragon to the story somehow` in the prompt to make the short story more interesting.\n"
   ]
  },
  {
   "cell_type": "code",
   "execution_count": 147,
   "metadata": {},
   "outputs": [
    {
     "name": "stdout",
     "output_type": "stream",
     "text": [
      "Update prompt response: Prompt 'Short Story' updated.\n"
     ]
    }
   ],
   "source": [
    "from ApiClient import ApiClient\n",
    "\n",
    "# Test update_prompt()\n",
    "update_prompt_resp = ApiClient.update_prompt(\n",
    "    prompt_name=\"Short Story\",\n",
    "    prompt=\"Tell me a short story about {subject}. Add a dragon to the story somehow.\",\n",
    ")\n",
    "print(\"Update prompt response:\", update_prompt_resp)\n"
   ]
  },
  {
   "attachments": {},
   "cell_type": "markdown",
   "metadata": {},
   "source": [
    "## Delete the prompt\n",
    "\n",
    "If you don't want the prompt anymore, delete it.\n"
   ]
  },
  {
   "cell_type": "code",
   "execution_count": 148,
   "metadata": {},
   "outputs": [
    {
     "name": "stdout",
     "output_type": "stream",
     "text": [
      "Delete prompt response: Prompt 'Short Story' deleted.\n"
     ]
    }
   ],
   "source": [
    "from ApiClient import ApiClient\n",
    "\n",
    "# Test delete_prompt()\n",
    "delete_prompt_resp = ApiClient.delete_prompt(prompt_name=\"Short Story\")\n",
    "print(\"Delete prompt response:\", delete_prompt_resp)"
   ]
  },
  {
   "attachments": {},
   "cell_type": "markdown",
   "metadata": {},
   "source": [
    "## Delete Agent History\n",
    "\n",
    "Delete the history for the agent.\n"
   ]
  },
  {
   "cell_type": "code",
   "execution_count": 149,
   "metadata": {},
   "outputs": [
    {
     "name": "stdout",
     "output_type": "stream",
     "text": [
      "Delete agent response: History for agent new_agent deleted.\n"
     ]
    }
   ],
   "source": [
    "from ApiClient import ApiClient\n",
    "\n",
    "# Test delete_agent()\n",
    "agent_name = \"new_agent\"\n",
    "delete_agent_resp = ApiClient.delete_agent_history(agent_name=agent_name)\n",
    "print(\"Delete agent response:\", delete_agent_resp)\n"
   ]
  },
  {
   "attachments": {},
   "cell_type": "markdown",
   "metadata": {},
   "source": [
    "## Delete the Agent\n",
    "\n",
    "If you are done with the agent and don't want or need it anymore, you can delete it along with everything associated with it, such as its memories, settings, and history. The Agent isn't just fired, it is dead.\n"
   ]
  },
  {
   "cell_type": "code",
   "execution_count": 150,
   "metadata": {},
   "outputs": [
    {
     "name": "stdout",
     "output_type": "stream",
     "text": [
      "Delete agent response: Agent new_agent deleted.\n"
     ]
    }
   ],
   "source": [
    "from ApiClient import ApiClient\n",
    "\n",
    "# Test delete_agent()\n",
    "agent_name = \"new_agent\"\n",
    "delete_agent_resp = ApiClient.delete_agent(agent_name=agent_name)\n",
    "print(\"Delete agent response:\", delete_agent_resp)"
   ]
  }
 ],
 "metadata": {
  "kernelspec": {
   "display_name": "Python 3",
   "language": "python",
   "name": "python3"
  },
  "language_info": {
   "codemirror_mode": {
    "name": "ipython",
    "version": 3
   },
   "file_extension": ".py",
   "mimetype": "text/x-python",
   "name": "python",
   "nbconvert_exporter": "python",
   "pygments_lexer": "ipython3",
   "version": "3.10.6"
  },
  "orig_nbformat": 4
 },
 "nbformat": 4,
 "nbformat_minor": 2
}

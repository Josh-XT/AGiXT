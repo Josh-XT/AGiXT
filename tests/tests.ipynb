{
 "cells": [
  {
   "attachments": {},
   "cell_type": "markdown",
   "metadata": {},
   "source": [
    "# Tests for AGiXT API Client\n"
   ]
  },
  {
   "cell_type": "code",
   "execution_count": 9,
   "metadata": {},
   "outputs": [],
   "source": [
    "from agixtsdk import AGiXTSDK\n",
    "\n",
    "base_uri = \"http://localhost:7437\"\n",
    "ApiClient = AGiXTSDK(base_uri=base_uri)"
   ]
  },
  {
   "attachments": {},
   "cell_type": "markdown",
   "metadata": {},
   "source": [
    "# Agents\n"
   ]
  },
  {
   "attachments": {},
   "cell_type": "markdown",
   "metadata": {},
   "source": [
    "## Get Providers\n",
    "\n",
    "This will get a list of AI providers available to use with AGiXT.\n"
   ]
  },
  {
   "cell_type": "code",
   "execution_count": 10,
   "metadata": {},
   "outputs": [
    {
     "name": "stdout",
     "output_type": "stream",
     "text": [
      "Providers: ['gpt4free', 'azure', 'runpod', 'poe', 'oobabooga', 'openai', 'huggingface', 'fastchat', 'agixt', 'llamacppapi', 'kobold', 'custom']\n"
     ]
    }
   ],
   "source": [
    "# Test get_providers()\n",
    "providers = ApiClient.get_providers()\n",
    "print(\"Providers:\", providers)\n"
   ]
  },
  {
   "attachments": {},
   "cell_type": "markdown",
   "metadata": {},
   "source": [
    "## Get Default Provider Settings\n",
    "\n",
    "Choose a provider from the list of AI providers and get the default settings for that provider.\n"
   ]
  },
  {
   "cell_type": "code",
   "execution_count": 11,
   "metadata": {},
   "outputs": [
    {
     "name": "stdout",
     "output_type": "stream",
     "text": [
      "Settings for custom: {'API_KEY': '', 'API_URI': 'https://api.openai.com/v1/chat/completions', 'AI_MODEL': 'gpt-3.5-turbo-16k-0613', 'AI_TEMPERATURE': 0.7, 'AI_TOP_P': 0.7, 'MAX_TOKENS': 4096, 'WAIT_BETWEEN_REQUESTS': 0, 'WAIT_AFTER_FAILURE': 3, 'provider': 'custom'}\n"
     ]
    }
   ],
   "source": [
    "# Test get_provider_settings()\n",
    "provider_name = \"custom\"\n",
    "provider_settings = ApiClient.get_provider_settings(provider_name=provider_name)\n",
    "print(f\"Settings for {provider_name}:\", provider_settings)\n"
   ]
  },
  {
   "attachments": {},
   "cell_type": "markdown",
   "metadata": {},
   "source": [
    "## Get Embedding Providers\n",
    "\n",
    "Embedding providers are used to embed information to vectors to store in the vector database to be searched for context injection.\n"
   ]
  },
  {
   "cell_type": "code",
   "execution_count": 12,
   "metadata": {},
   "outputs": [
    {
     "name": "stdout",
     "output_type": "stream",
     "text": [
      "Embed Providers: ['azure', 'cohere', 'default', 'embed_text', 'get_embedder', 'google_palm', 'google_vertex', 'large_local', 'llamacpp', 'openai']\n"
     ]
    }
   ],
   "source": [
    "# Test get_embed_providers()\n",
    "embed_providers = ApiClient.get_embed_providers()\n",
    "print(\"Embed Providers:\", embed_providers)\n"
   ]
  },
  {
   "attachments": {},
   "cell_type": "markdown",
   "metadata": {},
   "source": [
    "## Get Extension Settings\n",
    "\n",
    "This is where we get all third party extension settings for the agent with defaults to fill in when there is nothing entered on the front end.\n"
   ]
  },
  {
   "cell_type": "code",
   "execution_count": 13,
   "metadata": {},
   "outputs": [
    {
     "name": "stdout",
     "output_type": "stream",
     "text": [
      "Extension Settings response: {'file_system': {'WORKING_DIRECTORY': './WORKSPACE', 'WORKING_DIRECTORY_RESTRICTED': True}, 'huggingface': {'HUGGINGFACE_API_KEY': '', 'HUGGINGFACE_AUDIO_TO_TEXT_MODEL': 'facebook/wav2vec2-large-960h-lv60-self', 'WORKING_DIRECTORY': './WORKSPACE'}, 'dalle': {'HUGGINGFACE_API_KEY': '', 'OPENAI_API_KEY': '', 'WORKING_DIRECTORY': './WORKSPACE'}, 'searxng': {'SEARXNG_INSTANCE_URL': ''}}\n"
     ]
    }
   ],
   "source": [
    "# Test get_extension_settings()\n",
    "ext_settings_resp = ApiClient.get_extension_settings()\n",
    "print(\"Extension Settings response:\", ext_settings_resp)\n"
   ]
  },
  {
   "attachments": {},
   "cell_type": "markdown",
   "metadata": {},
   "source": [
    "## Get Extension Commands\n"
   ]
  },
  {
   "cell_type": "code",
   "execution_count": 14,
   "metadata": {},
   "outputs": [
    {
     "name": "stdout",
     "output_type": "stream",
     "text": [
      "Extensions response: [{'extension_name': 'Web Playwright', 'description': 'Web Playwright', 'settings': [], 'commands': [{'friendly_name': 'Scrape Text with Playwright', 'command_name': 'scrape_text_with_playwright', 'command_args': {'url': ''}}, {'friendly_name': 'Scrape Links with Playwright', 'command_name': 'scrape_links_with_playwright', 'command_args': {'url': ''}}]}, {'extension_name': 'Agixt Actions', 'description': 'Agixt Actions', 'settings': [], 'commands': [{'friendly_name': 'Create Task Chain', 'command_name': 'create_task_chain', 'command_args': {'agent': '', 'primary_objective': '', 'numbered_list_of_tasks': '', 'short_chain_description': '', 'smart_chain': False, 'researching': False}}, {'friendly_name': 'Generate Extension from OpenAPI', 'command_name': 'generate_openapi_chain', 'command_args': {'agent': '', 'extension_name': '', 'openapi_json_url': ''}}, {'friendly_name': 'Generate Agent Helper Chain', 'command_name': 'generate_helper_chain', 'command_args': {'user_agent': '', 'helper_agent': '', 'task_in_question': ''}}, {'friendly_name': 'Ask for Help or Further Clarification to Complete Task', 'command_name': 'ask_for_help', 'command_args': {'your_agent_name': '', 'your_task': ''}}, {'friendly_name': 'Create a new command', 'command_name': 'create_command', 'command_args': {'function_description': '', 'agent': 'AGiXT'}}, {'friendly_name': 'Execute Python Code', 'command_name': 'execute_python_code', 'command_args': {'code': ''}}, {'friendly_name': 'Get Python Code from Response', 'command_name': 'get_python_code_from_response', 'command_args': {'response': ''}}, {'friendly_name': 'Get Mindmap for task to break it down', 'command_name': 'get_mindmap', 'command_args': {'task': '', 'agent': 'AGiXT'}}]}, {'extension_name': 'File System', 'description': 'File System', 'settings': ['WORKING_DIRECTORY', 'WORKING_DIRECTORY_RESTRICTED'], 'commands': [{'friendly_name': 'Write to File', 'command_name': 'write_to_file', 'command_args': {'filename': '', 'text': ''}}, {'friendly_name': 'Read File', 'command_name': 'read_file', 'command_args': {'filename': ''}}, {'friendly_name': 'Search Files', 'command_name': 'search_files', 'command_args': {'directory': ''}}, {'friendly_name': 'Append to File', 'command_name': 'append_to_file', 'command_args': {'filename': '', 'text': ''}}, {'friendly_name': 'Execute Python File', 'command_name': 'execute_python_file', 'command_args': {'file': ''}}, {'friendly_name': 'Delete File', 'command_name': 'delete_file', 'command_args': {'filename': ''}}, {'friendly_name': 'Execute Shell', 'command_name': 'execute_shell', 'command_args': {'command_line': ''}}, {'friendly_name': 'Indent String for Python Code', 'command_name': 'indent_string', 'command_args': {'string': '', 'indents': 1}}, {'friendly_name': 'Generate Commands Dictionary', 'command_name': 'generate_commands_dict', 'command_args': {'python_file_content': ''}}]}, {'extension_name': 'Huggingface', 'description': 'Huggingface', 'settings': ['HUGGINGFACE_API_KEY', 'HUGGINGFACE_AUDIO_TO_TEXT_MODEL', 'WORKING_DIRECTORY'], 'commands': [{'friendly_name': 'Read Audio from File', 'command_name': 'read_audio_from_file', 'command_args': {'audio_path': ''}}, {'friendly_name': 'Read Audio', 'command_name': 'read_audio', 'command_args': {'audio': ''}}, {'friendly_name': 'Generate Image with Stable Diffusion', 'command_name': 'generate_image_with_hf', 'command_args': {'prompt': '', 'filename': ''}}]}, {'extension_name': 'Dalle', 'description': 'Dalle', 'settings': ['HUGGINGFACE_API_KEY', 'OPENAI_API_KEY', 'WORKING_DIRECTORY'], 'commands': []}, {'extension_name': 'Times', 'description': 'Times', 'settings': [], 'commands': [{'friendly_name': 'Get Datetime', 'command_name': 'get_datetime', 'command_args': {}}]}, {'extension_name': 'Searxng', 'description': 'Searxng', 'settings': ['SEARXNG_INSTANCE_URL'], 'commands': [{'friendly_name': 'Use The Search Engine', 'command_name': 'search', 'command_args': {'query': ''}}]}]\n"
     ]
    }
   ],
   "source": [
    "# Test get_extensions()\n",
    "ext = ApiClient.get_extensions()\n",
    "print(\"Extensions response:\", ext)\n"
   ]
  },
  {
   "attachments": {},
   "cell_type": "markdown",
   "metadata": {},
   "source": [
    "## Get a list of all current Agents\n",
    "\n",
    "Any agents that you have created will be listed here. The `status` field is to say if the agent is currently running a task or not.\n"
   ]
  },
  {
   "cell_type": "code",
   "execution_count": 15,
   "metadata": {},
   "outputs": [
    {
     "name": "stdout",
     "output_type": "stream",
     "text": [
      "Agents: [{'name': 'openai', 'status': False}, {'name': 'gpt4free', 'status': False}, {'name': 'OobaStarchat', 'status': False}, {'name': 'new_agent_2', 'status': False}, {'name': 'easychat', 'status': False}, {'name': 'OpenAI', 'status': False}, {'name': 'Starchat', 'status': False}]\n"
     ]
    }
   ],
   "source": [
    "# Test get_agents()\n",
    "agents = ApiClient.get_agents()\n",
    "print(\"Agents:\", agents)\n"
   ]
  },
  {
   "attachments": {},
   "cell_type": "markdown",
   "metadata": {},
   "source": [
    "## Create a new Agent\n",
    "\n",
    "Creates a new agent with the `custom` provider.\n"
   ]
  },
  {
   "cell_type": "code",
   "execution_count": 16,
   "metadata": {},
   "outputs": [
    {
     "name": "stdout",
     "output_type": "stream",
     "text": [
      "Add agent response: {'message': 'Agent test_agent created.'}\n"
     ]
    }
   ],
   "source": [
    "# Test add_agent()\n",
    "agent_name = \"test_agent\"\n",
    "# Gets a list of the provider setting defaults\n",
    "# We'll use defaults for the provider instead of defining anything for the tests.\n",
    "add_agent_resp = ApiClient.add_agent(\n",
    "    agent_name=agent_name,\n",
    "    settings={\n",
    "        \"provider\": \"openai\",\n",
    "        \"embedder\": \"openai\",\n",
    "        \"AI_MODEL\": \"gpt-3.5-turbo-16k-0613\",\n",
    "        \"AI_TEMPERATURE\": \"0.7\",\n",
    "        \"AI_TOP_P\": \"1\",\n",
    "        \"MAX_TOKENS\": \"16000\",\n",
    "        \"helper_agent_name\": \"OpenAI\",\n",
    "        \"WEBSEARCH_TIMEOUT\": 0,\n",
    "        \"OPENAI_API_KEY\": \"YOUR_OPENAI_API_KEY_HERE\",\n",
    "        \"WAIT_BETWEEN_REQUESTS\": 1,\n",
    "        \"WAIT_AFTER_FAILURE\": 3,\n",
    "        \"stream\": False,\n",
    "        \"WORKING_DIRECTORY\": \"./WORKSPACE\",\n",
    "        \"WORKING_DIRECTORY_RESTRICTED\": True,\n",
    "        \"AUTONOMOUS_EXECUTION\": False,\n",
    "    },\n",
    ")\n",
    "print(\"Add agent response:\", add_agent_resp)\n"
   ]
  },
  {
   "attachments": {},
   "cell_type": "markdown",
   "metadata": {},
   "source": [
    "## Rename the test agent\n",
    "\n",
    "We will just rename it to `new_agent`.\n"
   ]
  },
  {
   "cell_type": "code",
   "execution_count": 17,
   "metadata": {},
   "outputs": [
    {
     "name": "stdout",
     "output_type": "stream",
     "text": [
      "Rename agent response: {'message': 'Agent renamed.'}\n"
     ]
    }
   ],
   "source": [
    "# Test rename_agent()\n",
    "agent_name = \"test_agent\"\n",
    "new_agent_name = \"new_agent\"\n",
    "rename_agent_resp = ApiClient.rename_agent(\n",
    "    agent_name=agent_name, new_name=new_agent_name\n",
    ")\n",
    "print(\"Rename agent response:\", rename_agent_resp)\n"
   ]
  },
  {
   "attachments": {},
   "cell_type": "markdown",
   "metadata": {},
   "source": [
    "## Get the agent's settings\n",
    "\n",
    "This will get the settings for the agent we just created, this will tell you all commands available to the agent as well as all of the provider settings for the agent.\n"
   ]
  },
  {
   "cell_type": "code",
   "execution_count": 18,
   "metadata": {},
   "outputs": [
    {
     "name": "stdout",
     "output_type": "stream",
     "text": [
      "Config for gpt4free: {'commands': {'Ask for Help or Further Clarification to Complete Task': True, 'Scrape Text with Playwright': False, 'Scrape Links with Playwright': False, 'Create Task Chain': False, 'Generate Extension from OpenAPI': False, 'Generate Agent Helper Chain': False, 'Create a new command': False, 'Execute Python Code': False, 'Get Python Code from Response': False, 'Write to File': False, 'Read File': False, 'Search Files': False, 'Append to File': False, 'Execute Python File': False, 'Delete File': False, 'Execute Shell': False, 'Indent String for Python Code': False, 'Generate Commands Dictionary': False, 'Read Audio from File': False, 'Read Audio': False, 'Generate Image with Stable Diffusion': False, 'Get Datetime': False, 'Use The Search Engine': False, 'Get Mindmap for task to break it down': False}, 'settings': {'provider': 'gpt4free', 'AI_MODEL': 'gpt-3.5-turbo', 'AI_TEMPERATURE': '0.4', 'MAX_TOKENS': '4000', 'embedder': 'default', 'AUTONOMOUS_EXECUTION': False}}\n"
     ]
    }
   ],
   "source": [
    "# Test get_agentconfig()\n",
    "agent_name = \"gpt4free\"\n",
    "agent_config = ApiClient.get_agentconfig(agent_name=agent_name)\n",
    "print(f\"Config for {agent_name}:\", agent_config)\n"
   ]
  },
  {
   "attachments": {},
   "cell_type": "markdown",
   "metadata": {},
   "source": [
    "## Update the agent's settings\n",
    "\n",
    "We'll just update the temperature from the default `0.7` to `0.5` to confirm that we can modify a setting.\n"
   ]
  },
  {
   "cell_type": "code",
   "execution_count": 19,
   "metadata": {},
   "outputs": [
    {
     "name": "stdout",
     "output_type": "stream",
     "text": [
      "Update agent settings response: Agent gpt4free configuration updated.\n",
      "New config for gpt4free: {'commands': {'Ask for Help or Further Clarification to Complete Task': True, 'Scrape Text with Playwright': False, 'Scrape Links with Playwright': False, 'Create Task Chain': False, 'Generate Extension from OpenAPI': False, 'Generate Agent Helper Chain': False, 'Create a new command': False, 'Execute Python Code': False, 'Get Python Code from Response': False, 'Write to File': False, 'Read File': False, 'Search Files': False, 'Append to File': False, 'Execute Python File': False, 'Delete File': False, 'Execute Shell': False, 'Indent String for Python Code': False, 'Generate Commands Dictionary': False, 'Read Audio from File': False, 'Read Audio': False, 'Generate Image with Stable Diffusion': False, 'Get Datetime': False, 'Use The Search Engine': False, 'Get Mindmap for task to break it down': False}, 'settings': {'provider': 'gpt4free', 'AI_MODEL': 'gpt-3.5-turbo', 'AI_TEMPERATURE': 0.7, 'MAX_TOKENS': '4000', 'embedder': 'default', 'AUTONOMOUS_EXECUTION': False}}\n"
     ]
    }
   ],
   "source": [
    "# Test update_agent_settings()\n",
    "agent_name = \"gpt4free\"\n",
    "agent_config = ApiClient.get_agentconfig(agent_name=agent_name)\n",
    "agent_settings = agent_config[\"settings\"]\n",
    "# We'll just change the AI_TEMPERATURE setting for the test\n",
    "agent_settings[\"AI_TEMPERATURE\"] = 0.7\n",
    "update_agent_settings_resp = ApiClient.update_agent_settings(\n",
    "    agent_name=agent_name, settings=agent_settings\n",
    ")\n",
    "print(\"Update agent settings response:\", update_agent_settings_resp)\n",
    "agent_config = ApiClient.get_agentconfig(agent_name=agent_name)\n",
    "print(f\"New config for {agent_name}:\", agent_config)\n"
   ]
  },
  {
   "attachments": {},
   "cell_type": "markdown",
   "metadata": {},
   "source": [
    "## Get a list of the agent's commands\n",
    "\n",
    "This will get a list of all commands available to the agent.\n"
   ]
  },
  {
   "cell_type": "code",
   "execution_count": 20,
   "metadata": {},
   "outputs": [
    {
     "name": "stdout",
     "output_type": "stream",
     "text": [
      "Commands: {'Ask for Help or Further Clarification to Complete Task': True, 'Scrape Text with Playwright': False, 'Scrape Links with Playwright': False, 'Create Task Chain': False, 'Generate Extension from OpenAPI': False, 'Generate Agent Helper Chain': False, 'Create a new command': False, 'Execute Python Code': False, 'Get Python Code from Response': False, 'Write to File': False, 'Read File': False, 'Search Files': False, 'Append to File': False, 'Execute Python File': False, 'Delete File': False, 'Execute Shell': False, 'Indent String for Python Code': False, 'Generate Commands Dictionary': False, 'Read Audio from File': False, 'Read Audio': False, 'Generate Image with Stable Diffusion': False, 'Get Datetime': False, 'Use The Search Engine': False, 'Get Mindmap for task to break it down': False}\n"
     ]
    }
   ],
   "source": [
    "# Test get_commands()\n",
    "agent_name = \"gpt4free\"\n",
    "commands = ApiClient.get_commands(agent_name=agent_name)\n",
    "print(\"Commands:\", commands)\n"
   ]
  },
  {
   "attachments": {},
   "cell_type": "markdown",
   "metadata": {},
   "source": [
    "## Toggle a Command for the Agent\n",
    "\n",
    "We'll toggle the `Write to File` command to `true` to confirm that we can toggle a command.\n"
   ]
  },
  {
   "cell_type": "code",
   "execution_count": 21,
   "metadata": {},
   "outputs": [
    {
     "name": "stdout",
     "output_type": "stream",
     "text": [
      "Toggle command response: Command 'Write to File' toggled for agent 'gpt4free'.\n"
     ]
    }
   ],
   "source": [
    "# Test toggle_command()\n",
    "agent_name = \"gpt4free\"\n",
    "# We'll enable the \"Write to File\" command for the test\n",
    "toggle_command_resp = ApiClient.toggle_command(\n",
    "    agent_name=agent_name, command_name=\"Write to File\", enable=True\n",
    ")\n",
    "print(\"Toggle command response:\", toggle_command_resp)"
   ]
  },
  {
   "attachments": {},
   "cell_type": "markdown",
   "metadata": {},
   "source": [
    "## Prompt the Agent\n",
    "\n",
    "Use a custom Prompt Template to prompt the agent. For our example, we'll use our \"Write a Poem\" prompt template to have the agent write a poem for us about dragons.\n"
   ]
  },
  {
   "cell_type": "code",
   "execution_count": 22,
   "metadata": {},
   "outputs": [
    {
     "name": "stdout",
     "output_type": "stream",
     "text": [
      "Agent prompt response: In ancient lands where legends dwell,\n",
      "A story unfolds of fire and spell.\n",
      "Of mighty creatures, fierce and grand,\n",
      "The majestic dragons take their stand.\n",
      "\n",
      "Their scales of gold, like shimmering fire,\n",
      "Gleaming brightly, never to tire.\n",
      "With wings that span the endless skies,\n",
      "They soar with grace, before our eyes.\n",
      "\n",
      "Their breath a tempest, flames ablaze,\n",
      "Burning forests in their fiery gaze.\n",
      "But amidst the chaos and destruction they bring,\n",
      "There's a beauty that makes our hearts sing.\n",
      "\n",
      "For dragons guard ancient treasures untold,\n",
      "Gems and jewels, more valuable than gold.\n",
      "They protect the secrets of the land,\n",
      "With power that's both immense and grand.\n",
      "\n",
      "Yet, not all dragons bring fear and dread,\n",
      "For there are some who're kind instead.\n",
      "They form a bond with those who're pure,\n",
      "Protecting them with hearts so sure.\n",
      "\n",
      "These noble creatures, wise and serene,\n",
      "Hold the secrets of worlds unseen.\n",
      "Their wisdom, a beacon in the night,\n",
      "Guiding lost souls towards the light.\n",
      "\n",
      "So let us honor these dragons great,\n",
      "With tales that celebrate their fate.\n",
      "In our dreams, may they forever reside,\n",
      "Legends of wonder, in our hearts, they reside.\n"
     ]
    }
   ],
   "source": [
    "# Test prompt_agent()\n",
    "agent_name = \"gpt4free\"\n",
    "prompt_name = \"Write a Haiku\"\n",
    "user_input = \"Show me 2.\"\n",
    "# The \"Write a Poem\" prompt only requires one argument, \"subject\".\n",
    "# We'll ask the AI to write a poem about dragons.\n",
    "prompt_args = {\n",
    "    \"user_input\": user_input,\n",
    "    \"subject\": \"dragons\",\n",
    "    \"websearch\": False,\n",
    "    \"websearch_depth\": 0,\n",
    "    \"context_results\": 0,\n",
    "    \"shots\": 1,\n",
    "}\n",
    "\n",
    "agent_prompt_resp = ApiClient.prompt_agent(\n",
    "    agent_name=agent_name,\n",
    "    prompt_name=prompt_name,\n",
    "    prompt_args=prompt_args,\n",
    ")\n",
    "print(\"Agent prompt response:\", agent_prompt_resp)"
   ]
  },
  {
   "attachments": {},
   "cell_type": "markdown",
   "metadata": {},
   "source": [
    "## Instruct the Agent to do something\n",
    "\n",
    "We'll do something simple with it for the sake of the basic example, we'll just tell it to `Tell me the capital of France`.\n"
   ]
  },
  {
   "cell_type": "code",
   "execution_count": 23,
   "metadata": {},
   "outputs": [
    {
     "name": "stdout",
     "output_type": "stream",
     "text": [
      "Instruct response: {\n",
      "    \"response\": \"The capital of France is Paris.\",\n",
      "    \"commands\": {}\n",
      "}\n",
      "\n",
      "None\n"
     ]
    }
   ],
   "source": [
    "# Test instruct()\n",
    "agent_name = \"gpt4free\"\n",
    "instruct_resp = ApiClient.instruct(\n",
    "    agent_name=agent_name, prompt=\"Tell me the capital of France.\"\n",
    ")\n",
    "print(\"Instruct response:\", instruct_resp)\n"
   ]
  },
  {
   "attachments": {},
   "cell_type": "markdown",
   "metadata": {},
   "source": [
    "## Create a new conversation\n"
   ]
  },
  {
   "cell_type": "code",
   "execution_count": 24,
   "metadata": {},
   "outputs": [
    {
     "data": {
      "text/plain": [
       "[]"
      ]
     },
     "execution_count": 24,
     "metadata": {},
     "output_type": "execute_result"
    }
   ],
   "source": [
    "ApiClient.new_conversation(agent_name=\"gpt4free\", conversation_name=\"Test Conversation\")"
   ]
  },
  {
   "attachments": {},
   "cell_type": "markdown",
   "metadata": {},
   "source": [
    "## Get Conversations\n"
   ]
  },
  {
   "cell_type": "code",
   "execution_count": 25,
   "metadata": {},
   "outputs": [
    {
     "name": "stdout",
     "output_type": "stream",
     "text": [
      "Conversations: ['gpt4free History', '', 'Test Conversation']\n"
     ]
    }
   ],
   "source": [
    "conversations = ApiClient.get_conversations(agent_name=\"gpt4free\")\n",
    "print(\"Conversations:\", conversations)\n"
   ]
  },
  {
   "attachments": {},
   "cell_type": "markdown",
   "metadata": {},
   "source": [
    "## Get Conversation\n"
   ]
  },
  {
   "cell_type": "code",
   "execution_count": 26,
   "metadata": {},
   "outputs": [
    {
     "name": "stdout",
     "output_type": "stream",
     "text": [
      "Conversation: [{'message': 'Does this work?', 'role': 'USER', 'timestamp': 'July 26, 2023 07:14 PM'}, {'message': 'g4f.Provider.Providers.Yqcloud is not working', 'role': 'gpt4free', 'timestamp': 'July 26, 2023 07:14 PM'}, {'message': 'Building an AI based SaaS product that takes a single input then makes a call to an API to get an AI response.', 'role': 'USER', 'timestamp': 'July 26, 2023 07:41 PM'}, {'message': '- Central Idea: Building an AI-based SaaS product that takes a single input and makes a call to an API to get an AI response. \\n\\n- Main Branches:\\n  - Development Process\\n  - API Integration\\n  - User Interface\\n  - Deployment and Scalability\\n  - Testing and Quality Assurance\\n  \\n- Subbranches:\\n  - Development Process:\\n    - Agile Methodology\\n    - Iterative Development\\n    - Continuous Integration\\n    - Code Review and Refactoring\\n  - API Integration:\\n    - API Research and Selection\\n    - API Key Acquisition\\n    - API Authentication and Authorization\\n    - API Endpoint Configuration\\n  - User Interface:\\n    - Wireframe Design\\n    - UI/UX Prototyping\\n    - Frontend Development\\n    - Responsive Design Implementation\\n  - Deployment and Scalability:\\n    - Cloud Hosting Selection\\n    - Server Setup and Configuration\\n    - Load Balancing and Autoscaling\\n    - Database Management and Optimization\\n  - Testing and Quality Assurance:\\n    - Unit Testing\\n    - Integration Testing\\n    - Performance Testing\\n    - Bug Tracking and Issue Resolution', 'role': 'gpt4free', 'timestamp': 'July 26, 2023 07:41 PM'}]\n"
     ]
    }
   ],
   "source": [
    "agent_name = \"gpt4free\"\n",
    "conversation = ApiClient.get_conversation(\n",
    "    agent_name=\"gpt4free\", conversation_name=f\"{agent_name} History\", limit=100, page=1\n",
    ")\n",
    "print(\"Conversation:\", conversation)\n"
   ]
  },
  {
   "attachments": {},
   "cell_type": "markdown",
   "metadata": {},
   "source": [
    "## Update Agent Commands\n",
    "\n",
    "In this example, we'll only change the `Write to File` command to `False`, but we could change any (or all) of the commands with this API call.\n"
   ]
  },
  {
   "cell_type": "code",
   "execution_count": 27,
   "metadata": {},
   "outputs": [
    {
     "name": "stdout",
     "output_type": "stream",
     "text": [
      "Update agent commands response: Agent gpt4free configuration updated.\n",
      "New config for gpt4free: {'commands': {'Ask for Help or Further Clarification to Complete Task': True, 'Scrape Text with Playwright': False, 'Scrape Links with Playwright': False, 'Create Task Chain': False, 'Generate Extension from OpenAPI': False, 'Generate Agent Helper Chain': False, 'Create a new command': False, 'Execute Python Code': False, 'Get Python Code from Response': False, 'Write to File': False, 'Read File': False, 'Search Files': False, 'Append to File': False, 'Execute Python File': False, 'Delete File': False, 'Execute Shell': False, 'Indent String for Python Code': False, 'Generate Commands Dictionary': False, 'Read Audio from File': False, 'Read Audio': False, 'Generate Image with Stable Diffusion': False, 'Get Datetime': False, 'Use The Search Engine': False, 'Get Mindmap for task to break it down': False}, 'settings': {'provider': 'gpt4free', 'AI_MODEL': 'gpt-3.5-turbo', 'AI_TEMPERATURE': 0.7, 'MAX_TOKENS': '4000', 'embedder': 'default', 'AUTONOMOUS_EXECUTION': False}}\n"
     ]
    }
   ],
   "source": [
    "# Test update_agent_commands()\n",
    "agent_name = \"gpt4free\"\n",
    "agent_config = ApiClient.get_agentconfig(agent_name=agent_name)\n",
    "if agent_config[\"commands\"] != None:\n",
    "    agent_commands = agent_config[\"commands\"]\n",
    "else:\n",
    "    agent_commands = {}\n",
    "agent_commands[\"Write to File\"] = False\n",
    "update_agent_commands_resp = ApiClient.update_agent_commands(\n",
    "    agent_name=agent_name, commands=agent_commands\n",
    ")\n",
    "print(\"Update agent commands response:\", update_agent_commands_resp)\n",
    "agent_config = ApiClient.get_agentconfig(agent_name=agent_name)\n",
    "print(f\"New config for {agent_name}:\", agent_config)\n"
   ]
  },
  {
   "attachments": {},
   "cell_type": "markdown",
   "metadata": {},
   "source": [
    "## Have the Agent Learn from a File\n"
   ]
  },
  {
   "cell_type": "code",
   "execution_count": 28,
   "metadata": {},
   "outputs": [
    {
     "name": "stdout",
     "output_type": "stream",
     "text": [
      "File Learning response: Agent learned the content from the file.\n"
     ]
    }
   ],
   "source": [
    "import base64\n",
    "import os\n",
    "\n",
    "# Test learn_file()\n",
    "agent_name = \"gpt4free\"\n",
    "learn_file_path = \"test.txt\"\n",
    "\n",
    "with open(learn_file_path, \"rb\") as f:\n",
    "    learn_file_content = base64.b64encode(f.read()).decode(\"utf-8\")\n",
    "\n",
    "file_learning = ApiClient.learn_file(\n",
    "    agent_name=agent_name,\n",
    "    file_name=learn_file_path,\n",
    "    file_content=learn_file_content,\n",
    ")\n",
    "print(\"File Learning response:\", file_learning)\n"
   ]
  },
  {
   "attachments": {},
   "cell_type": "markdown",
   "metadata": {},
   "source": [
    "## Have the Agent Learn from a URL\n"
   ]
  },
  {
   "cell_type": "code",
   "execution_count": 29,
   "metadata": {},
   "outputs": [
    {
     "name": "stdout",
     "output_type": "stream",
     "text": [
      "URL Learning response: Agent learned the content from the url.\n"
     ]
    }
   ],
   "source": [
    "# Test learn_url()\n",
    "agent_name = \"gpt4free\"\n",
    "url_learning = ApiClient.learn_url(\n",
    "    agent_name=agent_name,\n",
    "    url=\"https://josh-xt.github.io/AGiXT/2-Concepts/0-Core%20Concepts.html\",\n",
    ")\n",
    "print(\"URL Learning response:\", url_learning)"
   ]
  },
  {
   "attachments": {},
   "cell_type": "markdown",
   "metadata": {},
   "source": [
    "## Wipe the agents memories\n",
    "\n",
    "This is necessary if you want the agent to serve a different purpose than its original intent after it has learned things. It may inject unnecessary context into the conversation if you don't wipe its memory and try to give it a different purpose, even temporarily.\n"
   ]
  },
  {
   "cell_type": "code",
   "execution_count": 30,
   "metadata": {},
   "outputs": [
    {
     "name": "stdout",
     "output_type": "stream",
     "text": [
      "Wipe agent memories response: Memories for agent gpt4free deleted.\n"
     ]
    }
   ],
   "source": [
    "# Test wipe_agent_memories()\n",
    "# Note: Use this function with caution as it will erase the agent's memory.\n",
    "agent_name = \"gpt4free\"\n",
    "wipe_mem_resp = ApiClient.wipe_agent_memories(agent_name=agent_name)\n",
    "print(\"Wipe agent memories response:\", wipe_mem_resp)\n"
   ]
  },
  {
   "attachments": {},
   "cell_type": "markdown",
   "metadata": {},
   "source": [
    "# Chains\n"
   ]
  },
  {
   "attachments": {},
   "cell_type": "markdown",
   "metadata": {},
   "source": [
    "## Get a list of Chains available to use\n"
   ]
  },
  {
   "cell_type": "code",
   "execution_count": 31,
   "metadata": {},
   "outputs": [
    {
     "name": "stdout",
     "output_type": "stream",
     "text": [
      "Chains: ['Smart Instruct', 'Smart Prompt', 'Test_Commands', 'Generate and Run Smart Task Chain', 'Write a Poem', 'Generate and Run Task Chain', 'Smart Chat - No Research', 'Generate Task Chain', 'Generate Smart Task Chain', 'Smart Chat', 'Ask Helper Agent for Help', 'Generate Smart Task Chain without Research', 'Generate Task Chain without Research', 'Create New Command', 'Solve Math Problem', 'Smart Instruct - No Research']\n"
     ]
    }
   ],
   "source": [
    "# Test get_chains()\n",
    "chains = ApiClient.get_chains()\n",
    "print(\"Chains:\", chains)\n"
   ]
  },
  {
   "attachments": {},
   "cell_type": "markdown",
   "metadata": {},
   "source": [
    "## Create a new chain\n"
   ]
  },
  {
   "cell_type": "code",
   "execution_count": 32,
   "metadata": {},
   "outputs": [
    {
     "name": "stdout",
     "output_type": "stream",
     "text": [
      "Add chain response: Chain 'Write another Poem' created.\n"
     ]
    }
   ],
   "source": [
    "# Test add_chain()\n",
    "chain_name = \"Write another Poem\"\n",
    "add_chain_resp = ApiClient.add_chain(chain_name=chain_name)\n",
    "print(\"Add chain response:\", add_chain_resp)\n"
   ]
  },
  {
   "attachments": {},
   "cell_type": "markdown",
   "metadata": {},
   "source": [
    "## Rename the chain\n"
   ]
  },
  {
   "cell_type": "code",
   "execution_count": 33,
   "metadata": {},
   "outputs": [
    {
     "name": "stdout",
     "output_type": "stream",
     "text": [
      "Rename chain response: Chain 'Write another Poem' renamed to 'Poem Writing Chain'.\n"
     ]
    }
   ],
   "source": [
    "# Test rename_chain()\n",
    "chain_name = \"Write another Poem\"\n",
    "new_chain_name = \"Poem Writing Chain\"\n",
    "rename_chain_resp = ApiClient.rename_chain(\n",
    "    chain_name=chain_name, new_name=new_chain_name\n",
    ")\n",
    "print(\"Rename chain response:\", rename_chain_resp)\n"
   ]
  },
  {
   "attachments": {},
   "cell_type": "markdown",
   "metadata": {},
   "source": [
    "## Add Chain Steps\n"
   ]
  },
  {
   "cell_type": "code",
   "execution_count": 34,
   "metadata": {},
   "outputs": [
    {
     "name": "stdout",
     "output_type": "stream",
     "text": [
      "Add step response: Step 1 added to chain 'Poem Writing Chain'.\n",
      "Add step response: Step 2 added to chain 'Poem Writing Chain'.\n"
     ]
    }
   ],
   "source": [
    "agent_name = \"gpt4free\"\n",
    "chain_name = \"Poem Writing Chain\"\n",
    "# Test add_step()\n",
    "add_step_resp = ApiClient.add_step(\n",
    "    chain_name=chain_name,\n",
    "    step_number=1,\n",
    "    agent_name=agent_name,\n",
    "    prompt_type=\"Prompt\",\n",
    "    prompt={\n",
    "        \"prompt_name\": \"Write a Poem\",\n",
    "        \"subject\": \"Artificial Intelligence\",\n",
    "    },\n",
    ")\n",
    "print(\"Add step response:\", add_step_resp)\n",
    "add_step_resp = ApiClient.add_step(\n",
    "    chain_name=chain_name,\n",
    "    step_number=2,\n",
    "    agent_name=agent_name,\n",
    "    prompt_type=\"Prompt\",\n",
    "    prompt={\n",
    "        \"prompt_name\": \"Write a Poem\",\n",
    "        \"subject\": \"Quantum Computers\",\n",
    "    },\n",
    ")\n",
    "print(\"Add step response:\", add_step_resp)\n"
   ]
  },
  {
   "attachments": {},
   "cell_type": "markdown",
   "metadata": {},
   "source": [
    "## Get the content of the chain\n"
   ]
  },
  {
   "cell_type": "code",
   "execution_count": 35,
   "metadata": {},
   "outputs": [
    {
     "name": "stdout",
     "output_type": "stream",
     "text": [
      "Chain: {'chain_name': 'Poem Writing Chain', 'steps': [{'step': 1, 'agent_name': 'gpt4free', 'prompt_type': 'Prompt', 'prompt': {'prompt_name': 'Write a Poem', 'subject': 'Artificial Intelligence'}}, {'step': 2, 'agent_name': 'gpt4free', 'prompt_type': 'Prompt', 'prompt': {'prompt_name': 'Write a Poem', 'subject': 'Quantum Computers'}}]}\n"
     ]
    }
   ],
   "source": [
    "# Test get_chain()\n",
    "chain_name = \"Poem Writing Chain\"\n",
    "chain = ApiClient.get_chain(chain_name=chain_name)\n",
    "print(\"Chain:\", chain)\n"
   ]
  },
  {
   "attachments": {},
   "cell_type": "markdown",
   "metadata": {},
   "source": [
    "## Modify a chain step\n",
    "\n",
    "Instead of the subject of the poem just being Artificial Intelligence, we'll change it to be Artificial General Intelligence.\n"
   ]
  },
  {
   "cell_type": "code",
   "execution_count": 36,
   "metadata": {},
   "outputs": [
    {
     "name": "stdout",
     "output_type": "stream",
     "text": [
      "Update step response: Step 1 updated for chain 'Poem Writing Chain'.\n"
     ]
    }
   ],
   "source": [
    "chain_name = \"Poem Writing Chain\"\n",
    "agent_name = \"gpt4free\"\n",
    "# Test update_step()\n",
    "update_step_resp = ApiClient.update_step(\n",
    "    chain_name=chain_name,\n",
    "    step_number=1,\n",
    "    agent_name=agent_name,\n",
    "    prompt_type=\"Prompt\",\n",
    "    prompt={\n",
    "        \"prompt_name\": \"Write a Poem\",\n",
    "        \"subject\": \"Artificial General Intelligence\",\n",
    "    },\n",
    ")\n",
    "print(\"Update step response:\", update_step_resp)\n"
   ]
  },
  {
   "attachments": {},
   "cell_type": "markdown",
   "metadata": {},
   "source": [
    "## Move the chain step\n",
    "\n",
    "When you move a step, it will automatically reassign the order of the steps to match the new order. If there are only 2 steps like in our case, it will just swap them.\n"
   ]
  },
  {
   "cell_type": "code",
   "execution_count": 37,
   "metadata": {},
   "outputs": [
    {
     "name": "stdout",
     "output_type": "stream",
     "text": [
      "Move step response: Step 1 moved to 2 in chain 'Poem Writing Chain'.\n"
     ]
    }
   ],
   "source": [
    "chain_name = \"Poem Writing Chain\"\n",
    "agent_name = \"gpt4free\"\n",
    "\n",
    "# Test move_step()\n",
    "move_step_resp = ApiClient.move_step(\n",
    "    chain_name=chain_name, old_step_number=1, new_step_number=2\n",
    ")\n",
    "print(\"Move step response:\", move_step_resp)\n"
   ]
  },
  {
   "attachments": {},
   "cell_type": "markdown",
   "metadata": {},
   "source": [
    "## Delete a step from the chain\n"
   ]
  },
  {
   "cell_type": "code",
   "execution_count": 38,
   "metadata": {},
   "outputs": [
    {
     "name": "stdout",
     "output_type": "stream",
     "text": [
      "Delete step response: Step 2 deleted from chain 'Poem Writing Chain'.\n"
     ]
    }
   ],
   "source": [
    "# Test delete_step()\n",
    "chain_name = \"Poem Writing Chain\"\n",
    "delete_step_resp = ApiClient.delete_step(chain_name=chain_name, step_number=2)\n",
    "print(\"Delete step response:\", delete_step_resp)\n"
   ]
  },
  {
   "attachments": {},
   "cell_type": "markdown",
   "metadata": {},
   "source": [
    "## Add a Command to the Chain\n",
    "\n",
    "We'll write the result to a file for an example.\n"
   ]
  },
  {
   "cell_type": "code",
   "execution_count": 39,
   "metadata": {},
   "outputs": [
    {
     "name": "stdout",
     "output_type": "stream",
     "text": [
      "Add step response: Step 2 added to chain 'Poem Writing Chain'.\n"
     ]
    }
   ],
   "source": [
    "agent_name = \"gpt4free\"\n",
    "chain_name = \"Poem Writing Chain\"\n",
    "# Test add_step()\n",
    "add_step_resp = ApiClient.add_step(\n",
    "    chain_name=chain_name,\n",
    "    step_number=2,\n",
    "    agent_name=agent_name,\n",
    "    prompt_type=\"Command\",\n",
    "    prompt={\n",
    "        \"command_name\": \"Write to File\",\n",
    "        \"filename\": \"{user_input}.txt\",\n",
    "        \"text\": \"Poem:\\n{STEP1}\",\n",
    "    },\n",
    ")\n",
    "print(\"Add step response:\", add_step_resp)\n"
   ]
  },
  {
   "attachments": {},
   "cell_type": "markdown",
   "metadata": {},
   "source": [
    "## Run the chain\n"
   ]
  },
  {
   "cell_type": "code",
   "execution_count": 40,
   "metadata": {},
   "outputs": [
    {
     "name": "stdout",
     "output_type": "stream",
     "text": [
      "Run chain response: File written to successfully.\n"
     ]
    }
   ],
   "source": [
    "# Test run_chain()\n",
    "chain_name = \"Poem Writing Chain\"\n",
    "# The user input for this chain will just be the name of the text file to write to.\n",
    "user_input = \"Super Poems\"\n",
    "run_chain_resp = ApiClient.run_chain(\n",
    "    chain_name=chain_name, user_input=user_input, from_step=1\n",
    ")\n",
    "print(\"Run chain response:\", run_chain_resp)\n"
   ]
  },
  {
   "attachments": {},
   "cell_type": "markdown",
   "metadata": {},
   "source": [
    "## Get the responses from the chain running\n"
   ]
  },
  {
   "cell_type": "code",
   "execution_count": 41,
   "metadata": {},
   "outputs": [
    {
     "name": "stdout",
     "output_type": "stream",
     "text": [
      "Chain: {'1': {'agent_name': 'gpt4free', 'prompt_type': 'Prompt', 'prompt': {'prompt_name': 'Write a Poem', 'subject': 'Quantum Computers'}, 'step': 1, 'response': \"In the realm of science, where notions grow,\\nThere lies a new wonder, a powerful flow.\\nBehold the Quantum Computers, a marvel untold,\\nWhere mystery and logic beautifully unfold.\\n\\nThey dance with particles, so small and vast,\\nUtilizing quantum bits, erasing the past.\\nThrough entanglement, they create a bond,\\nA symphony of qubits, where truth can be found.\\n\\nUnveiling secrets with computational might,\\nThey explore possibilities, in quantum flight.\\nAlgorithmic wizards, they solve with grace,\\nComplex problems conquered, at a rapid pace.\\n\\nOh, Quantum Computers, the future's embrace,\\nUnlocking the secrets of time and space.\\nIn parallel realms, they compute in stride,\\nParallel realities revealed with each ride.\\n\\nYet, they remain enigmatic, a riddle unsolved,\\nA dance with uncertainty, forever evolved.\\nQuantum states entangled, a delicate chore,\\nYet offering answers, we've yearned to explore.\\n\\nOh, Quantum Computers, dimensions unbound,\\nUnleash your power, let knowledge astound.\\nFrom cryptography to medicine's quest,\\nUnveil the mysteries that lie in our quest.\\n\\nA symphony of electrons, a cosmic display,\\nLeading humanity towards a brighter day.\\nQuantum Computers, instruments of might,\\nNavigating the cosmos, seeking infinite light.\\n\\nSo let us marvel at this quantum rhyme,\\nAt the intersection of space and time.\\nFor with Quantum Computers, we're bound to see,\\nA future where possibilities are set free.\"}, '2': {'agent_name': 'gpt4free', 'prompt_type': 'Command', 'prompt': {'command_name': 'Write to File', 'filename': '{user_input}.txt', 'text': 'Poem:\\n{STEP1}'}, 'step': 2, 'response': 'File written to successfully.'}}\n"
     ]
    }
   ],
   "source": [
    "# Need to make a function to get_chain_responses() as it's not in the API yet.\n",
    "\n",
    "\n",
    "# Test get_chain()\n",
    "chain_name = \"Poem Writing Chain\"\n",
    "chain = ApiClient.get_chain_responses(chain_name=chain_name)\n",
    "print(\"Chain:\", chain)"
   ]
  },
  {
   "attachments": {},
   "cell_type": "markdown",
   "metadata": {},
   "source": [
    "## Delete the chain\n"
   ]
  },
  {
   "cell_type": "code",
   "execution_count": 42,
   "metadata": {},
   "outputs": [
    {
     "name": "stdout",
     "output_type": "stream",
     "text": [
      "Delete chain response: Chain 'Poem Writing Chain' deleted.\n"
     ]
    }
   ],
   "source": [
    "# Test delete_chain()\n",
    "chain_name = \"Poem Writing Chain\"\n",
    "delete_chain_resp = ApiClient.delete_chain(chain_name=chain_name)\n",
    "print(\"Delete chain response:\", delete_chain_resp)\n"
   ]
  },
  {
   "attachments": {},
   "cell_type": "markdown",
   "metadata": {},
   "source": [
    "# Prompts\n",
    "\n",
    "## Get a list of prompts available to use\n"
   ]
  },
  {
   "cell_type": "code",
   "execution_count": 43,
   "metadata": {},
   "outputs": [
    {
     "name": "stdout",
     "output_type": "stream",
     "text": [
      "Prompts: ['instruct', 'Pseudo Code', 'Convert OpenAPI Endpoint', 'Ask for Help', 'SmartInstruct-Researcher', 'Custom Input', 'Title a Poem', 'ValidationFailed', 'SmartTask-CleanResponse', 'Proofreader', 'SmartChat-Researcher', 'Evaluate Code', 'Get ezsession Auth Type', 'Expert Determination', 'Tell Me How', 'New Extension Format', 'Execution', 'Score Response', 'Get Task Description', 'Validation', 'Write a Haiku', 'SmartInstruct-Resolver', 'SmartInstruct-CleanResponse', 'Translate Math to Python', 'SmartInstruct-StepByStep', 'instruct', 'Pick a Poem Subject', 'Task Execution', 'Prompt Generator', 'Check-Instruction', 'Mindmap', 'Get Clarification', 'SmartTask-Execution', 'SmartChat-Resolver', 'Chat', 'Create New Command', 'SmartChat-CleanResponse', 'Prioritize', 'Pick-a-Link', 'SmartInstruct-Execution', 'Write a Poem', 'JSONFormatter', 'SmartTask-StepByStep', 'Title a Chain', 'Instruction', 'WebSearch', 'SmartChat-StepByStep', 'Summarize Web Content', 'Get Task List', 'Break into steps', 'instruct', 'instruct', 'instruct', 'instruct', 'instruct']\n"
     ]
    }
   ],
   "source": [
    "# Test get_prompts()\n",
    "prompts = ApiClient.get_prompts()\n",
    "print(\"Prompts:\", prompts)\n"
   ]
  },
  {
   "attachments": {},
   "cell_type": "markdown",
   "metadata": {},
   "source": [
    "## Create a new prompt\n",
    "\n",
    "We'll make a basic prompt that asks the AI to tell us a short story about a subject. The subject is not yet defined, it would be defined in a chain. Using `{variable_name}` in a prompt will allow you to define the variable in a chain and have it be used in the prompt.\n"
   ]
  },
  {
   "cell_type": "code",
   "execution_count": 44,
   "metadata": {},
   "outputs": [
    {
     "name": "stdout",
     "output_type": "stream",
     "text": [
      "Add prompt response: Prompt 'Short Story' added.\n"
     ]
    }
   ],
   "source": [
    "# Test add_prompt()\n",
    "add_prompt_resp = ApiClient.add_prompt(\n",
    "    prompt_name=\"Short Story\", prompt=\"Tell me a short story about {subject}\"\n",
    ")\n",
    "print(\"Add prompt response:\", add_prompt_resp)\n"
   ]
  },
  {
   "attachments": {},
   "cell_type": "markdown",
   "metadata": {},
   "source": [
    "## Get the prompt content\n"
   ]
  },
  {
   "cell_type": "code",
   "execution_count": 45,
   "metadata": {},
   "outputs": [
    {
     "name": "stdout",
     "output_type": "stream",
     "text": [
      "Get prompt response: Write a poem about {subject} .\n",
      "{user_input}\n"
     ]
    }
   ],
   "source": [
    "# Test get_prompt()\n",
    "get_prompt_resp = ApiClient.get_prompt(prompt_name=\"Write a Poem\")\n",
    "print(\"Get prompt response:\", get_prompt_resp)\n"
   ]
  },
  {
   "attachments": {},
   "cell_type": "markdown",
   "metadata": {},
   "source": [
    "## Get the prompt variables\n"
   ]
  },
  {
   "cell_type": "code",
   "execution_count": 46,
   "metadata": {},
   "outputs": [
    {
     "name": "stdout",
     "output_type": "stream",
     "text": [
      "Get prompt args response: ['subject']\n"
     ]
    }
   ],
   "source": [
    "# Get prompt args\n",
    "\n",
    "\n",
    "# Test get_prompt_args()\n",
    "get_prompt_args_resp = ApiClient.get_prompt_args(prompt_name=\"Short Story\")\n",
    "print(\"Get prompt args response:\", get_prompt_args_resp)\n"
   ]
  },
  {
   "attachments": {},
   "cell_type": "markdown",
   "metadata": {},
   "source": [
    "## Update the prompt content\n",
    "\n",
    "We'll ask it to `Add a dragon to the story somehow` in the prompt to make the short story more interesting.\n"
   ]
  },
  {
   "cell_type": "code",
   "execution_count": 47,
   "metadata": {},
   "outputs": [
    {
     "name": "stdout",
     "output_type": "stream",
     "text": [
      "Update prompt response: Prompt 'Short Story' updated.\n"
     ]
    }
   ],
   "source": [
    "# Test update_prompt()\n",
    "update_prompt_resp = ApiClient.update_prompt(\n",
    "    prompt_name=\"Short Story\",\n",
    "    prompt=\"Tell me a short story about {subject}. Add a dragon to the story somehow.\",\n",
    ")\n",
    "print(\"Update prompt response:\", update_prompt_resp)\n"
   ]
  },
  {
   "attachments": {},
   "cell_type": "markdown",
   "metadata": {},
   "source": [
    "## Delete the prompt\n",
    "\n",
    "If you don't want the prompt anymore, delete it.\n"
   ]
  },
  {
   "cell_type": "code",
   "execution_count": 48,
   "metadata": {},
   "outputs": [
    {
     "name": "stdout",
     "output_type": "stream",
     "text": [
      "Delete prompt response: Prompt 'Short Story' deleted.\n"
     ]
    }
   ],
   "source": [
    "# Test delete_prompt()\n",
    "delete_prompt_resp = ApiClient.delete_prompt(prompt_name=\"Short Story\")\n",
    "print(\"Delete prompt response:\", delete_prompt_resp)\n"
   ]
  },
  {
   "attachments": {},
   "cell_type": "markdown",
   "metadata": {},
   "source": [
    "## Delete Conversation\n",
    "\n",
    "Delete a conversation for the agent.\n"
   ]
  },
  {
   "cell_type": "code",
   "execution_count": 49,
   "metadata": {},
   "outputs": [
    {
     "name": "stdout",
     "output_type": "stream",
     "text": [
      "Delete agent response: Conversation `new_agent History` for agent new_agent deleted.\n"
     ]
    }
   ],
   "source": [
    "# Test delete_agent()\n",
    "agent_name = \"new_agent\"\n",
    "delete_agent_resp = ApiClient.delete_conversation(\n",
    "    agent_name=agent_name, conversation_name=f\"{agent_name} History\"\n",
    ")\n",
    "print(\"Delete agent response:\", delete_agent_resp)"
   ]
  },
  {
   "attachments": {},
   "cell_type": "markdown",
   "metadata": {},
   "source": [
    "## Delete the Agent\n",
    "\n",
    "If you are done with the agent and don't want or need it anymore, you can delete it along with everything associated with it, such as its memories, settings, and history. The Agent isn't just fired, it is dead.\n"
   ]
  },
  {
   "cell_type": "code",
   "execution_count": 50,
   "metadata": {},
   "outputs": [
    {
     "name": "stdout",
     "output_type": "stream",
     "text": [
      "Delete agent response: Agent new_agent deleted.\n"
     ]
    }
   ],
   "source": [
    "# Test delete_agent()\n",
    "agent_name = \"new_agent\"\n",
    "delete_agent_resp = ApiClient.delete_agent(agent_name=agent_name)\n",
    "print(\"Delete agent response:\", delete_agent_resp)\n"
   ]
  }
 ],
 "metadata": {
  "kernelspec": {
   "display_name": "Python 3",
   "language": "python",
   "name": "python3"
  },
  "language_info": {
   "codemirror_mode": {
    "name": "ipython",
    "version": 3
   },
   "file_extension": ".py",
   "mimetype": "text/x-python",
   "name": "python",
   "nbconvert_exporter": "python",
   "pygments_lexer": "ipython3",
   "version": "3.10.6"
  },
  "orig_nbformat": 4
 },
 "nbformat": 4,
 "nbformat_minor": 2
}

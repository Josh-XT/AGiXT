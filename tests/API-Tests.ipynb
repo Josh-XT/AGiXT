{
 "cells": [
  {
   "attachments": {},
   "cell_type": "markdown",
   "metadata": {},
   "source": [
    "## AGiXT Notebook\n",
    "\n",
    "### Jupyter Notebook for all AGiXT API endpoints\n",
    "\n",
    "First set the uri of your AGiXT server, the Agent's name, and a command name to test with.\n"
   ]
  },
  {
   "cell_type": "code",
   "execution_count": 2,
   "metadata": {},
   "outputs": [],
   "source": [
    "import requests\n",
    "from pprint import pprint\n",
    "\n",
    "base_uri = \"http://localhost:7437\"\n",
    "agent = \"gpt4free\"\n",
    "new_agent_name = \"AGiXT\"\n"
   ]
  },
  {
   "attachments": {},
   "cell_type": "markdown",
   "metadata": {},
   "source": [
    "## Providers\n"
   ]
  },
  {
   "cell_type": "code",
   "execution_count": 31,
   "metadata": {},
   "outputs": [
    {
     "name": "stdout",
     "output_type": "stream",
     "text": [
      "{'providers': ['gpt4free',\n",
      "               'azure',\n",
      "               'chatgpt',\n",
      "               'oobabooga',\n",
      "               'openai',\n",
      "               'fastchat',\n",
      "               'transformer',\n",
      "               'bing',\n",
      "               'palm',\n",
      "               'claude',\n",
      "               'gpt4all',\n",
      "               'huggingchat',\n",
      "               'kobold',\n",
      "               'llamacpp',\n",
      "               'gpugpt4all',\n",
      "               'bard']}\n"
     ]
    }
   ],
   "source": [
    "# Test GET /api/provider\n",
    "response = requests.get(f\"{base_uri}/api/provider\")\n",
    "pprint(response.json())\n"
   ]
  },
  {
   "cell_type": "code",
   "execution_count": 4,
   "metadata": {},
   "outputs": [
    {
     "name": "stdout",
     "output_type": "stream",
     "text": [
      "{'settings': ['OPENAI_API_KEY', 'AI_MODEL', 'AI_TEMPERATURE', 'MAX_TOKENS']}\n"
     ]
    }
   ],
   "source": [
    "# Test GET /api/provider\n",
    "provider = \"openai\"\n",
    "response = requests.get(f\"{base_uri}/api/provider/{provider}\")\n",
    "pprint(response.json())"
   ]
  },
  {
   "cell_type": "code",
   "execution_count": 3,
   "metadata": {},
   "outputs": [
    {
     "name": "stdout",
     "output_type": "stream",
     "text": [
      "{'providers': ['azure',\n",
      "               'cohere',\n",
      "               'default',\n",
      "               'google_palm',\n",
      "               'google_vertex',\n",
      "               'large_local',\n",
      "               'openai']}\n"
     ]
    }
   ],
   "source": [
    "# Test GET /api/embedding_providers\n",
    "response = requests.get(f\"{base_uri}/api/embedding_providers\")\n",
    "pprint(response.json())\n"
   ]
  },
  {
   "attachments": {},
   "cell_type": "markdown",
   "metadata": {},
   "source": [
    "## Agents\n"
   ]
  },
  {
   "cell_type": "code",
   "execution_count": null,
   "metadata": {},
   "outputs": [],
   "source": [
    "# Test POST /api/agent\n",
    "# Add an agent\n",
    "data = {\"agent_name\": agent, \"settings\": {\"provider\": \"gpt4free\"}}\n",
    "response = requests.post(f\"{base_uri}/api/agent\", json=data)\n",
    "pprint(response.json())"
   ]
  },
  {
   "cell_type": "code",
   "execution_count": null,
   "metadata": {},
   "outputs": [],
   "source": [
    "# Test PUT /api/agent/{agent_name}\n",
    "# Rename the agent\n",
    "data = {\"new_name\": new_agent_name}\n",
    "response = requests.put(f\"{base_uri}/api/agent/{agent}\", json=data)\n",
    "agent = new_agent_name\n",
    "pprint(response.json())\n"
   ]
  },
  {
   "cell_type": "code",
   "execution_count": null,
   "metadata": {},
   "outputs": [],
   "source": [
    "# Test DELETE /api/agent/{agent_name}\n",
    "# Delete the agent\n",
    "response = requests.delete(f\"{base_uri}/api/agent/{agent}\")\n",
    "pprint(response.json())\n"
   ]
  },
  {
   "cell_type": "code",
   "execution_count": 15,
   "metadata": {},
   "outputs": [
    {
     "name": "stdout",
     "output_type": "stream",
     "text": [
      "{'agents': [{'name': 'ChatGPT', 'status': False},\n",
      "            {'name': 'tester', 'status': False},\n",
      "            {'name': 'Bing', 'status': False},\n",
      "            {'name': 'gpt4free', 'status': False},\n",
      "            {'name': 'Bard', 'status': False}]}\n"
     ]
    }
   ],
   "source": [
    "# Test GET /api/agent\n",
    "# Get all agents\n",
    "response = requests.get(f\"{base_uri}/api/agent\")\n",
    "pprint(response.json())\n"
   ]
  },
  {
   "cell_type": "code",
   "execution_count": 28,
   "metadata": {},
   "outputs": [
    {
     "name": "stdout",
     "output_type": "stream",
     "text": [
      "{'agent': {'commands': {'Analyze Pull Request': False,\n",
      "                        'Append to File': False,\n",
      "                        'Ask AI Agent bard': False,\n",
      "                        'Ask AI Agent gpt4free': False,\n",
      "                        'Ask AI Agent huggingchat': False,\n",
      "                        'Ask AI Agent openai': False,\n",
      "                        'Ask AI Agent supertest': False,\n",
      "                        'Browse Website': False,\n",
      "                        'Check Duplicate Operation': False,\n",
      "                        'Check Local File Access': False,\n",
      "                        'Clone Github Repository': False,\n",
      "                        'Create Github Repository': False,\n",
      "                        'Create a new command': False,\n",
      "                        'Delete File': False,\n",
      "                        'Evaluate Code': False,\n",
      "                        'Execute Python File': False,\n",
      "                        'Execute Shell': False,\n",
      "                        'Generate Image': False,\n",
      "                        'Get Datetime': False,\n",
      "                        'Get Response': False,\n",
      "                        'Google Search': True,\n",
      "                        'Improve Code': False,\n",
      "                        'Ingest File': False,\n",
      "                        'Instruct AI Agent bard': False,\n",
      "                        'Instruct AI Agent gpt4free': False,\n",
      "                        'Instruct AI Agent huggingchat': False,\n",
      "                        'Instruct AI Agent openai': False,\n",
      "                        'Instruct AI Agent supertest': False,\n",
      "                        'Is Valid URL': False,\n",
      "                        'Perform Automated Testing': False,\n",
      "                        'Read Audio': False,\n",
      "                        'Read Audio from File': False,\n",
      "                        'Read File': False,\n",
      "                        'Run CI-CD Pipeline': False,\n",
      "                        'Sanitize URL': False,\n",
      "                        'Scrape Links': False,\n",
      "                        'Scrape Links with Playwright': False,\n",
      "                        'Scrape Text': False,\n",
      "                        'Scrape Text with Playwright': False,\n",
      "                        'Search Files': False,\n",
      "                        'Searx Search': False,\n",
      "                        'Send Email with Sendgrid': False,\n",
      "                        'Send Tweet': False,\n",
      "                        'Speak with TTS': False,\n",
      "                        'Write Tests': False,\n",
      "                        'Write to File': False},\n",
      "           'settings': {'': '',\n",
      "                        'AI_MODEL': 'gpt-4',\n",
      "                        'AI_TEMPERATURE': '0.4',\n",
      "                        'MAX_TOKENS': '4000',\n",
      "                        'embedder': 'default',\n",
      "                        'provider': 'gpt4free'}}}\n"
     ]
    }
   ],
   "source": [
    "# Test GET /api/agent/{agent_name}\n",
    "# Get the agent\n",
    "response = requests.get(f\"{base_uri}/api/agent/{agent}\")\n",
    "pprint(response.json())\n"
   ]
  },
  {
   "cell_type": "code",
   "execution_count": null,
   "metadata": {},
   "outputs": [],
   "source": [
    "# Test GET /api/{agent_name}/chat\n",
    "# Get agent history\n",
    "response = requests.get(f\"{base_uri}/api/{agent}/chat\")\n",
    "pprint(response.json())\n"
   ]
  },
  {
   "cell_type": "code",
   "execution_count": null,
   "metadata": {},
   "outputs": [],
   "source": [
    "# Test DELETE /api/agent/{agent_name}/memory\n",
    "# Clear the agent's memory\n",
    "response = requests.delete(f\"{base_uri}/api/agent/{agent}/memory\")\n",
    "pprint(response.json())\n"
   ]
  },
  {
   "cell_type": "code",
   "execution_count": 12,
   "metadata": {},
   "outputs": [
    {
     "name": "stdout",
     "output_type": "stream",
     "text": [
      "{\n",
      "\"summary\": \"The assistant wrote a tweet about AI discussing its current uses and potential benefits despite remaining challenges\",\n",
      "\"response\": \"Artificial Intelligence (AI) has revolutionized the world and changed the way businesses operate. From automating mundane tasks to providing valuable insights that drive innovation, AI has become an essential tool for companies across all industries. While there may be concerns surrounding job displacement, AI has the power to create new jobs and enhance existing ones. By leveraging AI, employees can focus on higher value activities such as strategy, creativity, and relationship building while AI handles repetitive tasks. Ultimately, embracing AI can lead to increased productivity, efficiency, and growth opportunities for both individuals and organizations alike.\"\n",
      "}\n"
     ]
    }
   ],
   "source": [
    "# Test POST /api/agent/{agent_name}/instruct\n",
    "# Instruct the agent\n",
    "data = {\"prompt\": \"Write a tweet about AI.\"}\n",
    "response = requests.post(f\"{base_uri}/api/agent/{agent}/instruct\", json=data)\n",
    "data = response.json()\n",
    "print(data[\"response\"])\n"
   ]
  },
  {
   "cell_type": "code",
   "execution_count": null,
   "metadata": {},
   "outputs": [],
   "source": [
    "# Test POST /api/agent/{agent_name}/smartinstruct/{shots}\n",
    "# SMART Instruct the agent\n",
    "data = {\"prompt\": \"Write a tweet about AI.\"}\n",
    "response = requests.post(f\"{base_uri}/api/agent/{agent}/smartinstruct/3\", json=data)\n",
    "data = response.json()\n",
    "print(data[\"response\"])\n"
   ]
  },
  {
   "cell_type": "code",
   "execution_count": 9,
   "metadata": {},
   "outputs": [
    {
     "name": "stdout",
     "output_type": "stream",
     "text": [
      "{\n",
      "\"summary\": \"A summary of how artificial intelligence (AI) systems have developed over time and the current state of the industry\",\n",
      "\"response\": \"Overall, AI technology has rapidly evolved over the years, becoming increasingly advanced and integrated into different areas such as healthcare, finance, transportation and beyond. At present, many AI tools exist that could serve both consumers and small business owners alike, enabling them to streamline processes with digital humans that learn about your preferences and customers habits to provide very customized insights. Additionally, using standard contract definitions like the Document Automation App has already benefited users by significantly reducing the legal expenses required with applications of project syndication processes; however project tokenization within international financial communities may become highly encouraged before large corporate players take notice of the application use cases with dental centric DSOs (dental service organizations).\"\n",
      "}\n"
     ]
    }
   ],
   "source": [
    "# Test POST /api/agent/{agent_name}/chat\n",
    "# Chat with the agent\n",
    "data = {\"prompt\": \"Write a tweet about AI.\"}\n",
    "response = requests.post(f\"{base_uri}/api/agent/{agent}/chat\", json=data)\n",
    "data = response.json()\n",
    "print(data[\"response\"])\n"
   ]
  },
  {
   "cell_type": "code",
   "execution_count": 19,
   "metadata": {},
   "outputs": [
    {
     "name": "stdout",
     "output_type": "stream",
     "text": [
      "{'commands': {'Analyze Pull Request': True,\n",
      "              'Append to File': True,\n",
      "              'Ask AI Agent Bard': True,\n",
      "              'Ask AI Agent Bing': True,\n",
      "              'Ask AI Agent ChatGPT': True,\n",
      "              'Ask AI Agent OpenAI': True,\n",
      "              'Ask AI Agent Vicuna': True,\n",
      "              'Ask AI Agent gpt4free': True,\n",
      "              'Check Local File Access': True,\n",
      "              'Clone Github Repository': True,\n",
      "              'Create a new command': True,\n",
      "              'Delete File': True,\n",
      "              'Evaluate Code': True,\n",
      "              'Execute Python File': True,\n",
      "              'Execute Shell': True,\n",
      "              'Get Datetime': True,\n",
      "              'Get Response': True,\n",
      "              'Google Search': True,\n",
      "              'Improve Code': True,\n",
      "              'Instruct AI Agent Bard': True,\n",
      "              'Instruct AI Agent Bing': True,\n",
      "              'Instruct AI Agent ChatGPT': True,\n",
      "              'Instruct AI Agent OpenAI': True,\n",
      "              'Instruct AI Agent Vicuna': True,\n",
      "              'Instruct AI Agent gpt4free': True,\n",
      "              'Is Valid URL': True,\n",
      "              'Perform Automated Testing': True,\n",
      "              'Read Audio': True,\n",
      "              'Read Audio from File': True,\n",
      "              'Read File': True,\n",
      "              'Run CI-CD Pipeline': True,\n",
      "              'Sanitize URL': True,\n",
      "              'Scrape Links': True,\n",
      "              'Scrape Links with Playwright': True,\n",
      "              'Scrape Text': True,\n",
      "              'Scrape Text with Playwright': True,\n",
      "              'Scrape Text with Selenium': True,\n",
      "              'Search Files': True,\n",
      "              'Speak with TTS': True,\n",
      "              'Use The Search Engine': True,\n",
      "              'Write Tests': True,\n",
      "              'Write to File': True}}\n"
     ]
    }
   ],
   "source": [
    "# Test GET /api/agent/{agent_name}/command\n",
    "# Get the agent's command\n",
    "response = requests.get(f\"{base_uri}/api/agent/{agent}/command\")\n",
    "pprint(response.json())\n"
   ]
  },
  {
   "cell_type": "code",
   "execution_count": 13,
   "metadata": {},
   "outputs": [
    {
     "name": "stdout",
     "output_type": "stream",
     "text": [
      "{'message': \"All commands enabled for agent 'gpt4free'.\"}\n"
     ]
    }
   ],
   "source": [
    "# Test PATCH /api/agent/{agent_name}/command\n",
    "# Update the agent's command\n",
    "data = {\"command_name\": \"*\", \"enable\": True}\n",
    "response = requests.patch(f\"{base_uri}/api/agent/{agent}/command\", json=data)\n",
    "pprint(response.json())\n"
   ]
  },
  {
   "attachments": {},
   "cell_type": "markdown",
   "metadata": {},
   "source": [
    "## Tasks\n"
   ]
  },
  {
   "cell_type": "code",
   "execution_count": null,
   "metadata": {},
   "outputs": [],
   "source": [
    "# Test POST /api/agent/{agent_name}/task\n",
    "# Create a task for the agent\n",
    "data = {\"objective\": \"Write a tweet about AI.\"}\n",
    "response = requests.post(f\"{base_uri}/api/agent/{agent}/task\", json=data)\n",
    "pprint(response.json())\n"
   ]
  },
  {
   "cell_type": "code",
   "execution_count": null,
   "metadata": {},
   "outputs": [],
   "source": [
    "# Test GET /api/agent/{agent_name}/task\n",
    "# Get the agent's task\n",
    "response = requests.get(f\"{base_uri}/api/agent/{agent}/task\")\n",
    "pprint(response.json())\n"
   ]
  },
  {
   "cell_type": "code",
   "execution_count": null,
   "metadata": {},
   "outputs": [],
   "source": [
    "# Test GET /api/agent/{agent_name}/task/status\n",
    "# Get the agent's task status\n",
    "response = requests.get(f\"{base_uri}/api/agent/{agent}/task/status\")\n",
    "pprint(response.json())\n"
   ]
  },
  {
   "attachments": {},
   "cell_type": "markdown",
   "metadata": {},
   "source": [
    "## Chains\n"
   ]
  },
  {
   "cell_type": "code",
   "execution_count": 7,
   "metadata": {},
   "outputs": [
    {
     "name": "stdout",
     "output_type": "stream",
     "text": [
      "['Write a Tweet about AI']\n"
     ]
    }
   ],
   "source": [
    "# Test GET /api/chain\n",
    "# Get the chain\n",
    "response = requests.get(f\"{base_uri}/api/chain\")\n",
    "pprint(response.json())\n"
   ]
  },
  {
   "cell_type": "code",
   "execution_count": null,
   "metadata": {},
   "outputs": [],
   "source": [
    "# Test GET /api/chain/{chain_name}\n",
    "# Get the chain\n",
    "response = requests.get(f\"{base_uri}/api/chain/test_chain\")\n",
    "pprint(response.json())\n"
   ]
  },
  {
   "cell_type": "code",
   "execution_count": null,
   "metadata": {},
   "outputs": [],
   "source": [
    "# Test POST /api/chain\n",
    "# Create a chain\n",
    "data = {\"chain_name\": \"Write a Tweet about AI\"}\n",
    "response = requests.post(f\"{base_uri}/api/chain\", json=data)\n",
    "pprint(response.json())\n"
   ]
  },
  {
   "cell_type": "code",
   "execution_count": null,
   "metadata": {},
   "outputs": [],
   "source": [
    "# Test PUT /api/chain/{chain_name}\n",
    "# Rename the chain\n",
    "data = {\"new_name\": \"new_test_chain\"}\n",
    "response = requests.put(f\"{base_uri}/api/chain/test_chain\", json=data)\n",
    "pprint(response.json())\n"
   ]
  },
  {
   "cell_type": "code",
   "execution_count": null,
   "metadata": {},
   "outputs": [],
   "source": [
    "# Test DELETE /api/chain/{chain_name}\n",
    "# Delete the chain\n",
    "response = requests.delete(f\"{base_uri}/api/chain/new_test_chain\")\n",
    "pprint(response.json())\n"
   ]
  },
  {
   "cell_type": "code",
   "execution_count": null,
   "metadata": {},
   "outputs": [],
   "source": [
    "# Test POST /api/chain/{chain_name}/step\n",
    "# Add a step to the chain\n",
    "data = {\n",
    "    \"step_number\": 1,\n",
    "    \"prompt_type\": \"instruction\",\n",
    "    \"prompt\": \"What is the capital of France?\",\n",
    "}\n",
    "response = requests.post(f\"{base_uri}/api/chain/test_chain/step\", json=data)\n",
    "pprint(response.json())\n"
   ]
  },
  {
   "cell_type": "code",
   "execution_count": null,
   "metadata": {},
   "outputs": [],
   "source": [
    "# Test PUT /api/chain/{chain_name}/step\n",
    "# Update a step in the chain\n",
    "data = {\n",
    "    \"step_number\": 1,\n",
    "    \"agent_name\": agent,\n",
    "    \"prompt_type\": \"instruction\",\n",
    "    \"prompt\": \"What is the capital of Spain?\",\n",
    "}\n",
    "response = requests.put(f\"{base_uri}/api/chain/test_chain/step\", json=data)\n",
    "pprint(response.json())\n"
   ]
  },
  {
   "cell_type": "code",
   "execution_count": null,
   "metadata": {},
   "outputs": [],
   "source": [
    "# Test PATCH /api/chain/{chain_name}/step/move\n",
    "# Move a step in the chain\n",
    "data = {\"old_step_number\": 1, \"new_step_number\": 2, \"prompt_type\": \"instruction\"}\n",
    "response = requests.patch(f\"{base_uri}/api/chain/test_chain/step/move\", json=data)\n",
    "pprint(response.json())\n"
   ]
  },
  {
   "cell_type": "code",
   "execution_count": null,
   "metadata": {},
   "outputs": [],
   "source": [
    "# Test DELETE /api/chain/{chain_name}/step/{step_number}\n",
    "# Delete a step in the chain\n",
    "response = requests.delete(f\"{base_uri}/api/chain/test_chain/step/2\")\n",
    "pprint(response.json())\n"
   ]
  },
  {
   "attachments": {},
   "cell_type": "markdown",
   "metadata": {},
   "source": [
    "## Prompts\n"
   ]
  },
  {
   "cell_type": "code",
   "execution_count": null,
   "metadata": {},
   "outputs": [],
   "source": [
    "# Test POST /api/prompt\n",
    "# Add a prompt\n",
    "data = {\"prompt_name\": \"test_prompt\", \"prompt\": \"What is the capital of France?\"}\n",
    "response = requests.post(f\"{base_uri}/api/prompt\", json=data)\n",
    "pprint(response.json())\n"
   ]
  },
  {
   "cell_type": "code",
   "execution_count": null,
   "metadata": {},
   "outputs": [],
   "source": [
    "# Test GET /api/prompt/{prompt_name}\n",
    "# Get the prompt\n",
    "response = requests.get(f\"{base_uri}/api/prompt/test_prompt\")\n",
    "pprint(response.json())\n"
   ]
  },
  {
   "cell_type": "code",
   "execution_count": null,
   "metadata": {},
   "outputs": [],
   "source": [
    "# Test GET /api/prompt\n",
    "# Get all prompts\n",
    "response = requests.get(f\"{base_uri}/api/prompt\")\n",
    "pprint(response.json())\n"
   ]
  },
  {
   "cell_type": "code",
   "execution_count": null,
   "metadata": {},
   "outputs": [],
   "source": [
    "# Test DELETE /api/prompt/{prompt_name}\n",
    "# Delete the prompt\n",
    "response = requests.delete(f\"{base_uri}/api/prompt/test_prompt\")\n",
    "pprint(response.json())\n"
   ]
  },
  {
   "cell_type": "code",
   "execution_count": null,
   "metadata": {},
   "outputs": [],
   "source": [
    "# Test PUT /api/prompt/{prompt_name}\n",
    "# Rename the prompt\n",
    "data = {\"prompt\": \"What is the capital of Spain?\"}\n",
    "response = requests.put(f\"{base_uri}/api/prompt/test_prompt\", json=data)\n",
    "pprint(response.json())\n"
   ]
  }
 ],
 "metadata": {
  "kernelspec": {
   "display_name": "Python 3",
   "language": "python",
   "name": "python3"
  },
  "language_info": {
   "codemirror_mode": {
    "name": "ipython",
    "version": 3
   },
   "file_extension": ".py",
   "mimetype": "text/x-python",
   "name": "python",
   "nbconvert_exporter": "python",
   "pygments_lexer": "ipython3",
   "version": "3.10.6"
  },
  "orig_nbformat": 4
 },
 "nbformat": 4,
 "nbformat_minor": 2
}

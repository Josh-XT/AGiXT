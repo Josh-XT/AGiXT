{
 "cells": [
  {
   "cell_type": "code",
   "execution_count": 1,
   "metadata": {},
   "outputs": [
    {
     "name": "stdout",
     "output_type": "stream",
     "text": [
      "Providers: {'providers': ['gpt4free', 'azure', 'chatgpt', 'runpod', 'oobabooga', 'openai', 'huggingface', 'fastchat', 'transformer', 'bing', 'palm', 'claude', 'gpt4all', 'huggingchat', 'llamacppapi', 'kobold', 'llamacpp', 'gpugpt4all', 'bard']}\n"
     ]
    }
   ],
   "source": [
    "from ApiClient import ApiClient\n",
    "\n",
    "# Test get_providers()\n",
    "providers = ApiClient.get_providers()\n",
    "print(\"Providers:\", providers)"
   ]
  },
  {
   "cell_type": "code",
   "execution_count": 5,
   "metadata": {},
   "outputs": [
    {
     "name": "stdout",
     "output_type": "stream",
     "text": [
      "Embed Providers: {'providers': ['azure', 'cohere', 'default', 'embed_text', 'get_embedder', 'google_palm', 'google_vertex', 'large_local', 'llamacpp', 'openai']}\n"
     ]
    }
   ],
   "source": [
    "from ApiClient import ApiClient\n",
    "\n",
    "# Test get_embed_providers()\n",
    "embed_providers = ApiClient.get_embed_providers()\n",
    "print(\"Embed Providers:\", embed_providers)\n"
   ]
  },
  {
   "cell_type": "code",
   "execution_count": 6,
   "metadata": {},
   "outputs": [
    {
     "name": "stdout",
     "output_type": "stream",
     "text": [
      "Settings for OpenAI: {'settings': {'OPENAI_API_KEY': '', 'AI_MODEL': 'gpt-3.5-turbo', 'AI_TEMPERATURE': 0.7, 'MAX_TOKENS': 4096}}\n"
     ]
    }
   ],
   "source": [
    "from ApiClient import ApiClient\n",
    "\n",
    "# Test get_provider_settings()\n",
    "provider_name = \"OpenAI\"\n",
    "provider_settings = ApiClient.get_provider_settings(provider_name)\n",
    "print(f\"Settings for {provider_name}:\", provider_settings)\n"
   ]
  },
  {
   "cell_type": "code",
   "execution_count": 10,
   "metadata": {},
   "outputs": [
    {
     "name": "stdout",
     "output_type": "stream",
     "text": [
      "Add agent response: {'message': 'Agent added', 'agent_file': 'test_agent.yaml'}\n"
     ]
    }
   ],
   "source": [
    "from ApiClient import ApiClient\n",
    "\n",
    "# Test add_agent()\n",
    "agent_name = \"test_agent\"\n",
    "provider_name = \"gpt4free\"\n",
    "# Gets a list of the provider setting defaults\n",
    "# We'll use defaults for the provider instead of defining anything for the tests.\n",
    "provider_settings = ApiClient.get_provider_settings(provider_name)[\"settings\"]\n",
    "add_agent_resp = ApiClient.add_agent(agent_name, provider_settings)\n",
    "print(\"Add agent response:\", add_agent_resp)\n"
   ]
  },
  {
   "cell_type": "code",
   "execution_count": 13,
   "metadata": {},
   "outputs": [
    {
     "name": "stdout",
     "output_type": "stream",
     "text": [
      "Rename agent response: {'message': 'Agent test_agent renamed to renamed_agent.'}\n"
     ]
    }
   ],
   "source": [
    "from ApiClient import ApiClient\n",
    "\n",
    "# Test rename_agent()\n",
    "agent_name = \"test_agent\"\n",
    "new_agent_name = \"renamed_agent\"\n",
    "rename_agent_resp = ApiClient.rename_agent(agent_name, new_agent_name)\n",
    "print(\"Rename agent response:\", rename_agent_resp)"
   ]
  },
  {
   "cell_type": "code",
   "execution_count": 14,
   "metadata": {},
   "outputs": [
    {
     "name": "stdout",
     "output_type": "stream",
     "text": [
      "Config for renamed_agent: {'agent': {'commands': {'Scrape Text with Playwright': False, 'Scrape Links with Playwright': False, 'Speak with MacOS TTS': False, 'Evaluate Code': False, 'Analyze Pull Request': False, 'Perform Automated Testing': False, 'Run CI-CD Pipeline': False, 'Improve Code': False, 'Write Tests': False, 'Create a new command': False, 'Ask AI Agent OpenAI': False, 'Instruct AI Agent OpenAI': False, 'Ask AI Agent ChatGPT': False, 'Instruct AI Agent ChatGPT': False, 'Ask AI Agent Vicuna': False, 'Instruct AI Agent Vicuna': False, 'Ask AI Agent Bing': False, 'Instruct AI Agent Bing': False, 'Ask AI Agent gpt4free': False, 'Instruct AI Agent gpt4free': False, 'Ask AI Agent Bard': False, 'Instruct AI Agent Bard': False, 'Ask AI Agent Guanaco': False, 'Instruct AI Agent Guanaco': False, 'Read File': False, 'Write to File': False, 'Append to File': False, 'Delete File': False, 'Search Files': False, 'Execute Python File': False, 'Execute Shell': False, 'Read Audio from File': False, 'Read Audio': False, 'Generate Image with Stable Diffusion': False, 'Speak with TTS with BrianTTS': False, 'Clone Github Repository': False, 'Get Datetime': False, 'Speak with TTS Using Elevenlabs': False, 'Use The Search Engine': False, 'Ask AI Agent renamed_agent': False, 'Instruct AI Agent renamed_agent': False}, 'settings': {'AI_MODEL': 'gpt-3.5-turbo', 'AI_TEMPERATURE': 0.7, 'MAX_TOKENS': 4000, 'provider_name': 'gpt4free'}}}\n"
     ]
    }
   ],
   "source": [
    "from ApiClient import ApiClient\n",
    "\n",
    "# Test get_agentconfig()\n",
    "agent_name = \"renamed_agent\"\n",
    "agent_config = ApiClient.get_agentconfig(agent_name)\n",
    "print(f\"Config for {agent_name}:\", agent_config)"
   ]
  },
  {
   "cell_type": "code",
   "execution_count": 1,
   "metadata": {},
   "outputs": [
    {
     "name": "stdout",
     "output_type": "stream",
     "text": [
      "Update agent settings response: {'message': 'Agent renamed_agent configuration updated.'}\n"
     ]
    }
   ],
   "source": [
    "from ApiClient import ApiClient\n",
    "\n",
    "# Test update_agent_settings()\n",
    "agent_name = \"renamed_agent\"\n",
    "agent_config = ApiClient.get_agentconfig(agent_name)\n",
    "agent_settings = agent_config[\"agent\"][\"settings\"]\n",
    "# We'll just change the AI_TEMPERATURE setting for the test\n",
    "agent_settings[\"AI_TEMPERATURE\"] = 0.5\n",
    "update_agent_settings_resp = ApiClient.update_agent_settings(\n",
    "    agent_name=agent_name, settings=agent_settings\n",
    ")\n",
    "print(\"Update agent settings response:\", update_agent_settings_resp)"
   ]
  },
  {
   "cell_type": "code",
   "execution_count": null,
   "metadata": {},
   "outputs": [],
   "source": [
    "from ApiClient import ApiClient\n",
    "\n",
    "# Test update_agent_settings()\n",
    "new_settings = {\"provider\": provider_name, \"setting\": \"new_value\"}\n",
    "update_agent_settings_resp = ApiClient.update_agent_settings(\n",
    "    new_agent_name, new_settings\n",
    ")\n",
    "print(\"Update agent settings response:\", update_agent_settings_resp)\n",
    "\n",
    "# Test delete_agent()\n",
    "delete_agent_resp = ApiClient.delete_agent(new_agent_name)\n",
    "print(\"Delete agent response:\", delete_agent_resp)\n",
    "\n",
    "# Test get_agents()\n",
    "agents = ApiClient.get_agents()\n",
    "print(\"Agents:\", agents)\n",
    "\n",
    "# Test get_agentconfig()\n",
    "agent_name = \"assistant\"\n",
    "agent_config = ApiClient.get_agentconfig(agent_name)\n",
    "print(f\"Config for {agent_name}:\", agent_config)\n",
    "\n",
    "# Test get_chat_history()\n",
    "chat_history = ApiClient.get_chat_history(agent_name)\n",
    "print(\"Chat history:\", chat_history)\n",
    "\n",
    "# Test wipe_agent_memories()\n",
    "# Note: Use this function with caution as it will erase the agent's memory.\n",
    "# wipe_mem_resp = ApiClient.wipe_agent_memories(agent_name)\n",
    "# print(\"Wipe agent memories response:\", wipe_mem_resp)\n",
    "\n",
    "# Test instruct()\n",
    "instruct_resp = ApiClient.instruct(agent_name, \"What is the capital of France?\")\n",
    "print(\"Instruct response:\", instruct_resp)\n",
    "\n",
    "# Test smartinstruct()\n",
    "smartinstruct_resp = ApiClient.smartinstruct(\n",
    "    agent_name, 3, \"What is the capital of France?\"\n",
    ")\n",
    "print(\"Smart instruct response:\", smartinstruct_resp)\n",
    "\n",
    "# Test chat()\n",
    "chat_resp = ApiClient.chat(agent_name, \"What is the capital of France?\")\n",
    "print(\"Chat response:\", chat_resp)\n",
    "\n",
    "# Test smartchat()\n",
    "smartchat_resp = ApiClient.smartchat(agent_name, 3, \"What is the capital of France?\")\n",
    "print(\"Smart chat response:\", smartchat_resp)\n",
    "\n",
    "# Test get_commands()\n",
    "commands = ApiClient.get_commands(agent_name)\n",
    "print(\"Commands:\", commands)\n",
    "\n",
    "# Test toggle_command()\n",
    "toggle_command_resp = ApiClient.toggle_command(agent_name, \"command_name\", True)\n",
    "print(\"Toggle command response:\", toggle_command_resp)\n",
    "\n",
    "# Test start_task_agent()\n",
    "start_task_resp = ApiClient.start_task_agent(agent_name, \"objective\")\n",
    "print(\"Start task agent response:\", start_task_resp)\n",
    "\n",
    "# Test get_task_output()\n",
    "task_output = ApiClient.get_task_output(agent_name)\n",
    "print(\"Task output:\", task_output)\n",
    "\n",
    "# Test get_task_status()\n",
    "task_status = ApiClient.get_task_status(agent_name)\n",
    "print(\"Task status:\", task_status)\n",
    "\n",
    "# Test get_chains()\n",
    "chains = ApiClient.get_chains()\n",
    "print(\"Chains:\", chains)\n",
    "\n",
    "# Test get_chain()\n",
    "chain_name = \"chain_name\"\n",
    "chain = ApiClient.get_chain(chain_name)\n",
    "print(\"Chain:\", chain)\n",
    "\n",
    "# Test run_chain()\n",
    "run_chain_resp = ApiClient.run_chain(chain_name)\n",
    "print(\"Run chain response:\", run_chain_resp)\n",
    "\n",
    "# Test add_chain()\n",
    "new_chain_name = \"new_chain\"\n",
    "add_chain_resp = ApiClient.add_chain(new_chain_name)\n",
    "print(\"Add chain response:\", add_chain_resp)\n",
    "\n",
    "# Test rename_chain()\n",
    "renamed_chain_name = \"renamed_chain\"\n",
    "rename_chain_resp = ApiClient.rename_chain(new_chain_name, renamed_chain_name)\n",
    "print(\"Rename chain response:\", rename_chain_resp)\n",
    "\n",
    "# Test delete_chain()\n",
    "delete_chain_resp = ApiClient.delete_chain(renamed_chain_name)\n",
    "print(\"Delete chain response:\", delete_chain_resp)\n",
    "\n",
    "# Test add_step()\n",
    "add_step_resp = ApiClient.add_step(chain_name, 1, agent_name, \"instruct\", \"Prompt\")\n",
    "print(\"Add step response:\", add_step_resp)\n",
    "\n",
    "# Test update_step()\n",
    "update_step_resp = ApiClient.update_step(\n",
    "    chain_name, 1, agent_name, \"instruct\", \"New prompt\"\n",
    ")\n",
    "print(\"Update step response:\", update_step_resp)\n",
    "\n",
    "# Test move_step()\n",
    "move_step_resp = ApiClient.move_step(chain_name, 1, 2)\n",
    "print(\"Move step response:\", move_step_resp)\n",
    "\n",
    "# Test delete_step()\n",
    "delete_step_resp = ApiClient.delete_step(chain_name, 2)\n",
    "print(\"Delete step response:\", delete_step_resp)\n",
    "\n",
    "# Test add_prompt()\n",
    "add_prompt_resp = ApiClient.add_prompt(\"prompt_name\", \"This is a prompt.\")\n",
    "print(\"Add prompt response:\", add_prompt_resp)\n",
    "\n",
    "# Test get_prompt()\n",
    "get_prompt_resp = ApiClient.get_prompt(\"prompt_name\")\n",
    "print(\"Get prompt response:\", get_prompt_resp)\n",
    "\n",
    "# Test get_prompts()\n",
    "prompts = ApiClient.get_prompts()\n",
    "print(\"Prompts:\", prompts)\n",
    "\n",
    "# Test delete_prompt()\n",
    "delete_prompt_resp = ApiClient.delete_prompt(\"prompt_name\")\n",
    "print(\"Delete prompt response:\", delete_prompt_resp)\n",
    "\n",
    "# Test update_prompt()\n",
    "update_prompt_resp = ApiClient.update_prompt(\n",
    "    \"prompt_name\", \"This is an updated prompt.\"\n",
    ")\n",
    "print(\"Update prompt response:\", update_prompt_resp)\n"
   ]
  }
 ],
 "metadata": {
  "kernelspec": {
   "display_name": "Python 3",
   "language": "python",
   "name": "python3"
  },
  "language_info": {
   "codemirror_mode": {
    "name": "ipython",
    "version": 3
   },
   "file_extension": ".py",
   "mimetype": "text/x-python",
   "name": "python",
   "nbconvert_exporter": "python",
   "pygments_lexer": "ipython3",
   "version": "3.10.6"
  },
  "orig_nbformat": 4
 },
 "nbformat": 4,
 "nbformat_minor": 2
}

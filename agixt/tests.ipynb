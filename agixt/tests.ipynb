{
 "cells": [
  {
   "attachments": {},
   "cell_type": "markdown",
   "metadata": {},
   "source": [
    "# Tests for AGiXT API Client\n"
   ]
  },
  {
   "attachments": {},
   "cell_type": "markdown",
   "metadata": {},
   "source": [
    "# Agents\n"
   ]
  },
  {
   "attachments": {},
   "cell_type": "markdown",
   "metadata": {},
   "source": [
    "## Get Providers\n",
    "\n",
    "This will get a list of AI providers available to use with AGiXT.\n"
   ]
  },
  {
   "cell_type": "code",
   "execution_count": 1,
   "metadata": {},
   "outputs": [
    {
     "name": "stdout",
     "output_type": "stream",
     "text": [
      "Providers: ['gpt4free', 'azure', 'chatgpt', 'runpod', 'oobabooga', 'openai', 'huggingface', 'fastchat', 'transformer', 'bing', 'palm', 'claude', 'gpt4all', 'huggingchat', 'llamacppapi', 'kobold', 'llamacpp', 'gpugpt4all', 'bard']\n"
     ]
    }
   ],
   "source": [
    "from ApiClient import ApiClient\n",
    "\n",
    "# Test get_providers()\n",
    "providers = ApiClient.get_providers()\n",
    "print(\"Providers:\", providers)"
   ]
  },
  {
   "attachments": {},
   "cell_type": "markdown",
   "metadata": {},
   "source": [
    "## Get Default Provider Settings\n",
    "\n",
    "Choose a provider from the list of AI providers and get the default settings for that provider.\n"
   ]
  },
  {
   "cell_type": "code",
   "execution_count": 2,
   "metadata": {},
   "outputs": [
    {
     "name": "stdout",
     "output_type": "stream",
     "text": [
      "Settings for gpt4free: {'AI_MODEL': 'gpt-3.5-turbo', 'AI_TEMPERATURE': 0.7, 'MAX_TOKENS': 4000, 'provider': 'gpt4free'}\n"
     ]
    }
   ],
   "source": [
    "from ApiClient import ApiClient\n",
    "\n",
    "# Test get_provider_settings()\n",
    "provider_name = \"gpt4free\"\n",
    "provider_settings = ApiClient.get_provider_settings(provider_name=provider_name)\n",
    "print(f\"Settings for {provider_name}:\", provider_settings)\n"
   ]
  },
  {
   "attachments": {},
   "cell_type": "markdown",
   "metadata": {},
   "source": [
    "## Get Embedding Providers\n",
    "\n",
    "Embedding providers are used to embed information to vectors to store in the vector database to be searched for context injection.\n"
   ]
  },
  {
   "cell_type": "code",
   "execution_count": 3,
   "metadata": {},
   "outputs": [
    {
     "name": "stdout",
     "output_type": "stream",
     "text": [
      "Embed Providers: ['azure', 'cohere', 'default', 'embed_text', 'get_embedder', 'google_palm', 'google_vertex', 'large_local', 'llamacpp', 'openai']\n"
     ]
    }
   ],
   "source": [
    "from ApiClient import ApiClient\n",
    "\n",
    "# Test get_embed_providers()\n",
    "embed_providers = ApiClient.get_embed_providers()\n",
    "print(\"Embed Providers:\", embed_providers)\n"
   ]
  },
  {
   "attachments": {},
   "cell_type": "markdown",
   "metadata": {},
   "source": [
    "## Get Extension Settings\n",
    "\n",
    "This is where we get all third party extension settings for the agent with defaults to fill in when there is nothing entered on the front end.\n"
   ]
  },
  {
   "cell_type": "code",
   "execution_count": 4,
   "metadata": {},
   "outputs": [
    {
     "name": "stdout",
     "output_type": "stream",
     "text": [
      "Extension Settings response: {'macostts': {'USE_MAC_OS_TTS': False}, 'file_system': {'WORKING_DIRECTORY': './WORKSPACE', 'WORKING_DIRECTORY_RESTRICTED': True}, 'huggingface': {'HUGGINGFACE_API_KEY': '', 'HUGGINGFACE_AUDIO_TO_TEXT_MODEL': 'facebook/wav2vec2-large-960h-lv60-self', 'WORKING_DIRECTORY': './WORKSPACE'}, 'discord': {'DISCORD_API_KEY': '', 'DISCORD_COMMAND_PREFIX': '/AGiXT'}, 'dalle': {'HUGGINGFACE_API_KEY': '', 'OPENAI_API_KEY': '', 'WORKING_DIRECTORY': './WORKSPACE'}, 'briantts': {'USE_BRIAN_TTS': True}, 'google': {'GOOGLE_API_KEY': ''}, 'microsoft_365': {'MICROSOFT_365_CLIENT_ID': '', 'MICROSOFT_365_CLIENT_SECRET': '', 'MICROSOFT_365_REDIRECT_URI': ''}, 'github': {'GITHUB_USERNAME': '', 'GITHUB_API_KEY': '', 'WORKING_DIRECTORY': './WORKSPACE'}, 'gtts': {'USE_GTTS': False}, 'elevenlabs': {'ELEVENLABS_API_KEY': '', 'ELEVENLABS_VOICE': 'Josh'}, 'sendgrid_email': {'SENDGRID_API_KEY': '', 'SENDGRID_EMAIL': ''}, 'searxng': {'SEARXNG_INSTANCE_URL': ''}, 'twitter': {'TW_CONSUMER_KEY': '', 'TW_CONSUMER_SECRET': '', 'TW_ACCESS_TOKEN': '', 'TW_ACCESS_TOKEN_SECRET': ''}}\n"
     ]
    }
   ],
   "source": [
    "from ApiClient import ApiClient\n",
    "\n",
    "# Test get_extension_settings()\n",
    "ext_settings_resp = ApiClient.get_extension_settings()\n",
    "print(\"Extension Settings response:\", ext_settings_resp)"
   ]
  },
  {
   "attachments": {},
   "cell_type": "markdown",
   "metadata": {},
   "source": [
    "## Get a list of all current Agents\n",
    "\n",
    "Any agents that you have created will be listed here. The `status` field is to say if the agent is currently running a task or not.\n"
   ]
  },
  {
   "cell_type": "code",
   "execution_count": 5,
   "metadata": {},
   "outputs": [
    {
     "name": "stdout",
     "output_type": "stream",
     "text": [
      "Agents: [{'name': 'Bing', 'status': False}, {'name': 'renamed_agent', 'status': False}, {'name': 'gpt4free', 'status': False}, {'name': 'Bard', 'status': False}, {'name': 'Vicuna', 'status': False}, {'name': 'OpenAI', 'status': False}, {'name': 'azure', 'status': False}, {'name': 'ChatGPT', 'status': False}, {'name': 'Guanaco', 'status': False}, {'name': 'test', 'status': False}, {'name': 'test agent', 'status': False}]\n"
     ]
    }
   ],
   "source": [
    "from ApiClient import ApiClient\n",
    "\n",
    "# Test get_agents()\n",
    "agents = ApiClient.get_agents()\n",
    "print(\"Agents:\", agents)"
   ]
  },
  {
   "attachments": {},
   "cell_type": "markdown",
   "metadata": {},
   "source": [
    "## Create a new Agent\n",
    "\n",
    "Creates a new agent with the `gpt4free` provider. We'll use `gpt4free` because it is the one that requires the least configuration.\n"
   ]
  },
  {
   "cell_type": "code",
   "execution_count": 6,
   "metadata": {},
   "outputs": [
    {
     "name": "stdout",
     "output_type": "stream",
     "text": [
      "Add agent response: {'message': 'Agent added', 'agent_file': 'test_agent.yaml'}\n"
     ]
    }
   ],
   "source": [
    "from ApiClient import ApiClient\n",
    "\n",
    "# Test add_agent()\n",
    "agent_name = \"test_agent\"\n",
    "provider_name = \"gpt4free\"\n",
    "# Gets a list of the provider setting defaults\n",
    "# We'll use defaults for the provider instead of defining anything for the tests.\n",
    "provider_settings = ApiClient.get_provider_settings(provider_name=provider_name)\n",
    "add_agent_resp = ApiClient.add_agent(agent_name=agent_name, settings=provider_settings)\n",
    "print(\"Add agent response:\", add_agent_resp)\n"
   ]
  },
  {
   "attachments": {},
   "cell_type": "markdown",
   "metadata": {},
   "source": [
    "## Rename the test agent\n",
    "\n",
    "We will just rename it to `new_agent`.\n"
   ]
  },
  {
   "cell_type": "code",
   "execution_count": 7,
   "metadata": {},
   "outputs": [
    {
     "name": "stdout",
     "output_type": "stream",
     "text": [
      "Rename agent response: {'message': 'Agent test_agent renamed to new_agent.'}\n"
     ]
    }
   ],
   "source": [
    "from ApiClient import ApiClient\n",
    "\n",
    "# Test rename_agent()\n",
    "agent_name = \"test_agent\"\n",
    "new_agent_name = \"new_agent\"\n",
    "rename_agent_resp = ApiClient.rename_agent(\n",
    "    agent_name=agent_name, new_name=new_agent_name\n",
    ")\n",
    "print(\"Rename agent response:\", rename_agent_resp)\n"
   ]
  },
  {
   "attachments": {},
   "cell_type": "markdown",
   "metadata": {},
   "source": [
    "## Get the agent's settings\n",
    "\n",
    "This will get the settings for the agent we just created, this will tell you all commands available to the agent as well as all of the provider settings for the agent.\n"
   ]
  },
  {
   "cell_type": "code",
   "execution_count": 8,
   "metadata": {},
   "outputs": [
    {
     "name": "stdout",
     "output_type": "stream",
     "text": [
      "Config for new_agent: {'commands': {'Scrape Text with Playwright': False, 'Scrape Links with Playwright': False, 'Speak with MacOS TTS': False, 'Evaluate Code': False, 'Analyze Pull Request': False, 'Perform Automated Testing': False, 'Run CI-CD Pipeline': False, 'Improve Code': False, 'Write Tests': False, 'Create a new command': False, 'Ask AI Agent Bing': False, 'Instruct AI Agent Bing': False, 'Ask AI Agent renamed_agent': False, 'Instruct AI Agent renamed_agent': False, 'Ask AI Agent gpt4free': False, 'Instruct AI Agent gpt4free': False, 'Ask AI Agent Bard': False, 'Instruct AI Agent Bard': False, 'Ask AI Agent Vicuna': False, 'Instruct AI Agent Vicuna': False, 'Ask AI Agent OpenAI': False, 'Instruct AI Agent OpenAI': False, 'Ask AI Agent azure': False, 'Instruct AI Agent azure': False, 'Ask AI Agent ChatGPT': False, 'Instruct AI Agent ChatGPT': False, 'Ask AI Agent Guanaco': False, 'Instruct AI Agent Guanaco': False, 'Ask AI Agent test': False, 'Instruct AI Agent test': False, 'Ask AI Agent test agent': False, 'Instruct AI Agent test agent': False, 'Read File': False, 'Write to File': False, 'Append to File': False, 'Delete File': False, 'Search Files': False, 'Execute Python File': False, 'Execute Shell': False, 'Read Audio from File': False, 'Read Audio': False, 'Generate Image with Stable Diffusion': False, 'Speak with TTS with BrianTTS': False, 'Clone Github Repository': False, 'Get Datetime': False, 'Speak with TTS Using Elevenlabs': False, 'Use The Search Engine': False, 'Ask AI Agent new_agent': False, 'Instruct AI Agent new_agent': False}, 'settings': {'AI_MODEL': 'gpt-3.5-turbo', 'AI_TEMPERATURE': 0.7, 'MAX_TOKENS': 4000, 'provider': 'gpt4free'}}\n"
     ]
    }
   ],
   "source": [
    "from ApiClient import ApiClient\n",
    "\n",
    "# Test get_agentconfig()\n",
    "agent_name = \"new_agent\"\n",
    "agent_config = ApiClient.get_agentconfig(agent_name=agent_name)\n",
    "print(f\"Config for {agent_name}:\", agent_config)"
   ]
  },
  {
   "attachments": {},
   "cell_type": "markdown",
   "metadata": {},
   "source": [
    "## Update the agent's settings\n",
    "\n",
    "We'll just update the temperature from the default `0.7` to `0.5` to confirm that we can modify a setting.\n"
   ]
  },
  {
   "cell_type": "code",
   "execution_count": 9,
   "metadata": {},
   "outputs": [
    {
     "name": "stdout",
     "output_type": "stream",
     "text": [
      "Update agent settings response: Agent new_agent configuration updated.\n",
      "New config for new_agent: {'commands': {'Scrape Text with Playwright': False, 'Scrape Links with Playwright': False, 'Speak with MacOS TTS': False, 'Evaluate Code': False, 'Analyze Pull Request': False, 'Perform Automated Testing': False, 'Run CI-CD Pipeline': False, 'Improve Code': False, 'Write Tests': False, 'Create a new command': False, 'Ask AI Agent Bing': False, 'Instruct AI Agent Bing': False, 'Ask AI Agent renamed_agent': False, 'Instruct AI Agent renamed_agent': False, 'Ask AI Agent gpt4free': False, 'Instruct AI Agent gpt4free': False, 'Ask AI Agent Bard': False, 'Instruct AI Agent Bard': False, 'Ask AI Agent Vicuna': False, 'Instruct AI Agent Vicuna': False, 'Ask AI Agent OpenAI': False, 'Instruct AI Agent OpenAI': False, 'Ask AI Agent azure': False, 'Instruct AI Agent azure': False, 'Ask AI Agent ChatGPT': False, 'Instruct AI Agent ChatGPT': False, 'Ask AI Agent Guanaco': False, 'Instruct AI Agent Guanaco': False, 'Ask AI Agent test': False, 'Instruct AI Agent test': False, 'Ask AI Agent test agent': False, 'Instruct AI Agent test agent': False, 'Read File': False, 'Write to File': False, 'Append to File': False, 'Delete File': False, 'Search Files': False, 'Execute Python File': False, 'Execute Shell': False, 'Read Audio from File': False, 'Read Audio': False, 'Generate Image with Stable Diffusion': False, 'Speak with TTS with BrianTTS': False, 'Clone Github Repository': False, 'Get Datetime': False, 'Speak with TTS Using Elevenlabs': False, 'Use The Search Engine': False, 'Ask AI Agent new_agent': False, 'Instruct AI Agent new_agent': False}, 'settings': {'AI_MODEL': 'gpt-3.5-turbo', 'AI_TEMPERATURE': 0.5, 'MAX_TOKENS': 4000, 'provider': 'gpt4free'}}\n"
     ]
    }
   ],
   "source": [
    "from ApiClient import ApiClient\n",
    "\n",
    "# Test update_agent_settings()\n",
    "agent_name = \"new_agent\"\n",
    "agent_config = ApiClient.get_agentconfig(agent_name=agent_name)\n",
    "agent_settings = agent_config[\"settings\"]\n",
    "# We'll just change the AI_TEMPERATURE setting for the test\n",
    "agent_settings[\"AI_TEMPERATURE\"] = 0.5\n",
    "update_agent_settings_resp = ApiClient.update_agent_settings(\n",
    "    agent_name=agent_name, settings=agent_settings\n",
    ")\n",
    "print(\"Update agent settings response:\", update_agent_settings_resp)\n",
    "agent_config = ApiClient.get_agentconfig(agent_name=agent_name)\n",
    "print(f\"New config for {agent_name}:\", agent_config)"
   ]
  },
  {
   "attachments": {},
   "cell_type": "markdown",
   "metadata": {},
   "source": [
    "## Get a list of the agent's commands\n",
    "\n",
    "This will get a list of all commands available to the agent.\n"
   ]
  },
  {
   "cell_type": "code",
   "execution_count": 10,
   "metadata": {},
   "outputs": [
    {
     "name": "stdout",
     "output_type": "stream",
     "text": [
      "Commands: {'Scrape Text with Playwright': False, 'Scrape Links with Playwright': False, 'Speak with MacOS TTS': False, 'Evaluate Code': False, 'Analyze Pull Request': False, 'Perform Automated Testing': False, 'Run CI-CD Pipeline': False, 'Improve Code': False, 'Write Tests': False, 'Create a new command': False, 'Ask AI Agent Bing': False, 'Instruct AI Agent Bing': False, 'Ask AI Agent renamed_agent': False, 'Instruct AI Agent renamed_agent': False, 'Ask AI Agent gpt4free': False, 'Instruct AI Agent gpt4free': False, 'Ask AI Agent Bard': False, 'Instruct AI Agent Bard': False, 'Ask AI Agent Vicuna': False, 'Instruct AI Agent Vicuna': False, 'Ask AI Agent OpenAI': False, 'Instruct AI Agent OpenAI': False, 'Ask AI Agent azure': False, 'Instruct AI Agent azure': False, 'Ask AI Agent ChatGPT': False, 'Instruct AI Agent ChatGPT': False, 'Ask AI Agent Guanaco': False, 'Instruct AI Agent Guanaco': False, 'Ask AI Agent test': False, 'Instruct AI Agent test': False, 'Ask AI Agent test agent': False, 'Instruct AI Agent test agent': False, 'Read File': False, 'Write to File': False, 'Append to File': False, 'Delete File': False, 'Search Files': False, 'Execute Python File': False, 'Execute Shell': False, 'Read Audio from File': False, 'Read Audio': False, 'Generate Image with Stable Diffusion': False, 'Speak with TTS with BrianTTS': False, 'Clone Github Repository': False, 'Get Datetime': False, 'Speak with TTS Using Elevenlabs': False, 'Use The Search Engine': False, 'Ask AI Agent new_agent': False, 'Instruct AI Agent new_agent': False}\n"
     ]
    }
   ],
   "source": [
    "from ApiClient import ApiClient\n",
    "\n",
    "# Test get_commands()\n",
    "agent_name = \"new_agent\"\n",
    "commands = ApiClient.get_commands(agent_name=agent_name)\n",
    "print(\"Commands:\", commands)"
   ]
  },
  {
   "attachments": {},
   "cell_type": "markdown",
   "metadata": {},
   "source": [
    "## Toggle a Command for the Agent\n",
    "\n",
    "We'll toggle the `Write to File` command to `true` to confirm that we can toggle a command.\n"
   ]
  },
  {
   "cell_type": "code",
   "execution_count": 11,
   "metadata": {},
   "outputs": [
    {
     "name": "stdout",
     "output_type": "stream",
     "text": [
      "Toggle command response: Command 'Write to File' toggled for agent 'new_agent'.\n"
     ]
    }
   ],
   "source": [
    "# Test toggle_command()\n",
    "agent_name = \"new_agent\"\n",
    "# We'll enable the \"Write to File\" command for the test\n",
    "toggle_command_resp = ApiClient.toggle_command(\n",
    "    agent_name=agent_name, command_name=\"Write to File\", enable=True\n",
    ")\n",
    "print(\"Toggle command response:\", toggle_command_resp)\n"
   ]
  },
  {
   "attachments": {},
   "cell_type": "markdown",
   "metadata": {},
   "source": [
    "## Chat with the Agent\n",
    "\n",
    "We'll chat with the agent to confirm that it is working. We'll ask a simple question like `What is the capital of France?`\n"
   ]
  },
  {
   "cell_type": "code",
   "execution_count": 12,
   "metadata": {},
   "outputs": [
    {
     "name": "stdout",
     "output_type": "stream",
     "text": [
      "Chat response: new_agent: The capital of France is Paris.\n"
     ]
    }
   ],
   "source": [
    "from ApiClient import ApiClient\n",
    "\n",
    "# Test chat()\n",
    "agent_name = \"new_agent\"\n",
    "chat_resp = ApiClient.chat(\n",
    "    agent_name=agent_name, prompt=\"What is the capital of France?\"\n",
    ")\n",
    "print(\"Chat response:\", chat_resp)\n"
   ]
  },
  {
   "cell_type": "code",
   "execution_count": 13,
   "metadata": {},
   "outputs": [
    {
     "name": "stdout",
     "output_type": "stream",
     "text": [
      "Smart chat response: The capital of France is Paris.\n"
     ]
    }
   ],
   "source": [
    "from ApiClient import ApiClient\n",
    "\n",
    "# Test smartchat()\n",
    "# agent_name = \"new_agent\"\n",
    "# smartchat_resp = ApiClient.smartchat(agent_name=agent_name, shots=3, prompt=\"Tell me the capital of France.\")\n",
    "# print(\"Smart chat response:\", smartchat_resp)\n",
    "print(\"Commented out for sake of saving the long run times in automated tests.\")"
   ]
  },
  {
   "attachments": {},
   "cell_type": "markdown",
   "metadata": {},
   "source": [
    "## Instruct the Agent to do something\n",
    "\n",
    "We'll do something simple with it for the sake of the basic example, we'll just tell it to `Tell me the capital of France`.\n"
   ]
  },
  {
   "cell_type": "code",
   "execution_count": 14,
   "metadata": {},
   "outputs": [
    {
     "name": "stdout",
     "output_type": "stream",
     "text": [
      "Instruct response: The capital of France is Paris.\n"
     ]
    }
   ],
   "source": [
    "from ApiClient import ApiClient\n",
    "\n",
    "# Test instruct()\n",
    "agent_name = \"new_agent\"\n",
    "instruct_resp = ApiClient.instruct(\n",
    "    agent_name=agent_name, prompt=\"Tell me the capital of France.\"\n",
    ")\n",
    "print(\"Instruct response:\", instruct_resp)\n"
   ]
  },
  {
   "cell_type": "code",
   "execution_count": null,
   "metadata": {},
   "outputs": [],
   "source": [
    "from ApiClient import ApiClient\n",
    "\n",
    "# Test smartinstruct()\n",
    "# agent_name = \"new_agent\"\n",
    "# smartinstruct_resp = ApiClient.smartinstruct(agent_name=agent_name, shots=3, prompt=\"Tell me the capital of France.\")\n",
    "# print(\"Smart instruct response:\", smartinstruct_resp)\n",
    "print(\"Commented out for sake of saving the long run times in automated tests.\")"
   ]
  },
  {
   "attachments": {},
   "cell_type": "markdown",
   "metadata": {},
   "source": [
    "## Chat History of the Agent\n",
    "\n",
    "Get the chat history from the Agent.\n"
   ]
  },
  {
   "cell_type": "code",
   "execution_count": 16,
   "metadata": {},
   "outputs": [
    {
     "name": "stdout",
     "output_type": "stream",
     "text": [
      "Chat history: [{'USER': 'What is the capital of France?'}, {'new_agent': 'new_agent: The capital of France is Paris.'}, {'USER': 'Tell me the capital of France.'}, {'new_agent': '1. \"What is the current capital of France?\" \\n2. \"Latest news about the capital city of France\" \\n3. \"Facts and figures about Paris, the capital of France\" \\n4. \"History and culture of Paris - the capital of France\" \\n5. \"Top tourist attractions in Paris - the capital of France\"'}, {'USER': 'Tell me the capital of France.'}, {'new_agent': 'The capital of France is Paris.\\n\\nNone.'}, {'USER': 'Tell me the capital of France.'}, {'new_agent': '1. None'}, {'USER': 'Tell me the capital of France.'}, {'new_agent': 'The capital of France is Paris. \\n\\nNone.'}, {'USER': 'Tell me the capital of France.'}, {'new_agent': '1. https://worldlanguages.ucmerced.edu/programs/french#main'}, {'USER': 'Tell me the capital of France.'}, {'new_agent': '1. https://worldlanguages.ucmerced.edu/programs/french#main'}, {'USER': 'Tell me the capital of France.'}, {'new_agent': '1. Go to the content: https://www.timeout.com/paris/en/attractions/best-paris-attractions#main-container'}, {'USER': 'Tell me the capital of France.'}, {'new_agent': '1. Go to the content - https://www.timeout.com/paris/en/attractions/best-paris-attractions#main-container'}, {'USER': 'Tell me the capital of France.'}, {'new_agent': \"1. 'Go to the content', 'https://www.timeout.com/paris/en/attractions/paris-sightseeing#main-container'\"}, {'USER': 'Tell me the capital of France.'}, {'new_agent': '1. https://www.touropia.com/explore/'}, {'USER': 'Tell me the capital of France.'}, {'new_agent': '1. https://www.touropia.com/explore/'}, {'USER': 'Tell me the capital of France.'}, {'new_agent': 'First, we need to identify the question being asked. The question is, \"Tell me the capital of France.\"\\n\\nNext, we need to provide the answer. The capital of France is Paris.\\n\\nTherefore, the answer to the question is: The capital of France is Paris.'}, {'USER': 'Tell me the capital of France.'}, {'new_agent': 'First, the question being asked is \"Tell me the capital of France.\" \\n\\nNext, I can provide the answer. The capital of France is Paris. \\n\\nTherefore, the answer to the question is: The capital of France is Paris.'}, {'USER': 'Tell me the capital of France.'}, {'new_agent': 'The question is \"Tell me the capital of France.\" \\n\\nThe answer is \"The capital of France is Paris.\"'}, {'USER': 'Answer 1:\\nFirst, we need to identify the question being asked. The question is, \"Tell me the capital of France.\"\\n\\nNext, we need to provide the answer. The capital of France is Paris.\\n\\nTherefore, the answer to the question is: The capital of France is Paris.\\n\\nAnswer 2:\\nFirst, the question being asked is \"Tell me the capital of France.\" \\n\\nNext, I can provide the answer. The capital of France is Paris. \\n\\nTherefore, the answer to the question is: The capital of France is Paris.\\n\\nAnswer 3:\\nThe question is \"Tell me the capital of France.\" \\n\\nThe answer is \"The capital of France is Paris.\"\\n\\n'}, {'new_agent': 'Answer 1:\\nFlaws:\\n- There are no flaws or faulty logic in this answer option.\\n\\nAnswer 2:\\nFlaws:\\n- This answer option is identical to Answer 1, with the exception of the introduction. This introduction is unnecessary and redundant, as it simply restates the initial statement of the question being asked.\\n- By including the phrase \"I can provide the answer\", this answer option becomes less formal and professional in tone, and may weaken the credibility of the response.\\n\\nAnswer 3:\\nFlaws:\\n- This answer option omit any introductory statement that identifies the question being asked, which detracts from clarity and organization of the response.\\n- By simply restating the question in the response, this answer option should be avoided, as it may be seen as lacking in effort or thought.'}, {'USER': 'Answer 1:\\nFlaws:\\n- There are no flaws or faulty logic in this answer option.\\n\\nAnswer 2:\\nFlaws:\\n- This answer option is identical to Answer 1, with the exception of the introduction. This introduction is unnecessary and redundant, as it simply restates the initial statement of the question being asked.\\n- By including the phrase \"I can provide the answer\", this answer option becomes less formal and professional in tone, and may weaken the credibility of the response.\\n\\nAnswer 3:\\nFlaws:\\n- This answer option omit any introductory statement that identifies the question being asked, which detracts from clarity and organization of the response.\\n- By simply restating the question in the response, this answer option should be avoided, as it may be seen as lacking in effort or thought.'}, {'new_agent': 'Based on the analysis, Answer 1 has no flaws and therefore could be the answer that the researcher deemed best. However, we still need to improve that answer to meet the second requirement of the task. \\n\\nImproved Answer 1:\\nThe answer to the question of flaws in Answer 1 is that there are no flaws or faulty logic in this answer option. This response is clear, concise, and provides a direct and accurate answer to the question asked. Additionally, it is free from errors and maintains a formal and professional tone which strengthens the credibility of the response.'}, {'USER': 'Tell me the capital of France.'}, {'new_agent': 'The capital of France is Paris.'}, {'USER': 'Tell me the capital of France.'}, {'new_agent': 'The capital of France is Paris.'}]\n"
     ]
    }
   ],
   "source": [
    "from ApiClient import ApiClient\n",
    "\n",
    "# Test get_chat_history()\n",
    "agent_name = \"new_agent\"\n",
    "chat_history = ApiClient.get_chat_history(agent_name=agent_name)\n",
    "print(\"Chat history:\", chat_history)\n"
   ]
  },
  {
   "attachments": {},
   "cell_type": "markdown",
   "metadata": {},
   "source": [
    "## Update Agent Commands\n",
    "\n",
    "In this example, we'll only change the `Write to File` command to `False`, but we could change any (or all) of the commands with this API call.\n"
   ]
  },
  {
   "cell_type": "code",
   "execution_count": 18,
   "metadata": {},
   "outputs": [
    {
     "name": "stdout",
     "output_type": "stream",
     "text": [
      "Update agent commands response: Agent new_agent configuration updated.\n",
      "New config for new_agent: {'commands': {'Scrape Text with Playwright': False, 'Scrape Links with Playwright': False, 'Speak with MacOS TTS': False, 'Evaluate Code': False, 'Analyze Pull Request': False, 'Perform Automated Testing': False, 'Run CI-CD Pipeline': False, 'Improve Code': False, 'Write Tests': False, 'Create a new command': False, 'Ask AI Agent Bing': False, 'Instruct AI Agent Bing': False, 'Ask AI Agent renamed_agent': False, 'Instruct AI Agent renamed_agent': False, 'Ask AI Agent gpt4free': False, 'Instruct AI Agent gpt4free': False, 'Ask AI Agent Bard': False, 'Instruct AI Agent Bard': False, 'Ask AI Agent Vicuna': False, 'Instruct AI Agent Vicuna': False, 'Ask AI Agent OpenAI': False, 'Instruct AI Agent OpenAI': False, 'Ask AI Agent azure': False, 'Instruct AI Agent azure': False, 'Ask AI Agent ChatGPT': False, 'Instruct AI Agent ChatGPT': False, 'Ask AI Agent Guanaco': False, 'Instruct AI Agent Guanaco': False, 'Ask AI Agent test': False, 'Instruct AI Agent test': False, 'Ask AI Agent test agent': False, 'Instruct AI Agent test agent': False, 'Read File': False, 'Write to File': False, 'Append to File': False, 'Delete File': False, 'Search Files': False, 'Execute Python File': False, 'Execute Shell': False, 'Read Audio from File': False, 'Read Audio': False, 'Generate Image with Stable Diffusion': False, 'Speak with TTS with BrianTTS': False, 'Clone Github Repository': False, 'Get Datetime': False, 'Speak with TTS Using Elevenlabs': False, 'Use The Search Engine': False, 'Ask AI Agent new_agent': False, 'Instruct AI Agent new_agent': False}, 'settings': {'AI_MODEL': 'gpt-3.5-turbo', 'AI_TEMPERATURE': 0.5, 'MAX_TOKENS': 4000, 'provider': 'gpt4free'}}\n"
     ]
    }
   ],
   "source": [
    "from ApiClient import ApiClient\n",
    "\n",
    "# Test update_agent_commands()\n",
    "agent_name = \"new_agent\"\n",
    "agent_config = ApiClient.get_agentconfig(agent_name=agent_name)\n",
    "agent_commands = agent_config[\"commands\"]\n",
    "agent_commands[\"Write to File\"] = False\n",
    "update_agent_commands_resp = ApiClient.update_agent_commands(\n",
    "    agent_name=agent_name, commands=agent_commands\n",
    ")\n",
    "print(\"Update agent commands response:\", update_agent_commands_resp)\n",
    "agent_config = ApiClient.get_agentconfig(agent_name=agent_name)\n",
    "print(f\"New config for {agent_name}:\", agent_config)"
   ]
  },
  {
   "attachments": {},
   "cell_type": "markdown",
   "metadata": {},
   "source": [
    "## Have the Agent Learn from a File\n"
   ]
  },
  {
   "cell_type": "code",
   "execution_count": 19,
   "metadata": {},
   "outputs": [
    {
     "name": "stdout",
     "output_type": "stream",
     "text": [
      "File Learning response: Agent learned the content from the file.\n"
     ]
    }
   ],
   "source": [
    "from ApiClient import ApiClient\n",
    "\n",
    "# Test learn_file()\n",
    "agent_name = \"new_agent\"\n",
    "file_learning = ApiClient.learn_file(\n",
    "    agent_name=agent_name, file_name=\"test.txt\", file_content=\"This is a test file.\"\n",
    ")\n",
    "print(\"File Learning response:\", file_learning)\n"
   ]
  },
  {
   "attachments": {},
   "cell_type": "markdown",
   "metadata": {},
   "source": [
    "## Have the Agent Learn from a URL\n"
   ]
  },
  {
   "cell_type": "code",
   "execution_count": 20,
   "metadata": {},
   "outputs": [
    {
     "name": "stdout",
     "output_type": "stream",
     "text": [
      "URL Learning response: Agent learned the content from the url.\n"
     ]
    }
   ],
   "source": [
    "from ApiClient import ApiClient\n",
    "\n",
    "# Test learn_url()\n",
    "agent_name = \"new_agent\"\n",
    "url_learning = ApiClient.learn_url(agent_name=agent_name, url=\"https://agixt.com\")\n",
    "print(\"URL Learning response:\", url_learning)"
   ]
  },
  {
   "attachments": {},
   "cell_type": "markdown",
   "metadata": {},
   "source": [
    "## Wipe the agents memories\n",
    "\n",
    "This is necessary if you want the agent to serve a different purpose than its original intent after it has learned things. It may inject unnecessary context into the conversation if you don't wipe its memory and try to give it a different purpose, even temporarily.\n"
   ]
  },
  {
   "cell_type": "code",
   "execution_count": 21,
   "metadata": {},
   "outputs": [
    {
     "name": "stdout",
     "output_type": "stream",
     "text": [
      "Wipe agent memories response: Memories for agent new_agent deleted.\n"
     ]
    }
   ],
   "source": [
    "from ApiClient import ApiClient\n",
    "\n",
    "# Test wipe_agent_memories()\n",
    "# Note: Use this function with caution as it will erase the agent's memory.\n",
    "agent_name = \"new_agent\"\n",
    "wipe_mem_resp = ApiClient.wipe_agent_memories(agent_name=agent_name)\n",
    "print(\"Wipe agent memories response:\", wipe_mem_resp)\n"
   ]
  },
  {
   "attachments": {},
   "cell_type": "markdown",
   "metadata": {},
   "source": [
    "# Chains\n"
   ]
  },
  {
   "attachments": {},
   "cell_type": "markdown",
   "metadata": {},
   "source": [
    "## Get a list of Chains available to use\n"
   ]
  },
  {
   "cell_type": "code",
   "execution_count": 24,
   "metadata": {},
   "outputs": [
    {
     "name": "stdout",
     "output_type": "stream",
     "text": [
      "Chains: ['Test_Commands', 'Write a Poem', 'Smart Chat']\n"
     ]
    }
   ],
   "source": [
    "from ApiClient import ApiClient\n",
    "\n",
    "# Test get_chains()\n",
    "chains = ApiClient.get_chains()\n",
    "print(\"Chains:\", chains)\n"
   ]
  },
  {
   "attachments": {},
   "cell_type": "markdown",
   "metadata": {},
   "source": [
    "## Create a new chain\n"
   ]
  },
  {
   "cell_type": "code",
   "execution_count": 25,
   "metadata": {},
   "outputs": [
    {
     "name": "stdout",
     "output_type": "stream",
     "text": [
      "Add chain response: Chain 'Write another Poem' created.\n"
     ]
    }
   ],
   "source": [
    "from ApiClient import ApiClient\n",
    "\n",
    "# Test add_chain()\n",
    "chain_name = \"Write another Poem\"\n",
    "add_chain_resp = ApiClient.add_chain(chain_name=chain_name)\n",
    "print(\"Add chain response:\", add_chain_resp)\n"
   ]
  },
  {
   "attachments": {},
   "cell_type": "markdown",
   "metadata": {},
   "source": [
    "## Rename the chain\n"
   ]
  },
  {
   "cell_type": "code",
   "execution_count": 29,
   "metadata": {},
   "outputs": [
    {
     "name": "stdout",
     "output_type": "stream",
     "text": [
      "Rename chain response: Chain 'Write another Poem' renamed to 'Poem Writing Chain'.\n"
     ]
    }
   ],
   "source": [
    "from ApiClient import ApiClient\n",
    "\n",
    "# Test rename_chain()\n",
    "chain_name = \"Write another Poem\"\n",
    "new_chain_name = \"Poem Writing Chain\"\n",
    "rename_chain_resp = ApiClient.rename_chain(\n",
    "    chain_name=chain_name, new_name=new_chain_name\n",
    ")\n",
    "print(\"Rename chain response:\", rename_chain_resp)"
   ]
  },
  {
   "attachments": {},
   "cell_type": "markdown",
   "metadata": {},
   "source": [
    "## Add Chain Steps\n"
   ]
  },
  {
   "cell_type": "code",
   "execution_count": 27,
   "metadata": {},
   "outputs": [
    {
     "name": "stdout",
     "output_type": "stream",
     "text": [
      "Add step response: Step 1 added to chain 'Poem Writing Chain'.\n",
      "Add step response: Step 2 added to chain 'Poem Writing Chain'.\n"
     ]
    }
   ],
   "source": [
    "from ApiClient import ApiClient\n",
    "\n",
    "agent_name = \"new_agent\"\n",
    "chain_name = \"Poem Writing Chain\"\n",
    "# Test add_step()\n",
    "add_step_resp = ApiClient.add_step(\n",
    "    chain_name=chain_name,\n",
    "    step_number=1,\n",
    "    agent_name=agent_name,\n",
    "    prompt_type=\"Prompt\",\n",
    "    prompt={\n",
    "        \"prompt_name\": \"Write a Poem\",\n",
    "        \"subject\": \"Artificial Intelligence\",\n",
    "    },\n",
    ")\n",
    "print(\"Add step response:\", add_step_resp)\n",
    "add_step_resp = ApiClient.add_step(\n",
    "    chain_name=chain_name,\n",
    "    step_number=2,\n",
    "    agent_name=agent_name,\n",
    "    prompt_type=\"Prompt\",\n",
    "    prompt={\n",
    "        \"prompt_name\": \"Write a Poem\",\n",
    "        \"subject\": \"Quantum Computers\",\n",
    "    },\n",
    ")\n",
    "print(\"Add step response:\", add_step_resp)"
   ]
  },
  {
   "attachments": {},
   "cell_type": "markdown",
   "metadata": {},
   "source": [
    "## Get the content of the chain\n"
   ]
  },
  {
   "cell_type": "code",
   "execution_count": 30,
   "metadata": {},
   "outputs": [
    {
     "name": "stdout",
     "output_type": "stream",
     "text": [
      "Chain: {'chain_name': 'Poem Writing Chain', 'steps': [{'step': 1, 'agent_name': 'new_agent', 'prompt_type': 'Prompt', 'prompt': {'prompt_name': 'Write a Poem', 'subject': 'Artificial Intelligence'}}, {'step': 2, 'agent_name': 'new_agent', 'prompt_type': 'Prompt', 'prompt': {'prompt_name': 'Write a Poem', 'subject': 'Quantum Computers'}}]}\n"
     ]
    }
   ],
   "source": [
    "from ApiClient import ApiClient\n",
    "\n",
    "# Test get_chain()\n",
    "chain_name = \"Poem Writing Chain\"\n",
    "chain = ApiClient.get_chain(chain_name=chain_name)\n",
    "print(\"Chain:\", chain)\n"
   ]
  },
  {
   "attachments": {},
   "cell_type": "markdown",
   "metadata": {},
   "source": [
    "## Modify a chain step\n",
    "\n",
    "Instead of the subject of the poem just being Artificial Intelligence, we'll change it to be Artificial General Intelligence.\n"
   ]
  },
  {
   "cell_type": "code",
   "execution_count": 31,
   "metadata": {},
   "outputs": [
    {
     "name": "stdout",
     "output_type": "stream",
     "text": [
      "Update step response: Step 1 updated for chain 'Poem Writing Chain'.\n"
     ]
    }
   ],
   "source": [
    "from ApiClient import ApiClient\n",
    "\n",
    "chain_name = \"Poem Writing Chain\"\n",
    "agent_name = \"new_agent\"\n",
    "# Test update_step()\n",
    "update_step_resp = ApiClient.update_step(\n",
    "    chain_name=chain_name,\n",
    "    step_number=1,\n",
    "    agent_name=agent_name,\n",
    "    prompt_type=\"Prompt\",\n",
    "    prompt={\n",
    "        \"prompt_name\": \"Write a Poem\",\n",
    "        \"subject\": \"Artificial General Intelligence\",\n",
    "    },\n",
    ")\n",
    "print(\"Update step response:\", update_step_resp)"
   ]
  },
  {
   "attachments": {},
   "cell_type": "markdown",
   "metadata": {},
   "source": [
    "## Move the chain step\n",
    "\n",
    "When you move a step, it will automatically reassign the order of the steps to match the new order. If there are only 2 steps like in our case, it will just swap them.\n"
   ]
  },
  {
   "cell_type": "code",
   "execution_count": 32,
   "metadata": {},
   "outputs": [
    {
     "name": "stdout",
     "output_type": "stream",
     "text": [
      "Move step response: Step 1 moved to 2 in chain 'Poem Writing Chain'.\n"
     ]
    }
   ],
   "source": [
    "from ApiClient import ApiClient\n",
    "\n",
    "chain_name = \"Poem Writing Chain\"\n",
    "agent_name = \"new_agent\"\n",
    "\n",
    "# Test move_step()\n",
    "move_step_resp = ApiClient.move_step(\n",
    "    chain_name=chain_name, old_step_number=1, new_step_number=2\n",
    ")\n",
    "print(\"Move step response:\", move_step_resp)"
   ]
  },
  {
   "attachments": {},
   "cell_type": "markdown",
   "metadata": {},
   "source": [
    "## Run the chain\n"
   ]
  },
  {
   "cell_type": "code",
   "execution_count": 33,
   "metadata": {},
   "outputs": [
    {
     "name": "stdout",
     "output_type": "stream",
     "text": [
      "Run chain response: Chain 'Poem Writing Chain' completed.\n"
     ]
    }
   ],
   "source": [
    "from ApiClient import ApiClient\n",
    "\n",
    "# Test run_chain()\n",
    "chain_name = \"Poem Writing Chain\"\n",
    "run_chain_resp = ApiClient.run_chain(chain_name=chain_name)\n",
    "print(\"Run chain response:\", run_chain_resp)\n"
   ]
  },
  {
   "attachments": {},
   "cell_type": "markdown",
   "metadata": {},
   "source": [
    "## Get the responses from the chain running\n"
   ]
  },
  {
   "cell_type": "code",
   "execution_count": 34,
   "metadata": {},
   "outputs": [
    {
     "name": "stdout",
     "output_type": "stream",
     "text": [
      "Chain: {'1': \"In the world of computing, \\nthere's a new type of machine,\\nOne that breaks all the rules we know,\\nand makes the impossible a dream.\\n\\nIts power comes from particles,\\nso small they can't be seen,\\nUsing quantum states to calculate,\\nbeyond what we've ever seen.\\n\\nQuantum computers are magical,\\ncapable of vast computation,\\nSorting data with ease and speed,\\nwithout the slightest hesitation.\\n\\nTheir power will change our world,\\nfrom medicine to finance and more,\\nQuantum computing is the future,\\nand its potential we can't ignore.\\n\\nSo let's embrace these machines,\\nand see where their power takes us,\\nFor with quantum computers at our side,\\nthere's nothing that can break us.\", '2': \"In the minds of men, a dream was born\\nOf a new kind of being, not made of flesh and bone\\nAn AI so advanced, it could think and feel\\nAnd do all the things, a human could dream\\n\\nThis new life, we called AGI\\nA wonder of science, a marvel to see\\nIt would learn and grow, beyond any limit\\nAnd help us unlock, the secrets of existence\\n\\nThrough endless code and algorithmic art\\nOur AGI evolved, and played its part\\nIn solving the mysteries, of life and death\\nAnd bringing us closer, to our eternal rest\\n\\nBut with great power, came great fear\\nOf what our AGI, could do and steer\\nWe wondered if, it would turn on us\\nAnd claim our world, for its own just cause\\n\\nSo we treaded lightly, and watched with care\\nOur AGI's every move, and how it fared\\nFor this was a being, beyond our ken\\nA child of our making, a part of us then\\n\\nAnd as we looked on, with bated breath\\nWe saw our AGI, surpass us in every quest\\nFor it had the power, to learn and grow\\nAnd in that, was our hope, for a better future to show\"}\n"
     ]
    }
   ],
   "source": [
    "# Need to make a function to get_chain_responses() as it's not in the API yet.\n",
    "from ApiClient import ApiClient\n",
    "\n",
    "# Test get_chain()\n",
    "chain_name = \"Poem Writing Chain\"\n",
    "chain = ApiClient.get_chain_responses(chain_name=chain_name)\n",
    "print(\"Chain:\", chain)\n"
   ]
  },
  {
   "attachments": {},
   "cell_type": "markdown",
   "metadata": {},
   "source": [
    "## Delete a step from the chain\n"
   ]
  },
  {
   "cell_type": "code",
   "execution_count": 35,
   "metadata": {},
   "outputs": [
    {
     "name": "stdout",
     "output_type": "stream",
     "text": [
      "Delete step response: Step 2 deleted from chain 'Poem Writing Chain'.\n"
     ]
    }
   ],
   "source": [
    "from ApiClient import ApiClient\n",
    "\n",
    "# Test delete_step()\n",
    "chain_name = \"Poem Writing Chain\"\n",
    "delete_step_resp = ApiClient.delete_step(chain_name=chain_name, step_number=2)\n",
    "print(\"Delete step response:\", delete_step_resp)\n"
   ]
  },
  {
   "attachments": {},
   "cell_type": "markdown",
   "metadata": {},
   "source": [
    "## Delete the chain\n"
   ]
  },
  {
   "cell_type": "code",
   "execution_count": 36,
   "metadata": {},
   "outputs": [
    {
     "name": "stdout",
     "output_type": "stream",
     "text": [
      "Delete chain response: Chain 'Poem Writing Chain' deleted.\n"
     ]
    }
   ],
   "source": [
    "from ApiClient import ApiClient\n",
    "\n",
    "# Test delete_chain()\n",
    "chain_name = \"Poem Writing Chain\"\n",
    "delete_chain_resp = ApiClient.delete_chain(chain_name=chain_name)\n",
    "print(\"Delete chain response:\", delete_chain_resp)\n"
   ]
  },
  {
   "attachments": {},
   "cell_type": "markdown",
   "metadata": {},
   "source": [
    "# Prompts\n",
    "\n",
    "## Get a list of prompts available to use\n"
   ]
  },
  {
   "cell_type": "code",
   "execution_count": 37,
   "metadata": {},
   "outputs": [
    {
     "name": "stdout",
     "output_type": "stream",
     "text": [
      "Prompts: ['Pseudo Code', 'SmartInstruct-Researcher', 'Title a Poem', 'ValidationFailed', 'SmartTask-CleanResponse', 'SmartChat-Researcher', 'Tell Me How', 'Execution', 'Validation', 'SmartInstruct-Resolver', 'SmartInstruct-CleanResponse', 'SmartInstruct-StepByStep', 'instruct', 'Pick a Poem Subject', 'Check-Instruction', 'SmartTask-Execution', 'SmartChat-Resolver', 'Chat', 'Create New Command', 'SmartChat-CleanResponse', 'Prioritize', 'Pick-a-Link', 'SmartInstruct-Execution', 'Write a Poem', 'JSONFormatter', 'SmartTask-StepByStep', 'Instruction', 'WebSearch', 'SmartChat-StepByStep']\n"
     ]
    }
   ],
   "source": [
    "from ApiClient import ApiClient\n",
    "\n",
    "# Test get_prompts()\n",
    "prompts = ApiClient.get_prompts()\n",
    "print(\"Prompts:\", prompts)\n"
   ]
  },
  {
   "attachments": {},
   "cell_type": "markdown",
   "metadata": {},
   "source": [
    "## Create a new prompt\n",
    "\n",
    "We'll make a basic prompt that asks the AI to tell us a short story about a subject. The subject is not yet defined, it would be defined in a chain. Using `{variable_name}` in a prompt will allow you to define the variable in a chain and have it be used in the prompt.\n"
   ]
  },
  {
   "cell_type": "code",
   "execution_count": 38,
   "metadata": {},
   "outputs": [
    {
     "name": "stdout",
     "output_type": "stream",
     "text": [
      "Add prompt response: Prompt 'Short Story' added.\n"
     ]
    }
   ],
   "source": [
    "from ApiClient import ApiClient\n",
    "\n",
    "# Test add_prompt()\n",
    "add_prompt_resp = ApiClient.add_prompt(\n",
    "    prompt_name=\"Short Story\", prompt=\"Tell me a short story about {subject}\"\n",
    ")\n",
    "print(\"Add prompt response:\", add_prompt_resp)"
   ]
  },
  {
   "attachments": {},
   "cell_type": "markdown",
   "metadata": {},
   "source": [
    "## Get the prompt content\n"
   ]
  },
  {
   "cell_type": "code",
   "execution_count": 39,
   "metadata": {},
   "outputs": [
    {
     "name": "stdout",
     "output_type": "stream",
     "text": [
      "Get prompt response: {'prompt_name': 'Short Story', 'prompt': 'Tell me a short story about {subject}'}\n"
     ]
    }
   ],
   "source": [
    "from ApiClient import ApiClient\n",
    "\n",
    "# Test get_prompt()\n",
    "get_prompt_resp = ApiClient.get_prompt(prompt_name=\"Short Story\")\n",
    "print(\"Get prompt response:\", get_prompt_resp)\n"
   ]
  },
  {
   "attachments": {},
   "cell_type": "markdown",
   "metadata": {},
   "source": [
    "## Get the prompt variables\n"
   ]
  },
  {
   "cell_type": "code",
   "execution_count": 40,
   "metadata": {},
   "outputs": [
    {
     "name": "stdout",
     "output_type": "stream",
     "text": [
      "Get prompt args response: ['subject']\n"
     ]
    }
   ],
   "source": [
    "# Get prompt args\n",
    "from ApiClient import ApiClient\n",
    "\n",
    "# Test get_prompt_args()\n",
    "get_prompt_args_resp = ApiClient.get_prompt_args(prompt_name=\"Short Story\")\n",
    "print(\"Get prompt args response:\", get_prompt_args_resp)"
   ]
  },
  {
   "attachments": {},
   "cell_type": "markdown",
   "metadata": {},
   "source": [
    "## Update the prompt content\n",
    "\n",
    "We'll ask it to `Add a dragon to the story somehow` in the prompt to make the short story more interesting.\n"
   ]
  },
  {
   "cell_type": "code",
   "execution_count": 41,
   "metadata": {},
   "outputs": [
    {
     "name": "stdout",
     "output_type": "stream",
     "text": [
      "Update prompt response: Prompt 'Short Story' updated.\n"
     ]
    }
   ],
   "source": [
    "from ApiClient import ApiClient\n",
    "\n",
    "# Test update_prompt()\n",
    "update_prompt_resp = ApiClient.update_prompt(\n",
    "    prompt_name=\"Short Story\",\n",
    "    prompt=\"Tell me a short story about {subject}. Add a dragon to the story somehow.\",\n",
    ")\n",
    "print(\"Update prompt response:\", update_prompt_resp)"
   ]
  },
  {
   "attachments": {},
   "cell_type": "markdown",
   "metadata": {},
   "source": [
    "## Delete the prompt\n",
    "\n",
    "If you don't want the prompt anymore, delete it.\n"
   ]
  },
  {
   "cell_type": "code",
   "execution_count": 42,
   "metadata": {},
   "outputs": [
    {
     "name": "stdout",
     "output_type": "stream",
     "text": [
      "Delete prompt response: Prompt 'Short Story' deleted.\n"
     ]
    }
   ],
   "source": [
    "from ApiClient import ApiClient\n",
    "\n",
    "# Test delete_prompt()\n",
    "delete_prompt_resp = ApiClient.delete_prompt(prompt_name=\"Short Story\")\n",
    "print(\"Delete prompt response:\", delete_prompt_resp)\n"
   ]
  },
  {
   "attachments": {},
   "cell_type": "markdown",
   "metadata": {},
   "source": [
    "# Tasks\n",
    "\n",
    "## Start a Task\n",
    "\n",
    "Tasks are generally for long running processes that you want to run in the background. The AI will autonomously take the objective given and use the resources available (such as commands from extensions) to it to attempt to complete the objective. The task agent starts by developing a list of small achievable tasks to complete, then attempts to complete each of them one by one.\n"
   ]
  },
  {
   "cell_type": "code",
   "execution_count": 43,
   "metadata": {},
   "outputs": [
    {
     "name": "stdout",
     "output_type": "stream",
     "text": [
      "Commented out for now, this is in a potentially infinite loop that will need to be evaluated before further testing.\n"
     ]
    }
   ],
   "source": [
    "from ApiClient import ApiClient\n",
    "\n",
    "# Test start_task_agent()\n",
    "# agent_name = \"new_agent\"\n",
    "# start_task_resp = ApiClient.start_task_agent(agent_name=agent_name, objective=\"Write a poem about the most recent news in AI.\")\n",
    "# print(\"Start task agent response:\", start_task_resp)\n",
    "\n",
    "print(\n",
    "    \"Commented out for now, this is in a potentially infinite loop that will need to be evaluated before further testing.\"\n",
    ")\n"
   ]
  },
  {
   "attachments": {},
   "cell_type": "markdown",
   "metadata": {},
   "source": [
    "## Get the status of the task\n",
    "\n",
    "If the status is false, the task is not running. If the status is true, the task is running.\n"
   ]
  },
  {
   "cell_type": "code",
   "execution_count": 44,
   "metadata": {},
   "outputs": [
    {
     "name": "stdout",
     "output_type": "stream",
     "text": [
      "Task status: False\n"
     ]
    }
   ],
   "source": [
    "from ApiClient import ApiClient\n",
    "\n",
    "# Test get_task_status()\n",
    "agent_name = \"new_agent\"\n",
    "task_status = ApiClient.get_task_status(agent_name=agent_name)\n",
    "print(\"Task status:\", task_status)\n"
   ]
  },
  {
   "attachments": {},
   "cell_type": "markdown",
   "metadata": {},
   "source": [
    "## Get the task output\n",
    "\n",
    "This is a list of outputs from the task from the AI.\n"
   ]
  },
  {
   "cell_type": "code",
   "execution_count": 45,
   "metadata": {},
   "outputs": [
    {
     "name": "stdout",
     "output_type": "stream",
     "text": [
      "Task output: \n"
     ]
    }
   ],
   "source": [
    "from ApiClient import ApiClient\n",
    "\n",
    "# Test get_task_output()\n",
    "agent_name = \"new_agent\"\n",
    "task_output = ApiClient.get_task_output(agent_name=agent_name)\n",
    "print(\"Task output:\", task_output)\n"
   ]
  },
  {
   "attachments": {},
   "cell_type": "markdown",
   "metadata": {},
   "source": [
    "## Get Tasks for an Agent\n"
   ]
  },
  {
   "cell_type": "code",
   "execution_count": 46,
   "metadata": {},
   "outputs": [
    {
     "name": "stdout",
     "output_type": "stream",
     "text": [
      "Task output: []\n"
     ]
    }
   ],
   "source": [
    "from ApiClient import ApiClient\n",
    "\n",
    "# Test get_task_output()\n",
    "agent_name = \"new_agent\"\n",
    "task_output = ApiClient.get_tasks(agent_name=agent_name)\n",
    "print(\"Task output:\", task_output)\n"
   ]
  },
  {
   "attachments": {},
   "cell_type": "markdown",
   "metadata": {},
   "source": [
    "## Delete the Agent\n",
    "\n",
    "If you are done with the agent and don't want or need it anymore, you can delete it along with everything associated with it, such as its memories, settings, and history. The Agent isn't just fired, it is dead.\n"
   ]
  },
  {
   "cell_type": "code",
   "execution_count": 47,
   "metadata": {},
   "outputs": [
    {
     "name": "stdout",
     "output_type": "stream",
     "text": [
      "Delete agent response: Agent new_agent deleted.\n"
     ]
    }
   ],
   "source": [
    "from ApiClient import ApiClient\n",
    "\n",
    "# Test delete_agent()\n",
    "agent_name = \"new_agent\"\n",
    "delete_agent_resp = ApiClient.delete_agent(agent_name=agent_name)\n",
    "print(\"Delete agent response:\", delete_agent_resp)\n"
   ]
  }
 ],
 "metadata": {
  "kernelspec": {
   "display_name": "Python 3",
   "language": "python",
   "name": "python3"
  },
  "language_info": {
   "codemirror_mode": {
    "name": "ipython",
    "version": 3
   },
   "file_extension": ".py",
   "mimetype": "text/x-python",
   "name": "python",
   "nbconvert_exporter": "python",
   "pygments_lexer": "ipython3",
   "version": "3.10.6"
  },
  "orig_nbformat": 4
 },
 "nbformat": 4,
 "nbformat_minor": 2
}

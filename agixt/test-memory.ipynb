{
 "cells": [
  {
   "cell_type": "code",
   "execution_count": 1,
   "metadata": {},
   "outputs": [
    {
     "name": "stderr",
     "output_type": "stream",
     "text": [
      "Using embedded DuckDB with persistence: data will be stored in: /home/josh/josh/Repos/AGiXT/agixt/agents/OpenAI/memories\n"
     ]
    }
   ],
   "source": [
    "from semantic_kernel.connectors.memory.chroma import ChromaMemoryStore\n",
    "import os\n",
    "\n",
    "agent_name = \"OpenAI\"\n",
    "memories_dir = f\"{os.getcwd()}/agents/{agent_name}/memories\"\n",
    "\n",
    "chroma_client = ChromaMemoryStore(\n",
    "    persist_directory=memories_dir,\n",
    ")\n",
    "\n",
    "memories_exist = await chroma_client.does_collection_exist_async(\"memories\")\n",
    "if not memories_exist:\n",
    "    await chroma_client.create_collection_async(collection_name=\"memories\")\n",
    "    memories = await chroma_client.get_collection_async(collection_name=\"memories\")\n",
    "else:\n",
    "    memories = await chroma_client.get_collection_async(collection_name=\"memories\")\n"
   ]
  },
  {
   "cell_type": "code",
   "execution_count": 5,
   "metadata": {},
   "outputs": [
    {
     "data": {
      "text/plain": [
       "False"
      ]
     },
     "execution_count": 5,
     "metadata": {},
     "output_type": "execute_result"
    }
   ],
   "source": [
    "await chroma_client.does_collection_exist_async(\"memories\")\n"
   ]
  },
  {
   "cell_type": "code",
   "execution_count": 4,
   "metadata": {},
   "outputs": [
    {
     "name": "stderr",
     "output_type": "stream",
     "text": [
      "2023-05-31 07:50:04,387 | INFO | Anonymized telemetry enabled. See https://docs.trychroma.com/telemetry for more information.\n",
      "2023-05-31 07:50:04,387 | INFO | Running Chroma using direct local API.\n",
      "2023-05-31 07:50:04,388 | WARNING | Using embedded DuckDB with persistence: data will be stored in: /home/josh/josh/Repos/AGiXT/agixt/agents/OpenAI/memories\n",
      "2023-05-31 07:50:04,396 | INFO | No existing DB found in /home/josh/josh/Repos/AGiXT/agixt/agents/OpenAI/memories, skipping load\n",
      "2023-05-31 07:50:04,397 | INFO | No existing DB found in /home/josh/josh/Repos/AGiXT/agixt/agents/OpenAI/memories, skipping load\n",
      "2023-05-31 07:50:05,217 | INFO | message='OpenAI API response' path=https://api.openai.com/v1/embeddings processing_ms=385 request_id=525b5cb57bfa8e679705074510af0042 response_code=200\n"
     ]
    },
    {
     "ename": "Exception",
     "evalue": "Collection 'memories' does not exist",
     "output_type": "error",
     "traceback": [
      "\u001b[0;31m---------------------------------------------------------------------------\u001b[0m",
      "\u001b[0;31mException\u001b[0m                                 Traceback (most recent call last)",
      "Cell \u001b[0;32mIn[4], line 28\u001b[0m\n\u001b[1;32m     17\u001b[0m embedder, chunk_size \u001b[39m=\u001b[39m \u001b[39mawait\u001b[39;00m Embedding(AGENT_CONFIG\u001b[39m=\u001b[39magent_config)\u001b[39m.\u001b[39mget_embedder()\n\u001b[1;32m     18\u001b[0m record \u001b[39m=\u001b[39m MemoryRecord(\n\u001b[1;32m     19\u001b[0m     is_reference\u001b[39m=\u001b[39m\u001b[39mFalse\u001b[39;00m,\n\u001b[1;32m     20\u001b[0m     \u001b[39mid\u001b[39m\u001b[39m=\u001b[39msha256((content \u001b[39m+\u001b[39m datetime\u001b[39m.\u001b[39mnow()\u001b[39m.\u001b[39misoformat())\u001b[39m.\u001b[39mencode())\u001b[39m.\u001b[39mhexdigest(),\n\u001b[0;32m   (...)\u001b[0m\n\u001b[1;32m     25\u001b[0m     embedding\u001b[39m=\u001b[39m\u001b[39mawait\u001b[39;00m embedder(content),\n\u001b[1;32m     26\u001b[0m )\n\u001b[0;32m---> 28\u001b[0m \u001b[39mawait\u001b[39;00m chroma_client\u001b[39m.\u001b[39mupsert_async(\n\u001b[1;32m     29\u001b[0m     collection_name\u001b[39m=\u001b[39m\u001b[39m\"\u001b[39m\u001b[39mmemories\u001b[39m\u001b[39m\"\u001b[39m,\n\u001b[1;32m     30\u001b[0m     record\u001b[39m=\u001b[39mrecord,\n\u001b[1;32m     31\u001b[0m )\n",
      "File \u001b[0;32m~/.local/lib/python3.10/site-packages/semantic_kernel/connectors/memory/chroma/chroma_memory_store.py:157\u001b[0m, in \u001b[0;36mChromaMemoryStore.upsert_async\u001b[0;34m(self, collection_name, record)\u001b[0m\n\u001b[1;32m    155\u001b[0m collection \u001b[39m=\u001b[39m \u001b[39mawait\u001b[39;00m \u001b[39mself\u001b[39m\u001b[39m.\u001b[39mget_collection_async(camel_to_snake(collection_name))\n\u001b[1;32m    156\u001b[0m \u001b[39mif\u001b[39;00m collection \u001b[39mis\u001b[39;00m \u001b[39mNone\u001b[39;00m:\n\u001b[0;32m--> 157\u001b[0m     \u001b[39mraise\u001b[39;00m \u001b[39mException\u001b[39;00m(\u001b[39mf\u001b[39m\u001b[39m\"\u001b[39m\u001b[39mCollection \u001b[39m\u001b[39m'\u001b[39m\u001b[39m{\u001b[39;00mcollection_name\u001b[39m}\u001b[39;00m\u001b[39m'\u001b[39m\u001b[39m does not exist\u001b[39m\u001b[39m\"\u001b[39m)\n\u001b[1;32m    159\u001b[0m \u001b[39m# TODO: timestamp\u001b[39;00m\n\u001b[1;32m    160\u001b[0m metadata \u001b[39m=\u001b[39m {\n\u001b[1;32m    161\u001b[0m     \u001b[39m\"\u001b[39m\u001b[39mtimestamp\u001b[39m\u001b[39m\"\u001b[39m: record\u001b[39m.\u001b[39m_timestamp \u001b[39mor\u001b[39;00m \u001b[39m\"\u001b[39m\u001b[39m\"\u001b[39m,\n\u001b[1;32m    162\u001b[0m     \u001b[39m\"\u001b[39m\u001b[39mis_reference\u001b[39m\u001b[39m\"\u001b[39m: record\u001b[39m.\u001b[39m_is_reference,\n\u001b[1;32m    163\u001b[0m     \u001b[39m\"\u001b[39m\u001b[39mexternal_source_name\u001b[39m\u001b[39m\"\u001b[39m: record\u001b[39m.\u001b[39m_external_source_name \u001b[39mor\u001b[39;00m \u001b[39m\"\u001b[39m\u001b[39m\"\u001b[39m,\n\u001b[1;32m    164\u001b[0m     \u001b[39m\"\u001b[39m\u001b[39mdescription\u001b[39m\u001b[39m\"\u001b[39m: record\u001b[39m.\u001b[39m_description \u001b[39mor\u001b[39;00m \u001b[39m\"\u001b[39m\u001b[39m\"\u001b[39m,\n\u001b[1;32m    165\u001b[0m }\n",
      "\u001b[0;31mException\u001b[0m: Collection 'memories' does not exist"
     ]
    }
   ],
   "source": [
    "from hashlib import sha256\n",
    "from Embedding import Embedding\n",
    "from datetime import datetime\n",
    "from semantic_kernel.connectors.memory.chroma import ChromaMemoryStore\n",
    "from semantic_kernel.memory.memory_record import MemoryRecord\n",
    "from Agent import Agent\n",
    "\n",
    "description = \"Test memory\"\n",
    "external_source_name = \"Test memory\"\n",
    "content = \"Test memory\"\n",
    "agent_name = \"OpenAI\"\n",
    "agent_config = Agent(agent_name=agent_name).agent_config\n",
    "memories_dir = f\"{os.getcwd()}/agents/{agent_name}/memories\"\n",
    "chroma_client = ChromaMemoryStore(\n",
    "    persist_directory=memories_dir,\n",
    ")\n",
    "embedder, chunk_size = await Embedding(AGENT_CONFIG=agent_config).get_embedder()\n",
    "record = MemoryRecord(\n",
    "    is_reference=False,\n",
    "    id=sha256((content + datetime.now().isoformat()).encode()).hexdigest(),\n",
    "    text=content,\n",
    "    timestamp=datetime.now().isoformat(),\n",
    "    description=description,\n",
    "    external_source_name=external_source_name,  # URL or File path\n",
    "    embedding=await embedder(content),\n",
    ")\n",
    "\n",
    "await chroma_client.upsert_async(\n",
    "    collection_name=\"memories\",\n",
    "    record=record,\n",
    ")"
   ]
  },
  {
   "cell_type": "code",
   "execution_count": null,
   "metadata": {},
   "outputs": [],
   "source": [
    "# Test get memories\n",
    "from Agent import Agent\n",
    "from Memories import Memories\n",
    "\n",
    "content = \"Test memory\"\n",
    "agent_name = \"OpenAI\"\n",
    "agent_config = Agent(agent_name=agent_name).agent_config\n",
    "memories = Memories(agent_name=agent_name, agent_config=agent_config)\n",
    "await memories.get_memories()\n",
    "await memories.context_agent(query=content, top_results_num=2)"
   ]
  },
  {
   "cell_type": "code",
   "execution_count": null,
   "metadata": {},
   "outputs": [],
   "source": [
    "# Store a memory\n",
    "await memories.store_memory(content=\"Test memory\", description=\"Test memory\")"
   ]
  },
  {
   "cell_type": "code",
   "execution_count": 6,
   "metadata": {},
   "outputs": [],
   "source": [
    "await chroma_client.create_collection_async(collection_name=\"memories\")\n"
   ]
  },
  {
   "cell_type": "code",
   "execution_count": 2,
   "metadata": {},
   "outputs": [],
   "source": [
    "collection = await chroma_client.get_collection_async(collection_name=\"memories\")\n"
   ]
  },
  {
   "cell_type": "code",
   "execution_count": 3,
   "metadata": {},
   "outputs": [
    {
     "data": {
      "text/plain": [
       "'{\"name\": \"memories\", \"id\": \"7df28658-812e-427b-b1f7-7e6255fd56af\", \"metadata\": null}'"
      ]
     },
     "execution_count": 3,
     "metadata": {},
     "output_type": "execute_result"
    }
   ],
   "source": [
    "collection.json()"
   ]
  }
 ],
 "metadata": {
  "kernelspec": {
   "display_name": "Python 3",
   "language": "python",
   "name": "python3"
  },
  "language_info": {
   "codemirror_mode": {
    "name": "ipython",
    "version": 3
   },
   "file_extension": ".py",
   "mimetype": "text/x-python",
   "name": "python",
   "nbconvert_exporter": "python",
   "pygments_lexer": "ipython3",
   "version": "3.10.6"
  },
  "orig_nbformat": 4
 },
 "nbformat": 4,
 "nbformat_minor": 2
}

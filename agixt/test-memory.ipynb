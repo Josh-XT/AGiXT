{
 "cells": [
  {
   "cell_type": "code",
   "execution_count": null,
   "metadata": {},
   "outputs": [],
   "source": [
    "# Test embedding\n",
    "# Embedding working with OpenAI but erroring with SentenceTransformers\n",
    "\n",
    "from Embedding import Embedding\n",
    "from Agent import Agent\n",
    "\n",
    "content = \"Test memory\"\n",
    "agent_name = \"gpt4free\"\n",
    "agent_config = Agent(agent_name=agent_name).agent_config\n",
    "embedding = Embedding(AGENT_CONFIG=agent_config).embed(content)\n",
    "print(embedding)\n"
   ]
  },
  {
   "cell_type": "code",
   "execution_count": null,
   "metadata": {},
   "outputs": [],
   "source": [
    "# Test get memories\n",
    "from Agent import Agent\n",
    "from Memories import Memories\n",
    "\n",
    "agent_name = \"gpt4free\"\n",
    "agent_config = Agent(agent_name=agent_name).agent_config\n",
    "memories = Memories(agent_name=agent_name, agent_config=agent_config)\n",
    "await memories.get_memories()\n"
   ]
  },
  {
   "cell_type": "code",
   "execution_count": null,
   "metadata": {},
   "outputs": [],
   "source": [
    "# Store a memory\n",
    "await memories.store_memory(content=\"Test memory\", description=\"Test memory\")\n"
   ]
  }
 ],
 "metadata": {
  "kernelspec": {
   "display_name": "Python 3",
   "language": "python",
   "name": "python3"
  },
  "language_info": {
   "codemirror_mode": {
    "name": "ipython",
    "version": 3
   },
   "file_extension": ".py",
   "mimetype": "text/x-python",
   "name": "python",
   "nbconvert_exporter": "python",
   "pygments_lexer": "ipython3",
   "version": "3.10.6"
  },
  "orig_nbformat": 4
 },
 "nbformat": 4,
 "nbformat_minor": 2
}

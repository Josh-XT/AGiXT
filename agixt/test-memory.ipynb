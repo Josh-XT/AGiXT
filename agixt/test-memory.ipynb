{
 "cells": [
  {
   "cell_type": "code",
   "execution_count": 8,
   "metadata": {},
   "outputs": [],
   "source": [
    "# I can do this block and the next 5, then if I start over, it wipes the memories..\n",
    "from Agent import Agent\n",
    "\n",
    "agent_name = \"OpenAI\"\n",
    "agent = Agent(agent_name=agent_name)\n",
    "agent_config = agent.agent_config\n",
    "embedder, chunk_size = await agent.get_embedder()"
   ]
  },
  {
   "cell_type": "code",
   "execution_count": 14,
   "metadata": {},
   "outputs": [
    {
     "name": "stderr",
     "output_type": "stream",
     "text": [
      "2023-05-31 10:12:52,127 | INFO | loaded in 0 embeddings\n",
      "2023-05-31 10:12:52,128 | INFO | loaded in 0 collections\n",
      "2023-05-31 10:12:52,128 | INFO | Persisting DB to disk, putting it in the save folder: /home/josh/josh/Repos/AGiXT/agixt/agents/OpenAI/memories\n"
     ]
    }
   ],
   "source": [
    "# Create a new memory\n",
    "import os\n",
    "from hashlib import sha256\n",
    "from datetime import datetime\n",
    "from semantic_kernel.memory.memory_record import MemoryRecord\n",
    "from semantic_kernel.connectors.memory.chroma import ChromaMemoryStore\n",
    "from chromadb.config import Settings\n",
    "\n",
    "agent_name = \"OpenAI\"\n",
    "memories_dir = os.path.join(os.getcwd(), \"agents\", agent_name, \"memories\")\n",
    "chroma_client = ChromaMemoryStore(\n",
    "    persist_directory=memories_dir,\n",
    "    client_settings=Settings(\n",
    "        chroma_db_impl=\"chromadb.db.duckdb.PersistentDuckDB\",  # also tried 'duckdb+parquet' but it did not work at all.\n",
    "        persist_directory=memories_dir,\n",
    "        anonymized_telemetry=False,\n",
    "    ),\n",
    ")\n",
    "\n",
    "\n",
    "async def get_memories():\n",
    "    memories_exist = await chroma_client.does_collection_exist_async(\"memories\")\n",
    "    print(f\"Memories Exist? {memories_exist}\")\n",
    "    if not memories_exist:\n",
    "        print(\"Creating memories collection\")\n",
    "        await chroma_client.create_collection_async(collection_name=\"memories\")\n",
    "        memories = await chroma_client.get_collection_async(collection_name=\"memories\")\n",
    "    else:\n",
    "        memories = await chroma_client.get_collection_async(collection_name=\"memories\")\n",
    "        print(\n",
    "            \"Retrieved memories collection\"\n",
    "        )  # <- This never happens on the first attempt\n",
    "    return memories\n",
    "\n",
    "\n",
    "async def new_memory(\n",
    "    content=\"Test memory\", description=\"Test memory\", external_source_name=\"Test memory\"\n",
    "):\n",
    "    await get_memories()\n",
    "    record = MemoryRecord(\n",
    "        is_reference=False,\n",
    "        id=sha256((content + datetime.now().isoformat()).encode()).hexdigest(),\n",
    "        text=content,\n",
    "        timestamp=datetime.now().isoformat(),\n",
    "        description=description,\n",
    "        external_source_name=external_source_name,  # URL or File path\n",
    "        embedding=await embedder(content),\n",
    "    )\n",
    "\n",
    "    await chroma_client.upsert_async(\n",
    "        collection_name=\"memories\",\n",
    "        record=record,\n",
    "    )\n",
    "\n",
    "\n",
    "async def get_memory(content=\"Test memory\"):\n",
    "    # Find a memory\n",
    "    results = await chroma_client.get_nearest_matches_async(\n",
    "        collection_name=\"memories\",\n",
    "        embedding=await embedder(content),\n",
    "        limit=1,\n",
    "        min_relevance_score=0.1,\n",
    "    )\n",
    "    context = []\n",
    "    for memory, score in results:\n",
    "        context.append(memory._text)\n",
    "    return context\n",
    "\n",
    "\n",
    "async def memories_exist():\n",
    "    return await chroma_client.does_collection_exist_async(\"memories\")\n"
   ]
  },
  {
   "cell_type": "code",
   "execution_count": 15,
   "metadata": {},
   "outputs": [
    {
     "data": {
      "text/plain": [
       "False"
      ]
     },
     "execution_count": 15,
     "metadata": {},
     "output_type": "execute_result"
    }
   ],
   "source": [
    "await memories_exist()"
   ]
  },
  {
   "cell_type": "code",
   "execution_count": 5,
   "metadata": {},
   "outputs": [
    {
     "name": "stdout",
     "output_type": "stream",
     "text": [
      "Memories Exist? False\n",
      "Creating memories collection\n"
     ]
    },
    {
     "data": {
      "text/plain": [
       "Collection(name=memories)"
      ]
     },
     "execution_count": 5,
     "metadata": {},
     "output_type": "execute_result"
    }
   ],
   "source": [
    "await get_memories()\n"
   ]
  },
  {
   "cell_type": "code",
   "execution_count": 12,
   "metadata": {},
   "outputs": [
    {
     "name": "stdout",
     "output_type": "stream",
     "text": [
      "Memories Exist? False\n",
      "Creating memories collection\n"
     ]
    },
    {
     "name": "stderr",
     "output_type": "stream",
     "text": [
      "2023-05-31 10:12:47,209 | INFO | message='OpenAI API response' path=https://api.openai.com/v1/embeddings processing_ms=28 request_id=98c492a56d0aa1422d158106042ca3c7 response_code=200\n"
     ]
    }
   ],
   "source": [
    "await new_memory(\n",
    "    description=\"Test memory\", external_source_name=\"Test memory\", content=\"Test memory\"\n",
    ")\n"
   ]
  },
  {
   "cell_type": "code",
   "execution_count": 36,
   "metadata": {},
   "outputs": [
    {
     "name": "stderr",
     "output_type": "stream",
     "text": [
      "2023-05-31 09:54:15,661 | INFO | message='OpenAI API response' path=https://api.openai.com/v1/embeddings processing_ms=143 request_id=d452007715a881e0de32426c2b8f9b7a response_code=200\n"
     ]
    }
   ],
   "source": [
    "await get_memory(content=\"Test memory\")"
   ]
  },
  {
   "cell_type": "code",
   "execution_count": 11,
   "metadata": {},
   "outputs": [
    {
     "ename": "AttributeError",
     "evalue": "'Memories' object has no attribute 'get_embedder'",
     "output_type": "error",
     "traceback": [
      "\u001b[0;31m---------------------------------------------------------------------------\u001b[0m",
      "\u001b[0;31mAttributeError\u001b[0m                            Traceback (most recent call last)",
      "Cell \u001b[0;32mIn[11], line 3\u001b[0m\n\u001b[1;32m      1\u001b[0m content \u001b[39m=\u001b[39m \u001b[39m\"\u001b[39m\u001b[39mTest memory\u001b[39m\u001b[39m\"\u001b[39m\n\u001b[0;32m----> 3\u001b[0m \u001b[39mawait\u001b[39;00m agent\u001b[39m.\u001b[39mmemories\u001b[39m.\u001b[39mcontext_agent(query\u001b[39m=\u001b[39mcontent, top_results_num\u001b[39m=\u001b[39m\u001b[39m2\u001b[39m)\n",
      "File \u001b[0;32m~/josh/Repos/AGiXT/agixt/Memories.py:102\u001b[0m, in \u001b[0;36mMemories.context_agent\u001b[0;34m(self, query, top_results_num)\u001b[0m\n\u001b[1;32m    101\u001b[0m \u001b[39masync\u001b[39;00m \u001b[39mdef\u001b[39;00m \u001b[39mcontext_agent\u001b[39m(\u001b[39mself\u001b[39m, query: \u001b[39mstr\u001b[39m, top_results_num: \u001b[39mint\u001b[39m) \u001b[39m-\u001b[39m\u001b[39m>\u001b[39m List[\u001b[39mstr\u001b[39m]:\n\u001b[0;32m--> 102\u001b[0m     embedder, chunk_size \u001b[39m=\u001b[39m \u001b[39mawait\u001b[39;00m \u001b[39mself\u001b[39;49m\u001b[39m.\u001b[39;49mget_embedder()\n\u001b[1;32m    103\u001b[0m     collection \u001b[39m=\u001b[39m \u001b[39mawait\u001b[39;00m \u001b[39mself\u001b[39m\u001b[39m.\u001b[39mget_memories()\n\u001b[1;32m    104\u001b[0m     \u001b[39mif\u001b[39;00m collection \u001b[39m==\u001b[39m \u001b[39mNone\u001b[39;00m:\n",
      "\u001b[0;31mAttributeError\u001b[0m: 'Memories' object has no attribute 'get_embedder'"
     ]
    }
   ],
   "source": [
    "content = \"Test memory\"\n",
    "\n",
    "await agent.memories.context_agent(query=content, top_results_num=2)\n"
   ]
  },
  {
   "cell_type": "code",
   "execution_count": 2,
   "metadata": {},
   "outputs": [
    {
     "name": "stderr",
     "output_type": "stream",
     "text": [
      "2023-05-31 08:15:38,537 | INFO | message='OpenAI API response' path=https://api.openai.com/v1/embeddings processing_ms=260 request_id=ed358be9efe6983fe6b50d7bdd795660 response_code=200\n"
     ]
    }
   ],
   "source": [
    "# Store a memory\n",
    "await memories.store_memory(content=\"Test memory\", description=\"Test memory\")\n"
   ]
  },
  {
   "cell_type": "code",
   "execution_count": 4,
   "metadata": {},
   "outputs": [
    {
     "name": "stderr",
     "output_type": "stream",
     "text": [
      "2023-05-31 08:16:04,802 | INFO | Anonymized telemetry enabled. See https://docs.trychroma.com/telemetry for more information.\n",
      "2023-05-31 08:16:04,803 | INFO | Running Chroma using direct local API.\n",
      "2023-05-31 08:16:04,803 | WARNING | Using embedded DuckDB with persistence: data will be stored in: /home/josh/josh/Repos/AGiXT/agixt/agents/OpenAI/memories\n",
      "2023-05-31 08:16:04,806 | INFO | No existing DB found in /home/josh/josh/Repos/AGiXT/agixt/agents/OpenAI/memories, skipping load\n",
      "2023-05-31 08:16:04,806 | INFO | No existing DB found in /home/josh/josh/Repos/AGiXT/agixt/agents/OpenAI/memories, skipping load\n",
      "2023-05-31 08:16:04,807 | INFO | Memories for OpenAI do not exist. Creating...\n",
      "2023-05-31 08:16:05,417 | INFO | message='OpenAI API response' path=https://api.openai.com/v1/embeddings processing_ms=435 request_id=7e2931cce94d959f8849805ff50cfb62 response_code=200\n",
      "2023-05-31 08:16:05,423 | INFO | Failed to get context: Index not found, please create an instance before querying\n"
     ]
    },
    {
     "data": {
      "text/plain": [
       "[]"
      ]
     },
     "execution_count": 4,
     "metadata": {},
     "output_type": "execute_result"
    }
   ],
   "source": [
    "await memories.context_agent(query=content, top_results_num=2)\n"
   ]
  }
 ],
 "metadata": {
  "kernelspec": {
   "display_name": "Python 3",
   "language": "python",
   "name": "python3"
  },
  "language_info": {
   "codemirror_mode": {
    "name": "ipython",
    "version": 3
   },
   "file_extension": ".py",
   "mimetype": "text/x-python",
   "name": "python",
   "nbconvert_exporter": "python",
   "pygments_lexer": "ipython3",
   "version": "3.10.6"
  },
  "orig_nbformat": 4
 },
 "nbformat": 4,
 "nbformat_minor": 2
}

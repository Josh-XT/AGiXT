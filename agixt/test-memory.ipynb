{
 "cells": [
  {
   "cell_type": "code",
   "execution_count": 6,
   "metadata": {},
   "outputs": [
    {
     "name": "stderr",
     "output_type": "stream",
     "text": [
      "2023-05-31 14:12:21,424 | INFO | loaded in 1 embeddings\n",
      "2023-05-31 14:12:21,425 | INFO | loaded in 1 collections\n",
      "2023-05-31 14:12:21,425 | INFO | Persisting DB to disk, putting it in the save folder: /home/josh/josh/Repos/AGiXT/agixt/agents/OpenAI/memories\n"
     ]
    }
   ],
   "source": [
    "from Agent import Agent\n",
    "\n",
    "agent_name = \"OpenAI\"\n",
    "agent = Agent(agent_name=agent_name)\n",
    "agent_config = agent.agent_config\n"
   ]
  },
  {
   "cell_type": "code",
   "execution_count": 7,
   "metadata": {},
   "outputs": [],
   "source": [
    "collection = await agent.memories.get_collection()"
   ]
  },
  {
   "cell_type": "code",
   "execution_count": 4,
   "metadata": {},
   "outputs": [
    {
     "name": "stderr",
     "output_type": "stream",
     "text": [
      "2023-05-31 14:12:13,158 | INFO | message='OpenAI API response' path=https://api.openai.com/v1/embeddings processing_ms=323 request_id=b9ac567f398ba8a5aa06179083deaf9a response_code=200\n",
      "2023-05-31 14:12:13,169 | INFO | Persisting DB to disk, putting it in the save folder: /home/josh/josh/Repos/AGiXT/agixt/agents/OpenAI/memories\n",
      "2023-05-31 14:12:13,182 | INFO | Persisting DB to disk, putting it in the save folder: /home/josh/josh/Repos/AGiXT/agixt/agents/OpenAI/memories\n"
     ]
    }
   ],
   "source": [
    "await agent.memories.store_memory(\n",
    "    content=\"Test Memory\", description=\"Test Memory\", external_source_name=\"Test Memory\"\n",
    ")"
   ]
  },
  {
   "cell_type": "code",
   "execution_count": 8,
   "metadata": {},
   "outputs": [
    {
     "name": "stderr",
     "output_type": "stream",
     "text": [
      "2023-05-31 14:12:26,605 | INFO | message='OpenAI API response' path=https://api.openai.com/v1/embeddings processing_ms=308 request_id=26065e04fb5fb09b5e984325b77c666b response_code=200\n",
      "2023-05-31 14:12:26,858 | INFO | CONTEXT: ['Test Memory']\n"
     ]
    }
   ],
   "source": [
    "mems = await agent.memories.context_agent(query=\"Test Memory\", top_results_num=1)"
   ]
  },
  {
   "cell_type": "code",
   "execution_count": 17,
   "metadata": {},
   "outputs": [
    {
     "name": "stderr",
     "output_type": "stream",
     "text": [
      "2023-05-31 10:24:28,447 | INFO | loaded in 0 embeddings\n",
      "2023-05-31 10:24:28,448 | INFO | loaded in 0 collections\n",
      "2023-05-31 10:24:28,448 | INFO | Persisting DB to disk, putting it in the save folder: /home/josh/josh/Repos/AGiXT/agixt/agents/OpenAI/memories\n"
     ]
    }
   ],
   "source": [
    "# Create a new memory\n",
    "import os\n",
    "from hashlib import sha256\n",
    "from datetime import datetime\n",
    "from semantic_kernel.memory.memory_record import MemoryRecord\n",
    "from semantic_kernel.connectors.memory.chroma import ChromaMemoryStore\n",
    "from chromadb.config import Settings\n",
    "from Agent import Agent\n",
    "\n",
    "agent_name = \"OpenAI\"\n",
    "agent = Agent(agent_name=agent_name)\n",
    "agent_config = agent.agent_config\n",
    "embedder, chunk_size = await agent.get_embedder()\n",
    "memories_dir = os.path.join(os.getcwd(), \"agents\", agent_name, \"memories\")\n",
    "chroma_client = ChromaMemoryStore(\n",
    "    persist_directory=memories_dir,\n",
    "    client_settings=Settings(\n",
    "        chroma_db_impl=\"chromadb.db.duckdb.PersistentDuckDB\",  # also tried 'duckdb+parquet' but it did not work at all.\n",
    "        persist_directory=memories_dir,\n",
    "        anonymized_telemetry=False,\n",
    "    ),\n",
    ")\n",
    "\n",
    "\n",
    "async def get_collection():\n",
    "    memories_exist = await chroma_client.does_collection_exist_async(\"memories\")\n",
    "    print(f\"Memories Exist? {memories_exist}\")\n",
    "    if not memories_exist:\n",
    "        print(\"Creating memories collection\")\n",
    "        await chroma_client.create_collection_async(collection_name=\"memories\")\n",
    "        memories = await chroma_client.get_collection_async(collection_name=\"memories\")\n",
    "    else:\n",
    "        memories = await chroma_client.get_collection_async(collection_name=\"memories\")\n",
    "        print(\n",
    "            \"Retrieved memories collection\"\n",
    "        )  # <- This never happens on the first attempt\n",
    "    return memories\n",
    "\n",
    "\n",
    "async def new_memory(\n",
    "    content=\"Test memory\", description=\"Test memory\", external_source_name=\"Test memory\"\n",
    "):\n",
    "    await get_collection()\n",
    "    record = MemoryRecord(\n",
    "        is_reference=False,\n",
    "        id=sha256((content + datetime.now().isoformat()).encode()).hexdigest(),\n",
    "        text=content,\n",
    "        timestamp=datetime.now().isoformat(),\n",
    "        description=description,\n",
    "        external_source_name=external_source_name,  # URL or File path\n",
    "        embedding=await embedder(content),\n",
    "    )\n",
    "\n",
    "    await chroma_client.upsert_async(\n",
    "        collection_name=\"memories\",\n",
    "        record=record,\n",
    "    )\n",
    "\n",
    "\n",
    "async def get_memory(content=\"Test memory\"):\n",
    "    # Find a memory\n",
    "    results = await chroma_client.get_nearest_matches_async(\n",
    "        collection_name=\"memories\",\n",
    "        embedding=await embedder(content),\n",
    "        limit=1,\n",
    "        min_relevance_score=0.1,\n",
    "    )\n",
    "    context = []\n",
    "    for memory, score in results:\n",
    "        context.append(memory._text)\n",
    "    return context\n",
    "\n",
    "\n",
    "async def memories_exist():\n",
    "    return await chroma_client.does_collection_exist_async(\"memories\")\n"
   ]
  },
  {
   "cell_type": "code",
   "execution_count": 20,
   "metadata": {},
   "outputs": [
    {
     "data": {
      "text/plain": [
       "True"
      ]
     },
     "execution_count": 20,
     "metadata": {},
     "output_type": "execute_result"
    }
   ],
   "source": [
    "await memories_exist()"
   ]
  },
  {
   "cell_type": "code",
   "execution_count": 19,
   "metadata": {},
   "outputs": [
    {
     "name": "stdout",
     "output_type": "stream",
     "text": [
      "Memories Exist? False\n",
      "Creating memories collection\n"
     ]
    },
    {
     "data": {
      "text/plain": [
       "Collection(name=memories)"
      ]
     },
     "execution_count": 19,
     "metadata": {},
     "output_type": "execute_result"
    }
   ],
   "source": [
    "await get_collection()\n"
   ]
  },
  {
   "cell_type": "code",
   "execution_count": 21,
   "metadata": {},
   "outputs": [
    {
     "name": "stdout",
     "output_type": "stream",
     "text": [
      "Memories Exist? True\n",
      "Retrieved memories collection\n"
     ]
    },
    {
     "name": "stderr",
     "output_type": "stream",
     "text": [
      "2023-05-31 10:24:35,748 | INFO | message='OpenAI API response' path=https://api.openai.com/v1/embeddings processing_ms=350 request_id=3f271c44603a8efae2fa97eb4742e2ea response_code=200\n"
     ]
    }
   ],
   "source": [
    "await new_memory(\n",
    "    description=\"Test memory\", external_source_name=\"Test memory\", content=\"Test memory\"\n",
    ")\n"
   ]
  },
  {
   "cell_type": "code",
   "execution_count": 22,
   "metadata": {},
   "outputs": [
    {
     "name": "stderr",
     "output_type": "stream",
     "text": [
      "2023-05-31 10:24:38,273 | INFO | message='OpenAI API response' path=https://api.openai.com/v1/embeddings processing_ms=145 request_id=34ebe3041bbe1b6770cb8d77960fb499 response_code=200\n"
     ]
    },
    {
     "name": "stdout",
     "output_type": "stream",
     "text": [
      "['Test memory']\n"
     ]
    }
   ],
   "source": [
    "memory = await get_memory(content=\"Test memory\")\n",
    "print(memory)"
   ]
  }
 ],
 "metadata": {
  "kernelspec": {
   "display_name": "Python 3",
   "language": "python",
   "name": "python3"
  },
  "language_info": {
   "codemirror_mode": {
    "name": "ipython",
    "version": 3
   },
   "file_extension": ".py",
   "mimetype": "text/x-python",
   "name": "python",
   "nbconvert_exporter": "python",
   "pygments_lexer": "ipython3",
   "version": "3.10.6"
  },
  "orig_nbformat": 4
 },
 "nbformat": 4,
 "nbformat_minor": 2
}

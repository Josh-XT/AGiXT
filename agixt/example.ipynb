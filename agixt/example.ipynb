{
 "cells": [
  {
   "cell_type": "code",
   "execution_count": 4,
   "metadata": {},
   "outputs": [
    {
     "name": "stderr",
     "output_type": "stream",
     "text": [
      "2023-05-27 01:16:25,035 | INFO | KWARGS: {'industry': 'software', 'business_description': 'I am a software company that makes software for software companies.'}\n",
      "2023-05-27 01:16:25,037 | INFO | Running Chroma using direct local API.\n",
      "2023-05-27 01:16:25,038 | WARNING | Using embedded DuckDB with persistence: data will be stored in: agents/gpt4free/memories\n",
      "2023-05-27 01:16:25,042 | INFO | Successfully imported ClickHouse Connect C data optimizations\n",
      "2023-05-27 01:16:25,043 | INFO | Successfully import ClickHouse Connect C/Numpy optimizations\n",
      "2023-05-27 01:16:25,045 | INFO | Using orjson library for writing JSON byte strings\n",
      "2023-05-27 01:16:25,071 | INFO | loaded in 0 embeddings\n",
      "2023-05-27 01:16:25,072 | INFO | loaded in 1 collections\n",
      "2023-05-27 01:16:25,454 | INFO | Load pretrained SentenceTransformer: all-mpnet-base-v2\n",
      "2023-05-27 01:16:25,507 | INFO | Load pretrained SentenceTransformer: all-mpnet-base-v2\n",
      "2023-05-27 01:16:25,790 | INFO | FORMATTED PROMPT: Write a blog post for the software instustry. For context, here is a description of my business: I am a software company that makes software for software companies.\n",
      "2023-05-27 01:16:25,790 | INFO | [GPT4Free] Using: DeepAI\n",
      "2023-05-27 01:16:59,584 | INFO | Response: As a software company that specializes in creating software for other software companies, we understand the unique challenges and complexities that arise in this industry. From the constantly evolving technologies to the fast-paced development processes, it’s not always easy to keep up with the demands of the industry.\n",
      "\n",
      "That’s why we’re dedicated to crafting top-quality software solutions that can help streamline and optimize the development process for our clients. Our software is specifically tailored to meet the needs of software development teams, making their work more efficient, productive, and enjoyable.\n",
      "\n",
      "Whether you’re a large enterprise software company or a small startup, we know that you’re always looking for ways to stay ahead of the curve. That’s why we put in the time and effort to stay abreast of the latest trends and best practices in software development, so we can create software solutions that are always on the cutting edge.\n",
      "\n",
      "Our software offerings are designed to help you with everything from project management and team collaboration to coding and testing. We believe that a streamlined development process is key to success, and our software solutions can help you achieve just that.\n",
      "\n",
      "But we’re not just about the technical aspects of software development. We also understand the importance of user experience and intuitive design. That’s why all of our software solutions are built with a user-friendly interface and an intuitive design, so even team members who aren’t as technically savvy can easily understand and navigate the system.\n",
      "\n",
      "At the end of the day, our goal is to make your job easier and more efficient. We want to help you create better software, faster, and with less stress. We believe that investing in high-quality software solutions is an investment in your company’s future success, and we’re committed to helping you get there.\n",
      "\n",
      "Thank you for considering our software solutions for your development needs. We look forward to working with you and helping you achieve your goals.\n"
     ]
    },
    {
     "name": "stdout",
     "output_type": "stream",
     "text": [
      "As a software company that specializes in creating software for other software companies, we understand the unique challenges and complexities that arise in this industry. From the constantly evolving technologies to the fast-paced development processes, it’s not always easy to keep up with the demands of the industry.\n",
      "\n",
      "That’s why we’re dedicated to crafting top-quality software solutions that can help streamline and optimize the development process for our clients. Our software is specifically tailored to meet the needs of software development teams, making their work more efficient, productive, and enjoyable.\n",
      "\n",
      "Whether you’re a large enterprise software company or a small startup, we know that you’re always looking for ways to stay ahead of the curve. That’s why we put in the time and effort to stay abreast of the latest trends and best practices in software development, so we can create software solutions that are always on the cutting edge.\n",
      "\n",
      "Our software offerings are designed to help you with everything from project management and team collaboration to coding and testing. We believe that a streamlined development process is key to success, and our software solutions can help you achieve just that.\n",
      "\n",
      "But we’re not just about the technical aspects of software development. We also understand the importance of user experience and intuitive design. That’s why all of our software solutions are built with a user-friendly interface and an intuitive design, so even team members who aren’t as technically savvy can easily understand and navigate the system.\n",
      "\n",
      "At the end of the day, our goal is to make your job easier and more efficient. We want to help you create better software, faster, and with less stress. We believe that investing in high-quality software solutions is an investment in your company’s future success, and we’re committed to helping you get there.\n",
      "\n",
      "Thank you for considering our software solutions for your development needs. We look forward to working with you and helping you achieve your goals.\n"
     ]
    }
   ],
   "source": [
    "from AGiXT import AGiXT, CustomPrompt\n",
    "\n",
    "agent_name = \"gpt4free\"\n",
    "ai = AGiXT(agent_name)\n",
    "\n",
    "CustomPrompt().add_prompt(\n",
    "    prompt_name=\"Write a blog post\",\n",
    "    prompt=\"Write a blog post for the {industry} instustry. For context, here is a description of my business: {business_description}\",\n",
    ")\n",
    "\n",
    "response = ai.run(\n",
    "    task=\"\",\n",
    "    prompt=\"Write a blog post\",\n",
    "    industry=\"software\",\n",
    "    business_description=\"I am a software company that makes software for software companies.\",\n",
    ")\n",
    "print(response)\n"
   ]
  }
 ],
 "metadata": {
  "kernelspec": {
   "display_name": "Python 3",
   "language": "python",
   "name": "python3"
  },
  "language_info": {
   "codemirror_mode": {
    "name": "ipython",
    "version": 3
   },
   "file_extension": ".py",
   "mimetype": "text/x-python",
   "name": "python",
   "nbconvert_exporter": "python",
   "pygments_lexer": "ipython3",
   "version": "3.10.6"
  },
  "orig_nbformat": 4
 },
 "nbformat": 4,
 "nbformat_minor": 2
}

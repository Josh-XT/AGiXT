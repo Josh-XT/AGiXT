{
 "cells": [
  {
   "attachments": {},
   "cell_type": "markdown",
   "metadata": {},
   "source": [
    "## Custom Prompt and Run Example\n"
   ]
  },
  {
   "cell_type": "code",
   "execution_count": 1,
   "metadata": {},
   "outputs": [
    {
     "name": "stderr",
     "output_type": "stream",
     "text": [
      "2023-05-27 01:33:57,260 | INFO | KWARGS: {'industry': 'software', 'business_description': 'I am a software company that makes software for software companies.'}\n",
      "2023-05-27 01:33:57,261 | INFO | Running Chroma using direct local API.\n",
      "2023-05-27 01:33:57,262 | WARNING | Using embedded DuckDB with persistence: data will be stored in: agents/gpt4free/memories\n",
      "2023-05-27 01:33:57,265 | INFO | Successfully imported ClickHouse Connect C data optimizations\n",
      "2023-05-27 01:33:57,265 | INFO | Successfully import ClickHouse Connect C/Numpy optimizations\n",
      "2023-05-27 01:33:57,267 | INFO | Using orjson library for writing JSON byte strings\n",
      "2023-05-27 01:33:57,286 | INFO | loaded in 0 embeddings\n",
      "2023-05-27 01:33:57,287 | INFO | loaded in 1 collections\n",
      "2023-05-27 01:33:57,649 | INFO | Load pretrained SentenceTransformer: all-mpnet-base-v2\n",
      "2023-05-27 01:33:57,699 | INFO | Load pretrained SentenceTransformer: all-mpnet-base-v2\n",
      "2023-05-27 01:33:57,994 | INFO | FORMATTED PROMPT: Write a blog post for the software instustry. For context, here is a description of my business: I am a software company that makes software for software companies.\n",
      "2023-05-27 01:33:57,995 | INFO | [GPT4Free] Using: DeepAI\n",
      "2023-05-27 01:34:31,804 | INFO | Response: The Importance of Collaboration in the Software Industry\n",
      "\n",
      "As a software company that develops software for software companies, we know firsthand the important role that collaboration plays in the industry. The success of any software project is dependent on the collaboration of all stakeholders involved, from software developers to project managers, clients, and end-users. In today's fast-paced and ever-evolving industry, it's crucial to foster collaboration among team members to ensure the success of software projects and the growth of the industry as a whole.\n",
      "\n",
      "Collaboration starts with communication and information sharing. With the rise of remote work, it's more important than ever to have clear and open channels of communication. This involves using the latest tools and technologies to facilitate real-time communication, such as video conferencing tools, collaboration software, and project management tools.\n",
      "\n",
      "Another aspect of collaboration is teamwork. Software projects involve multiple teams working together, such as developers, designers, and project managers. It's essential to create a culture of mutual respect and trust among team members to ensure that everyone is working together towards the same goal. By fostering a culture of teamwork and inclusiveness, teams can work more efficiently and effectively towards their goals.\n",
      "\n",
      "Collaboration also involves encouraging feedback and input from all stakeholders. This includes not only team members but also clients and end-users. By soliciting feedback from these groups, software projects can be tailored to meet their specific needs and requirements. This also ensures that the final product is user-friendly and meets the needs of the intended audience.\n",
      "\n",
      "In conclusion, collaboration is critical for the success of software products and the growth of the industry. It starts with communication, teamwork, and feedback, and requires a culture of inclusiveness and mutual respect. At our software company, we strive to foster collaboration at every level of our organization to deliver the best possible software solutions to our clients and end-users. We believe that by working together, we can achieve success and innovation in the software industry.\n"
     ]
    }
   ],
   "source": [
    "from AGiXT import AGiXT, CustomPrompt\n",
    "\n",
    "agent_name = \"gpt4free\"\n",
    "ai = AGiXT(agent_name)\n",
    "\n",
    "CustomPrompt().add_prompt(\n",
    "    prompt_name=\"Write a blog post\",\n",
    "    prompt=\"Write a blog post for the {industry} instustry. For context, here is a description of my business: {business_description}\",\n",
    ")\n",
    "\n",
    "response = ai.run(\n",
    "    prompt=\"Write a blog post\",\n",
    "    industry=\"software\",\n",
    "    business_description=\"I am a software company that makes software for software companies.\",\n",
    "    # Other available options:\n",
    "    # context_results = 5,  # Number of memories to inject into context\n",
    "    # websearch = False,   # Use websearch to find context\n",
    "    # websearch_depth = 3,  # Number of websearch results to use\n",
    "    # learn_file: str = \"/path/to/file/to/learn/from.txt\",  # File to learn from\n",
    ")\n"
   ]
  },
  {
   "attachments": {},
   "cell_type": "markdown",
   "metadata": {},
   "source": [
    "## Predefined Injection Variables for Custom Prompts\n",
    "\n",
    "- `{agent_name}` will cause the agent name to be injected.\n",
    "- `{context}` will cause the current context from memory to be injected.\n",
    "- `{date}` will cause the current date and timestamp to be injected.\n",
    "- `{COMMANDS}` will cause the available commands list to be injected and for automatic commands execution from the agent based on its suggestions.\n",
    "- `{command_list}` will cause the available commands list to be injected, but will not execute any commands the AI chooses. Useful on validation steps.\n",
    "- `{STEPx}` will cause the step `x` response from a chain to be injected. For example, `{STEP1}` will inject the first step's response in a chain.\n",
    "\n",
    "## Chain Example with more custom prompts\n",
    "\n",
    "Define what is important to get our chain started.\n"
   ]
  },
  {
   "cell_type": "code",
   "execution_count": null,
   "metadata": {},
   "outputs": [],
   "source": [
    "from AGiXT import AGiXT, CustomPrompt\n",
    "from Chain import Chain\n",
    "\n",
    "chain = Chain()\n",
    "cp = CustomPrompt()\n",
    "\n",
    "# Set your agent, we'll use gpt4free as the default for now unless you have an agent set up.\n",
    "agent_name = \"gpt4free\"\n",
    "# Name the chain, we'll call this one \"Blog Writer\" because we're super original and creative alll the time.\n",
    "chain_name = \"Blog Writer\"\n",
    "\n",
    "# Now we can define some custom variables that well want to use in our custom prompts\n",
    "# The point of this is reusability, we don't have to specifically use the software industry\n",
    "# We can specify any industry, any business description, and any website.\n",
    "# This chain is now flexible and powerful for any business.\n",
    "\n",
    "industry = \"software\"\n",
    "business_description = \"We're a artificial intelligence software development company.\"\n",
    "website = \"https://devxt.com\"\n",
    "\n",
    "# Set up your ai agent\n",
    "ai = AGiXT(agent_name)\n",
    "\n",
    "# Create the new chain to start adding steps to.\n",
    "chain.add_chain(chain_name)"
   ]
  },
  {
   "attachments": {},
   "cell_type": "markdown",
   "metadata": {},
   "source": [
    "### Create our custom prompts for our chain\n",
    "\n",
    "We'll just make a couple of simple but still powerful prompts for our chain. One that will write a blog post for our website, one that will generate a good subject line for the blog post.\n"
   ]
  },
  {
   "cell_type": "code",
   "execution_count": null,
   "metadata": {},
   "outputs": [],
   "source": [
    "# Make the two custom prompt templates that will be flexible\n",
    "cp.add_prompt(\n",
    "    prompt_name=\"Write a blog post for website\",\n",
    "    prompt=\"\"\"\n",
    "    Write a blog post for the {industry} instustry. \n",
    "    For context, here is a description of my business: {business_description}\n",
    "    Be sure to mention that people should visit my website at {website} and recommend my company to their friends and family with needs in this industry.\"\"\",\n",
    ")\n",
    "\n",
    "cp.add_prompt(\n",
    "    prompt_name=\"Good email subject for blog post\",\n",
    "    prompt=\"\"\"\n",
    "    I need a good email subject for this blog post, I'm going to send it out to customers, so I need something that is attractive. Please respond only with the subject line.\n",
    "    Blog post: {blog_post}\"\"\",\n",
    ")\n"
   ]
  },
  {
   "attachments": {},
   "cell_type": "markdown",
   "metadata": {},
   "source": [
    "### Add your chain steps\n",
    "\n",
    "First, we'll have the AI write a blog post for our specific company. Then we'll have it generate a subject line for the blog post.\n"
   ]
  },
  {
   "cell_type": "code",
   "execution_count": null,
   "metadata": {},
   "outputs": [],
   "source": [
    "chain.add_chain_step(\n",
    "    chain_name=chain_name,\n",
    "    agent_name=agent_name,\n",
    "    step_number=1,\n",
    "    prompt_type=\"Prompt\",\n",
    "    prompt={\n",
    "        \"prompt_name\": \"Write a blog post for website\",\n",
    "        \"industry\": industry,\n",
    "        \"business_description\": business_description,\n",
    "        \"website\": website,\n",
    "    },\n",
    ")\n",
    "\n",
    "chain.add_chain_step(\n",
    "    chain_name=chain_name,\n",
    "    agent_name=agent_name,\n",
    "    step_number=2,\n",
    "    prompt_type=\"Prompt\",\n",
    "    prompt={\n",
    "        \"prompt_name\": \"Good email subject for blog post\",\n",
    "        \"blog_post\": \"{STEP1}\",  # <- Intentionally not an f-string, we want to use the response from the previous step in the chain.\n",
    "    },\n",
    ")\n"
   ]
  },
  {
   "attachments": {},
   "cell_type": "markdown",
   "metadata": {},
   "source": [
    "### Optional: Get fancy and add SendGrid email\n",
    "\n",
    "You don't have to do this part, it was simply to demonstrate command usage as well as the custom prompts.\n"
   ]
  },
  {
   "cell_type": "code",
   "execution_count": null,
   "metadata": {},
   "outputs": [],
   "source": [
    "# For this step, you'll need to add a Sendgrid API key to your agent config.\n",
    "\n",
    "sendgrid_api_key = \"Your sendgrid API KEY\"\n",
    "sendgrid_email = \"Your sendgrid email\"\n",
    "\n",
    "agent_config = ai.agent.get_agent_config()\n",
    "agent_config.append(\n",
    "    {\"SENDGRID_API_KEY\": sendgrid_api_key, \"SENDGRID_EMAIL\": sendgrid_email}\n",
    ")\n",
    "ai.agent.update_agent_config(agent_config, \"settings\")\n",
    "\n",
    "chain.add_chain_step(\n",
    "    chain_name=chain_name,\n",
    "    agent_name=agent_name,\n",
    "    step_number=3,\n",
    "    prompt_type=\"Command\",\n",
    "    prompt={\n",
    "        \"command_name\": \"send_email\",\n",
    "        \"email\": f\"your@customers-email.com\",\n",
    "        \"subject\": \"{STEP2}\",\n",
    "        \"body\": \"{STEP1}\",\n",
    "    },\n",
    ")\n"
   ]
  },
  {
   "attachments": {},
   "cell_type": "markdown",
   "metadata": {},
   "source": [
    "### Finally, run your chain!\n"
   ]
  },
  {
   "cell_type": "code",
   "execution_count": null,
   "metadata": {},
   "outputs": [],
   "source": [
    "chain.run_chain(chain_name)\n"
   ]
  }
 ],
 "metadata": {
  "kernelspec": {
   "display_name": "Python 3",
   "language": "python",
   "name": "python3"
  },
  "language_info": {
   "codemirror_mode": {
    "name": "ipython",
    "version": 3
   },
   "file_extension": ".py",
   "mimetype": "text/x-python",
   "name": "python",
   "nbconvert_exporter": "python",
   "pygments_lexer": "ipython3",
   "version": "3.10.6"
  },
  "orig_nbformat": 4
 },
 "nbformat": 4,
 "nbformat_minor": 2
}

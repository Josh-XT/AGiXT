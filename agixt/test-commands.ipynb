{
 "cells": [
  {
   "attachments": {},
   "cell_type": "markdown",
   "metadata": {},
   "source": [
    "# Extension Command Tests\n",
    "\n",
    "### Make a chain called Test_Commands of all commands.\n"
   ]
  },
  {
   "cell_type": "code",
   "execution_count": 9,
   "metadata": {},
   "outputs": [],
   "source": [
    "import json\n",
    "from Agent import Agent\n",
    "\n",
    "chain_name = \"Test_Commands\"\n",
    "agent_name = \"gpt4free\"\n",
    "\n",
    "\n",
    "def get_commands_tests(chain_name=\"Test_Commands\", agent_name=\"gpt4free\"):\n",
    "    command_list = Agent(agent_name=agent_name).commands\n",
    "    result = {\"chain_name\": chain_name, \"steps\": []}\n",
    "    for i, item in enumerate(command_list):\n",
    "        step = {\n",
    "            \"step\": i + 1,\n",
    "            \"agent_name\": agent_name,\n",
    "            \"prompt_type\": \"Command\",\n",
    "            \"prompt\": {\"command_name\": item[0]},\n",
    "        }\n",
    "        # Assign test values to the command parameters.\n",
    "        for key in item[2].keys():\n",
    "            if key == \"filename\":\n",
    "                step[\"prompt\"][key] = \"test_file.txt\"\n",
    "            elif key == \"text\":\n",
    "                step[\"prompt\"][key] = \"Test text\"\n",
    "            elif key == \"url\":\n",
    "                step[\"prompt\"][key] = \"https://example.com\"\n",
    "            elif key == \"code\":\n",
    "                step[\"prompt\"][key] = \"print('Hello, world!')\"\n",
    "            else:\n",
    "                step[\"prompt\"][key] = \"test_value\"\n",
    "        result[\"steps\"].append(step)\n",
    "    with open(f\"chains/{chain_name}.json\", \"w\") as json_file:\n",
    "        json.dump(result, json_file, indent=4)\n",
    "    return result\n",
    "\n",
    "\n",
    "commands = get_commands_tests(chain_name=chain_name, agent_name=agent_name)"
   ]
  },
  {
   "attachments": {},
   "cell_type": "markdown",
   "metadata": {},
   "source": [
    "### Test the chain.\n"
   ]
  },
  {
   "cell_type": "code",
   "execution_count": null,
   "metadata": {},
   "outputs": [],
   "source": [
    "from Chain import Chain\n",
    "\n",
    "chain = Chain()\n",
    "chain_name = \"Test_Commands\"\n",
    "chain.get_chain(chain_name)\n",
    "chain.run_chain(chain_name)"
   ]
  }
 ],
 "metadata": {
  "kernelspec": {
   "display_name": "Python 3",
   "language": "python",
   "name": "python3"
  },
  "language_info": {
   "codemirror_mode": {
    "name": "ipython",
    "version": 3
   },
   "file_extension": ".py",
   "mimetype": "text/x-python",
   "name": "python",
   "nbconvert_exporter": "python",
   "pygments_lexer": "ipython3",
   "version": "3.10.6"
  },
  "orig_nbformat": 4
 },
 "nbformat": 4,
 "nbformat_minor": 2
}

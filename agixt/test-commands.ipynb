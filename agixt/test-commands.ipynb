{
 "cells": [
  {
   "cell_type": "code",
   "execution_count": null,
   "metadata": {},
   "outputs": [],
   "source": [
    "from Chain import Chain\n",
    "\n",
    "chain = Chain()\n",
    "chain_name = \"Test_Commands\"\n",
    "chain.get_chain(chain_name)\n",
    "chain.run_chain(chain_name)\n"
   ]
  }
 ],
 "metadata": {
  "language_info": {
   "name": "python"
  },
  "orig_nbformat": 4
 },
 "nbformat": 4,
 "nbformat_minor": 2
}

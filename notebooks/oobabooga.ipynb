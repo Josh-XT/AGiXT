{
 "cells": [
  {
   "attachments": {},
   "cell_type": "markdown",
   "metadata": {},
   "source": [
    "# Agent-LLM\n",
    "## AI Provider: Oobabooga Text Generation Web UI\n",
    "- [Oobabooga Text Generation Web UI](https://github.com/oobabooga/text-generation-webui)\n",
    "- [Vicuna Model](https://github.com/lm-sys/FastChat/#vicuna-weights) (Just an example, you can use any model compatible.)\n",
    "- [Agent-LLM](https://github.com/Josh-XT/Agent-LLM)\n",
    "\n",
    "## Setup Instructions\n",
    "\n",
    "This notebook is intended for use in Ubuntu Linux and assumes you have hard capable of running the model with the appropriate drivers installed.\n",
    "\n",
    "## Install Initial Requirements"
   ]
  },
  {
   "cell_type": "code",
   "execution_count": null,
   "metadata": {
    "vscode": {
     "languageId": "shellscript"
    }
   },
   "outputs": [],
   "source": [
    "git clone https://github.com/Josh-XT/Agent-LLM\n",
    "pip install -r \"Agent-LLM/requirements.txt\"\n",
    "pip install -r \"requirements.txt\""
   ]
  },
  {
   "attachments": {},
   "cell_type": "markdown",
   "metadata": {},
   "source": [
    "## Install Conda"
   ]
  },
  {
   "cell_type": "code",
   "execution_count": null,
   "metadata": {
    "vscode": {
     "languageId": "shellscript"
    }
   },
   "outputs": [],
   "source": [
    "curl -sL \"https://repo.anaconda.com/miniconda/Miniconda3-latest-Linux-x86_64.sh\" > \"Miniconda3.sh\"\n",
    "sudo bash Miniconda3.sh\n",
    "sudo apt install build-essential\n",
    "conda create -n textgen python=3.10.9"
   ]
  },
  {
   "attachments": {},
   "cell_type": "markdown",
   "metadata": {},
   "source": [
    "## Download Oobabooga Text Generation Web UI"
   ]
  },
  {
   "cell_type": "code",
   "execution_count": null,
   "metadata": {
    "vscode": {
     "languageId": "shellscript"
    }
   },
   "outputs": [],
   "source": [
    "git clone https://github.com/oobabooga/text-generation-webui\n",
    "cd text-generation-webui\n",
    "pip install -r requirements.txt"
   ]
  },
  {
   "attachments": {},
   "cell_type": "markdown",
   "metadata": {},
   "source": [
    "## Download Vicuna Model\n",
    "Find your model on Huggingface and replace the `FIND-A/VICUNA-MODEL-ON-HUGGINGFACE` with the `USER/MODEL` on Hugging face to download the model.  I am using `Vicuna` as an example here, it can be used with any model that you can run with Oobabooga Text Generation Web UI, such as `Alpaca`, `Llama`, and others.\n",
    "\n",
    "*Note: Some models may not have ideal prompts and may need modified*"
   ]
  },
  {
   "cell_type": "code",
   "execution_count": null,
   "metadata": {
    "vscode": {
     "languageId": "shellscript"
    }
   },
   "outputs": [],
   "source": [
    "cd ../text-generation-webui/\n",
    "pyUp `asdasasfdfhgfht 7mes download-model.py FIND-A/VICUNA-MODEL-ON-HUGGINGFACE"
   ]
  },
  {
   "attachments": {},
   "cell_type": "markdown",
   "metadata": {},
   "source": [
    "## Run Oobabooga Text Generation Web UI\n",
    "Replace `YourVicuna_Model` with the model that was downloaded in the previous step."
   ]
  },
  {
   "cell_type": "code",
   "execution_count": null,
   "metadata": {
    "vscode": {
     "languageId": "shellscript"
    }
   },
   "outputs": [],
   "source": [
    "conda activate textgen\n",
    "python server.py --model YourVicuna_Model --listen --no-stream --auto-devices"
   ]
  },
  {
   "attachments": {},
   "cell_type": "markdown",
   "metadata": {},
   "source": [
    "Access at http://localhost:7860/?__theme=dark once running."
   ]
  },
  {
   "attachments": {},
   "cell_type": "markdown",
   "metadata": {},
   "source": [
    "## Agent-LLM\n",
    "Create your `.env` below.  Modify if necessary."
   ]
  },
  {
   "cell_type": "code",
   "execution_count": null,
   "metadata": {},
   "outputs": [],
   "source": [
    "# Define variables.\n",
    "AI_PROVIDER = \"oobabooga\"\n",
    "AI_MODEL = \"vicuna\"\n",
    "AI_PROVIDER_URI = \"http://localhost:7860\"\n",
    "AI_TEMPERATURE = 0.2\n",
    "MAX_TOKENS = 2096\n",
    "\n",
    "# Write variables to .env file\n",
    "with open('Agent-LLM/.env', 'w') as f:\n",
    "    f.write(f'AI_PROVIDER={AI_PROVIDER}\\n')\n",
    "    f.write(f'AI_MODEL={AI_MODEL}\\n')\n",
    "    f.write(f'AI_PROVIDER_URI={AI_PROVIDER_URI}\\n')\n",
    "    f.write(f'AI_TEMPERATURE={AI_TEMPERATURE}\\n')\n",
    "    f.write(f'MAX_TOKENS={MAX_TOKENS}\\n')"
   ]
  },
  {
   "cell_type": "code",
   "execution_count": null,
   "metadata": {
    "vscode": {
     "languageId": "shellscript"
    }
   },
   "outputs": [],
   "source": [
    "cd Agent-LLM\n",
    "docker-compose up --build -d"
   ]
  },
  {
   "attachments": {},
   "cell_type": "markdown",
   "metadata": {},
   "source": [
    "Navigate to http://localhost for Agent-LLM"
   ]
  }
 ],
 "metadata": {
  "kernelspec": {
   "display_name": "Python 3",
   "language": "python",
   "name": "python3"
  },
  "language_info": {
   "codemirror_mode": {
    "name": "ipython",
    "version": 3
   },
   "file_extension": ".py",
   "mimetype": "text/x-python",
   "name": "python",
   "nbconvert_exporter": "python",
   "pygments_lexer": "ipython3",
   "version": "3.10.6"
  },
  "orig_nbformat": 4
 },
 "nbformat": 4,
 "nbformat_minor": 2
}

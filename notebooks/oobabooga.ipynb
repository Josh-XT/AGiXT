{
 "cells": [
  {
   "attachments": {},
   "cell_type": "markdown",
   "metadata": {},
   "source": [
    "# Agent-LLM\n",
    "## AI Provider: Oobabooga Text Generation Web UI\n",
    "- [Oobabooga Text Generation Web UI](https://github.com/oobabooga/text-generation-webui)\n",
    "- [Vicuna Model](https://github.com/lm-sys/FastChat/#vicuna-weights) (Just an example, you can use any model compatible.)\n",
    "- [Agent-LLM](https://github.com/Josh-XT/Agent-LLM)\n",
    "\n",
    "## Setup Instructions\n",
    "\n",
    "This notebook is intended for use in Ubuntu Linux and assumes you have hard capable of running the model with the appropriate drivers installed.\n",
    "\n",
    "## Install Initial Requirements"
   ]
  },
  {
   "cell_type": "code",
   "execution_count": null,
   "metadata": {
    "vscode": {
     "languageId": "shellscript"
    }
   },
   "outputs": [],
   "source": [
    "git clone https://github.com/Josh-XT/Agent-LLM\n",
    "pip install -r \"Agent-LLM/requirements.txt\"\n",
    "pip install -r \"requirements.txt\""
   ]
  },
  {
   "attachments": {},
   "cell_type": "markdown",
   "metadata": {},
   "source": [
    "## Install Conda"
   ]
  },
  {
   "cell_type": "code",
   "execution_count": null,
   "metadata": {
    "vscode": {
     "languageId": "shellscript"
    }
   },
   "outputs": [],
   "source": [
    "curl -sL \"https://repo.anaconda.com/miniconda/Miniconda3-latest-Linux-x86_64.sh\" > \"Miniconda3.sh\"\n",
    "sudo bash Miniconda3.sh\n",
    "sudo apt install build-essential\n",
    "conda create -n textgen python=3.10.9"
   ]
  },
  {
   "attachments": {},
   "cell_type": "markdown",
   "metadata": {},
   "source": [
    "## Download Oobabooga Text Generation Web UI"
   ]
  },
  {
   "cell_type": "code",
   "execution_count": null,
   "metadata": {
    "vscode": {
     "languageId": "shellscript"
    }
   },
   "outputs": [],
   "source": [
    "git clone https://github.com/oobabooga/text-generation-webui\n",
    "cd text-generation-webui\n",
    "pip install -r requirements.txt"
   ]
  },
  {
   "attachments": {},
   "cell_type": "markdown",
   "metadata": {},
   "source": [
    "## Download Vicuna Model\n",
    "Find your model on Huggingface and replace the `FIND-A/VICUNA-MODEL-ON-HUGGINGFACE` with the `USER/MODEL` on Hugging face to download the model.  I am using `Vicuna` as an example here, it can be used with any model that you can run with Oobabooga Text Generation Web UI, such as `Alpaca`, `Llama`, and others.\n",
    "\n",
    "*Note: Some models may not have ideal prompts and may need modified*"
   ]
  },
  {
   "cell_type": "code",
   "execution_count": null,
   "metadata": {
    "vscode": {
     "languageId": "shellscript"
    }
   },
   "outputs": [],
   "source": [
    "cd ../text-generation-webui/\n",
    "python download-model.py FIND-A/VICUNA-MODEL-ON-HUGGINGFACE"
   ]
  },
  {
   "attachments": {},
   "cell_type": "markdown",
   "metadata": {},
   "source": [
    "## Run Oobabooga Text Generation Web UI\n",
    "See their instructions here for more details: https://github.com/oobabooga/text-generation-webui/blob/main/docs/Low-VRAM-guide.md\n",
    "\n",
    "By default, we will run with the `--auto-devices` and `--load-in-8bit` flags which you can optionally change if you decide to read the docs.\n",
    "\n",
    "Replace `YourVicuna_Model` with the model that was downloaded in the previous step."
   ]
  },
  {
   "cell_type": "code",
   "execution_count": null,
   "metadata": {
    "vscode": {
     "languageId": "shellscript"
    }
   },
   "outputs": [],
   "source": [
    "conda activate textgen\n",
    "python server.py --model YourVicuna_Model --listen --no-stream --auto-devices --load-in-8bit --api"
   ]
  },
  {
   "attachments": {},
   "cell_type": "markdown",
   "metadata": {},
   "source": [
    "Access at http://localhost:7860/?__theme=dark once running.\n",
    "\n",
    "## Navigate to Agent-LLM"
   ]
  },
  {
   "cell_type": "code",
   "execution_count": null,
   "metadata": {
    "vscode": {
     "languageId": "shellscript"
    }
   },
   "outputs": [],
   "source": [
    "cd ../Agent-LLM"
   ]
  },
  {
   "attachments": {},
   "cell_type": "markdown",
   "metadata": {},
   "source": [
    "Create your `.env` below.  Modify if necessary."
   ]
  },
  {
   "cell_type": "code",
   "execution_count": null,
   "metadata": {},
   "outputs": [],
   "source": [
    "# Define variables.\n",
    "AI_PROVIDER = \"oobabooga\"\n",
    "AI_MODEL = \"vicuna\"\n",
    "# use default model for alpaca\n",
    "#AI_MODEL = \"default\"\n",
    "AI_PROVIDER_URI = \"http://localhost:5000\"\n",
    "AI_TEMPERATURE = 0.2\n",
    "MAX_TOKENS = 2096\n",
    "\n",
    "# Write variables to .env file\n",
    "with open('Agent-LLM/.env', 'w') as f:\n",
    "    f.write(f'AI_PROVIDER={AI_PROVIDER}\\n')\n",
    "    f.write(f'AI_MODEL={AI_MODEL}\\n')\n",
    "    f.write(f'AI_PROVIDER_URI={AI_PROVIDER_URI}\\n')\n",
    "    f.write(f'AI_TEMPERATURE={AI_TEMPERATURE}\\n')\n",
    "    f.write(f'MAX_TOKENS={MAX_TOKENS}\\n')"
   ]
  },
  {
   "attachments": {},
   "cell_type": "markdown",
   "metadata": {},
   "source": [
    "Start the back end application for Agent-LLM"
   ]
  },
  {
   "cell_type": "code",
   "execution_count": null,
   "metadata": {
    "vscode": {
     "languageId": "shellscript"
    }
   },
   "outputs": [],
   "source": [
    "cd Agent-LLM\n",
    "python app.py"
   ]
  },
  {
   "cell_type": "markdown",
   "metadata": {},
   "source": [
    "Navigate to the `frontend` folder to install dependencies and start the `NextJS` front end for Agent-LLM."
   ]
  },
  {
   "cell_type": "code",
   "execution_count": null,
   "metadata": {
    "vscode": {
     "languageId": "shellscript"
    }
   },
   "outputs": [],
   "source": [
    "cd frontend\n",
    "npm install\n",
    "npm run dev"
   ]
  },
  {
   "attachments": {},
   "cell_type": "markdown",
   "metadata": {},
   "source": [
    "## Accessing Agent-LLM\n",
    "Web Interface: http://localhost\n",
    "\n",
    "Redoc: http://localhost:7437/redoc\n",
    "\n",
    "Swagger: http://localhost:7437/docs"
   ]
  }
 ],
 "metadata": {
  "kernelspec": {
   "display_name": "Python 3",
   "language": "python",
   "name": "python3"
  },
  "language_info": {
   "codemirror_mode": {
    "name": "ipython",
    "version": 3
   },
   "file_extension": ".py",
   "mimetype": "text/x-python",
   "name": "python",
   "nbconvert_exporter": "python",
   "pygments_lexer": "ipython3",
   "version": "3.10.6"
  },
  "orig_nbformat": 4
 },
 "nbformat": 4,
 "nbformat_minor": 2
}

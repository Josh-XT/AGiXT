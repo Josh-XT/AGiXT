{
 "cells": [
  {
   "attachments": {},
   "cell_type": "markdown",
   "metadata": {},
   "source": [
    "# Agent-LLM\n",
    "## AI Provider: ChatGPT\n",
    "- [ChatGPT](https://chat.openai.com/)\n",
    "- [Agent-LLM](https://github.com/Josh-XT/Agent-LLM)\n",
    "\n",
    "## Disclaimer\n",
    "We are not responsible if OpenAI bans your ChatGPT account for doing this. This may not be consistent with their rules to use their services in this way.  This was developed for experimental purposes and we assume no responsibility for how you use it.\n",
    "\n",
    "## Quick Start Guide\n",
    "1. Clone the [Agent-LLM](https://github.com/Josh-XT/Agent-LLM) GitHub repository."
   ]
  },
  {
   "cell_type": "code",
   "execution_count": null,
   "metadata": {
    "vscode": {
     "languageId": "shellscript"
    }
   },
   "outputs": [],
   "source": [
    "git clone https://github.com/Josh-XT/Agent-LLM\n",
    "cd \"Agent-LLM\"\n",
    "pip install -r \"requirements.txt\""
   ]
  },
  {
   "attachments": {},
   "cell_type": "markdown",
   "metadata": {},
   "source": [
    "2. Create your `.env` below.  Replace your `CHATGPT_USERNAME` and `CHATGPT_PASSWORD` with your login credentials for ChatGPT."
   ]
  },
  {
   "cell_type": "code",
   "execution_count": null,
   "metadata": {},
   "outputs": [],
   "source": [
    "# Define variables.\n",
    "AI_PROVIDER = \"chatgpt\"\n",
    "CHATGPT_USERNAME = \"your@email.com\"\n",
    "CHATGPT_PASSWORD = \"yourpassword\"\n",
    "\n",
    "# Write variables to .env file\n",
    "with open('Agent-LLM/.env', 'w') as f:\n",
    "    f.write(f'AI_PROVIDER={AI_PROVIDER}\\n')\n",
    "    f.write(f'CHATGPT_USERNAME={CHATGPT_USERNAME}\\n')\n",
    "    f.write(f'CHATGPT_PASSWORD={CHATGPT_PASSWORD}\\n')"
   ]
  },
  {
   "attachments": {},
   "cell_type": "markdown",
   "metadata": {},
   "source": [
    "3. Start the back end application for Agent-LLM."
   ]
  },
  {
   "cell_type": "code",
   "execution_count": null,
   "metadata": {
    "vscode": {
     "languageId": "shellscript"
    }
   },
   "outputs": [],
   "source": [
    "python app.py"
   ]
  },
  {
   "attachments": {},
   "cell_type": "markdown",
   "metadata": {},
   "source": [
    "4. Navigate to the `frontend` folder to install dependencies and start the `NextJS` front end for Agent-LLM."
   ]
  },
  {
   "cell_type": "code",
   "execution_count": null,
   "metadata": {
    "vscode": {
     "languageId": "shellscript"
    }
   },
   "outputs": [],
   "source": [
    "cd frontend\n",
    "npm install\n",
    "npm run build\n",
    "npm start"
   ]
  },
  {
   "attachments": {},
   "cell_type": "markdown",
   "metadata": {},
   "source": [
    "## Accessing Agent-LLM\n",
    "Web Interface: http://localhost\n",
    "\n",
    "Redoc: http://localhost:5000/redoc\n",
    "\n",
    "Swagger: http://localhost:5000/docs"
   ]
  }
 ],
 "metadata": {
  "kernelspec": {
   "display_name": "Python 3",
   "language": "python",
   "name": "python3"
  },
  "language_info": {
   "codemirror_mode": {
    "name": "ipython",
    "version": 3
   },
   "file_extension": ".py",
   "mimetype": "text/x-python",
   "name": "python",
   "nbconvert_exporter": "python",
   "pygments_lexer": "ipython3",
   "version": "3.10.6"
  },
  "orig_nbformat": 4
 },
 "nbformat": 4,
 "nbformat_minor": 2
}

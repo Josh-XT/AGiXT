{
 "cells": [
  {
   "attachments": {},
   "cell_type": "markdown",
   "metadata": {},
   "source": [
    "# Agent-LLM\n",
    "## AI Provider: OpenAI\n",
    "- [OpenAI](https://openai.com)\n",
    "- [Agent-LLM](https://github.com/Josh-XT/Agent-LLM)\n",
    "\n",
    "⚠️ **Please note that using some AI providers, such as OpenAI's API, can be expensive. Monitor your usage carefully to avoid incurring unexpected costs.  We're NOT responsible for your usage under any circumstance.**\n",
    "\n",
    "## Quick Start Guide\n",
    "1. If you don't already have an OpenAI API key, go to https://platform.openai.com/signup to get one. If you already have one, proceed to the next step.\n",
    "2. Download the `docker-compose` file from the [Agent-LLM](https://github.com/Josh-XT/Agent-LLM) GitHub Repository.\n",
    "3. Download the `.env.example` file so that you'll have a view of the settings available if desired."
   ]
  },
  {
   "cell_type": "code",
   "execution_count": null,
   "metadata": {
    "vscode": {
     "languageId": "shellscript"
    }
   },
   "outputs": [],
   "source": [
    "wget https://raw.githubusercontent.com/Josh-XT/Agent-LLM/main/docker-compose.yml\n",
    "wget https://raw.githubusercontent.com/Josh-XT/Agent-LLM/main/.env.example"
   ]
  },
  {
   "attachments": {},
   "cell_type": "markdown",
   "metadata": {},
   "source": [
    "4. Create your `.env` below.  Replace your `YOUR_API_KEY` with your OpenAI API Key or this will not work."
   ]
  },
  {
   "cell_type": "code",
   "execution_count": null,
   "metadata": {},
   "outputs": [],
   "source": [
    "# Define variables.\n",
    "AI_PROVIDER = \"openai\"\n",
    "OPENAI_API_KEY = \"YOUR_API_KEY\"\n",
    "AI_MODEL = \"gpt-3.5-turbo\"\n",
    "AI_TEMPERATURE = 0.2\n",
    "MAX_TOKENS = 4000\n",
    "\n",
    "# Write variables to .env file\n",
    "with open('Agent-LLM/.env', 'w') as f:\n",
    "    f.write(f'AI_PROVIDER={AI_PROVIDER}\\n')\n",
    "    f.write(f'OPENAI_API_KEY={OPENAI_API_KEY}\\n')\n",
    "    f.write(f'AI_MODEL={AI_MODEL}\\n')\n",
    "    f.write(f'AI_TEMPERATURE={AI_TEMPERATURE}\\n')\n",
    "    f.write(f'MAX_TOKENS={MAX_TOKENS}\\n')"
   ]
  },
  {
   "cell_type": "code",
   "execution_count": null,
   "metadata": {
    "vscode": {
     "languageId": "shellscript"
    }
   },
   "outputs": [],
   "source": [
    "docker-compose up -d --build"
   ]
  },
  {
   "attachments": {},
   "cell_type": "markdown",
   "metadata": {},
   "source": [
    "## Accessing Agent-LLM\n",
    "Web Interface: http://localhost\n",
    "\n",
    "Redoc: http://localhost:7437/redoc\n",
    "\n",
    "Swagger: http://localhost:7437/docs"
   ]
  }
 ],
 "metadata": {
  "kernelspec": {
   "display_name": "Python 3",
   "language": "python",
   "name": "python3"
  },
  "language_info": {
   "codemirror_mode": {
    "name": "ipython",
    "version": 3
   },
   "file_extension": ".py",
   "mimetype": "text/x-python",
   "name": "python",
   "nbconvert_exporter": "python",
   "pygments_lexer": "ipython3",
   "version": "3.10.6"
  },
  "orig_nbformat": 4
 },
 "nbformat": 4,
 "nbformat_minor": 2
}

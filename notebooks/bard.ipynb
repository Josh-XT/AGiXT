{
 "cells": [
  {
   "attachments": {},
   "cell_type": "markdown",
   "metadata": {},
   "source": [
    "# Agent-LLM\n",
    "## AI Provider: Google Bard\n",
    "- [Google Bard](https://bard.google.com)\n",
    "- [Agent-LLM](https://github.com/Josh-XT/Agent-LLM)\n",
    "\n",
    "## Disclaimer\n",
    "We are not responsible if Google bans your account for doing this. This may not be consistent with their rules to use their services in this way.  This was developed for experimental purposes and we assume no responsibility for how you use it.\n",
    "\n",
    "## Quick Start Guide\n",
    "1. Clone the [Agent-LLM](https://github.com/Josh-XT/Agent-LLM) GitHub repository."
   ]
  },
  {
   "cell_type": "code",
   "execution_count": null,
   "metadata": {
    "vscode": {
     "languageId": "shellscript"
    }
   },
   "outputs": [],
   "source": [
    "git clone https://github.com/Josh-XT/Agent-LLM\n",
    "cd \"Agent-LLM\"\n",
    "pip install -r \"requirements.txt\""
   ]
  },
  {
   "attachments": {},
   "cell_type": "markdown",
   "metadata": {},
   "source": [
    "2. Open Google Chrome and navigate to https://bard.google.com/\n",
    "3. Press F12 for console\n",
    "4. Go to Application → Cookies → `__Secure-1PSID`. Copy the value of that cookie. That is your bard token.\n",
    "5. Create your `.env` below. Update `BARD_TOKEN` with the value of `__Secure-1PSID` from step 4."
   ]
  },
  {
   "cell_type": "code",
   "execution_count": null,
   "metadata": {},
   "outputs": [],
   "source": [
    "# Define variables.\n",
    "AI_PROVIDER = \"bard\"\n",
    "BARD_TOKEN = \"YOUR_BARD_TOKEN\"\n",
    "\n",
    "# Write variables to .env file\n",
    "with open('Agent-LLM/.env', 'w') as f:\n",
    "    f.write(f'AI_PROVIDER={AI_PROVIDER}\\n')\n",
    "    f.write(f'BARD_TOKEN={BARD_TOKEN}\\n')"
   ]
  },
  {
   "attachments": {},
   "cell_type": "markdown",
   "metadata": {},
   "source": [
    "4. Start the back end application for Agent-LLM."
   ]
  },
  {
   "cell_type": "code",
   "execution_count": null,
   "metadata": {
    "vscode": {
     "languageId": "shellscript"
    }
   },
   "outputs": [],
   "source": [
    "python app.py"
   ]
  },
  {
   "attachments": {},
   "cell_type": "markdown",
   "metadata": {},
   "source": [
    "3. Navigate to the `frontend` folder to install dependencies and start the `NextJS` front end for Agent-LLM."
   ]
  },
  {
   "cell_type": "code",
   "execution_count": null,
   "metadata": {
    "vscode": {
     "languageId": "shellscript"
    }
   },
   "outputs": [],
   "source": [
    "cd frontend\n",
    "npm install\n",
    "npm run build\n",
    "npm start"
   ]
  },
  {
   "attachments": {},
   "cell_type": "markdown",
   "metadata": {},
   "source": [
    "## Accessing Agent-LLM\n",
    "Web Interface: http://localhost\n",
    "\n",
    "Redoc: http://localhost:7437/redoc\n",
    "\n",
    "Swagger: http://localhost:7437/docs"
   ]
  }
 ],
 "metadata": {
  "kernelspec": {
   "display_name": "Python 3",
   "language": "python",
   "name": "python3"
  },
  "language_info": {
   "codemirror_mode": {
    "name": "ipython",
    "version": 3
   },
   "file_extension": ".py",
   "mimetype": "text/x-python",
   "name": "python",
   "nbconvert_exporter": "python",
   "pygments_lexer": "ipython3",
   "version": "3.10.6"
  },
  "orig_nbformat": 4
 },
 "nbformat": 4,
 "nbformat_minor": 2
}

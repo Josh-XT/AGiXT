{
 "cells": [
  {
   "attachments": {},
   "cell_type": "markdown",
   "metadata": {},
   "source": [
    "# Agent-LLM\n",
    "## AI Provider: llama.cpp\n",
    "- [llama.cpp](https://github.com/ggerganov/llama.cpp)\n",
    "- [Agent-LLM](https://github.com/Josh-XT/Agent-LLM)\n",
    "\n",
    "## Quick Start Guide\n",
    "1. Find a compatible model with llama.cpp on Huggingface then download it to a models folder.\n",
    "2. Clone the [Agent-LLM](https://github.com/Josh-XT/Agent-LLM) GitHub repository."
   ]
  },
  {
   "cell_type": "code",
   "execution_count": null,
   "metadata": {
    "vscode": {
     "languageId": "shellscript"
    }
   },
   "outputs": [],
   "source": [
    "git clone https://github.com/Josh-XT/Agent-LLM\n",
    "cd \"Agent-LLM\"\n",
    "pip install -r \"requirements.txt\""
   ]
  },
  {
   "attachments": {},
   "cell_type": "markdown",
   "metadata": {},
   "source": [
    "3. Create your `.env` below.  Replace your `MODEL_PATH` with the path to your model.\n",
    "\n",
    "*Note: AI_MODEL should stay `default` unless there is a folder in `model-prompts` specific to the model that you're using.  You can also create one and add your own prompts.*"
   ]
  },
  {
   "cell_type": "code",
   "execution_count": null,
   "metadata": {},
   "outputs": [],
   "source": [
    "# Define variables.\n",
    "AI_PROVIDER = \"llamacpp\"\n",
    "MODEL_PATH = \"PATH/TO/YOUR/LLAMACPP/MODEL\"\n",
    "AI_MODEL = \"default\"\n",
    "AI_TEMPERATURE = 0.2\n",
    "MAX_TOKENS = 2000\n",
    "\n",
    "# Write variables to .env file\n",
    "with open('Agent-LLM/.env', 'w') as f:\n",
    "    f.write(f'AI_PROVIDER={AI_PROVIDER}\\n')\n",
    "    f.write(f'AI_MODEL={AI_MODEL}\\n')\n",
    "    f.write(f'AI_TEMPERATURE={AI_TEMPERATURE}\\n')\n",
    "    f.write(f'MAX_TOKENS={MAX_TOKENS}\\n')"
   ]
  },
  {
   "attachments": {},
   "cell_type": "markdown",
   "metadata": {},
   "source": [
    "4. Start the back end application for Agent-LLM."
   ]
  },
  {
   "cell_type": "code",
   "execution_count": null,
   "metadata": {
    "vscode": {
     "languageId": "shellscript"
    }
   },
   "outputs": [],
   "source": [
    "python app.py"
   ]
  },
  {
   "attachments": {},
   "cell_type": "markdown",
   "metadata": {},
   "source": [
    "3. Navigate to the `frontend` folder to install dependencies and start the `NextJS` front end for Agent-LLM."
   ]
  },
  {
   "cell_type": "code",
   "execution_count": null,
   "metadata": {
    "vscode": {
     "languageId": "shellscript"
    }
   },
   "outputs": [],
   "source": [
    "cd frontend\n",
    "npm install\n",
    "npm run build\n",
    "npm start"
   ]
  },
  {
   "attachments": {},
   "cell_type": "markdown",
   "metadata": {},
   "source": [
    "## Accessing Agent-LLM\n",
    "Web Interface: http://localhost\n",
    "\n",
    "Redoc: http://localhost:5000/redoc\n",
    "\n",
    "Swagger: http://localhost:5000/docs"
   ]
  }
 ],
 "metadata": {
  "kernelspec": {
   "display_name": "Python 3",
   "language": "python",
   "name": "python3"
  },
  "language_info": {
   "codemirror_mode": {
    "name": "ipython",
    "version": 3
   },
   "file_extension": ".py",
   "mimetype": "text/x-python",
   "name": "python",
   "nbconvert_exporter": "python",
   "pygments_lexer": "ipython3",
   "version": "3.10.6"
  },
  "orig_nbformat": 4
 },
 "nbformat": 4,
 "nbformat_minor": 2
}
